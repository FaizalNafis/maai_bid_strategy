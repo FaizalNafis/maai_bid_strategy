{
  "nbformat": 4,
  "nbformat_minor": 0,
  "metadata": {
    "colab": {
      "name": "Q4-NN.ipynb",
      "version": "0.3.2",
      "provenance": [],
      "collapsed_sections": [
        "qQQuuQydbu7f",
        "NUE_9kikbu7l"
      ],
      "toc_visible": true
    },
    "kernelspec": {
      "name": "python3",
      "display_name": "Python 3"
    },
    "accelerator": "GPU"
  },
  "cells": [
    {
      "metadata": {
        "ExecuteTime": {
          "end_time": "2019-03-03T13:22:43.292803Z",
          "start_time": "2019-03-03T13:22:42.827276Z"
        },
        "id": "CUSCIzfZbu67",
        "colab_type": "code",
        "colab": {}
      },
      "cell_type": "code",
      "source": [
        "from __future__ import print_function, division\n",
        "import numpy as np\n",
        "import pandas as pd\n",
        "import math\n",
        "import pickle\n",
        "\n",
        "import torch\n",
        "from torch.utils.data import Dataset, DataLoader, TensorDataset\n",
        "from torch.autograd import Variable\n",
        "from torch import nn as nn\n",
        "from torch.optim import lr_scheduler\n",
        "import copy\n",
        "import time\n",
        "from tqdm import tqdm, tqdm_notebook\n",
        "\n",
        "from sklearn.metrics import roc_auc_score, log_loss, roc_auc_score, roc_curve, auc, classification_report, balanced_accuracy_score\n",
        "\n",
        "from sklearn.decomposition import PCA\n",
        "\n",
        "import matplotlib as mpl\n",
        "\n",
        "import matplotlib.pyplot as plt\n",
        "import seaborn as sns\n",
        "\n",
        "sns.set(style=\"ticks\")\n",
        "pd.set_option('display.max_columns', 100)\n",
        "\n",
        "%matplotlib inline\n",
        "%config InlineBackend.figure_format = 'svg'"
      ],
      "execution_count": 0,
      "outputs": []
    },
    {
      "metadata": {
        "id": "S7_fOtlkbu7I",
        "colab_type": "text"
      },
      "cell_type": "markdown",
      "source": [
        "# Load and transform data to tensor"
      ]
    },
    {
      "metadata": {
        "ExecuteTime": {
          "end_time": "2019-03-03T11:24:35.951208Z",
          "start_time": "2019-03-03T11:24:35.937606Z"
        },
        "id": "mFrHvb2Mbu7L",
        "colab_type": "code",
        "outputId": "0af47fe5-264f-4310-d8a5-4618247043cb",
        "colab": {
          "base_uri": "https://localhost:8080/",
          "height": 34
        }
      },
      "cell_type": "code",
      "source": [
        "seed=622\n",
        "np.random.seed(seed)\n",
        "torch.manual_seed(seed)"
      ],
      "execution_count": 2,
      "outputs": [
        {
          "output_type": "execute_result",
          "data": {
            "text/plain": [
              "<torch._C.Generator at 0x7fac512cd390>"
            ]
          },
          "metadata": {
            "tags": []
          },
          "execution_count": 2
        }
      ]
    },
    {
      "metadata": {
        "ExecuteTime": {
          "end_time": "2019-03-03T13:23:07.100410Z",
          "start_time": "2019-03-03T13:23:01.009135Z"
        },
        "id": "fuCwj42hbu7U",
        "colab_type": "code",
        "outputId": "da15bb3f-0793-463b-9171-1102828d2daa",
        "colab": {
          "base_uri": "https://localhost:8080/",
          "height": 249
        }
      },
      "cell_type": "code",
      "source": [
        "colab_env = True\n",
        "\n",
        "if not(colab_env):\n",
        "    validation = pd.read_hdf('preprocessed.h5', 'validation')\n",
        "    X_resampled, y_resampled = pickle.load(open( \"resampled\", \"rb\" ))\n",
        "    \n",
        "else:\n",
        "    from google.colab import drive\n",
        "    drive.mount('/content/gdrive')\n",
        "    \n",
        "    validation = pd.read_hdf('/content/gdrive/My Drive/Colab Notebooks/we_data/preprocessed.h5', 'validation')\n",
        "    test = pd.read_hdf('/content/gdrive/My Drive/Colab Notebooks/we_data/preprocessed.h5', 'test')\n",
        "#     X_resampled, y_resampled = pickle.load(open( \"/content/gdrive/My Drive/Colab Notebooks/we_data/resampled\", \"rb\" ))\n",
        "#     X_subsampled, y_subsampled = pickle.load(open( \"/content/gdrive/My Drive/Colab Notebooks/we_data/subsampled\", \"rb\" ))"
      ],
      "execution_count": 3,
      "outputs": [
        {
          "output_type": "stream",
          "text": [
            "Go to this URL in a browser: https://accounts.google.com/o/oauth2/auth?client_id=947318989803-6bn6qk8qdgf4n4g3pfee6491hc0brc4i.apps.googleusercontent.com&redirect_uri=urn%3Aietf%3Awg%3Aoauth%3A2.0%3Aoob&scope=email%20https%3A%2F%2Fwww.googleapis.com%2Fauth%2Fdocs.test%20https%3A%2F%2Fwww.googleapis.com%2Fauth%2Fdrive%20https%3A%2F%2Fwww.googleapis.com%2Fauth%2Fdrive.photos.readonly%20https%3A%2F%2Fwww.googleapis.com%2Fauth%2Fpeopleapi.readonly&response_type=code\n",
            "\n",
            "Enter your authorization code:\n",
            "··········\n",
            "Mounted at /content/gdrive\n"
          ],
          "name": "stdout"
        }
      ]
    },
    {
      "metadata": {
        "ExecuteTime": {
          "end_time": "2019-03-03T13:32:01.787606Z",
          "start_time": "2019-03-03T13:31:52.146349Z"
        },
        "id": "8rAm-_cgbu7a",
        "colab_type": "code",
        "colab": {}
      },
      "cell_type": "code",
      "source": [
        "X_validation = validation.drop(columns=['click', 'payprice']).values\n",
        "y_validation = validation['click'].values\n",
        "input_layer = X_validation.shape[1]\n",
        "                                              \n",
        "# weights = torch.DoubleTensor(1-(np.bincount(y_resampled))/len(y_resampled))                                   \n",
        "# sampler = torch.utils.data.sampler.WeightedRandomSampler(weights, 2) \n",
        "# samples = torch.utils.data.BatchSampler(sampler, batch_size=1000, drop_last=False)\n",
        "\n",
        "# print(X_resampled.shape[1] == X_validation.shape[1])\n",
        "\n",
        "# train_loader = TensorDataset(torch.from_numpy(X_resampled).float(), torch.from_numpy(y_resampled).float())\n",
        "# train_loader = TensorDataset(torch.from_numpy(X_subsampled.values).float(), torch.from_numpy(y_subsampled).float())\n",
        "\n",
        "# train_loader = DataLoader(train_loader, num_workers=4, batch_size=50000, shuffle=True)\n",
        "\n",
        "validation_loader = TensorDataset(torch.from_numpy(X_validation).float(), torch.from_numpy(y_validation).float())\n",
        "validation_loader = DataLoader(validation_loader, batch_size=40000, shuffle=True, num_workers=4)\n",
        "\n",
        "#  free up memory\n",
        "del(X_validation, y_validation, validation)"
      ],
      "execution_count": 0,
      "outputs": []
    },
    {
      "metadata": {
        "id": "qQQuuQydbu7f",
        "colab_type": "text"
      },
      "cell_type": "markdown",
      "source": [
        "# Define model"
      ]
    },
    {
      "metadata": {
        "ExecuteTime": {
          "end_time": "2019-03-03T13:28:56.209744Z",
          "start_time": "2019-03-03T13:28:56.073294Z"
        },
        "id": "XUGNAsyLbu7h",
        "colab_type": "code",
        "colab": {}
      },
      "cell_type": "code",
      "source": [
        "# set seed fucntiosn\n",
        "seed=622\n",
        "np.random.seed(seed)\n",
        "torch.manual_seed(seed)\n",
        "\n",
        "# set number of nodes per hidden layer\n",
        "hidden_layer_1 = 2**11\n",
        "hidden_layer_2 = 2**11\n",
        "hidden_layer_3 = 2**11\n",
        "hidden_layer_4 = 2**11\n",
        "output_layer = 1\n",
        "\n",
        "# add linear layers and init weight function\n",
        "linear1 = nn.Linear(input_layer, hidden_layer_1)\n",
        "nn.init.xavier_uniform_(linear1.weight)\n",
        "\n",
        "linear2 = nn.Linear(hidden_layer_1, hidden_layer_2)\n",
        "nn.init.xavier_uniform_(linear2.weight)\n",
        "\n",
        "linear3 = nn.Linear(hidden_layer_2, hidden_layer_3)\n",
        "nn.init.xavier_uniform_(linear3.weight)\n",
        "\n",
        "linear4 = nn.Linear(hidden_layer_3, hidden_layer_4)\n",
        "nn.init.xavier_uniform_(linear4.weight)\n",
        "\n",
        "output = nn.Linear(hidden_layer_4, output_layer)\n",
        "nn.init.xavier_uniform_(output.weight)\n",
        "\n",
        "# dropout nodes when training the model to prevent over fitting\n",
        "dropout = nn.Dropout(p=0.5)\n",
        "\n",
        "# set sequential NN model\n",
        "model = torch.nn.Sequential(\n",
        "    linear1,\n",
        "    dropout,\n",
        "    nn.PReLU(),\n",
        "    linear2,\n",
        "    dropout,\n",
        "    nn.PReLU(),\n",
        "    linear3,\n",
        "    dropout,\n",
        "    nn.PReLU(),\n",
        "    linear4,\n",
        "    dropout,\n",
        "    nn.ReLU(),\n",
        "    output,\n",
        "    nn.Sigmoid()\n",
        ")\n",
        "\n",
        "# enable parallel processing\n",
        "model = nn.DataParallel(model)\n",
        "\n",
        "# set loss fuction\n",
        "criterion = nn.BCELoss()\n",
        "\n",
        "# set optimiser function\n",
        "optimizer = torch.optim.Adam(model.parameters(), lr=0.001)\n",
        "\n",
        "# Decay LR by a factor of 0.1 every step_size\n",
        "exp_lr_scheduler = lr_scheduler.StepLR(optimizer, step_size=20, gamma=0.1)\n",
        "\n",
        "\n",
        "# Utilise GPU when avalible\n",
        "device = torch.device(\"cuda:0\" if torch.cuda.is_available() else \"cpu\")\n",
        "model.to(device)\n",
        "\n",
        "# check if this is redundeant when the above is given\n",
        "if torch.cuda.is_available():\n",
        "    model = model.cuda()\n",
        "    criterion = criterion.cuda()\n",
        "    \n",
        "print('Running on {}'.format(device))\n",
        "\n",
        "print(model)"
      ],
      "execution_count": 0,
      "outputs": []
    },
    {
      "metadata": {
        "ExecuteTime": {
          "end_time": "2019-03-02T21:31:19.368905Z",
          "start_time": "2019-03-02T21:31:19.342747Z"
        },
        "id": "NUE_9kikbu7l",
        "colab_type": "text"
      },
      "cell_type": "markdown",
      "source": [
        "# Train function"
      ]
    },
    {
      "metadata": {
        "ExecuteTime": {
          "end_time": "2019-03-03T13:28:59.330238Z",
          "start_time": "2019-03-03T13:28:59.296310Z"
        },
        "id": "iKAKDTetbu7m",
        "colab_type": "code",
        "colab": {}
      },
      "cell_type": "code",
      "source": [
        "def train_model(model, criterion, optimizer, scheduler, num_epochs=25):\n",
        "    print('Running on {}\\n'.format(device))\n",
        "    \n",
        "    # keep track of historical ROC AUC scores\n",
        "    rocauc_history = []\n",
        "    \n",
        "    # keep track of time spend\n",
        "    since = time.time()\n",
        "    \n",
        "    # init current best model\n",
        "    best_model_wts = copy.deepcopy(model.state_dict())\n",
        "    \n",
        "    # best perforamce metrics\n",
        "    best_roc = 0.0\n",
        "    best_acc = 0.0\n",
        "    model_loss = None\n",
        "    \n",
        "    num_updates = 0\n",
        "    \n",
        "    # loop through number of epochs\n",
        "    for epoch in range(num_epochs):\n",
        "        print('\\nEpoch {}/{}'.format(epoch, num_epochs - 1))\n",
        "        print('-' * 10)\n",
        "        \n",
        "        # each epoch contains of a train and valdiation phase \n",
        "        # where validation is done on validation set\n",
        "        for phase in ['train', 'val']:\n",
        "\n",
        "            # Set NN to training\n",
        "            if phase == 'train':\n",
        "                scheduler.step()\n",
        "                model.train()  # Set model to training mode\n",
        "                loader = train_loader\n",
        "                loader_len = len(loader.dataset)\n",
        "\n",
        "            # Set NN to evaluate\n",
        "            else:\n",
        "                model.eval()\n",
        "                loader = validation_loader\n",
        "                loader_len = len(loader.dataset)\n",
        "            \n",
        "            # scores of current phase and epoch\n",
        "            running_loss = 0.0\n",
        "            running_roc = 0.0\n",
        "            running_acc = 0.0\n",
        "            running_len = 0\n",
        "            \n",
        "            # loop trough minibatches\n",
        "            for batch, (data, target) in enumerate(loader):\n",
        "                data, target = Variable(data), Variable(target)\n",
        "\n",
        "                data = data.to(device)\n",
        "                target = target.to(device)\n",
        "\n",
        "                # Reset gradients\n",
        "                optimizer.zero_grad()\n",
        "\n",
        "                with torch.set_grad_enabled(phase == 'train'):\n",
        "\n",
        "                    # Forward Propagation\n",
        "                    output = model(data)\n",
        "\n",
        "                    # loss function\n",
        "                    loss = criterion(output.squeeze(), target)\n",
        "\n",
        "                    prediction = (output.data).float()\n",
        "                    y_hat_prob = prediction.cpu().numpy().squeeze()\n",
        "                    \n",
        "                    y_hat_class = (prediction.cpu() > 0.5).float()\n",
        "\n",
        "                    target_y = target.cpu().data.numpy()\n",
        "\n",
        "                    # get predicted labels\n",
        "                    _, preds = torch.max(output, 1)\n",
        "\n",
        "                    # optimise in training\n",
        "                    if phase == 'train':\n",
        "\n",
        "                        # Backwards propagation error\n",
        "                        loss.backward()\n",
        "\n",
        "                        # apply\n",
        "                        optimizer.step()\n",
        "                        \n",
        "                        \n",
        "                # statistics\n",
        "                running_loss += loss.item() * data.size(0)\n",
        "\n",
        "                # only update the ROC AUC when there are two classes present in the target class\n",
        "                # pick a batch size in such a way this doesn't happen too frequent, very occasinal is unavoidable\n",
        "                # note I have tried weighted batch sampling but seems to have very little effect\n",
        "                if(max(target_y) == 1):\n",
        "                    running_roc += roc_auc_score(target_y,\n",
        "                                             y_hat_prob) * data.size(0)\n",
        "                    running_acc += balanced_accuracy_score(\n",
        "                        target_y, y_hat_class) * data.size(0)\n",
        "                    running_len += data.size(0)\n",
        "                    \n",
        "                else:\n",
        "                    print('skip calculation ROC')\n",
        "\n",
        "                if (batch + 1) % 50 == 0:\n",
        "                    print('{} Epoch: {} [{}/{} ({:.0f}%)]'.format(\n",
        "                        phase, epoch, (batch + 1) * len(data),\n",
        "                        len(loader.dataset), 100. * (batch + 1) / len(loader)))\n",
        "            \n",
        "            # update epoch scores\n",
        "            epoch_loss = running_loss / loader_len\n",
        "            epoch_roc = running_roc / running_len\n",
        "            epoch_acc = running_acc / running_len\n",
        "\n",
        "            print(\n",
        "                '\\n\\t{}:\\tLoss {:.5f},\\tROC AUC {:.5f},\\tBalanced Acc {:.5f}'.\n",
        "                format(phase, epoch_loss, epoch_roc, epoch_acc))\n",
        "\n",
        "            if (phase == 'val'):\n",
        "\n",
        "                # keep track of ROC AUC development\n",
        "                rocauc_history.append(epoch_roc)\n",
        "\n",
        "                if (model_loss == None):\n",
        "                    model_loss = epoch_loss\n",
        "\n",
        "                # deep copy the model\n",
        "                if epoch_roc >= best_roc:\n",
        "                    print('\\t\\tsave updated model')\n",
        "                    best_roc = epoch_roc\n",
        "                    model_loss = epoch_loss\n",
        "                    best_model_wts = copy.deepcopy(model.state_dict())\n",
        "                    num_updates += 1\n",
        "\n",
        "    print('\\n')\n",
        "    print('=' * 30)\n",
        "    print('=' * 30)\n",
        "    time_elapsed = time.time() - since\n",
        "    print('Training complete in {:.0f}m {:.0f}s\\n'.format(\n",
        "        time_elapsed // 60, time_elapsed % 60))\n",
        "    print(\n",
        "        'Model Loss:\\t{:4f}\\nROC AUC:\\t{:4f}\\nAccuracy:\\t{:4f}\\nModel updates:\\t{}'\n",
        "        .format(model_loss, best_roc, best_acc, num_updates))\n",
        "\n",
        "    filename = 'model_roc_{:.3f}_balanced_acc_{:.3f}_model_loss_{:.3f}.pt'.format(\n",
        "        best_roc, best_acc, model_loss)\n",
        "\n",
        "    # load best model weights and return this model\n",
        "    model.load_state_dict(best_model_wts)\n",
        "    \n",
        "    return model, filename, rocauc_history"
      ],
      "execution_count": 0,
      "outputs": []
    },
    {
      "metadata": {
        "ExecuteTime": {
          "end_time": "2019-03-03T13:29:25.298527Z",
          "start_time": "2019-03-03T13:29:01.979329Z"
        },
        "scrolled": false,
        "id": "7H9-D4nsbu7q",
        "colab_type": "code",
        "colab": {}
      },
      "cell_type": "code",
      "source": [
        "# train model\n",
        "best_model, filename, history = train_model(model, criterion, optimizer, exp_lr_scheduler, num_epochs=2)\n",
        "\n",
        "# save model to drive\n",
        "file_poiter = '/content/gdrive/My Drive/Colab Notebooks/' + filename\n",
        "torch.save(best_model, file_poiter)\n",
        "\n",
        "# diagnostic plot\n",
        "plt.plot(history)\n",
        "plt.title('ROC AUC evaluation over time')\n",
        "plt.ylabel('ROC AUC')\n",
        "sns.despine()\n",
        "plt.show()"
      ],
      "execution_count": 0,
      "outputs": []
    },
    {
      "metadata": {
        "heading_collapsed": true,
        "id": "DJ13mE_Fbu7t",
        "colab_type": "text"
      },
      "cell_type": "markdown",
      "source": [
        "## Train on entire train dataset"
      ]
    },
    {
      "metadata": {
        "ExecuteTime": {
          "end_time": "2019-03-03T22:47:24.496478Z",
          "start_time": "2019-03-03T22:46:48.632881Z"
        },
        "hidden": true,
        "id": "1gHzwPJHbu7u",
        "colab_type": "code",
        "colab": {}
      },
      "cell_type": "code",
      "source": [
        "store = pd.HDFStore('/content/gdrive/My Drive/Colab Notebooks/we_data/preprocessed.h5', 'r')\n",
        "rows = store.get_storer('train').shape[0]\n",
        "\n",
        "# split into 8 chunks\n",
        "chunks = np.array_split(np.arange(0,rows), 8)\n",
        "\n",
        "i = 0\n",
        "for chunk in chunks:\n",
        "    print('\\n\\n')\n",
        "    print('/'*100)\n",
        "    print('chunk {}'.format(i))\n",
        "    print('/'*100)\n",
        "    print('')\n",
        "    start = chunk[0]\n",
        "    stop = chunk[-1]\n",
        "    del(chunk)\n",
        "\n",
        "    sub_frame = store.select('train',start=start,stop=stop)\n",
        "    \n",
        "    X_train_chunk = sub_frame.drop(columns=['click', 'payprice']).values\n",
        "    y_train_chunk = sub_frame['click'].values\n",
        "    \n",
        "    \n",
        "    train_loader = TensorDataset(torch.from_numpy(X_train_chunk).float(), torch.from_numpy(y_train_chunk).float())\n",
        "    train_loader = DataLoader(train_loader, num_workers=20, batch_size=20000, shuffle=True)\n",
        "    \n",
        "    model, filename, history = train_model(model, criterion, optimizer, exp_lr_scheduler, num_epochs=40)\n",
        "    \n",
        "    file_poiter = '/content/gdrive/My Drive/Colab Notebooks/' + filename\n",
        "    torch.save(model, file_poiter)\n",
        "    \n",
        "    # free memory\n",
        "    torch.cuda.empty_cache()\n",
        "    sub_frame.close()\n",
        "    del(X_train_chunk, y_train_chunk)\n",
        "    del(train_loader)\n",
        "    \n",
        "    \n",
        "    i += 1"
      ],
      "execution_count": 0,
      "outputs": []
    },
    {
      "metadata": {
        "id": "_CjqBAJlbu7x",
        "colab_type": "text"
      },
      "cell_type": "markdown",
      "source": [
        "# Find optimal bidding strategy"
      ]
    },
    {
      "metadata": {
        "ExecuteTime": {
          "end_time": "2019-03-03T13:31:37.220012Z",
          "start_time": "2019-03-03T13:31:37.138993Z"
        },
        "id": "KEoA86XHbu7y",
        "colab_type": "code",
        "outputId": "05f7e286-544b-489f-fc31-c2ca469758f8",
        "colab": {
          "base_uri": "https://localhost:8080/",
          "height": 323
        }
      },
      "cell_type": "code",
      "source": [
        "# load the best NN\n",
        "file = 'nmodel_roc_0.856_balanced_acc_0.000_model_loss_0.017.pt'\n",
        "\n",
        "if colab_env:\n",
        "    PATH = '/content/gdrive/My Drive/Colab Notebooks/' + file\n",
        "    model = torch.load(PATH)\n",
        "else:\n",
        "    PATH = '/Users/davidvanrooij/Google Drive/Colab Notebooks/' + file\n",
        "    print(PATH)\n",
        "    model = torch.load(PATH, map_location='cpu')\n",
        "\n",
        "model.eval()\n",
        "print(model)"
      ],
      "execution_count": 29,
      "outputs": [
        {
          "output_type": "stream",
          "text": [
            "DataParallel(\n",
            "  (module): Sequential(\n",
            "    (0): Linear(in_features=963, out_features=2048, bias=True)\n",
            "    (1): Dropout(p=0.5)\n",
            "    (2): PReLU(num_parameters=1)\n",
            "    (3): Linear(in_features=2048, out_features=2048, bias=True)\n",
            "    (4): Dropout(p=0.5)\n",
            "    (5): PReLU(num_parameters=1)\n",
            "    (6): Linear(in_features=2048, out_features=2048, bias=True)\n",
            "    (7): Dropout(p=0.5)\n",
            "    (8): PReLU(num_parameters=1)\n",
            "    (9): Linear(in_features=2048, out_features=2048, bias=True)\n",
            "    (10): Dropout(p=0.5)\n",
            "    (11): ReLU()\n",
            "    (12): Linear(in_features=2048, out_features=1, bias=True)\n",
            "    (13): Sigmoid()\n",
            "  )\n",
            ")\n"
          ],
          "name": "stdout"
        }
      ]
    },
    {
      "metadata": {
        "ExecuteTime": {
          "end_time": "2019-03-03T13:29:47.084479Z",
          "start_time": "2019-03-03T13:29:39.557711Z"
        },
        "id": "c1--4g4Lbu71",
        "colab_type": "code",
        "colab": {}
      },
      "cell_type": "code",
      "source": [
        "# use NN to predict pCTR\n",
        "batches = np.array_split(validation, 200)\n",
        "\n",
        "pCTR = []\n",
        "for batch in batches:\n",
        "    data = batch.drop(columns=['click', 'payprice']).values\n",
        "    target = batch['click'].values\n",
        "    \n",
        "    data = torch.from_numpy(data).float()\n",
        "    target = torch.from_numpy(target).float()\n",
        "    \n",
        "    output = model(data)\n",
        "    \n",
        "    prediction = (output.data).float()\n",
        "    y_hat_prob = prediction.cpu().numpy().squeeze()\n",
        "    \n",
        "    pCTR.extend(y_hat_prob)\n",
        "    \n",
        "pCTR = np.array(pCTR)"
      ],
      "execution_count": 0,
      "outputs": []
    },
    {
      "metadata": {
        "id": "2pERFjrRqDpt",
        "colab_type": "text"
      },
      "cell_type": "markdown",
      "source": [
        "# Linear\n"
      ]
    },
    {
      "metadata": {
        "id": "WgPtxrANqHHV",
        "colab_type": "code",
        "outputId": "82e21d19-dc9a-447e-fa29-b72e8716a261",
        "colab": {
          "base_uri": "https://localhost:8080/",
          "height": 85
        }
      },
      "cell_type": "code",
      "source": [
        "%%time\n",
        "\n",
        "payprice = validation['payprice']\n",
        "clicks = validation['click']\n",
        "\n",
        "no_click, click = np.bincount(clicks)\n",
        "avgCTR = click / (no_click + click)\n",
        "\n",
        "bid_strategy = lambda base_bid: base_bid * (pCTR / avgCTR)\n",
        "\n",
        "bid_range = np.arange(10, 100, 10)\n",
        "statistics = {}\n",
        "\n",
        "# find optimal base_bid\n",
        "for base_bid in tqdm(bid_range):\n",
        "    \n",
        "    budget_remaining = 6250*1000\n",
        "    \n",
        "    statistics[base_bid] = {\n",
        "        'impressions':0,\n",
        "        'spend': 0,\n",
        "        'clicks': 0,\n",
        "        'too_expensive': 0,\n",
        "        'lost': 0\n",
        "    }\n",
        "    \n",
        "    # list of bids for all ad requests\n",
        "    bids = bid_strategy(base_bid)\n",
        "    \n",
        "    # loop through all bids for every ad request\n",
        "    for i in range(len(bids)):    \n",
        "        second_highest_bid = payprice[i]\n",
        "        \n",
        "        won = bids[i] >= second_highest_bid and second_highest_bid <= budget_remaining\n",
        "        \n",
        "        if(second_highest_bid > budget_remaining):\n",
        "            statistics[base_bid]['too_expensive'] += 1\n",
        "            \n",
        "        if(second_highest_bid> bids[i]):\n",
        "            statistics[base_bid]['lost'] += 1\n",
        "        \n",
        "        if(won):\n",
        "            statistics[base_bid]['impressions'] += 1\n",
        "            statistics[base_bid]['spend'] += second_highest_bid\n",
        "            statistics[base_bid]['clicks'] += clicks[i]\n",
        "            \n",
        "            # subtract current bid from budget \n",
        "            budget_remaining -= second_highest_bid\n",
        "            \n",
        "statistics = pd.DataFrame(statistics).T\n",
        "statistics['CTR'] = statistics['clicks'] / statistics['impressions']\n",
        "statistics['aCPM'] = statistics['spend'] / statistics['impressions'] \n",
        "statistics['aCPC'] = (statistics['spend']/1000) / statistics['clicks']\n",
        "print('done')"
      ],
      "execution_count": 79,
      "outputs": [
        {
          "output_type": "stream",
          "text": [
            "100%|██████████| 9/9 [00:54<00:00,  6.15s/it]"
          ],
          "name": "stderr"
        },
        {
          "output_type": "stream",
          "text": [
            "done\n",
            "CPU times: user 54.5 s, sys: 29.8 ms, total: 54.5 s\n",
            "Wall time: 54.6 s\n"
          ],
          "name": "stdout"
        },
        {
          "output_type": "stream",
          "text": [
            "\n"
          ],
          "name": "stderr"
        }
      ]
    },
    {
      "metadata": {
        "id": "TAJpX2-oqkAy",
        "colab_type": "code",
        "outputId": "d0959944-2712-488c-8254-3c72420138f0",
        "colab": {
          "base_uri": "https://localhost:8080/",
          "height": 204
        }
      },
      "cell_type": "code",
      "source": [
        "statistics.sort_values('clicks', ascending=False).head(5)"
      ],
      "execution_count": 80,
      "outputs": [
        {
          "output_type": "execute_result",
          "data": {
            "text/html": [
              "<div>\n",
              "<style scoped>\n",
              "    .dataframe tbody tr th:only-of-type {\n",
              "        vertical-align: middle;\n",
              "    }\n",
              "\n",
              "    .dataframe tbody tr th {\n",
              "        vertical-align: top;\n",
              "    }\n",
              "\n",
              "    .dataframe thead th {\n",
              "        text-align: right;\n",
              "    }\n",
              "</style>\n",
              "<table border=\"1\" class=\"dataframe\">\n",
              "  <thead>\n",
              "    <tr style=\"text-align: right;\">\n",
              "      <th></th>\n",
              "      <th>clicks</th>\n",
              "      <th>impressions</th>\n",
              "      <th>lost</th>\n",
              "      <th>spend</th>\n",
              "      <th>too_expensive</th>\n",
              "      <th>CTR</th>\n",
              "      <th>aCPM</th>\n",
              "      <th>aCPC</th>\n",
              "    </tr>\n",
              "  </thead>\n",
              "  <tbody>\n",
              "    <tr>\n",
              "      <th>70</th>\n",
              "      <td>162</td>\n",
              "      <td>88166</td>\n",
              "      <td>215759</td>\n",
              "      <td>6070362</td>\n",
              "      <td>0</td>\n",
              "      <td>0.001837</td>\n",
              "      <td>68.851507</td>\n",
              "      <td>37.471370</td>\n",
              "    </tr>\n",
              "    <tr>\n",
              "      <th>60</th>\n",
              "      <td>160</td>\n",
              "      <td>84223</td>\n",
              "      <td>219702</td>\n",
              "      <td>5761832</td>\n",
              "      <td>0</td>\n",
              "      <td>0.001900</td>\n",
              "      <td>68.411622</td>\n",
              "      <td>36.011450</td>\n",
              "    </tr>\n",
              "    <tr>\n",
              "      <th>80</th>\n",
              "      <td>160</td>\n",
              "      <td>90394</td>\n",
              "      <td>212360</td>\n",
              "      <td>6250000</td>\n",
              "      <td>3924</td>\n",
              "      <td>0.001770</td>\n",
              "      <td>69.141757</td>\n",
              "      <td>39.062500</td>\n",
              "    </tr>\n",
              "    <tr>\n",
              "      <th>50</th>\n",
              "      <td>157</td>\n",
              "      <td>79835</td>\n",
              "      <td>224090</td>\n",
              "      <td>5427270</td>\n",
              "      <td>0</td>\n",
              "      <td>0.001967</td>\n",
              "      <td>67.981086</td>\n",
              "      <td>34.568599</td>\n",
              "    </tr>\n",
              "    <tr>\n",
              "      <th>40</th>\n",
              "      <td>154</td>\n",
              "      <td>74592</td>\n",
              "      <td>229333</td>\n",
              "      <td>5023321</td>\n",
              "      <td>0</td>\n",
              "      <td>0.002065</td>\n",
              "      <td>67.343965</td>\n",
              "      <td>32.618968</td>\n",
              "    </tr>\n",
              "  </tbody>\n",
              "</table>\n",
              "</div>"
            ],
            "text/plain": [
              "    clicks  impressions    lost    spend  too_expensive       CTR       aCPM  \\\n",
              "70     162        88166  215759  6070362              0  0.001837  68.851507   \n",
              "60     160        84223  219702  5761832              0  0.001900  68.411622   \n",
              "80     160        90394  212360  6250000           3924  0.001770  69.141757   \n",
              "50     157        79835  224090  5427270              0  0.001967  67.981086   \n",
              "40     154        74592  229333  5023321              0  0.002065  67.343965   \n",
              "\n",
              "         aCPC  \n",
              "70  37.471370  \n",
              "60  36.011450  \n",
              "80  39.062500  \n",
              "50  34.568599  \n",
              "40  32.618968  "
            ]
          },
          "metadata": {
            "tags": []
          },
          "execution_count": 80
        }
      ]
    },
    {
      "metadata": {
        "id": "QrCApIPMbu73",
        "colab_type": "text"
      },
      "cell_type": "markdown",
      "source": [
        "## ORTB1"
      ]
    },
    {
      "metadata": {
        "ExecuteTime": {
          "end_time": "2019-03-03T13:29:49.399924Z",
          "start_time": "2019-03-03T13:29:49.341770Z"
        },
        "id": "q2DthTrQbu75",
        "colab_type": "code",
        "colab": {
          "base_uri": "https://localhost:8080/",
          "height": 85
        },
        "outputId": "d9f22cb4-4d7b-4be0-96a2-7c3d493cc1aa"
      },
      "cell_type": "code",
      "source": [
        "%%time\n",
        "payprice = validation['payprice']\n",
        "clicks = validation['click']\n",
        "\n",
        "ortb_strategy = lambda lamda, const, pCTR: np.sqrt(np.multiply((const / lamda), pCTR) + const**2) - const\n",
        "\n",
        "lamda_range = np.linspace(1e-7, 1e-5, num=20)\n",
        "const_range = np.arange(10, 100, 10)\n",
        "parameter_grid = [(x,i) for x in const_range for i in lamda_range]\n",
        "\n",
        "statistics = {}\n",
        "\n",
        "# find optimal paramters\n",
        "for const, lamda in tqdm(parameter_grid):\n",
        "    budget_remaining = 6250*1000\n",
        "    \n",
        "    index = (const, lamda)\n",
        "    \n",
        "    statistics[index] = {\n",
        "        'impressions':0,\n",
        "        'spend': 0,\n",
        "        'clicks': 0,\n",
        "        'too_expensive': 0,\n",
        "        'lost': 0\n",
        "    }\n",
        "    \n",
        "    # list of bids for all ad requests\n",
        "    bids = ortb_strategy(lamda, const, pCTR)\n",
        "    \n",
        "    # loop through all bids for every ad request\n",
        "    for i in range(len(bids)):    \n",
        "        second_highest_bid = payprice[i]\n",
        "        \n",
        "        won = bids[i] >= second_highest_bid and second_highest_bid <= budget_remaining\n",
        "        \n",
        "        if(second_highest_bid > budget_remaining):\n",
        "            statistics[index]['too_expensive'] += 1\n",
        "            \n",
        "            \n",
        "        if(second_highest_bid> bids[i]):\n",
        "            statistics[index]['lost'] += 1\n",
        "        \n",
        "        \n",
        "        if(won):\n",
        "            statistics[index]['impressions'] += 1\n",
        "            statistics[index]['spend'] += second_highest_bid\n",
        "            statistics[index]['clicks'] += clicks[i]\n",
        "            \n",
        "            # subtract current bid from budget \n",
        "            budget_remaining -= second_highest_bid\n",
        "            \n",
        "    \n",
        "statistics = pd.DataFrame(statistics).T\n",
        "statistics['CTR'] = statistics['clicks'] / statistics['impressions']\n",
        "statistics['aCPM'] = statistics['spend'] / statistics['impressions'] \n",
        "statistics['aCPC'] = (statistics['spend']/1000) / statistics['clicks']\n",
        "print('done')"
      ],
      "execution_count": 81,
      "outputs": [
        {
          "output_type": "stream",
          "text": [
            "100%|██████████| 180/180 [15:45<00:00,  5.15s/it]"
          ],
          "name": "stderr"
        },
        {
          "output_type": "stream",
          "text": [
            "done\n",
            "CPU times: user 15min 43s, sys: 460 ms, total: 15min 44s\n",
            "Wall time: 15min 45s\n"
          ],
          "name": "stdout"
        },
        {
          "output_type": "stream",
          "text": [
            "\n"
          ],
          "name": "stderr"
        }
      ]
    },
    {
      "metadata": {
        "ExecuteTime": {
          "end_time": "2019-03-01T14:04:19.161779Z",
          "start_time": "2019-03-01T14:03:15.066Z"
        },
        "id": "p-fp_ZO9bu78",
        "colab_type": "code",
        "outputId": "49404566-7742-4063-b29c-9d26cad2a2ec",
        "colab": {
          "base_uri": "https://localhost:8080/",
          "height": 204
        }
      },
      "cell_type": "code",
      "source": [
        "statistics.sort_values('clicks', ascending=False).head(5)"
      ],
      "execution_count": 82,
      "outputs": [
        {
          "output_type": "execute_result",
          "data": {
            "text/html": [
              "<div>\n",
              "<style scoped>\n",
              "    .dataframe tbody tr th:only-of-type {\n",
              "        vertical-align: middle;\n",
              "    }\n",
              "\n",
              "    .dataframe tbody tr th {\n",
              "        vertical-align: top;\n",
              "    }\n",
              "\n",
              "    .dataframe thead th {\n",
              "        text-align: right;\n",
              "    }\n",
              "</style>\n",
              "<table border=\"1\" class=\"dataframe\">\n",
              "  <thead>\n",
              "    <tr style=\"text-align: right;\">\n",
              "      <th></th>\n",
              "      <th></th>\n",
              "      <th>clicks</th>\n",
              "      <th>impressions</th>\n",
              "      <th>spend</th>\n",
              "      <th>too_expensive</th>\n",
              "      <th>CTR</th>\n",
              "      <th>aCPM</th>\n",
              "      <th>aCPC</th>\n",
              "    </tr>\n",
              "  </thead>\n",
              "  <tbody>\n",
              "    <tr>\n",
              "      <th>30</th>\n",
              "      <th>0.000002</th>\n",
              "      <td>162</td>\n",
              "      <td>95836</td>\n",
              "      <td>6070818</td>\n",
              "      <td>0</td>\n",
              "      <td>0.001690</td>\n",
              "      <td>63.345903</td>\n",
              "      <td>37.474185</td>\n",
              "    </tr>\n",
              "    <tr>\n",
              "      <th>50</th>\n",
              "      <th>0.000002</th>\n",
              "      <td>162</td>\n",
              "      <td>94544</td>\n",
              "      <td>6097350</td>\n",
              "      <td>0</td>\n",
              "      <td>0.001713</td>\n",
              "      <td>64.492194</td>\n",
              "      <td>37.637963</td>\n",
              "    </tr>\n",
              "    <tr>\n",
              "      <th>20</th>\n",
              "      <th>0.000001</th>\n",
              "      <td>162</td>\n",
              "      <td>99450</td>\n",
              "      <td>6250000</td>\n",
              "      <td>1555</td>\n",
              "      <td>0.001629</td>\n",
              "      <td>62.845651</td>\n",
              "      <td>38.580247</td>\n",
              "    </tr>\n",
              "    <tr>\n",
              "      <th>90</th>\n",
              "      <th>0.000003</th>\n",
              "      <td>162</td>\n",
              "      <td>93986</td>\n",
              "      <td>6186403</td>\n",
              "      <td>0</td>\n",
              "      <td>0.001724</td>\n",
              "      <td>65.822601</td>\n",
              "      <td>38.187673</td>\n",
              "    </tr>\n",
              "    <tr>\n",
              "      <th>40</th>\n",
              "      <th>0.000002</th>\n",
              "      <td>161</td>\n",
              "      <td>92336</td>\n",
              "      <td>5872220</td>\n",
              "      <td>0</td>\n",
              "      <td>0.001744</td>\n",
              "      <td>63.596214</td>\n",
              "      <td>36.473416</td>\n",
              "    </tr>\n",
              "  </tbody>\n",
              "</table>\n",
              "</div>"
            ],
            "text/plain": [
              "             clicks  impressions    spend  too_expensive       CTR       aCPM  \\\n",
              "30 0.000002     162        95836  6070818              0  0.001690  63.345903   \n",
              "50 0.000002     162        94544  6097350              0  0.001713  64.492194   \n",
              "20 0.000001     162        99450  6250000           1555  0.001629  62.845651   \n",
              "90 0.000003     162        93986  6186403              0  0.001724  65.822601   \n",
              "40 0.000002     161        92336  5872220              0  0.001744  63.596214   \n",
              "\n",
              "                  aCPC  \n",
              "30 0.000002  37.474185  \n",
              "50 0.000002  37.637963  \n",
              "20 0.000001  38.580247  \n",
              "90 0.000003  38.187673  \n",
              "40 0.000002  36.473416  "
            ]
          },
          "metadata": {
            "tags": []
          },
          "execution_count": 82
        }
      ]
    },
    {
      "metadata": {
        "id": "O1VQ3dD-bu8C",
        "colab_type": "code",
        "outputId": "b3cc9dea-9791-42bb-d560-ea4f0ef89102",
        "colab": {
          "base_uri": "https://localhost:8080/",
          "height": 1000
        }
      },
      "cell_type": "code",
      "source": [
        "x = np.linspace(1e-2, 1)\n",
        "y = ortb_strategy(0.000002,30,x)\n",
        "y2 = ortb_strategy(0.000002,50,x)\n",
        "y3 = ortb_strategy(0.0000001,20,x)\n",
        "\n",
        "plt.plot(x,y, label='#1')\n",
        "plt.plot(x, y2, label='#2')\n",
        "plt.plot(x, y3, label='#3')\n",
        "sns.despine()\n",
        "plt.title('Non linear bidding strategy ORTB1')\n",
        "plt.ylabel('Bid price')\n",
        "plt.xlabel('pCTR')\n",
        "plt.legend()\n",
        "plt.show()"
      ],
      "execution_count": 83,
      "outputs": [
        {
          "output_type": "display_data",
          "data": {
            "text/plain": [
              "<Figure size 432x288 with 1 Axes>"
            ],
            "image/svg+xml": "<?xml version=\"1.0\" encoding=\"utf-8\" standalone=\"no\"?>\n<!DOCTYPE svg PUBLIC \"-//W3C//DTD SVG 1.1//EN\"\n  \"http://www.w3.org/Graphics/SVG/1.1/DTD/svg11.dtd\">\n<!-- Created with matplotlib (https://matplotlib.org/) -->\n<svg height=\"283.112188pt\" version=\"1.1\" viewBox=\"0 0 410.25875 283.112188\" width=\"410.25875pt\" xmlns=\"http://www.w3.org/2000/svg\" xmlns:xlink=\"http://www.w3.org/1999/xlink\">\n <defs>\n  <style type=\"text/css\">\n*{stroke-linecap:butt;stroke-linejoin:round;}\n  </style>\n </defs>\n <g id=\"figure_1\">\n  <g id=\"patch_1\">\n   <path d=\"M 0 283.112188 \nL 410.25875 283.112188 \nL 410.25875 0 \nL 0 0 \nz\n\" style=\"fill:none;\"/>\n  </g>\n  <g id=\"axes_1\">\n   <g id=\"patch_2\">\n    <path d=\"M 62.25875 239.33625 \nL 397.05875 239.33625 \nL 397.05875 21.89625 \nL 62.25875 21.89625 \nz\n\" style=\"fill:#ffffff;\"/>\n   </g>\n   <g id=\"matplotlib.axis_1\">\n    <g id=\"xtick_1\">\n     <g id=\"line2d_1\">\n      <defs>\n       <path d=\"M 0 0 \nL 0 6 \n\" id=\"maf666fce60\" style=\"stroke:#262626;\"/>\n      </defs>\n      <g>\n       <use style=\"fill:#262626;stroke:#262626;\" x=\"74.402552\" xlink:href=\"#maf666fce60\" y=\"239.33625\"/>\n      </g>\n     </g>\n     <g id=\"text_1\">\n      <!-- 0.0 -->\n      <defs>\n       <path d=\"M 51.703125 34.421875 \nQ 51.703125 24.515625 49.828125 17.75 \nQ 47.953125 10.984375 44.703125 6.8125 \nQ 41.453125 2.640625 37.0625 0.828125 \nQ 32.671875 -0.984375 27.6875 -0.984375 \nQ 22.65625 -0.984375 18.3125 0.828125 \nQ 13.96875 2.640625 10.765625 6.78125 \nQ 7.5625 10.9375 5.734375 17.703125 \nQ 3.90625 24.46875 3.90625 34.421875 \nQ 3.90625 44.828125 5.734375 51.640625 \nQ 7.5625 58.453125 10.78125 62.5 \nQ 14.015625 66.546875 18.40625 68.1875 \nQ 22.796875 69.828125 27.984375 69.828125 \nQ 32.90625 69.828125 37.21875 68.1875 \nQ 41.546875 66.546875 44.765625 62.5 \nQ 48 58.453125 49.84375 51.640625 \nQ 51.703125 44.828125 51.703125 34.421875 \nz\nM 42.78125 34.421875 \nQ 42.78125 42.625 41.796875 48.0625 \nQ 40.828125 53.515625 38.921875 56.765625 \nQ 37.015625 60.015625 34.25 61.359375 \nQ 31.5 62.703125 27.984375 62.703125 \nQ 24.265625 62.703125 21.4375 61.328125 \nQ 18.609375 59.96875 16.671875 56.71875 \nQ 14.75 53.46875 13.765625 48.015625 \nQ 12.796875 42.578125 12.796875 34.421875 \nQ 12.796875 26.515625 13.796875 21.09375 \nQ 14.796875 15.671875 16.71875 12.375 \nQ 18.65625 9.078125 21.4375 7.640625 \nQ 24.21875 6.203125 27.78125 6.203125 \nQ 31.25 6.203125 34.03125 7.640625 \nQ 36.8125 9.078125 38.734375 12.375 \nQ 40.671875 15.671875 41.71875 21.09375 \nQ 42.78125 26.515625 42.78125 34.421875 \nz\n\" id=\"LiberationSans-48\"/>\n       <path d=\"M 9.125 0 \nL 9.125 10.6875 \nL 18.65625 10.6875 \nL 18.65625 0 \nz\n\" id=\"LiberationSans-46\"/>\n      </defs>\n      <g style=\"fill:#262626;\" transform=\"translate(67.452552 259.583125)scale(0.1 -0.1)\">\n       <use xlink:href=\"#LiberationSans-48\"/>\n       <use x=\"55.615234\" xlink:href=\"#LiberationSans-46\"/>\n       <use x=\"83.398438\" xlink:href=\"#LiberationSans-48\"/>\n      </g>\n     </g>\n    </g>\n    <g id=\"xtick_2\">\n     <g id=\"line2d_2\">\n      <g>\n       <use style=\"fill:#262626;stroke:#262626;\" x=\"135.890155\" xlink:href=\"#maf666fce60\" y=\"239.33625\"/>\n      </g>\n     </g>\n     <g id=\"text_2\">\n      <!-- 0.2 -->\n      <defs>\n       <path d=\"M 5.03125 0 \nL 5.03125 6.203125 \nQ 7.515625 11.921875 11.109375 16.28125 \nQ 14.703125 20.65625 18.65625 24.1875 \nQ 22.609375 27.734375 26.484375 30.765625 \nQ 30.375 33.796875 33.5 36.8125 \nQ 36.625 39.84375 38.546875 43.15625 \nQ 40.484375 46.484375 40.484375 50.6875 \nQ 40.484375 53.609375 39.59375 55.828125 \nQ 38.71875 58.0625 37.0625 59.5625 \nQ 35.40625 61.078125 33.078125 61.828125 \nQ 30.765625 62.59375 27.9375 62.59375 \nQ 25.296875 62.59375 22.96875 61.859375 \nQ 20.65625 61.140625 18.84375 59.671875 \nQ 17.046875 58.203125 15.890625 56.03125 \nQ 14.75 53.859375 14.40625 50.984375 \nL 5.421875 51.8125 \nQ 5.859375 55.515625 7.46875 58.78125 \nQ 9.078125 62.0625 11.90625 64.53125 \nQ 14.75 67 18.71875 68.40625 \nQ 22.703125 69.828125 27.9375 69.828125 \nQ 33.0625 69.828125 37.0625 68.609375 \nQ 41.0625 67.390625 43.8125 64.984375 \nQ 46.578125 62.59375 48.046875 59.078125 \nQ 49.515625 55.5625 49.515625 50.984375 \nQ 49.515625 47.515625 48.265625 44.390625 \nQ 47.015625 41.265625 44.9375 38.421875 \nQ 42.875 35.59375 40.140625 32.953125 \nQ 37.40625 30.328125 34.421875 27.8125 \nQ 31.453125 25.296875 28.421875 22.828125 \nQ 25.390625 20.359375 22.71875 17.859375 \nQ 20.0625 15.375 17.96875 12.8125 \nQ 15.875 10.25 14.703125 7.46875 \nL 50.59375 7.46875 \nL 50.59375 0 \nz\n\" id=\"LiberationSans-50\"/>\n      </defs>\n      <g style=\"fill:#262626;\" transform=\"translate(128.940155 259.583125)scale(0.1 -0.1)\">\n       <use xlink:href=\"#LiberationSans-48\"/>\n       <use x=\"55.615234\" xlink:href=\"#LiberationSans-46\"/>\n       <use x=\"83.398438\" xlink:href=\"#LiberationSans-50\"/>\n      </g>\n     </g>\n    </g>\n    <g id=\"xtick_3\">\n     <g id=\"line2d_3\">\n      <g>\n       <use style=\"fill:#262626;stroke:#262626;\" x=\"197.377758\" xlink:href=\"#maf666fce60\" y=\"239.33625\"/>\n      </g>\n     </g>\n     <g id=\"text_3\">\n      <!-- 0.4 -->\n      <defs>\n       <path d=\"M 43.015625 15.578125 \nL 43.015625 0 \nL 34.71875 0 \nL 34.71875 15.578125 \nL 2.296875 15.578125 \nL 2.296875 22.40625 \nL 33.796875 68.796875 \nL 43.015625 68.796875 \nL 43.015625 22.515625 \nL 52.6875 22.515625 \nL 52.6875 15.578125 \nz\nM 34.71875 58.890625 \nQ 34.625 58.640625 34.234375 57.9375 \nQ 33.84375 57.234375 33.34375 56.34375 \nQ 32.859375 55.46875 32.34375 54.5625 \nQ 31.84375 53.65625 31.453125 53.078125 \nL 13.8125 27.09375 \nQ 13.578125 26.703125 13.109375 26.0625 \nQ 12.640625 25.4375 12.15625 24.78125 \nQ 11.671875 24.125 11.171875 23.484375 \nQ 10.6875 22.859375 10.40625 22.515625 \nL 34.71875 22.515625 \nz\n\" id=\"LiberationSans-52\"/>\n      </defs>\n      <g style=\"fill:#262626;\" transform=\"translate(190.427758 259.583125)scale(0.1 -0.1)\">\n       <use xlink:href=\"#LiberationSans-48\"/>\n       <use x=\"55.615234\" xlink:href=\"#LiberationSans-46\"/>\n       <use x=\"83.398438\" xlink:href=\"#LiberationSans-52\"/>\n      </g>\n     </g>\n    </g>\n    <g id=\"xtick_4\">\n     <g id=\"line2d_4\">\n      <g>\n       <use style=\"fill:#262626;stroke:#262626;\" x=\"258.865362\" xlink:href=\"#maf666fce60\" y=\"239.33625\"/>\n      </g>\n     </g>\n     <g id=\"text_4\">\n      <!-- 0.6 -->\n      <defs>\n       <path d=\"M 51.21875 22.515625 \nQ 51.21875 17.328125 49.78125 13 \nQ 48.34375 8.6875 45.53125 5.578125 \nQ 42.71875 2.484375 38.5625 0.75 \nQ 34.421875 -0.984375 29 -0.984375 \nQ 23 -0.984375 18.5 1.3125 \nQ 14.015625 3.609375 11.03125 7.921875 \nQ 8.0625 12.25 6.5625 18.53125 \nQ 5.078125 24.8125 5.078125 32.8125 \nQ 5.078125 42 6.765625 48.921875 \nQ 8.453125 55.859375 11.625 60.5 \nQ 14.796875 65.140625 19.359375 67.484375 \nQ 23.921875 69.828125 29.6875 69.828125 \nQ 33.203125 69.828125 36.28125 69.09375 \nQ 39.359375 68.359375 41.875 66.71875 \nQ 44.390625 65.09375 46.28125 62.40625 \nQ 48.1875 59.71875 49.3125 55.8125 \nL 40.921875 54.296875 \nQ 39.546875 58.734375 36.546875 60.71875 \nQ 33.546875 62.703125 29.59375 62.703125 \nQ 25.984375 62.703125 23.046875 60.984375 \nQ 20.125 59.28125 18.0625 55.875 \nQ 16.015625 52.484375 14.90625 47.359375 \nQ 13.8125 42.234375 13.8125 35.40625 \nQ 16.21875 39.84375 20.5625 42.15625 \nQ 24.90625 44.484375 30.515625 44.484375 \nQ 35.203125 44.484375 39.015625 42.96875 \nQ 42.828125 41.453125 45.53125 38.59375 \nQ 48.25 35.75 49.734375 31.671875 \nQ 51.21875 27.59375 51.21875 22.515625 \nz\nM 42.28125 22.125 \nQ 42.28125 25.6875 41.40625 28.5625 \nQ 40.53125 31.453125 38.765625 33.46875 \nQ 37.015625 35.5 34.421875 36.59375 \nQ 31.84375 37.703125 28.421875 37.703125 \nQ 26.03125 37.703125 23.578125 36.984375 \nQ 21.140625 36.28125 19.15625 34.6875 \nQ 17.1875 33.109375 15.9375 30.515625 \nQ 14.703125 27.9375 14.703125 24.21875 \nQ 14.703125 20.40625 15.671875 17.109375 \nQ 16.65625 13.8125 18.484375 11.375 \nQ 20.3125 8.9375 22.890625 7.515625 \nQ 25.484375 6.109375 28.71875 6.109375 \nQ 31.890625 6.109375 34.40625 7.203125 \nQ 36.921875 8.296875 38.671875 10.375 \nQ 40.4375 12.453125 41.359375 15.421875 \nQ 42.28125 18.40625 42.28125 22.125 \nz\n\" id=\"LiberationSans-54\"/>\n      </defs>\n      <g style=\"fill:#262626;\" transform=\"translate(251.915362 259.583125)scale(0.1 -0.1)\">\n       <use xlink:href=\"#LiberationSans-48\"/>\n       <use x=\"55.615234\" xlink:href=\"#LiberationSans-46\"/>\n       <use x=\"83.398438\" xlink:href=\"#LiberationSans-54\"/>\n      </g>\n     </g>\n    </g>\n    <g id=\"xtick_5\">\n     <g id=\"line2d_5\">\n      <g>\n       <use style=\"fill:#262626;stroke:#262626;\" x=\"320.352965\" xlink:href=\"#maf666fce60\" y=\"239.33625\"/>\n      </g>\n     </g>\n     <g id=\"text_5\">\n      <!-- 0.8 -->\n      <defs>\n       <path d=\"M 51.265625 19.1875 \nQ 51.265625 14.796875 49.875 11.109375 \nQ 48.484375 7.421875 45.625 4.734375 \nQ 42.78125 2.046875 38.328125 0.53125 \nQ 33.890625 -0.984375 27.828125 -0.984375 \nQ 21.78125 -0.984375 17.359375 0.53125 \nQ 12.9375 2.046875 10.03125 4.703125 \nQ 7.125 7.375 5.734375 11.0625 \nQ 4.34375 14.75 4.34375 19.09375 \nQ 4.34375 22.859375 5.484375 25.78125 \nQ 6.640625 28.71875 8.5625 30.828125 \nQ 10.5 32.953125 12.96875 34.25 \nQ 15.4375 35.546875 18.0625 35.984375 \nL 18.0625 36.1875 \nQ 15.1875 36.859375 12.90625 38.375 \nQ 10.640625 39.890625 9.09375 42.015625 \nQ 7.5625 44.140625 6.75 46.71875 \nQ 5.953125 49.3125 5.953125 52.203125 \nQ 5.953125 55.8125 7.34375 59 \nQ 8.734375 62.203125 11.46875 64.625 \nQ 14.203125 67.046875 18.25 68.4375 \nQ 22.3125 69.828125 27.640625 69.828125 \nQ 33.25 69.828125 37.375 68.40625 \nQ 41.5 67 44.203125 64.578125 \nQ 46.921875 62.15625 48.234375 58.9375 \nQ 49.5625 55.71875 49.5625 52.09375 \nQ 49.5625 49.265625 48.75 46.671875 \nQ 47.953125 44.09375 46.40625 41.96875 \nQ 44.875 39.84375 42.59375 38.34375 \nQ 40.328125 36.859375 37.359375 36.28125 \nL 37.359375 36.078125 \nQ 40.328125 35.59375 42.859375 34.296875 \nQ 45.40625 33.015625 47.265625 30.890625 \nQ 49.125 28.765625 50.1875 25.828125 \nQ 51.265625 22.90625 51.265625 19.1875 \nz\nM 40.4375 51.609375 \nQ 40.4375 54.203125 39.765625 56.34375 \nQ 39.109375 58.5 37.59375 60.03125 \nQ 36.078125 61.578125 33.640625 62.421875 \nQ 31.203125 63.28125 27.640625 63.28125 \nQ 24.171875 63.28125 21.78125 62.421875 \nQ 19.390625 61.578125 17.84375 60.03125 \nQ 16.3125 58.5 15.625 56.34375 \nQ 14.9375 54.203125 14.9375 51.609375 \nQ 14.9375 49.5625 15.46875 47.40625 \nQ 16.015625 45.265625 17.421875 43.5 \nQ 18.84375 41.75 21.328125 40.625 \nQ 23.828125 39.5 27.734375 39.5 \nQ 31.890625 39.5 34.40625 40.625 \nQ 36.921875 41.75 38.25 43.5 \nQ 39.59375 45.265625 40.015625 47.40625 \nQ 40.4375 49.5625 40.4375 51.609375 \nz\nM 42.140625 20.015625 \nQ 42.140625 22.515625 41.453125 24.828125 \nQ 40.765625 27.15625 39.109375 28.9375 \nQ 37.453125 30.71875 34.640625 31.8125 \nQ 31.84375 32.90625 27.640625 32.90625 \nQ 23.78125 32.90625 21.0625 31.8125 \nQ 18.359375 30.71875 16.671875 28.90625 \nQ 14.984375 27.09375 14.203125 24.71875 \nQ 13.421875 22.359375 13.421875 19.828125 \nQ 13.421875 16.65625 14.203125 14.03125 \nQ 14.984375 11.421875 16.6875 9.546875 \nQ 18.40625 7.671875 21.1875 6.640625 \nQ 23.96875 5.609375 27.9375 5.609375 \nQ 31.9375 5.609375 34.671875 6.640625 \nQ 37.40625 7.671875 39.0625 9.546875 \nQ 40.71875 11.421875 41.421875 14.078125 \nQ 42.140625 16.75 42.140625 20.015625 \nz\n\" id=\"LiberationSans-56\"/>\n      </defs>\n      <g style=\"fill:#262626;\" transform=\"translate(313.402965 259.583125)scale(0.1 -0.1)\">\n       <use xlink:href=\"#LiberationSans-48\"/>\n       <use x=\"55.615234\" xlink:href=\"#LiberationSans-46\"/>\n       <use x=\"83.398438\" xlink:href=\"#LiberationSans-56\"/>\n      </g>\n     </g>\n    </g>\n    <g id=\"xtick_6\">\n     <g id=\"line2d_6\">\n      <g>\n       <use style=\"fill:#262626;stroke:#262626;\" x=\"381.840568\" xlink:href=\"#maf666fce60\" y=\"239.33625\"/>\n      </g>\n     </g>\n     <g id=\"text_6\">\n      <!-- 1.0 -->\n      <defs>\n       <path d=\"M 7.625 0 \nL 7.625 7.46875 \nL 25.140625 7.46875 \nL 25.140625 60.40625 \nL 9.625 49.3125 \nL 9.625 57.625 \nL 25.875 68.796875 \nL 33.984375 68.796875 \nL 33.984375 7.46875 \nL 50.734375 7.46875 \nL 50.734375 0 \nz\n\" id=\"LiberationSans-49\"/>\n      </defs>\n      <g style=\"fill:#262626;\" transform=\"translate(374.890568 259.583125)scale(0.1 -0.1)\">\n       <use xlink:href=\"#LiberationSans-49\"/>\n       <use x=\"55.615234\" xlink:href=\"#LiberationSans-46\"/>\n       <use x=\"83.398438\" xlink:href=\"#LiberationSans-48\"/>\n      </g>\n     </g>\n    </g>\n    <g id=\"text_7\">\n     <!-- pCTR -->\n     <defs>\n      <path d=\"M 51.421875 26.65625 \nQ 51.421875 20.65625 50.4375 15.578125 \nQ 49.46875 10.5 47.1875 6.828125 \nQ 44.921875 3.171875 41.1875 1.09375 \nQ 37.453125 -0.984375 31.984375 -0.984375 \nQ 26.3125 -0.984375 22.0625 1.171875 \nQ 17.828125 3.328125 15.578125 8.203125 \nL 15.328125 8.203125 \nQ 15.375 8.109375 15.40625 7.328125 \nQ 15.4375 6.546875 15.453125 5.375 \nQ 15.484375 4.203125 15.5 2.75 \nQ 15.53125 1.3125 15.53125 -0.09375 \nL 15.53125 -20.75 \nL 6.734375 -20.75 \nL 6.734375 42.046875 \nQ 6.734375 43.953125 6.703125 45.703125 \nQ 6.6875 47.46875 6.640625 48.90625 \nQ 6.59375 50.34375 6.546875 51.359375 \nQ 6.5 52.390625 6.453125 52.828125 \nL 14.9375 52.828125 \nQ 14.984375 52.6875 15.0625 51.796875 \nQ 15.140625 50.921875 15.203125 49.671875 \nQ 15.28125 48.4375 15.359375 47.015625 \nQ 15.4375 45.609375 15.4375 44.34375 \nL 15.625 44.34375 \nQ 16.84375 46.875 18.40625 48.65625 \nQ 19.96875 50.4375 21.96875 51.578125 \nQ 23.96875 52.734375 26.4375 53.25 \nQ 28.90625 53.765625 31.984375 53.765625 \nQ 37.453125 53.765625 41.1875 51.8125 \nQ 44.921875 49.859375 47.1875 46.3125 \nQ 49.46875 42.78125 50.4375 37.765625 \nQ 51.421875 32.765625 51.421875 26.65625 \nz\nM 42.1875 26.46875 \nQ 42.1875 31.34375 41.59375 35.15625 \nQ 41.015625 38.96875 39.578125 41.59375 \nQ 38.140625 44.234375 35.734375 45.59375 \nQ 33.34375 46.96875 29.734375 46.96875 \nQ 26.8125 46.96875 24.21875 46.140625 \nQ 21.625 45.3125 19.703125 42.96875 \nQ 17.78125 40.625 16.65625 36.5 \nQ 15.53125 32.375 15.53125 25.78125 \nQ 15.53125 20.171875 16.453125 16.28125 \nQ 17.390625 12.40625 19.171875 10.015625 \nQ 20.953125 7.625 23.578125 6.5625 \nQ 26.21875 5.515625 29.640625 5.515625 \nQ 33.296875 5.515625 35.71875 6.921875 \nQ 38.140625 8.34375 39.578125 11.03125 \nQ 41.015625 13.71875 41.59375 17.59375 \nQ 42.1875 21.484375 42.1875 26.46875 \nz\n\" id=\"LiberationSans-112\"/>\n      <path d=\"M 38.671875 62.203125 \nQ 32.8125 62.203125 28.296875 60.25 \nQ 23.78125 58.296875 20.71875 54.6875 \nQ 17.671875 51.078125 16.109375 46 \nQ 14.546875 40.921875 14.546875 34.71875 \nQ 14.546875 28.515625 16.234375 23.359375 \nQ 17.921875 18.21875 21.0625 14.5 \nQ 24.21875 10.796875 28.78125 8.734375 \nQ 33.34375 6.6875 39.0625 6.6875 \nQ 43.0625 6.6875 46.359375 7.734375 \nQ 49.65625 8.796875 52.3125 10.6875 \nQ 54.984375 12.59375 57.078125 15.203125 \nQ 59.1875 17.828125 60.796875 21 \nL 68.40625 17.1875 \nQ 66.546875 13.328125 63.8125 10 \nQ 61.078125 6.6875 57.390625 4.25 \nQ 53.71875 1.8125 49.046875 0.40625 \nQ 44.390625 -0.984375 38.625 -0.984375 \nQ 30.28125 -0.984375 24 1.671875 \nQ 17.71875 4.34375 13.5 9.109375 \nQ 9.28125 13.875 7.171875 20.40625 \nQ 5.078125 26.953125 5.078125 34.71875 \nQ 5.078125 42.78125 7.296875 49.265625 \nQ 9.515625 55.765625 13.78125 60.328125 \nQ 18.0625 64.890625 24.3125 67.359375 \nQ 30.5625 69.828125 38.578125 69.828125 \nQ 49.5625 69.828125 56.9375 65.53125 \nQ 64.3125 61.234375 67.78125 52.78125 \nL 58.9375 49.859375 \nQ 57.953125 52.296875 56.296875 54.515625 \nQ 54.640625 56.734375 52.140625 58.4375 \nQ 49.65625 60.15625 46.3125 61.171875 \nQ 42.96875 62.203125 38.671875 62.203125 \nz\n\" id=\"LiberationSans-67\"/>\n      <path d=\"M 35.15625 61.1875 \nL 35.15625 0 \nL 25.875 0 \nL 25.875 61.1875 \nL 2.25 61.1875 \nL 2.25 68.796875 \nL 58.796875 68.796875 \nL 58.796875 61.1875 \nz\n\" id=\"LiberationSans-84\"/>\n      <path d=\"M 56.84375 0 \nL 38.96875 28.5625 \nL 17.53125 28.5625 \nL 17.53125 0 \nL 8.203125 0 \nL 8.203125 68.796875 \nL 40.578125 68.796875 \nQ 46.4375 68.796875 50.953125 67.453125 \nQ 55.46875 66.109375 58.546875 63.5625 \nQ 61.625 61.03125 63.234375 57.375 \nQ 64.84375 53.71875 64.84375 49.125 \nQ 64.84375 45.84375 63.890625 42.671875 \nQ 62.9375 39.5 60.890625 36.859375 \nQ 58.84375 34.234375 55.65625 32.328125 \nQ 52.484375 30.421875 48.046875 29.640625 \nL 67.578125 0 \nz\nM 55.46875 49.03125 \nQ 55.46875 52.15625 54.390625 54.4375 \nQ 53.328125 56.734375 51.265625 58.265625 \nQ 49.21875 59.8125 46.28125 60.5625 \nQ 43.359375 61.328125 39.65625 61.328125 \nL 17.53125 61.328125 \nL 17.53125 35.9375 \nL 40.046875 35.9375 \nQ 44.046875 35.9375 46.96875 36.9375 \nQ 49.90625 37.9375 51.78125 39.6875 \nQ 53.65625 41.453125 54.5625 43.84375 \nQ 55.46875 46.234375 55.46875 49.03125 \nz\n\" id=\"LiberationSans-82\"/>\n     </defs>\n     <g style=\"fill:#262626;\" transform=\"translate(215.296875 273.629687)scale(0.11 -0.11)\">\n      <use xlink:href=\"#LiberationSans-112\"/>\n      <use x=\"55.615234\" xlink:href=\"#LiberationSans-67\"/>\n      <use x=\"127.832031\" xlink:href=\"#LiberationSans-84\"/>\n      <use x=\"188.916016\" xlink:href=\"#LiberationSans-82\"/>\n     </g>\n    </g>\n   </g>\n   <g id=\"matplotlib.axis_2\">\n    <g id=\"ytick_1\">\n     <g id=\"line2d_7\">\n      <defs>\n       <path d=\"M 0 0 \nL -6 0 \n\" id=\"m647e22817a\" style=\"stroke:#262626;\"/>\n      </defs>\n      <g>\n       <use style=\"fill:#262626;stroke:#262626;\" x=\"62.25875\" xlink:href=\"#m647e22817a\" y=\"234.600758\"/>\n      </g>\n     </g>\n     <g id=\"text_8\">\n      <!-- 0 -->\n      <g style=\"fill:#262626;\" transform=\"translate(43.697813 238.224195)scale(0.1 -0.1)\">\n       <use xlink:href=\"#LiberationSans-48\"/>\n      </g>\n     </g>\n    </g>\n    <g id=\"ytick_2\">\n     <g id=\"line2d_8\">\n      <g>\n       <use style=\"fill:#262626;stroke:#262626;\" x=\"62.25875\" xlink:href=\"#m647e22817a\" y=\"205.876962\"/>\n      </g>\n     </g>\n     <g id=\"text_9\">\n      <!-- 2000 -->\n      <g style=\"fill:#262626;\" transform=\"translate(27.015 209.5004)scale(0.1 -0.1)\">\n       <use xlink:href=\"#LiberationSans-50\"/>\n       <use x=\"55.615234\" xlink:href=\"#LiberationSans-48\"/>\n       <use x=\"111.230469\" xlink:href=\"#LiberationSans-48\"/>\n       <use x=\"166.845703\" xlink:href=\"#LiberationSans-48\"/>\n      </g>\n     </g>\n    </g>\n    <g id=\"ytick_3\">\n     <g id=\"line2d_9\">\n      <g>\n       <use style=\"fill:#262626;stroke:#262626;\" x=\"62.25875\" xlink:href=\"#m647e22817a\" y=\"177.153167\"/>\n      </g>\n     </g>\n     <g id=\"text_10\">\n      <!-- 4000 -->\n      <g style=\"fill:#262626;\" transform=\"translate(27.015 180.776604)scale(0.1 -0.1)\">\n       <use xlink:href=\"#LiberationSans-52\"/>\n       <use x=\"55.615234\" xlink:href=\"#LiberationSans-48\"/>\n       <use x=\"111.230469\" xlink:href=\"#LiberationSans-48\"/>\n       <use x=\"166.845703\" xlink:href=\"#LiberationSans-48\"/>\n      </g>\n     </g>\n    </g>\n    <g id=\"ytick_4\">\n     <g id=\"line2d_10\">\n      <g>\n       <use style=\"fill:#262626;stroke:#262626;\" x=\"62.25875\" xlink:href=\"#m647e22817a\" y=\"148.429371\"/>\n      </g>\n     </g>\n     <g id=\"text_11\">\n      <!-- 6000 -->\n      <g style=\"fill:#262626;\" transform=\"translate(27.015 152.052809)scale(0.1 -0.1)\">\n       <use xlink:href=\"#LiberationSans-54\"/>\n       <use x=\"55.615234\" xlink:href=\"#LiberationSans-48\"/>\n       <use x=\"111.230469\" xlink:href=\"#LiberationSans-48\"/>\n       <use x=\"166.845703\" xlink:href=\"#LiberationSans-48\"/>\n      </g>\n     </g>\n    </g>\n    <g id=\"ytick_5\">\n     <g id=\"line2d_11\">\n      <g>\n       <use style=\"fill:#262626;stroke:#262626;\" x=\"62.25875\" xlink:href=\"#m647e22817a\" y=\"119.705576\"/>\n      </g>\n     </g>\n     <g id=\"text_12\">\n      <!-- 8000 -->\n      <g style=\"fill:#262626;\" transform=\"translate(27.015 123.329013)scale(0.1 -0.1)\">\n       <use xlink:href=\"#LiberationSans-56\"/>\n       <use x=\"55.615234\" xlink:href=\"#LiberationSans-48\"/>\n       <use x=\"111.230469\" xlink:href=\"#LiberationSans-48\"/>\n       <use x=\"166.845703\" xlink:href=\"#LiberationSans-48\"/>\n      </g>\n     </g>\n    </g>\n    <g id=\"ytick_6\">\n     <g id=\"line2d_12\">\n      <g>\n       <use style=\"fill:#262626;stroke:#262626;\" x=\"62.25875\" xlink:href=\"#m647e22817a\" y=\"90.98178\"/>\n      </g>\n     </g>\n     <g id=\"text_13\">\n      <!-- 10000 -->\n      <g style=\"fill:#262626;\" transform=\"translate(21.454063 94.605217)scale(0.1 -0.1)\">\n       <use xlink:href=\"#LiberationSans-49\"/>\n       <use x=\"55.615234\" xlink:href=\"#LiberationSans-48\"/>\n       <use x=\"111.230469\" xlink:href=\"#LiberationSans-48\"/>\n       <use x=\"166.845703\" xlink:href=\"#LiberationSans-48\"/>\n       <use x=\"222.460938\" xlink:href=\"#LiberationSans-48\"/>\n      </g>\n     </g>\n    </g>\n    <g id=\"ytick_7\">\n     <g id=\"line2d_13\">\n      <g>\n       <use style=\"fill:#262626;stroke:#262626;\" x=\"62.25875\" xlink:href=\"#m647e22817a\" y=\"62.257984\"/>\n      </g>\n     </g>\n     <g id=\"text_14\">\n      <!-- 12000 -->\n      <g style=\"fill:#262626;\" transform=\"translate(21.454063 65.881422)scale(0.1 -0.1)\">\n       <use xlink:href=\"#LiberationSans-49\"/>\n       <use x=\"55.615234\" xlink:href=\"#LiberationSans-50\"/>\n       <use x=\"111.230469\" xlink:href=\"#LiberationSans-48\"/>\n       <use x=\"166.845703\" xlink:href=\"#LiberationSans-48\"/>\n       <use x=\"222.460938\" xlink:href=\"#LiberationSans-48\"/>\n      </g>\n     </g>\n    </g>\n    <g id=\"ytick_8\">\n     <g id=\"line2d_14\">\n      <g>\n       <use style=\"fill:#262626;stroke:#262626;\" x=\"62.25875\" xlink:href=\"#m647e22817a\" y=\"33.534189\"/>\n      </g>\n     </g>\n     <g id=\"text_15\">\n      <!-- 14000 -->\n      <g style=\"fill:#262626;\" transform=\"translate(21.454063 37.157626)scale(0.1 -0.1)\">\n       <use xlink:href=\"#LiberationSans-49\"/>\n       <use x=\"55.615234\" xlink:href=\"#LiberationSans-52\"/>\n       <use x=\"111.230469\" xlink:href=\"#LiberationSans-48\"/>\n       <use x=\"166.845703\" xlink:href=\"#LiberationSans-48\"/>\n       <use x=\"222.460938\" xlink:href=\"#LiberationSans-48\"/>\n      </g>\n     </g>\n    </g>\n    <g id=\"text_16\">\n     <!-- Bid price -->\n     <defs>\n      <path d=\"M 61.421875 19.390625 \nQ 61.421875 14.15625 59.375 10.46875 \nQ 57.328125 6.78125 53.859375 4.46875 \nQ 50.390625 2.15625 45.796875 1.078125 \nQ 41.21875 0 36.140625 0 \nL 8.203125 0 \nL 8.203125 68.796875 \nL 33.203125 68.796875 \nQ 38.921875 68.796875 43.40625 67.84375 \nQ 47.90625 66.890625 51.03125 64.84375 \nQ 54.15625 62.796875 55.78125 59.640625 \nQ 57.421875 56.5 57.421875 52.09375 \nQ 57.421875 49.21875 56.609375 46.671875 \nQ 55.8125 44.140625 54.171875 42.0625 \nQ 52.546875 39.984375 50.078125 38.5 \nQ 47.609375 37.015625 44.34375 36.28125 \nQ 48.484375 35.796875 51.6875 34.375 \nQ 54.890625 32.953125 57.03125 30.75 \nQ 59.1875 28.5625 60.296875 25.65625 \nQ 61.421875 22.75 61.421875 19.390625 \nz\nM 48.046875 50.984375 \nQ 48.046875 56.546875 44.234375 58.9375 \nQ 40.4375 61.328125 33.203125 61.328125 \nL 17.53125 61.328125 \nL 17.53125 39.546875 \nL 33.203125 39.546875 \nQ 37.3125 39.546875 40.140625 40.34375 \nQ 42.96875 41.15625 44.71875 42.640625 \nQ 46.484375 44.140625 47.265625 46.234375 \nQ 48.046875 48.34375 48.046875 50.984375 \nz\nM 52 20.125 \nQ 52 23.390625 50.796875 25.6875 \nQ 49.609375 27.984375 47.359375 29.4375 \nQ 45.125 30.90625 41.96875 31.59375 \nQ 38.8125 32.28125 34.90625 32.28125 \nL 17.53125 32.28125 \nL 17.53125 7.46875 \nL 35.640625 7.46875 \nQ 39.203125 7.46875 42.203125 8.046875 \nQ 45.21875 8.640625 47.390625 10.109375 \nQ 49.5625 11.578125 50.78125 14.015625 \nQ 52 16.453125 52 20.125 \nz\n\" id=\"LiberationSans-66\"/>\n      <path d=\"M 6.6875 64.0625 \nL 6.6875 72.46875 \nL 15.484375 72.46875 \nL 15.484375 64.0625 \nz\nM 6.6875 0 \nL 6.6875 52.828125 \nL 15.484375 52.828125 \nL 15.484375 0 \nz\n\" id=\"LiberationSans-105\"/>\n      <path d=\"M 40.09375 8.5 \nQ 37.640625 3.421875 33.609375 1.21875 \nQ 29.59375 -0.984375 23.640625 -0.984375 \nQ 13.625 -0.984375 8.90625 5.75 \nQ 4.203125 12.5 4.203125 26.171875 \nQ 4.203125 53.8125 23.640625 53.8125 \nQ 29.640625 53.8125 33.640625 51.609375 \nQ 37.640625 49.421875 40.09375 44.625 \nL 40.1875 44.625 \nQ 40.1875 45.125 40.15625 46.171875 \nQ 40.140625 47.21875 40.109375 48.359375 \nQ 40.09375 49.515625 40.09375 50.53125 \nQ 40.09375 51.5625 40.09375 52 \nL 40.09375 72.46875 \nL 48.875 72.46875 \nL 48.875 10.890625 \nQ 48.875 8.984375 48.890625 7.21875 \nQ 48.921875 5.46875 48.96875 4 \nQ 49.03125 2.546875 49.078125 1.484375 \nQ 49.125 0.4375 49.171875 0 \nL 40.765625 0 \nQ 40.671875 0.484375 40.59375 1.390625 \nQ 40.53125 2.296875 40.453125 3.46875 \nQ 40.375 4.640625 40.328125 5.9375 \nQ 40.28125 7.234375 40.28125 8.5 \nz\nM 13.421875 26.46875 \nQ 13.421875 21 14.109375 17.09375 \nQ 14.796875 13.1875 16.3125 10.671875 \nQ 17.828125 8.15625 20.171875 6.984375 \nQ 22.515625 5.8125 25.875 5.8125 \nQ 29.34375 5.8125 32 6.9375 \nQ 34.671875 8.0625 36.453125 10.578125 \nQ 38.234375 13.09375 39.15625 17.140625 \nQ 40.09375 21.1875 40.09375 27.046875 \nQ 40.09375 32.671875 39.15625 36.546875 \nQ 38.234375 40.4375 36.421875 42.828125 \nQ 34.625 45.21875 32 46.265625 \nQ 29.390625 47.3125 25.984375 47.3125 \nQ 22.75 47.3125 20.40625 46.1875 \nQ 18.0625 45.0625 16.5 42.578125 \nQ 14.9375 40.09375 14.171875 36.109375 \nQ 13.421875 32.125 13.421875 26.46875 \nz\n\" id=\"LiberationSans-100\"/>\n      <path id=\"LiberationSans-32\"/>\n      <path d=\"M 6.9375 0 \nL 6.9375 40.53125 \nQ 6.9375 42.1875 6.90625 43.921875 \nQ 6.890625 45.65625 6.828125 47.265625 \nQ 6.78125 48.875 6.734375 50.28125 \nQ 6.6875 51.703125 6.640625 52.828125 \nL 14.9375 52.828125 \nQ 14.984375 51.703125 15.0625 50.265625 \nQ 15.140625 48.828125 15.203125 47.3125 \nQ 15.28125 45.796875 15.296875 44.40625 \nQ 15.328125 43.015625 15.328125 42.046875 \nL 15.53125 42.046875 \nQ 16.453125 45.0625 17.5 47.28125 \nQ 18.5625 49.515625 19.96875 50.953125 \nQ 21.390625 52.390625 23.34375 53.09375 \nQ 25.296875 53.8125 28.078125 53.8125 \nQ 29.15625 53.8125 30.125 53.640625 \nQ 31.109375 53.46875 31.640625 53.328125 \nL 31.640625 45.265625 \nQ 30.765625 45.515625 29.59375 45.625 \nQ 28.421875 45.75 26.953125 45.75 \nQ 23.921875 45.75 21.796875 44.375 \nQ 19.671875 43.015625 18.328125 40.59375 \nQ 17 38.1875 16.359375 34.84375 \nQ 15.71875 31.5 15.71875 27.546875 \nL 15.71875 0 \nz\n\" id=\"LiberationSans-114\"/>\n      <path d=\"M 13.421875 26.65625 \nQ 13.421875 22.125 14.078125 18.3125 \nQ 14.75 14.5 16.3125 11.734375 \nQ 17.875 8.984375 20.4375 7.46875 \nQ 23 5.953125 26.765625 5.953125 \nQ 31.453125 5.953125 34.59375 8.484375 \nQ 37.75 11.03125 38.484375 16.3125 \nL 47.359375 15.71875 \nQ 46.921875 12.453125 45.453125 9.421875 \nQ 44 6.390625 41.484375 4.09375 \nQ 38.96875 1.8125 35.34375 0.40625 \nQ 31.734375 -0.984375 27 -0.984375 \nQ 20.796875 -0.984375 16.453125 1.109375 \nQ 12.109375 3.21875 9.390625 6.90625 \nQ 6.6875 10.59375 5.46875 15.59375 \nQ 4.25 20.609375 4.25 26.46875 \nQ 4.25 31.78125 5.125 35.859375 \nQ 6 39.9375 7.59375 42.984375 \nQ 9.1875 46.046875 11.328125 48.125 \nQ 13.484375 50.203125 15.984375 51.4375 \nQ 18.5 52.6875 21.28125 53.25 \nQ 24.078125 53.8125 26.90625 53.8125 \nQ 31.34375 53.8125 34.8125 52.59375 \nQ 38.28125 51.375 40.796875 49.25 \nQ 43.3125 47.125 44.875 44.234375 \nQ 46.4375 41.359375 47.078125 38.03125 \nL 38.03125 37.359375 \nQ 37.359375 41.75 34.5625 44.328125 \nQ 31.78125 46.921875 26.65625 46.921875 \nQ 22.90625 46.921875 20.390625 45.671875 \nQ 17.875 44.4375 16.3125 41.921875 \nQ 14.75 39.40625 14.078125 35.59375 \nQ 13.421875 31.78125 13.421875 26.65625 \nz\n\" id=\"LiberationSans-99\"/>\n      <path d=\"M 13.484375 24.5625 \nQ 13.484375 20.40625 14.328125 16.90625 \nQ 15.1875 13.421875 16.96875 10.90625 \nQ 18.75 8.40625 21.53125 7 \nQ 24.3125 5.609375 28.21875 5.609375 \nQ 33.9375 5.609375 37.375 7.90625 \nQ 40.828125 10.203125 42.046875 13.71875 \nL 49.75 11.53125 \nQ 48.921875 9.328125 47.4375 7.109375 \nQ 45.953125 4.890625 43.453125 3.09375 \nQ 40.96875 1.3125 37.234375 0.15625 \nQ 33.5 -0.984375 28.21875 -0.984375 \nQ 16.5 -0.984375 10.375 6 \nQ 4.25 12.984375 4.25 26.765625 \nQ 4.25 34.1875 6.09375 39.328125 \nQ 7.953125 44.484375 11.171875 47.703125 \nQ 14.40625 50.921875 18.703125 52.359375 \nQ 23 53.8125 27.875 53.8125 \nQ 34.515625 53.8125 38.984375 51.65625 \nQ 43.453125 49.515625 46.15625 45.71875 \nQ 48.875 41.9375 50.015625 36.8125 \nQ 51.171875 31.6875 51.171875 25.734375 \nL 51.171875 24.5625 \nz\nM 42.09375 31.296875 \nQ 41.359375 39.65625 37.84375 43.484375 \nQ 34.328125 47.3125 27.734375 47.3125 \nQ 25.53125 47.3125 23.109375 46.609375 \nQ 20.703125 45.90625 18.65625 44.09375 \nQ 16.609375 42.28125 15.1875 39.171875 \nQ 13.765625 36.078125 13.578125 31.296875 \nz\n\" id=\"LiberationSans-101\"/>\n     </defs>\n     <g style=\"fill:#262626;\" transform=\"translate(15.171563 152.013828)rotate(-90)scale(0.11 -0.11)\">\n      <use xlink:href=\"#LiberationSans-66\"/>\n      <use x=\"66.699219\" xlink:href=\"#LiberationSans-105\"/>\n      <use x=\"88.916016\" xlink:href=\"#LiberationSans-100\"/>\n      <use x=\"144.53125\" xlink:href=\"#LiberationSans-32\"/>\n      <use x=\"172.314453\" xlink:href=\"#LiberationSans-112\"/>\n      <use x=\"227.929688\" xlink:href=\"#LiberationSans-114\"/>\n      <use x=\"261.230469\" xlink:href=\"#LiberationSans-105\"/>\n      <use x=\"283.447266\" xlink:href=\"#LiberationSans-99\"/>\n      <use x=\"333.447266\" xlink:href=\"#LiberationSans-101\"/>\n     </g>\n    </g>\n   </g>\n   <g id=\"line2d_15\">\n    <path clip-path=\"url(#pce101a4ec2)\" d=\"M 77.476932 229.452614 \nL 83.688435 225.35505 \nL 89.899937 222.535753 \nL 96.11144 220.244552 \nL 102.322943 218.263554 \nL 108.534446 216.493046 \nL 114.745949 214.877479 \nL 120.957451 213.382138 \nL 127.168954 211.983611 \nL 133.380457 210.665221 \nL 139.59196 209.414593 \nL 145.803462 208.222243 \nL 152.014965 207.08071 \nL 158.226468 205.984003 \nL 164.437971 204.927223 \nL 170.649474 203.906303 \nL 176.860976 202.917822 \nL 183.072479 201.958871 \nL 189.283982 201.026953 \nL 195.495485 200.119902 \nL 201.706987 199.235828 \nL 207.91849 198.373069 \nL 214.129993 197.530153 \nL 220.341496 196.705771 \nL 226.552999 195.898752 \nL 232.764501 195.108043 \nL 238.976004 194.332693 \nL 245.187507 193.57184 \nL 251.39901 192.824701 \nL 257.610513 192.09056 \nL 263.822015 191.36876 \nL 270.033518 190.658701 \nL 276.245021 189.959826 \nL 282.456524 189.271623 \nL 288.668026 188.593619 \nL 294.879529 187.925372 \nL 301.091032 187.266473 \nL 307.302535 186.61654 \nL 313.514038 185.975218 \nL 319.72554 185.342172 \nL 325.937043 184.71709 \nL 332.148546 184.099679 \nL 338.360049 183.489664 \nL 344.571551 182.886784 \nL 350.783054 182.290796 \nL 356.994557 181.701467 \nL 363.20606 181.11858 \nL 369.417563 180.541928 \nL 375.629065 179.971315 \nL 381.840568 179.406555 \n\" style=\"fill:none;stroke:#4c72b0;stroke-linecap:round;stroke-width:1.75;\"/>\n   </g>\n   <g id=\"line2d_16\">\n    <path clip-path=\"url(#pce101a4ec2)\" d=\"M 77.476932 228.102088 \nL 83.688435 222.818208 \nL 89.899937 219.180373 \nL 96.11144 216.223436 \nL 102.322943 213.666616 \nL 108.534446 211.381355 \nL 114.745949 209.296012 \nL 120.957451 207.365809 \nL 127.168954 205.560542 \nL 133.380457 203.858696 \nL 139.59196 202.244302 \nL 145.803462 200.705122 \nL 152.014965 199.231532 \nL 158.226468 197.815797 \nL 164.437971 196.451597 \nL 170.649474 195.133681 \nL 176.860976 193.857637 \nL 183.072479 192.619709 \nL 189.283982 191.416674 \nL 195.495485 190.245738 \nL 201.706987 189.10446 \nL 207.91849 187.990695 \nL 214.129993 186.902544 \nL 220.341496 185.838317 \nL 226.552999 184.796503 \nL 232.764501 183.775742 \nL 238.976004 182.774808 \nL 245.187507 181.792587 \nL 251.39901 180.828069 \nL 257.610513 179.880329 \nL 263.822015 178.948521 \nL 270.033518 178.031867 \nL 276.245021 177.129651 \nL 282.456524 176.241212 \nL 288.668026 175.365938 \nL 294.879529 174.503259 \nL 301.091032 173.652647 \nL 307.302535 172.813611 \nL 313.514038 171.985688 \nL 319.72554 171.16845 \nL 325.937043 170.361493 \nL 332.148546 169.564439 \nL 338.360049 168.776931 \nL 344.571551 167.998634 \nL 350.783054 167.229233 \nL 356.994557 166.46843 \nL 363.20606 165.715943 \nL 369.417563 164.971504 \nL 375.629065 164.234861 \nL 381.840568 163.505773 \n\" style=\"fill:none;stroke:#55a868;stroke-linecap:round;stroke-width:1.75;\"/>\n   </g>\n   <g id=\"line2d_17\">\n    <path clip-path=\"url(#pce101a4ec2)\" d=\"M 77.476932 214.575174 \nL 83.688435 199.588051 \nL 89.899937 189.285787 \nL 96.11144 180.915439 \nL 102.322943 173.679236 \nL 108.534446 167.21239 \nL 114.745949 161.311757 \nL 120.957451 155.85042 \nL 127.168954 150.742801 \nL 133.380457 145.927954 \nL 139.59196 141.36065 \nL 145.803462 137.006231 \nL 152.014965 132.837443 \nL 158.226468 128.832394 \nL 164.437971 124.973183 \nL 170.649474 121.244952 \nL 176.860976 117.635206 \nL 183.072479 114.133318 \nL 189.283982 110.730163 \nL 195.495485 107.417831 \nL 201.706987 104.189418 \nL 207.91849 101.038851 \nL 214.129993 97.960756 \nL 220.341496 94.950351 \nL 226.552999 92.003358 \nL 232.764501 89.11593 \nL 238.976004 86.284596 \nL 245.187507 83.506207 \nL 251.39901 80.777901 \nL 257.610513 78.097063 \nL 263.822015 75.461298 \nL 270.033518 72.868406 \nL 276.245021 70.316362 \nL 282.456524 67.803292 \nL 288.668026 65.327465 \nL 294.879529 62.887272 \nL 301.091032 60.481218 \nL 307.302535 58.107908 \nL 313.514038 55.76604 \nL 319.72554 53.454398 \nL 325.937043 51.17184 \nL 332.148546 48.917296 \nL 338.360049 46.689759 \nL 344.571551 44.48828 \nL 350.783054 42.311966 \nL 356.994557 40.159974 \nL 363.20606 38.031505 \nL 369.417563 35.925805 \nL 375.629065 33.842158 \nL 381.840568 31.779886 \n\" style=\"fill:none;stroke:#c44e52;stroke-linecap:round;stroke-width:1.75;\"/>\n   </g>\n   <g id=\"patch_3\">\n    <path d=\"M 62.25875 239.33625 \nL 62.25875 21.89625 \n\" style=\"fill:none;stroke:#262626;stroke-linecap:square;stroke-linejoin:miter;stroke-width:1.25;\"/>\n   </g>\n   <g id=\"patch_4\">\n    <path d=\"M 62.25875 239.33625 \nL 397.05875 239.33625 \n\" style=\"fill:none;stroke:#262626;stroke-linecap:square;stroke-linejoin:miter;stroke-width:1.25;\"/>\n   </g>\n   <g id=\"text_17\">\n    <!-- Non linear bidding strategy ORTB1 -->\n    <defs>\n     <path d=\"M 52.828125 0 \nL 16.015625 58.59375 \nQ 16.109375 56.203125 16.265625 53.859375 \nQ 16.359375 51.859375 16.421875 49.625 \nQ 16.5 47.40625 16.5 45.703125 \nL 16.5 0 \nL 8.203125 0 \nL 8.203125 68.796875 \nL 19.046875 68.796875 \nL 56.25 9.8125 \nQ 56.109375 12.203125 55.953125 14.59375 \nQ 55.859375 16.65625 55.765625 19.0625 \nQ 55.671875 21.484375 55.671875 23.6875 \nL 55.671875 68.796875 \nL 64.0625 68.796875 \nL 64.0625 0 \nz\n\" id=\"LiberationSans-78\"/>\n     <path d=\"M 51.421875 26.46875 \nQ 51.421875 12.59375 45.3125 5.796875 \nQ 39.203125 -0.984375 27.59375 -0.984375 \nQ 22.078125 -0.984375 17.71875 0.671875 \nQ 13.375 2.34375 10.375 5.765625 \nQ 7.375 9.1875 5.78125 14.328125 \nQ 4.203125 19.484375 4.203125 26.46875 \nQ 4.203125 53.8125 27.875 53.8125 \nQ 34.03125 53.8125 38.5 52.09375 \nQ 42.96875 50.390625 45.828125 46.96875 \nQ 48.6875 43.5625 50.046875 38.421875 \nQ 51.421875 33.296875 51.421875 26.46875 \nz\nM 42.1875 26.46875 \nQ 42.1875 32.625 41.234375 36.625 \nQ 40.28125 40.625 38.453125 43.015625 \nQ 36.625 45.40625 33.984375 46.359375 \nQ 31.34375 47.3125 28.03125 47.3125 \nQ 24.65625 47.3125 21.9375 46.3125 \nQ 19.234375 45.3125 17.328125 42.890625 \nQ 15.4375 40.484375 14.421875 36.46875 \nQ 13.421875 32.46875 13.421875 26.46875 \nQ 13.421875 20.3125 14.5 16.28125 \nQ 15.578125 12.25 17.453125 9.859375 \nQ 19.34375 7.46875 21.90625 6.484375 \nQ 24.46875 5.515625 27.484375 5.515625 \nQ 30.859375 5.515625 33.59375 6.46875 \nQ 36.328125 7.421875 38.234375 9.8125 \nQ 40.140625 12.203125 41.15625 16.25 \nQ 42.1875 20.3125 42.1875 26.46875 \nz\n\" id=\"LiberationSans-111\"/>\n     <path d=\"M 40.28125 0 \nL 40.28125 33.5 \nQ 40.28125 37.359375 39.71875 39.9375 \nQ 39.15625 42.53125 37.890625 44.109375 \nQ 36.625 45.703125 34.546875 46.359375 \nQ 32.46875 47.015625 29.390625 47.015625 \nQ 26.265625 47.015625 23.75 45.921875 \nQ 21.234375 44.828125 19.453125 42.75 \nQ 17.671875 40.671875 16.6875 37.625 \nQ 15.71875 34.578125 15.71875 30.609375 \nL 15.71875 0 \nL 6.9375 0 \nL 6.9375 41.546875 \nQ 6.9375 43.21875 6.90625 45.046875 \nQ 6.890625 46.875 6.828125 48.5 \nQ 6.78125 50.140625 6.734375 51.3125 \nQ 6.6875 52.484375 6.640625 52.828125 \nL 14.9375 52.828125 \nQ 14.984375 52.59375 15.03125 51.515625 \nQ 15.09375 50.4375 15.15625 49.046875 \nQ 15.234375 47.65625 15.28125 46.21875 \nQ 15.328125 44.78125 15.328125 43.796875 \nL 15.484375 43.796875 \nQ 16.75 46.09375 18.265625 47.953125 \nQ 19.78125 49.8125 21.78125 51.09375 \nQ 23.78125 52.390625 26.359375 53.09375 \nQ 28.953125 53.8125 32.375 53.8125 \nQ 36.765625 53.8125 39.9375 52.734375 \nQ 43.109375 51.65625 45.15625 49.40625 \nQ 47.21875 47.171875 48.171875 43.625 \nQ 49.125 40.09375 49.125 35.203125 \nL 49.125 0 \nz\n\" id=\"LiberationSans-110\"/>\n     <path d=\"M 6.734375 0 \nL 6.734375 72.46875 \nL 15.53125 72.46875 \nL 15.53125 0 \nz\n\" id=\"LiberationSans-108\"/>\n     <path d=\"M 20.21875 -0.984375 \nQ 12.25 -0.984375 8.25 3.21875 \nQ 4.25 7.421875 4.25 14.75 \nQ 4.25 19.96875 6.21875 23.3125 \nQ 8.203125 26.65625 11.390625 28.5625 \nQ 14.59375 30.46875 18.6875 31.203125 \nQ 22.796875 31.9375 27.046875 32.03125 \nL 38.921875 32.234375 \nL 38.921875 35.109375 \nQ 38.921875 38.375 38.234375 40.671875 \nQ 37.546875 42.96875 36.125 44.375 \nQ 34.71875 45.796875 32.59375 46.453125 \nQ 30.46875 47.125 27.59375 47.125 \nQ 25.046875 47.125 23 46.75 \nQ 20.953125 46.390625 19.4375 45.4375 \nQ 17.921875 44.484375 16.984375 42.84375 \nQ 16.0625 41.21875 15.765625 38.71875 \nL 6.59375 39.546875 \nQ 7.078125 42.671875 8.4375 45.28125 \nQ 9.8125 47.90625 12.328125 49.796875 \nQ 14.84375 51.703125 18.625 52.75 \nQ 22.40625 53.8125 27.78125 53.8125 \nQ 37.75 53.8125 42.765625 49.234375 \nQ 47.796875 44.671875 47.796875 36.03125 \nL 47.796875 13.28125 \nQ 47.796875 9.375 48.828125 7.390625 \nQ 49.859375 5.421875 52.734375 5.421875 \nQ 53.46875 5.421875 54.203125 5.515625 \nQ 54.9375 5.609375 55.609375 5.765625 \nL 55.609375 0.296875 \nQ 53.953125 -0.09375 52.3125 -0.28125 \nQ 50.6875 -0.484375 48.828125 -0.484375 \nQ 46.34375 -0.484375 44.5625 0.171875 \nQ 42.78125 0.828125 41.65625 2.171875 \nQ 40.53125 3.515625 39.9375 5.484375 \nQ 39.359375 7.46875 39.203125 10.109375 \nL 38.921875 10.109375 \nQ 37.5 7.5625 35.8125 5.515625 \nQ 34.125 3.46875 31.875 2.03125 \nQ 29.640625 0.59375 26.78125 -0.1875 \nQ 23.921875 -0.984375 20.21875 -0.984375 \nz\nM 22.21875 5.609375 \nQ 26.421875 5.609375 29.5625 7.140625 \nQ 32.71875 8.6875 34.78125 11.078125 \nQ 36.859375 13.484375 37.890625 16.3125 \nQ 38.921875 19.140625 38.921875 21.734375 \nL 38.921875 26.078125 \nL 29.296875 25.875 \nQ 26.078125 25.828125 23.171875 25.40625 \nQ 20.265625 25 18.0625 23.78125 \nQ 15.875 22.5625 14.578125 20.359375 \nQ 13.28125 18.171875 13.28125 14.59375 \nQ 13.28125 10.296875 15.59375 7.953125 \nQ 17.921875 5.609375 22.21875 5.609375 \nz\n\" id=\"LiberationSans-97\"/>\n     <path d=\"M 51.421875 26.65625 \nQ 51.421875 -0.984375 31.984375 -0.984375 \nQ 25.984375 -0.984375 22 1.1875 \nQ 18.015625 3.375 15.53125 8.203125 \nL 15.4375 8.203125 \nQ 15.4375 6.9375 15.359375 5.5625 \nQ 15.28125 4.203125 15.203125 3.03125 \nQ 15.140625 1.859375 15.0625 1.03125 \nQ 14.984375 0.203125 14.9375 0 \nL 6.453125 0 \nQ 6.5 0.4375 6.546875 1.484375 \nQ 6.59375 2.546875 6.640625 4 \nQ 6.6875 5.46875 6.703125 7.21875 \nQ 6.734375 8.984375 6.734375 10.890625 \nL 6.734375 72.46875 \nL 15.53125 72.46875 \nL 15.53125 51.8125 \nQ 15.53125 50.34375 15.5 49 \nQ 15.484375 47.65625 15.4375 46.625 \nQ 15.375 45.40625 15.328125 44.34375 \nL 15.53125 44.34375 \nQ 17.96875 49.421875 22 51.609375 \nQ 26.03125 53.8125 31.984375 53.8125 \nQ 42 53.8125 46.703125 47.0625 \nQ 51.421875 40.328125 51.421875 26.65625 \nz\nM 42.1875 26.375 \nQ 42.1875 31.84375 41.5 35.75 \nQ 40.828125 39.65625 39.3125 42.15625 \nQ 37.796875 44.671875 35.453125 45.84375 \nQ 33.109375 47.015625 29.734375 47.015625 \nQ 26.265625 47.015625 23.609375 45.890625 \nQ 20.953125 44.78125 19.171875 42.28125 \nQ 17.390625 39.796875 16.453125 35.734375 \nQ 15.53125 31.6875 15.53125 25.828125 \nQ 15.53125 20.171875 16.453125 16.3125 \nQ 17.390625 12.453125 19.171875 10.03125 \nQ 20.953125 7.625 23.578125 6.5625 \nQ 26.21875 5.515625 29.640625 5.515625 \nQ 32.859375 5.515625 35.203125 6.640625 \nQ 37.546875 7.765625 39.109375 10.25 \nQ 40.671875 12.75 41.421875 16.71875 \nQ 42.1875 20.703125 42.1875 26.375 \nz\n\" id=\"LiberationSans-98\"/>\n     <path d=\"M 26.765625 -20.75 \nQ 22.21875 -20.75 18.703125 -19.8125 \nQ 15.1875 -18.890625 12.6875 -17.15625 \nQ 10.203125 -15.4375 8.640625 -13.03125 \nQ 7.078125 -10.640625 6.390625 -7.71875 \nL 15.234375 -6.453125 \nQ 16.109375 -10.109375 19.109375 -12.078125 \nQ 22.125 -14.0625 27 -14.0625 \nQ 29.984375 -14.0625 32.421875 -13.234375 \nQ 34.859375 -12.40625 36.5625 -10.5625 \nQ 38.28125 -8.734375 39.203125 -5.796875 \nQ 40.140625 -2.875 40.140625 1.3125 \nL 40.140625 9.8125 \nL 40.046875 9.8125 \nQ 39.0625 7.8125 37.625 5.984375 \nQ 36.1875 4.15625 34.109375 2.734375 \nQ 32.03125 1.3125 29.296875 0.453125 \nQ 26.5625 -0.390625 23.046875 -0.390625 \nQ 18.015625 -0.390625 14.421875 1.296875 \nQ 10.84375 2.984375 8.5625 6.34375 \nQ 6.296875 9.71875 5.25 14.71875 \nQ 4.203125 19.734375 4.203125 26.3125 \nQ 4.203125 32.671875 5.25 37.75 \nQ 6.296875 42.828125 8.65625 46.359375 \nQ 11.03125 49.90625 14.8125 51.78125 \nQ 18.609375 53.65625 24.03125 53.65625 \nQ 29.640625 53.65625 33.765625 51.09375 \nQ 37.890625 48.53125 40.140625 43.796875 \nL 40.234375 43.796875 \nQ 40.234375 45.015625 40.296875 46.53125 \nQ 40.375 48.046875 40.453125 49.390625 \nQ 40.53125 50.734375 40.625 51.703125 \nQ 40.71875 52.6875 40.828125 52.828125 \nL 49.171875 52.828125 \nQ 49.125 52.390625 49.078125 51.34375 \nQ 49.03125 50.296875 48.96875 48.828125 \nQ 48.921875 47.359375 48.890625 45.578125 \nQ 48.875 43.796875 48.875 41.890625 \nL 48.875 1.515625 \nQ 48.875 -9.578125 43.421875 -15.15625 \nQ 37.984375 -20.75 26.765625 -20.75 \nz\nM 40.140625 26.421875 \nQ 40.140625 31.9375 38.9375 35.859375 \nQ 37.75 39.796875 35.796875 42.28125 \nQ 33.84375 44.78125 31.328125 45.953125 \nQ 28.8125 47.125 26.171875 47.125 \nQ 22.796875 47.125 20.375 45.953125 \nQ 17.96875 44.78125 16.375 42.265625 \nQ 14.796875 39.75 14.03125 35.8125 \nQ 13.28125 31.890625 13.28125 26.421875 \nQ 13.28125 20.703125 14.03125 16.8125 \nQ 14.796875 12.9375 16.359375 10.546875 \nQ 17.921875 8.15625 20.3125 7.125 \nQ 22.703125 6.109375 26.03125 6.109375 \nQ 28.65625 6.109375 31.171875 7.21875 \nQ 33.6875 8.34375 35.6875 10.78125 \nQ 37.703125 13.234375 38.921875 17.09375 \nQ 40.140625 20.953125 40.140625 26.421875 \nz\n\" id=\"LiberationSans-103\"/>\n     <path d=\"M 46.390625 14.59375 \nQ 46.390625 10.890625 44.9375 7.984375 \nQ 43.5 5.078125 40.765625 3.09375 \nQ 38.03125 1.125 34.046875 0.0625 \nQ 30.078125 -0.984375 24.953125 -0.984375 \nQ 20.359375 -0.984375 16.671875 -0.265625 \nQ 12.984375 0.4375 10.203125 2 \nQ 7.421875 3.5625 5.53125 6.125 \nQ 3.65625 8.6875 2.78125 12.40625 \nL 10.546875 13.921875 \nQ 11.671875 9.671875 15.1875 7.6875 \nQ 18.703125 5.71875 24.953125 5.71875 \nQ 27.78125 5.71875 30.140625 6.109375 \nQ 32.515625 6.5 34.21875 7.453125 \nQ 35.9375 8.40625 36.890625 9.984375 \nQ 37.84375 11.578125 37.84375 13.921875 \nQ 37.84375 16.3125 36.71875 17.84375 \nQ 35.59375 19.390625 33.59375 20.40625 \nQ 31.59375 21.4375 28.734375 22.1875 \nQ 25.875 22.953125 22.46875 23.875 \nQ 19.28125 24.703125 16.15625 25.734375 \nQ 13.03125 26.765625 10.515625 28.4375 \nQ 8.015625 30.125 6.453125 32.609375 \nQ 4.890625 35.109375 4.890625 38.875 \nQ 4.890625 46.09375 10.03125 49.875 \nQ 15.1875 53.65625 25.046875 53.65625 \nQ 33.796875 53.65625 38.9375 50.578125 \nQ 44.09375 47.515625 45.453125 40.71875 \nL 37.546875 39.75 \nQ 37.109375 41.796875 35.9375 43.1875 \nQ 34.765625 44.578125 33.109375 45.4375 \nQ 31.453125 46.296875 29.375 46.65625 \nQ 27.296875 47.015625 25.046875 47.015625 \nQ 19.09375 47.015625 16.25 45.203125 \nQ 13.421875 43.40625 13.421875 39.75 \nQ 13.421875 37.59375 14.46875 36.203125 \nQ 15.53125 34.8125 17.40625 33.859375 \nQ 19.28125 32.90625 21.921875 32.203125 \nQ 24.5625 31.5 27.734375 30.71875 \nQ 29.828125 30.171875 32.03125 29.5625 \nQ 34.234375 28.953125 36.296875 28.09375 \nQ 38.375 27.25 40.203125 26.09375 \nQ 42.046875 24.953125 43.40625 23.34375 \nQ 44.78125 21.734375 45.578125 19.578125 \nQ 46.390625 17.4375 46.390625 14.59375 \nz\n\" id=\"LiberationSans-115\"/>\n     <path d=\"M 27.046875 0.390625 \nQ 25.046875 -0.140625 22.96875 -0.453125 \nQ 20.90625 -0.78125 18.171875 -0.78125 \nQ 7.625 -0.78125 7.625 11.1875 \nL 7.625 46.4375 \nL 1.515625 46.4375 \nL 1.515625 52.828125 \nL 7.953125 52.828125 \nL 10.546875 64.65625 \nL 16.40625 64.65625 \nL 16.40625 52.828125 \nL 26.171875 52.828125 \nL 26.171875 46.4375 \nL 16.40625 46.4375 \nL 16.40625 13.09375 \nQ 16.40625 9.28125 17.640625 7.734375 \nQ 18.890625 6.203125 21.96875 6.203125 \nQ 23.25 6.203125 24.4375 6.390625 \nQ 25.640625 6.59375 27.046875 6.890625 \nz\n\" id=\"LiberationSans-116\"/>\n     <path d=\"M 29.5 0 \nQ 27.640625 -4.78125 25.703125 -8.609375 \nQ 23.78125 -12.453125 21.390625 -15.15625 \nQ 19 -17.875 16.0625 -19.3125 \nQ 13.140625 -20.75 9.328125 -20.75 \nQ 7.671875 -20.75 6.25 -20.65625 \nQ 4.828125 -20.5625 3.265625 -20.21875 \nL 3.265625 -13.625 \nQ 4.203125 -13.765625 5.375 -13.84375 \nQ 6.546875 -13.921875 7.375 -13.921875 \nQ 11.234375 -13.921875 14.546875 -11.03125 \nQ 17.875 -8.15625 20.359375 -1.859375 \nL 21.1875 0.25 \nL 0.25 52.828125 \nL 9.625 52.828125 \nL 20.75 23.640625 \nQ 21.234375 22.3125 21.984375 20.109375 \nQ 22.75 17.921875 23.5 15.71875 \nQ 24.265625 13.53125 24.84375 11.765625 \nQ 25.4375 10.015625 25.53125 9.578125 \nQ 25.6875 10.109375 26.25 11.6875 \nQ 26.8125 13.28125 27.515625 15.234375 \nQ 28.21875 17.1875 28.953125 19.1875 \nQ 29.6875 21.1875 30.171875 22.65625 \nL 40.53125 52.828125 \nL 49.8125 52.828125 \nz\n\" id=\"LiberationSans-121\"/>\n     <path d=\"M 73 34.71875 \nQ 73 26.65625 70.671875 20.0625 \nQ 68.359375 13.484375 63.96875 8.796875 \nQ 59.578125 4.109375 53.21875 1.5625 \nQ 46.875 -0.984375 38.8125 -0.984375 \nQ 30.328125 -0.984375 23.921875 1.671875 \nQ 17.53125 4.34375 13.28125 9.109375 \nQ 9.03125 13.875 6.875 20.40625 \nQ 4.734375 26.953125 4.734375 34.71875 \nQ 4.734375 42.78125 6.984375 49.265625 \nQ 9.234375 55.765625 13.578125 60.328125 \nQ 17.921875 64.890625 24.296875 67.359375 \nQ 30.671875 69.828125 38.921875 69.828125 \nQ 47.125 69.828125 53.484375 67.328125 \nQ 59.859375 64.84375 64.171875 60.25 \nQ 68.5 55.671875 70.75 49.171875 \nQ 73 42.671875 73 34.71875 \nz\nM 63.484375 34.71875 \nQ 63.484375 40.921875 61.890625 46 \nQ 60.296875 51.078125 57.203125 54.6875 \nQ 54.109375 58.296875 49.515625 60.25 \nQ 44.921875 62.203125 38.921875 62.203125 \nQ 32.765625 62.203125 28.125 60.25 \nQ 23.484375 58.296875 20.375 54.6875 \nQ 17.28125 51.078125 15.734375 46 \nQ 14.203125 40.921875 14.203125 34.71875 \nQ 14.203125 28.515625 15.796875 23.359375 \nQ 17.390625 18.21875 20.484375 14.484375 \nQ 23.578125 10.75 28.1875 8.671875 \nQ 32.8125 6.59375 38.8125 6.59375 \nQ 45.265625 6.59375 49.921875 8.6875 \nQ 54.59375 10.796875 57.59375 14.53125 \nQ 60.59375 18.265625 62.03125 23.4375 \nQ 63.484375 28.609375 63.484375 34.71875 \nz\n\" id=\"LiberationSans-79\"/>\n    </defs>\n    <g style=\"fill:#262626;\" transform=\"translate(136.618437 15.89625)scale(0.12 -0.12)\">\n     <use xlink:href=\"#LiberationSans-78\"/>\n     <use x=\"72.216797\" xlink:href=\"#LiberationSans-111\"/>\n     <use x=\"127.832031\" xlink:href=\"#LiberationSans-110\"/>\n     <use x=\"183.447266\" xlink:href=\"#LiberationSans-32\"/>\n     <use x=\"211.230469\" xlink:href=\"#LiberationSans-108\"/>\n     <use x=\"233.447266\" xlink:href=\"#LiberationSans-105\"/>\n     <use x=\"255.664062\" xlink:href=\"#LiberationSans-110\"/>\n     <use x=\"311.279297\" xlink:href=\"#LiberationSans-101\"/>\n     <use x=\"366.894531\" xlink:href=\"#LiberationSans-97\"/>\n     <use x=\"422.509766\" xlink:href=\"#LiberationSans-114\"/>\n     <use x=\"455.810547\" xlink:href=\"#LiberationSans-32\"/>\n     <use x=\"483.59375\" xlink:href=\"#LiberationSans-98\"/>\n     <use x=\"539.208984\" xlink:href=\"#LiberationSans-105\"/>\n     <use x=\"561.425781\" xlink:href=\"#LiberationSans-100\"/>\n     <use x=\"617.041016\" xlink:href=\"#LiberationSans-100\"/>\n     <use x=\"672.65625\" xlink:href=\"#LiberationSans-105\"/>\n     <use x=\"694.873047\" xlink:href=\"#LiberationSans-110\"/>\n     <use x=\"750.488281\" xlink:href=\"#LiberationSans-103\"/>\n     <use x=\"806.103516\" xlink:href=\"#LiberationSans-32\"/>\n     <use x=\"833.886719\" xlink:href=\"#LiberationSans-115\"/>\n     <use x=\"883.886719\" xlink:href=\"#LiberationSans-116\"/>\n     <use x=\"911.669922\" xlink:href=\"#LiberationSans-114\"/>\n     <use x=\"944.970703\" xlink:href=\"#LiberationSans-97\"/>\n     <use x=\"1000.585938\" xlink:href=\"#LiberationSans-116\"/>\n     <use x=\"1028.369141\" xlink:href=\"#LiberationSans-101\"/>\n     <use x=\"1083.984375\" xlink:href=\"#LiberationSans-103\"/>\n     <use x=\"1139.599609\" xlink:href=\"#LiberationSans-121\"/>\n     <use x=\"1189.599609\" xlink:href=\"#LiberationSans-32\"/>\n     <use x=\"1217.382812\" xlink:href=\"#LiberationSans-79\"/>\n     <use x=\"1295.166016\" xlink:href=\"#LiberationSans-82\"/>\n     <use x=\"1367.367188\" xlink:href=\"#LiberationSans-84\"/>\n     <use x=\"1428.451172\" xlink:href=\"#LiberationSans-66\"/>\n     <use x=\"1495.150391\" xlink:href=\"#LiberationSans-49\"/>\n    </g>\n   </g>\n   <g id=\"legend_1\">\n    <g id=\"line2d_18\">\n     <path d=\"M 71.25875 34.643125 \nL 91.25875 34.643125 \n\" style=\"fill:none;stroke:#4c72b0;stroke-linecap:round;stroke-width:1.75;\"/>\n    </g>\n    <g id=\"line2d_19\"/>\n    <g id=\"text_18\">\n     <!-- #1 -->\n     <defs>\n      <path d=\"M 43.75 43.21875 \nL 39.9375 25.203125 \nL 52.640625 25.203125 \nL 52.640625 19.921875 \nL 38.8125 19.921875 \nL 34.515625 0 \nL 29.15625 0 \nL 33.34375 19.921875 \nL 15.625 19.921875 \nL 11.53125 0 \nL 6.15625 0 \nL 10.25 19.921875 \nL 0.4375 19.921875 \nL 0.4375 25.203125 \nL 11.421875 25.203125 \nL 15.234375 43.21875 \nL 2.9375 43.21875 \nL 2.9375 48.484375 \nL 16.3125 48.484375 \nL 20.65625 68.40625 \nL 26.03125 68.40625 \nL 21.734375 48.484375 \nL 39.453125 48.484375 \nL 43.75 68.40625 \nL 49.125 68.40625 \nL 44.828125 48.484375 \nL 55.125 48.484375 \nL 55.125 43.21875 \nz\nM 20.75 43.21875 \nL 16.84375 25.203125 \nL 34.515625 25.203125 \nL 38.328125 43.21875 \nz\n\" id=\"LiberationSans-35\"/>\n     </defs>\n     <g style=\"fill:#262626;\" transform=\"translate(99.25875 38.143125)scale(0.1 -0.1)\">\n      <use xlink:href=\"#LiberationSans-35\"/>\n      <use x=\"55.615234\" xlink:href=\"#LiberationSans-49\"/>\n     </g>\n    </g>\n    <g id=\"line2d_20\">\n     <path d=\"M 71.25875 48.965 \nL 91.25875 48.965 \n\" style=\"fill:none;stroke:#55a868;stroke-linecap:round;stroke-width:1.75;\"/>\n    </g>\n    <g id=\"line2d_21\"/>\n    <g id=\"text_19\">\n     <!-- #2 -->\n     <g style=\"fill:#262626;\" transform=\"translate(99.25875 52.465)scale(0.1 -0.1)\">\n      <use xlink:href=\"#LiberationSans-35\"/>\n      <use x=\"55.615234\" xlink:href=\"#LiberationSans-50\"/>\n     </g>\n    </g>\n    <g id=\"line2d_22\">\n     <path d=\"M 71.25875 63.286875 \nL 91.25875 63.286875 \n\" style=\"fill:none;stroke:#c44e52;stroke-linecap:round;stroke-width:1.75;\"/>\n    </g>\n    <g id=\"line2d_23\"/>\n    <g id=\"text_20\">\n     <!-- #3 -->\n     <defs>\n      <path d=\"M 51.21875 19 \nQ 51.21875 14.265625 49.671875 10.546875 \nQ 48.140625 6.84375 45.1875 4.265625 \nQ 42.234375 1.703125 37.859375 0.359375 \nQ 33.5 -0.984375 27.875 -0.984375 \nQ 21.484375 -0.984375 17.109375 0.609375 \nQ 12.75 2.203125 9.90625 4.8125 \nQ 7.078125 7.421875 5.65625 10.765625 \nQ 4.25 14.109375 3.8125 17.671875 \nL 12.890625 18.5 \nQ 13.28125 15.765625 14.328125 13.515625 \nQ 15.375 11.28125 17.1875 9.671875 \nQ 19 8.0625 21.625 7.171875 \nQ 24.265625 6.296875 27.875 6.296875 \nQ 34.515625 6.296875 38.296875 9.5625 \nQ 42.09375 12.84375 42.09375 19.28125 \nQ 42.09375 23.09375 40.40625 25.40625 \nQ 38.71875 27.734375 36.203125 29.03125 \nQ 33.6875 30.328125 30.734375 30.765625 \nQ 27.78125 31.203125 25.296875 31.203125 \nL 20.3125 31.203125 \nL 20.3125 38.8125 \nL 25.09375 38.8125 \nQ 27.59375 38.8125 30.265625 39.328125 \nQ 32.953125 39.84375 35.171875 41.1875 \nQ 37.40625 42.53125 38.84375 44.828125 \nQ 40.28125 47.125 40.28125 50.6875 \nQ 40.28125 56.203125 37.03125 59.390625 \nQ 33.796875 62.59375 27.390625 62.59375 \nQ 21.578125 62.59375 17.984375 59.609375 \nQ 14.40625 56.640625 13.8125 51.21875 \nL 4.984375 51.90625 \nQ 5.515625 56.453125 7.46875 59.8125 \nQ 9.421875 63.1875 12.421875 65.40625 \nQ 15.4375 67.625 19.28125 68.71875 \nQ 23.140625 69.828125 27.484375 69.828125 \nQ 33.25 69.828125 37.390625 68.375 \nQ 41.546875 66.9375 44.1875 64.46875 \nQ 46.828125 62.015625 48.0625 58.6875 \nQ 49.3125 55.375 49.3125 51.609375 \nQ 49.3125 48.578125 48.484375 45.9375 \nQ 47.65625 43.3125 45.890625 41.203125 \nQ 44.140625 39.109375 41.421875 37.59375 \nQ 38.71875 36.078125 34.90625 35.296875 \nL 34.90625 35.109375 \nQ 39.0625 34.671875 42.140625 33.21875 \nQ 45.21875 31.78125 47.21875 29.625 \nQ 49.21875 27.484375 50.21875 24.75 \nQ 51.21875 22.015625 51.21875 19 \nz\n\" id=\"LiberationSans-51\"/>\n     </defs>\n     <g style=\"fill:#262626;\" transform=\"translate(99.25875 66.786875)scale(0.1 -0.1)\">\n      <use xlink:href=\"#LiberationSans-35\"/>\n      <use x=\"55.615234\" xlink:href=\"#LiberationSans-51\"/>\n     </g>\n    </g>\n   </g>\n  </g>\n </g>\n <defs>\n  <clipPath id=\"pce101a4ec2\">\n   <rect height=\"217.44\" width=\"334.8\" x=\"62.25875\" y=\"21.89625\"/>\n  </clipPath>\n </defs>\n</svg>\n"
          },
          "metadata": {
            "tags": []
          }
        }
      ]
    },
    {
      "metadata": {
        "id": "WzjuyFctIR9_",
        "colab_type": "code",
        "outputId": "95ec6449-f818-4337-b3ae-e307f7f1a865",
        "colab": {
          "base_uri": "https://localhost:8080/",
          "height": 437
        }
      },
      "cell_type": "code",
      "source": [
        "x = np.linspace(1e-2, 1)\n",
        "y = ortb_strategy(0.000017,90,pCTR)\n",
        "\n",
        "ax = sns.distplot(y, kde=False, bins=100, hist_kws={'log':True});\n",
        "sns.despine()\n",
        "plt.ylabel('Frequency')\n",
        "plt.xlabel('Bid price')\n",
        "plt.show();"
      ],
      "execution_count": 102,
      "outputs": [
        {
          "output_type": "stream",
          "text": [
            "/usr/local/lib/python3.6/dist-packages/matplotlib/axes/_axes.py:6521: MatplotlibDeprecationWarning: \n",
            "The 'normed' kwarg was deprecated in Matplotlib 2.1 and will be removed in 3.1. Use 'density' instead.\n",
            "  alternative=\"'density'\", removal=\"3.1\")\n"
          ],
          "name": "stderr"
        },
        {
          "output_type": "display_data",
          "data": {
            "text/plain": [
              "<Figure size 432x288 with 1 Axes>"
            ],
            "image/svg+xml": "<?xml version=\"1.0\" encoding=\"utf-8\" standalone=\"no\"?>\n<!DOCTYPE svg PUBLIC \"-//W3C//DTD SVG 1.1//EN\"\n  \"http://www.w3.org/Graphics/SVG/1.1/DTD/svg11.dtd\">\n<!-- Created with matplotlib (https://matplotlib.org/) -->\n<svg height=\"274.415937pt\" version=\"1.1\" viewBox=\"0 0 397.854062 274.415937\" width=\"397.854062pt\" xmlns=\"http://www.w3.org/2000/svg\" xmlns:xlink=\"http://www.w3.org/1999/xlink\">\n <defs>\n  <style type=\"text/css\">\n*{stroke-linecap:butt;stroke-linejoin:round;}\n  </style>\n </defs>\n <g id=\"figure_1\">\n  <g id=\"patch_1\">\n   <path d=\"M 0 274.415937 \nL 397.854062 274.415937 \nL 397.854062 0 \nL 0 0 \nz\n\" style=\"fill:none;\"/>\n  </g>\n  <g id=\"axes_1\">\n   <g id=\"patch_2\">\n    <path d=\"M 49.854062 230.64 \nL 384.654063 230.64 \nL 384.654063 13.2 \nL 49.854062 13.2 \nz\n\" style=\"fill:#ffffff;\"/>\n   </g>\n   <g id=\"matplotlib.axis_1\">\n    <g id=\"xtick_1\">\n     <g id=\"line2d_1\">\n      <defs>\n       <path d=\"M 0 0 \nL 0 6 \n\" id=\"m2c7a9cde8a\" style=\"stroke:#262626;\"/>\n      </defs>\n      <g>\n       <use style=\"fill:#262626;stroke:#262626;\" x=\"65.072244\" xlink:href=\"#m2c7a9cde8a\" y=\"230.64\"/>\n      </g>\n     </g>\n     <g id=\"text_1\">\n      <!-- 0 -->\n      <defs>\n       <path d=\"M 51.703125 34.421875 \nQ 51.703125 24.515625 49.828125 17.75 \nQ 47.953125 10.984375 44.703125 6.8125 \nQ 41.453125 2.640625 37.0625 0.828125 \nQ 32.671875 -0.984375 27.6875 -0.984375 \nQ 22.65625 -0.984375 18.3125 0.828125 \nQ 13.96875 2.640625 10.765625 6.78125 \nQ 7.5625 10.9375 5.734375 17.703125 \nQ 3.90625 24.46875 3.90625 34.421875 \nQ 3.90625 44.828125 5.734375 51.640625 \nQ 7.5625 58.453125 10.78125 62.5 \nQ 14.015625 66.546875 18.40625 68.1875 \nQ 22.796875 69.828125 27.984375 69.828125 \nQ 32.90625 69.828125 37.21875 68.1875 \nQ 41.546875 66.546875 44.765625 62.5 \nQ 48 58.453125 49.84375 51.640625 \nQ 51.703125 44.828125 51.703125 34.421875 \nz\nM 42.78125 34.421875 \nQ 42.78125 42.625 41.796875 48.0625 \nQ 40.828125 53.515625 38.921875 56.765625 \nQ 37.015625 60.015625 34.25 61.359375 \nQ 31.5 62.703125 27.984375 62.703125 \nQ 24.265625 62.703125 21.4375 61.328125 \nQ 18.609375 59.96875 16.671875 56.71875 \nQ 14.75 53.46875 13.765625 48.015625 \nQ 12.796875 42.578125 12.796875 34.421875 \nQ 12.796875 26.515625 13.796875 21.09375 \nQ 14.796875 15.671875 16.71875 12.375 \nQ 18.65625 9.078125 21.4375 7.640625 \nQ 24.21875 6.203125 27.78125 6.203125 \nQ 31.25 6.203125 34.03125 7.640625 \nQ 36.8125 9.078125 38.734375 12.375 \nQ 40.671875 15.671875 41.71875 21.09375 \nQ 42.78125 26.515625 42.78125 34.421875 \nz\n\" id=\"LiberationSans-48\"/>\n      </defs>\n      <g style=\"fill:#262626;\" transform=\"translate(62.291776 250.886875)scale(0.1 -0.1)\">\n       <use xlink:href=\"#LiberationSans-48\"/>\n      </g>\n     </g>\n    </g>\n    <g id=\"xtick_2\">\n     <g id=\"line2d_2\">\n      <g>\n       <use style=\"fill:#262626;stroke:#262626;\" x=\"133.850266\" xlink:href=\"#m2c7a9cde8a\" y=\"230.64\"/>\n      </g>\n     </g>\n     <g id=\"text_2\">\n      <!-- 500 -->\n      <defs>\n       <path d=\"M 51.421875 22.40625 \nQ 51.421875 17.234375 49.859375 12.9375 \nQ 48.296875 8.640625 45.21875 5.53125 \nQ 42.140625 2.4375 37.578125 0.71875 \nQ 33.015625 -0.984375 27 -0.984375 \nQ 21.578125 -0.984375 17.546875 0.28125 \nQ 13.53125 1.5625 10.734375 3.78125 \nQ 7.953125 6 6.3125 8.984375 \nQ 4.6875 11.96875 4 15.375 \nL 12.890625 16.40625 \nQ 13.421875 14.453125 14.390625 12.625 \nQ 15.375 10.796875 17.0625 9.34375 \nQ 18.75 7.90625 21.21875 7.046875 \nQ 23.6875 6.203125 27.203125 6.203125 \nQ 30.609375 6.203125 33.390625 7.25 \nQ 36.1875 8.296875 38.15625 10.34375 \nQ 40.140625 12.40625 41.203125 15.375 \nQ 42.28125 18.359375 42.28125 22.21875 \nQ 42.28125 25.390625 41.25 28.046875 \nQ 40.234375 30.71875 38.328125 32.640625 \nQ 36.421875 34.578125 33.65625 35.640625 \nQ 30.90625 36.71875 27.390625 36.71875 \nQ 25.203125 36.71875 23.34375 36.328125 \nQ 21.484375 35.9375 19.890625 35.25 \nQ 18.3125 34.578125 17.015625 33.671875 \nQ 15.71875 32.765625 14.59375 31.78125 \nL 6 31.78125 \nL 8.296875 68.796875 \nL 47.40625 68.796875 \nL 47.40625 61.328125 \nL 16.3125 61.328125 \nL 14.984375 39.5 \nQ 17.328125 41.3125 20.84375 42.59375 \nQ 24.359375 43.890625 29.203125 43.890625 \nQ 34.328125 43.890625 38.421875 42.328125 \nQ 42.53125 40.765625 45.40625 37.90625 \nQ 48.296875 35.0625 49.859375 31.109375 \nQ 51.421875 27.15625 51.421875 22.40625 \nz\n\" id=\"LiberationSans-53\"/>\n      </defs>\n      <g style=\"fill:#262626;\" transform=\"translate(125.50886 250.886875)scale(0.1 -0.1)\">\n       <use xlink:href=\"#LiberationSans-53\"/>\n       <use x=\"55.615234\" xlink:href=\"#LiberationSans-48\"/>\n       <use x=\"111.230469\" xlink:href=\"#LiberationSans-48\"/>\n      </g>\n     </g>\n    </g>\n    <g id=\"xtick_3\">\n     <g id=\"line2d_3\">\n      <g>\n       <use style=\"fill:#262626;stroke:#262626;\" x=\"202.628288\" xlink:href=\"#m2c7a9cde8a\" y=\"230.64\"/>\n      </g>\n     </g>\n     <g id=\"text_3\">\n      <!-- 1000 -->\n      <defs>\n       <path d=\"M 7.625 0 \nL 7.625 7.46875 \nL 25.140625 7.46875 \nL 25.140625 60.40625 \nL 9.625 49.3125 \nL 9.625 57.625 \nL 25.875 68.796875 \nL 33.984375 68.796875 \nL 33.984375 7.46875 \nL 50.734375 7.46875 \nL 50.734375 0 \nz\n\" id=\"LiberationSans-49\"/>\n      </defs>\n      <g style=\"fill:#262626;\" transform=\"translate(191.506413 250.886875)scale(0.1 -0.1)\">\n       <use xlink:href=\"#LiberationSans-49\"/>\n       <use x=\"55.615234\" xlink:href=\"#LiberationSans-48\"/>\n       <use x=\"111.230469\" xlink:href=\"#LiberationSans-48\"/>\n       <use x=\"166.845703\" xlink:href=\"#LiberationSans-48\"/>\n      </g>\n     </g>\n    </g>\n    <g id=\"xtick_4\">\n     <g id=\"line2d_4\">\n      <g>\n       <use style=\"fill:#262626;stroke:#262626;\" x=\"271.406311\" xlink:href=\"#m2c7a9cde8a\" y=\"230.64\"/>\n      </g>\n     </g>\n     <g id=\"text_4\">\n      <!-- 1500 -->\n      <g style=\"fill:#262626;\" transform=\"translate(260.284436 250.886875)scale(0.1 -0.1)\">\n       <use xlink:href=\"#LiberationSans-49\"/>\n       <use x=\"55.615234\" xlink:href=\"#LiberationSans-53\"/>\n       <use x=\"111.230469\" xlink:href=\"#LiberationSans-48\"/>\n       <use x=\"166.845703\" xlink:href=\"#LiberationSans-48\"/>\n      </g>\n     </g>\n    </g>\n    <g id=\"xtick_5\">\n     <g id=\"line2d_5\">\n      <g>\n       <use style=\"fill:#262626;stroke:#262626;\" x=\"340.184333\" xlink:href=\"#m2c7a9cde8a\" y=\"230.64\"/>\n      </g>\n     </g>\n     <g id=\"text_5\">\n      <!-- 2000 -->\n      <defs>\n       <path d=\"M 5.03125 0 \nL 5.03125 6.203125 \nQ 7.515625 11.921875 11.109375 16.28125 \nQ 14.703125 20.65625 18.65625 24.1875 \nQ 22.609375 27.734375 26.484375 30.765625 \nQ 30.375 33.796875 33.5 36.8125 \nQ 36.625 39.84375 38.546875 43.15625 \nQ 40.484375 46.484375 40.484375 50.6875 \nQ 40.484375 53.609375 39.59375 55.828125 \nQ 38.71875 58.0625 37.0625 59.5625 \nQ 35.40625 61.078125 33.078125 61.828125 \nQ 30.765625 62.59375 27.9375 62.59375 \nQ 25.296875 62.59375 22.96875 61.859375 \nQ 20.65625 61.140625 18.84375 59.671875 \nQ 17.046875 58.203125 15.890625 56.03125 \nQ 14.75 53.859375 14.40625 50.984375 \nL 5.421875 51.8125 \nQ 5.859375 55.515625 7.46875 58.78125 \nQ 9.078125 62.0625 11.90625 64.53125 \nQ 14.75 67 18.71875 68.40625 \nQ 22.703125 69.828125 27.9375 69.828125 \nQ 33.0625 69.828125 37.0625 68.609375 \nQ 41.0625 67.390625 43.8125 64.984375 \nQ 46.578125 62.59375 48.046875 59.078125 \nQ 49.515625 55.5625 49.515625 50.984375 \nQ 49.515625 47.515625 48.265625 44.390625 \nQ 47.015625 41.265625 44.9375 38.421875 \nQ 42.875 35.59375 40.140625 32.953125 \nQ 37.40625 30.328125 34.421875 27.8125 \nQ 31.453125 25.296875 28.421875 22.828125 \nQ 25.390625 20.359375 22.71875 17.859375 \nQ 20.0625 15.375 17.96875 12.8125 \nQ 15.875 10.25 14.703125 7.46875 \nL 50.59375 7.46875 \nL 50.59375 0 \nz\n\" id=\"LiberationSans-50\"/>\n      </defs>\n      <g style=\"fill:#262626;\" transform=\"translate(329.062458 250.886875)scale(0.1 -0.1)\">\n       <use xlink:href=\"#LiberationSans-50\"/>\n       <use x=\"55.615234\" xlink:href=\"#LiberationSans-48\"/>\n       <use x=\"111.230469\" xlink:href=\"#LiberationSans-48\"/>\n       <use x=\"166.845703\" xlink:href=\"#LiberationSans-48\"/>\n      </g>\n     </g>\n    </g>\n    <g id=\"text_6\">\n     <!-- Bid price -->\n     <defs>\n      <path d=\"M 61.421875 19.390625 \nQ 61.421875 14.15625 59.375 10.46875 \nQ 57.328125 6.78125 53.859375 4.46875 \nQ 50.390625 2.15625 45.796875 1.078125 \nQ 41.21875 0 36.140625 0 \nL 8.203125 0 \nL 8.203125 68.796875 \nL 33.203125 68.796875 \nQ 38.921875 68.796875 43.40625 67.84375 \nQ 47.90625 66.890625 51.03125 64.84375 \nQ 54.15625 62.796875 55.78125 59.640625 \nQ 57.421875 56.5 57.421875 52.09375 \nQ 57.421875 49.21875 56.609375 46.671875 \nQ 55.8125 44.140625 54.171875 42.0625 \nQ 52.546875 39.984375 50.078125 38.5 \nQ 47.609375 37.015625 44.34375 36.28125 \nQ 48.484375 35.796875 51.6875 34.375 \nQ 54.890625 32.953125 57.03125 30.75 \nQ 59.1875 28.5625 60.296875 25.65625 \nQ 61.421875 22.75 61.421875 19.390625 \nz\nM 48.046875 50.984375 \nQ 48.046875 56.546875 44.234375 58.9375 \nQ 40.4375 61.328125 33.203125 61.328125 \nL 17.53125 61.328125 \nL 17.53125 39.546875 \nL 33.203125 39.546875 \nQ 37.3125 39.546875 40.140625 40.34375 \nQ 42.96875 41.15625 44.71875 42.640625 \nQ 46.484375 44.140625 47.265625 46.234375 \nQ 48.046875 48.34375 48.046875 50.984375 \nz\nM 52 20.125 \nQ 52 23.390625 50.796875 25.6875 \nQ 49.609375 27.984375 47.359375 29.4375 \nQ 45.125 30.90625 41.96875 31.59375 \nQ 38.8125 32.28125 34.90625 32.28125 \nL 17.53125 32.28125 \nL 17.53125 7.46875 \nL 35.640625 7.46875 \nQ 39.203125 7.46875 42.203125 8.046875 \nQ 45.21875 8.640625 47.390625 10.109375 \nQ 49.5625 11.578125 50.78125 14.015625 \nQ 52 16.453125 52 20.125 \nz\n\" id=\"LiberationSans-66\"/>\n      <path d=\"M 6.6875 64.0625 \nL 6.6875 72.46875 \nL 15.484375 72.46875 \nL 15.484375 64.0625 \nz\nM 6.6875 0 \nL 6.6875 52.828125 \nL 15.484375 52.828125 \nL 15.484375 0 \nz\n\" id=\"LiberationSans-105\"/>\n      <path d=\"M 40.09375 8.5 \nQ 37.640625 3.421875 33.609375 1.21875 \nQ 29.59375 -0.984375 23.640625 -0.984375 \nQ 13.625 -0.984375 8.90625 5.75 \nQ 4.203125 12.5 4.203125 26.171875 \nQ 4.203125 53.8125 23.640625 53.8125 \nQ 29.640625 53.8125 33.640625 51.609375 \nQ 37.640625 49.421875 40.09375 44.625 \nL 40.1875 44.625 \nQ 40.1875 45.125 40.15625 46.171875 \nQ 40.140625 47.21875 40.109375 48.359375 \nQ 40.09375 49.515625 40.09375 50.53125 \nQ 40.09375 51.5625 40.09375 52 \nL 40.09375 72.46875 \nL 48.875 72.46875 \nL 48.875 10.890625 \nQ 48.875 8.984375 48.890625 7.21875 \nQ 48.921875 5.46875 48.96875 4 \nQ 49.03125 2.546875 49.078125 1.484375 \nQ 49.125 0.4375 49.171875 0 \nL 40.765625 0 \nQ 40.671875 0.484375 40.59375 1.390625 \nQ 40.53125 2.296875 40.453125 3.46875 \nQ 40.375 4.640625 40.328125 5.9375 \nQ 40.28125 7.234375 40.28125 8.5 \nz\nM 13.421875 26.46875 \nQ 13.421875 21 14.109375 17.09375 \nQ 14.796875 13.1875 16.3125 10.671875 \nQ 17.828125 8.15625 20.171875 6.984375 \nQ 22.515625 5.8125 25.875 5.8125 \nQ 29.34375 5.8125 32 6.9375 \nQ 34.671875 8.0625 36.453125 10.578125 \nQ 38.234375 13.09375 39.15625 17.140625 \nQ 40.09375 21.1875 40.09375 27.046875 \nQ 40.09375 32.671875 39.15625 36.546875 \nQ 38.234375 40.4375 36.421875 42.828125 \nQ 34.625 45.21875 32 46.265625 \nQ 29.390625 47.3125 25.984375 47.3125 \nQ 22.75 47.3125 20.40625 46.1875 \nQ 18.0625 45.0625 16.5 42.578125 \nQ 14.9375 40.09375 14.171875 36.109375 \nQ 13.421875 32.125 13.421875 26.46875 \nz\n\" id=\"LiberationSans-100\"/>\n      <path id=\"LiberationSans-32\"/>\n      <path d=\"M 51.421875 26.65625 \nQ 51.421875 20.65625 50.4375 15.578125 \nQ 49.46875 10.5 47.1875 6.828125 \nQ 44.921875 3.171875 41.1875 1.09375 \nQ 37.453125 -0.984375 31.984375 -0.984375 \nQ 26.3125 -0.984375 22.0625 1.171875 \nQ 17.828125 3.328125 15.578125 8.203125 \nL 15.328125 8.203125 \nQ 15.375 8.109375 15.40625 7.328125 \nQ 15.4375 6.546875 15.453125 5.375 \nQ 15.484375 4.203125 15.5 2.75 \nQ 15.53125 1.3125 15.53125 -0.09375 \nL 15.53125 -20.75 \nL 6.734375 -20.75 \nL 6.734375 42.046875 \nQ 6.734375 43.953125 6.703125 45.703125 \nQ 6.6875 47.46875 6.640625 48.90625 \nQ 6.59375 50.34375 6.546875 51.359375 \nQ 6.5 52.390625 6.453125 52.828125 \nL 14.9375 52.828125 \nQ 14.984375 52.6875 15.0625 51.796875 \nQ 15.140625 50.921875 15.203125 49.671875 \nQ 15.28125 48.4375 15.359375 47.015625 \nQ 15.4375 45.609375 15.4375 44.34375 \nL 15.625 44.34375 \nQ 16.84375 46.875 18.40625 48.65625 \nQ 19.96875 50.4375 21.96875 51.578125 \nQ 23.96875 52.734375 26.4375 53.25 \nQ 28.90625 53.765625 31.984375 53.765625 \nQ 37.453125 53.765625 41.1875 51.8125 \nQ 44.921875 49.859375 47.1875 46.3125 \nQ 49.46875 42.78125 50.4375 37.765625 \nQ 51.421875 32.765625 51.421875 26.65625 \nz\nM 42.1875 26.46875 \nQ 42.1875 31.34375 41.59375 35.15625 \nQ 41.015625 38.96875 39.578125 41.59375 \nQ 38.140625 44.234375 35.734375 45.59375 \nQ 33.34375 46.96875 29.734375 46.96875 \nQ 26.8125 46.96875 24.21875 46.140625 \nQ 21.625 45.3125 19.703125 42.96875 \nQ 17.78125 40.625 16.65625 36.5 \nQ 15.53125 32.375 15.53125 25.78125 \nQ 15.53125 20.171875 16.453125 16.28125 \nQ 17.390625 12.40625 19.171875 10.015625 \nQ 20.953125 7.625 23.578125 6.5625 \nQ 26.21875 5.515625 29.640625 5.515625 \nQ 33.296875 5.515625 35.71875 6.921875 \nQ 38.140625 8.34375 39.578125 11.03125 \nQ 41.015625 13.71875 41.59375 17.59375 \nQ 42.1875 21.484375 42.1875 26.46875 \nz\n\" id=\"LiberationSans-112\"/>\n      <path d=\"M 6.9375 0 \nL 6.9375 40.53125 \nQ 6.9375 42.1875 6.90625 43.921875 \nQ 6.890625 45.65625 6.828125 47.265625 \nQ 6.78125 48.875 6.734375 50.28125 \nQ 6.6875 51.703125 6.640625 52.828125 \nL 14.9375 52.828125 \nQ 14.984375 51.703125 15.0625 50.265625 \nQ 15.140625 48.828125 15.203125 47.3125 \nQ 15.28125 45.796875 15.296875 44.40625 \nQ 15.328125 43.015625 15.328125 42.046875 \nL 15.53125 42.046875 \nQ 16.453125 45.0625 17.5 47.28125 \nQ 18.5625 49.515625 19.96875 50.953125 \nQ 21.390625 52.390625 23.34375 53.09375 \nQ 25.296875 53.8125 28.078125 53.8125 \nQ 29.15625 53.8125 30.125 53.640625 \nQ 31.109375 53.46875 31.640625 53.328125 \nL 31.640625 45.265625 \nQ 30.765625 45.515625 29.59375 45.625 \nQ 28.421875 45.75 26.953125 45.75 \nQ 23.921875 45.75 21.796875 44.375 \nQ 19.671875 43.015625 18.328125 40.59375 \nQ 17 38.1875 16.359375 34.84375 \nQ 15.71875 31.5 15.71875 27.546875 \nL 15.71875 0 \nz\n\" id=\"LiberationSans-114\"/>\n      <path d=\"M 13.421875 26.65625 \nQ 13.421875 22.125 14.078125 18.3125 \nQ 14.75 14.5 16.3125 11.734375 \nQ 17.875 8.984375 20.4375 7.46875 \nQ 23 5.953125 26.765625 5.953125 \nQ 31.453125 5.953125 34.59375 8.484375 \nQ 37.75 11.03125 38.484375 16.3125 \nL 47.359375 15.71875 \nQ 46.921875 12.453125 45.453125 9.421875 \nQ 44 6.390625 41.484375 4.09375 \nQ 38.96875 1.8125 35.34375 0.40625 \nQ 31.734375 -0.984375 27 -0.984375 \nQ 20.796875 -0.984375 16.453125 1.109375 \nQ 12.109375 3.21875 9.390625 6.90625 \nQ 6.6875 10.59375 5.46875 15.59375 \nQ 4.25 20.609375 4.25 26.46875 \nQ 4.25 31.78125 5.125 35.859375 \nQ 6 39.9375 7.59375 42.984375 \nQ 9.1875 46.046875 11.328125 48.125 \nQ 13.484375 50.203125 15.984375 51.4375 \nQ 18.5 52.6875 21.28125 53.25 \nQ 24.078125 53.8125 26.90625 53.8125 \nQ 31.34375 53.8125 34.8125 52.59375 \nQ 38.28125 51.375 40.796875 49.25 \nQ 43.3125 47.125 44.875 44.234375 \nQ 46.4375 41.359375 47.078125 38.03125 \nL 38.03125 37.359375 \nQ 37.359375 41.75 34.5625 44.328125 \nQ 31.78125 46.921875 26.65625 46.921875 \nQ 22.90625 46.921875 20.390625 45.671875 \nQ 17.875 44.4375 16.3125 41.921875 \nQ 14.75 39.40625 14.078125 35.59375 \nQ 13.421875 31.78125 13.421875 26.65625 \nz\n\" id=\"LiberationSans-99\"/>\n      <path d=\"M 13.484375 24.5625 \nQ 13.484375 20.40625 14.328125 16.90625 \nQ 15.1875 13.421875 16.96875 10.90625 \nQ 18.75 8.40625 21.53125 7 \nQ 24.3125 5.609375 28.21875 5.609375 \nQ 33.9375 5.609375 37.375 7.90625 \nQ 40.828125 10.203125 42.046875 13.71875 \nL 49.75 11.53125 \nQ 48.921875 9.328125 47.4375 7.109375 \nQ 45.953125 4.890625 43.453125 3.09375 \nQ 40.96875 1.3125 37.234375 0.15625 \nQ 33.5 -0.984375 28.21875 -0.984375 \nQ 16.5 -0.984375 10.375 6 \nQ 4.25 12.984375 4.25 26.765625 \nQ 4.25 34.1875 6.09375 39.328125 \nQ 7.953125 44.484375 11.171875 47.703125 \nQ 14.40625 50.921875 18.703125 52.359375 \nQ 23 53.8125 27.875 53.8125 \nQ 34.515625 53.8125 38.984375 51.65625 \nQ 43.453125 49.515625 46.15625 45.71875 \nQ 48.875 41.9375 50.015625 36.8125 \nQ 51.171875 31.6875 51.171875 25.734375 \nL 51.171875 24.5625 \nz\nM 42.09375 31.296875 \nQ 41.359375 39.65625 37.84375 43.484375 \nQ 34.328125 47.3125 27.734375 47.3125 \nQ 25.53125 47.3125 23.109375 46.609375 \nQ 20.703125 45.90625 18.65625 44.09375 \nQ 16.609375 42.28125 15.1875 39.171875 \nQ 13.765625 36.078125 13.578125 31.296875 \nz\n\" id=\"LiberationSans-101\"/>\n     </defs>\n     <g style=\"fill:#262626;\" transform=\"translate(195.856484 264.933437)scale(0.11 -0.11)\">\n      <use xlink:href=\"#LiberationSans-66\"/>\n      <use x=\"66.699219\" xlink:href=\"#LiberationSans-105\"/>\n      <use x=\"88.916016\" xlink:href=\"#LiberationSans-100\"/>\n      <use x=\"144.53125\" xlink:href=\"#LiberationSans-32\"/>\n      <use x=\"172.314453\" xlink:href=\"#LiberationSans-112\"/>\n      <use x=\"227.929688\" xlink:href=\"#LiberationSans-114\"/>\n      <use x=\"261.230469\" xlink:href=\"#LiberationSans-105\"/>\n      <use x=\"283.447266\" xlink:href=\"#LiberationSans-99\"/>\n      <use x=\"333.447266\" xlink:href=\"#LiberationSans-101\"/>\n     </g>\n    </g>\n   </g>\n   <g id=\"matplotlib.axis_2\">\n    <g id=\"ytick_1\">\n     <g id=\"line2d_6\">\n      <defs>\n       <path d=\"M 0 0 \nL -6 0 \n\" id=\"mb3339d494a\" style=\"stroke:#262626;\"/>\n      </defs>\n      <g>\n       <use style=\"fill:#262626;stroke:#262626;\" x=\"49.854062\" xlink:href=\"#mb3339d494a\" y=\"207.978814\"/>\n      </g>\n     </g>\n     <g id=\"text_7\">\n      <!-- $\\mathdefault{10^{1}}$ -->\n      <g style=\"fill:#262626;\" transform=\"translate(21.454062 211.602251)scale(0.1 -0.1)\">\n       <use transform=\"translate(0 0.8625)\" xlink:href=\"#LiberationSans-49\"/>\n       <use transform=\"translate(55.615234 0.8625)\" xlink:href=\"#LiberationSans-48\"/>\n       <use transform=\"translate(112.154961 37.842188)scale(0.7)\" xlink:href=\"#LiberationSans-49\"/>\n      </g>\n     </g>\n    </g>\n    <g id=\"ytick_2\">\n     <g id=\"line2d_7\">\n      <g>\n       <use style=\"fill:#262626;stroke:#262626;\" x=\"49.854062\" xlink:href=\"#mb3339d494a\" y=\"165.532713\"/>\n      </g>\n     </g>\n     <g id=\"text_8\">\n      <!-- $\\mathdefault{10^{2}}$ -->\n      <g style=\"fill:#262626;\" transform=\"translate(21.454062 169.15615)scale(0.1 -0.1)\">\n       <use transform=\"translate(0 0.140625)\" xlink:href=\"#LiberationSans-49\"/>\n       <use transform=\"translate(55.615234 0.140625)\" xlink:href=\"#LiberationSans-48\"/>\n       <use transform=\"translate(112.154961 37.120312)scale(0.7)\" xlink:href=\"#LiberationSans-50\"/>\n      </g>\n     </g>\n    </g>\n    <g id=\"ytick_3\">\n     <g id=\"line2d_8\">\n      <g>\n       <use style=\"fill:#262626;stroke:#262626;\" x=\"49.854062\" xlink:href=\"#mb3339d494a\" y=\"123.086611\"/>\n      </g>\n     </g>\n     <g id=\"text_9\">\n      <!-- $\\mathdefault{10^{3}}$ -->\n      <defs>\n       <path d=\"M 51.21875 19 \nQ 51.21875 14.265625 49.671875 10.546875 \nQ 48.140625 6.84375 45.1875 4.265625 \nQ 42.234375 1.703125 37.859375 0.359375 \nQ 33.5 -0.984375 27.875 -0.984375 \nQ 21.484375 -0.984375 17.109375 0.609375 \nQ 12.75 2.203125 9.90625 4.8125 \nQ 7.078125 7.421875 5.65625 10.765625 \nQ 4.25 14.109375 3.8125 17.671875 \nL 12.890625 18.5 \nQ 13.28125 15.765625 14.328125 13.515625 \nQ 15.375 11.28125 17.1875 9.671875 \nQ 19 8.0625 21.625 7.171875 \nQ 24.265625 6.296875 27.875 6.296875 \nQ 34.515625 6.296875 38.296875 9.5625 \nQ 42.09375 12.84375 42.09375 19.28125 \nQ 42.09375 23.09375 40.40625 25.40625 \nQ 38.71875 27.734375 36.203125 29.03125 \nQ 33.6875 30.328125 30.734375 30.765625 \nQ 27.78125 31.203125 25.296875 31.203125 \nL 20.3125 31.203125 \nL 20.3125 38.8125 \nL 25.09375 38.8125 \nQ 27.59375 38.8125 30.265625 39.328125 \nQ 32.953125 39.84375 35.171875 41.1875 \nQ 37.40625 42.53125 38.84375 44.828125 \nQ 40.28125 47.125 40.28125 50.6875 \nQ 40.28125 56.203125 37.03125 59.390625 \nQ 33.796875 62.59375 27.390625 62.59375 \nQ 21.578125 62.59375 17.984375 59.609375 \nQ 14.40625 56.640625 13.8125 51.21875 \nL 4.984375 51.90625 \nQ 5.515625 56.453125 7.46875 59.8125 \nQ 9.421875 63.1875 12.421875 65.40625 \nQ 15.4375 67.625 19.28125 68.71875 \nQ 23.140625 69.828125 27.484375 69.828125 \nQ 33.25 69.828125 37.390625 68.375 \nQ 41.546875 66.9375 44.1875 64.46875 \nQ 46.828125 62.015625 48.0625 58.6875 \nQ 49.3125 55.375 49.3125 51.609375 \nQ 49.3125 48.578125 48.484375 45.9375 \nQ 47.65625 43.3125 45.890625 41.203125 \nQ 44.140625 39.109375 41.421875 37.59375 \nQ 38.71875 36.078125 34.90625 35.296875 \nL 34.90625 35.109375 \nQ 39.0625 34.671875 42.140625 33.21875 \nQ 45.21875 31.78125 47.21875 29.625 \nQ 49.21875 27.484375 50.21875 24.75 \nQ 51.21875 22.015625 51.21875 19 \nz\n\" id=\"LiberationSans-51\"/>\n      </defs>\n      <g style=\"fill:#262626;\" transform=\"translate(21.454062 126.710049)scale(0.1 -0.1)\">\n       <use transform=\"translate(0 0.140625)\" xlink:href=\"#LiberationSans-49\"/>\n       <use transform=\"translate(55.615234 0.140625)\" xlink:href=\"#LiberationSans-48\"/>\n       <use transform=\"translate(112.154961 37.120312)scale(0.7)\" xlink:href=\"#LiberationSans-51\"/>\n      </g>\n     </g>\n    </g>\n    <g id=\"ytick_4\">\n     <g id=\"line2d_9\">\n      <g>\n       <use style=\"fill:#262626;stroke:#262626;\" x=\"49.854062\" xlink:href=\"#mb3339d494a\" y=\"80.64051\"/>\n      </g>\n     </g>\n     <g id=\"text_10\">\n      <!-- $\\mathdefault{10^{4}}$ -->\n      <defs>\n       <path d=\"M 43.015625 15.578125 \nL 43.015625 0 \nL 34.71875 0 \nL 34.71875 15.578125 \nL 2.296875 15.578125 \nL 2.296875 22.40625 \nL 33.796875 68.796875 \nL 43.015625 68.796875 \nL 43.015625 22.515625 \nL 52.6875 22.515625 \nL 52.6875 15.578125 \nz\nM 34.71875 58.890625 \nQ 34.625 58.640625 34.234375 57.9375 \nQ 33.84375 57.234375 33.34375 56.34375 \nQ 32.859375 55.46875 32.34375 54.5625 \nQ 31.84375 53.65625 31.453125 53.078125 \nL 13.8125 27.09375 \nQ 13.578125 26.703125 13.109375 26.0625 \nQ 12.640625 25.4375 12.15625 24.78125 \nQ 11.671875 24.125 11.171875 23.484375 \nQ 10.6875 22.859375 10.40625 22.515625 \nL 34.71875 22.515625 \nz\n\" id=\"LiberationSans-52\"/>\n      </defs>\n      <g style=\"fill:#262626;\" transform=\"translate(21.454062 84.263948)scale(0.1 -0.1)\">\n       <use transform=\"translate(0 0.8625)\" xlink:href=\"#LiberationSans-49\"/>\n       <use transform=\"translate(55.615234 0.8625)\" xlink:href=\"#LiberationSans-48\"/>\n       <use transform=\"translate(112.154961 37.842188)scale(0.7)\" xlink:href=\"#LiberationSans-52\"/>\n      </g>\n     </g>\n    </g>\n    <g id=\"ytick_5\">\n     <g id=\"line2d_10\">\n      <g>\n       <use style=\"fill:#262626;stroke:#262626;\" x=\"49.854062\" xlink:href=\"#mb3339d494a\" y=\"38.194409\"/>\n      </g>\n     </g>\n     <g id=\"text_11\">\n      <!-- $\\mathdefault{10^{5}}$ -->\n      <g style=\"fill:#262626;\" transform=\"translate(21.454062 41.817847)scale(0.1 -0.1)\">\n       <use transform=\"translate(0 0.8625)\" xlink:href=\"#LiberationSans-49\"/>\n       <use transform=\"translate(55.615234 0.8625)\" xlink:href=\"#LiberationSans-48\"/>\n       <use transform=\"translate(112.154961 37.842188)scale(0.7)\" xlink:href=\"#LiberationSans-53\"/>\n      </g>\n     </g>\n    </g>\n    <g id=\"ytick_6\">\n     <g id=\"line2d_11\">\n      <defs>\n       <path d=\"M 0 0 \nL -3 0 \n\" id=\"m76c5448cd1\" style=\"stroke:#262626;stroke-width:0.5;\"/>\n      </defs>\n      <g>\n       <use style=\"fill:#262626;stroke:#262626;stroke-width:0.5;\" x=\"49.854062\" xlink:href=\"#m76c5448cd1\" y=\"230.172978\"/>\n      </g>\n     </g>\n    </g>\n    <g id=\"ytick_7\">\n     <g id=\"line2d_12\">\n      <g>\n       <use style=\"fill:#262626;stroke:#262626;stroke-width:0.5;\" x=\"49.854062\" xlink:href=\"#m76c5448cd1\" y=\"224.869816\"/>\n      </g>\n     </g>\n    </g>\n    <g id=\"ytick_8\">\n     <g id=\"line2d_13\">\n      <g>\n       <use style=\"fill:#262626;stroke:#262626;stroke-width:0.5;\" x=\"49.854062\" xlink:href=\"#m76c5448cd1\" y=\"220.756364\"/>\n      </g>\n     </g>\n    </g>\n    <g id=\"ytick_9\">\n     <g id=\"line2d_14\">\n      <g>\n       <use style=\"fill:#262626;stroke:#262626;stroke-width:0.5;\" x=\"49.854062\" xlink:href=\"#m76c5448cd1\" y=\"217.395428\"/>\n      </g>\n     </g>\n    </g>\n    <g id=\"ytick_10\">\n     <g id=\"line2d_15\">\n      <g>\n       <use style=\"fill:#262626;stroke:#262626;stroke-width:0.5;\" x=\"49.854062\" xlink:href=\"#m76c5448cd1\" y=\"214.553798\"/>\n      </g>\n     </g>\n    </g>\n    <g id=\"ytick_11\">\n     <g id=\"line2d_16\">\n      <g>\n       <use style=\"fill:#262626;stroke:#262626;stroke-width:0.5;\" x=\"49.854062\" xlink:href=\"#m76c5448cd1\" y=\"212.092266\"/>\n      </g>\n     </g>\n    </g>\n    <g id=\"ytick_12\">\n     <g id=\"line2d_17\">\n      <g>\n       <use style=\"fill:#262626;stroke:#262626;stroke-width:0.5;\" x=\"49.854062\" xlink:href=\"#m76c5448cd1\" y=\"209.921041\"/>\n      </g>\n     </g>\n    </g>\n    <g id=\"ytick_13\">\n     <g id=\"line2d_18\">\n      <g>\n       <use style=\"fill:#262626;stroke:#262626;stroke-width:0.5;\" x=\"49.854062\" xlink:href=\"#m76c5448cd1\" y=\"195.201264\"/>\n      </g>\n     </g>\n    </g>\n    <g id=\"ytick_14\">\n     <g id=\"line2d_19\">\n      <g>\n       <use style=\"fill:#262626;stroke:#262626;stroke-width:0.5;\" x=\"49.854062\" xlink:href=\"#m76c5448cd1\" y=\"187.726877\"/>\n      </g>\n     </g>\n    </g>\n    <g id=\"ytick_15\">\n     <g id=\"line2d_20\">\n      <g>\n       <use style=\"fill:#262626;stroke:#262626;stroke-width:0.5;\" x=\"49.854062\" xlink:href=\"#m76c5448cd1\" y=\"182.423715\"/>\n      </g>\n     </g>\n    </g>\n    <g id=\"ytick_16\">\n     <g id=\"line2d_21\">\n      <g>\n       <use style=\"fill:#262626;stroke:#262626;stroke-width:0.5;\" x=\"49.854062\" xlink:href=\"#m76c5448cd1\" y=\"178.310262\"/>\n      </g>\n     </g>\n    </g>\n    <g id=\"ytick_17\">\n     <g id=\"line2d_22\">\n      <g>\n       <use style=\"fill:#262626;stroke:#262626;stroke-width:0.5;\" x=\"49.854062\" xlink:href=\"#m76c5448cd1\" y=\"174.949327\"/>\n      </g>\n     </g>\n    </g>\n    <g id=\"ytick_18\">\n     <g id=\"line2d_23\">\n      <g>\n       <use style=\"fill:#262626;stroke:#262626;stroke-width:0.5;\" x=\"49.854062\" xlink:href=\"#m76c5448cd1\" y=\"172.107697\"/>\n      </g>\n     </g>\n    </g>\n    <g id=\"ytick_19\">\n     <g id=\"line2d_24\">\n      <g>\n       <use style=\"fill:#262626;stroke:#262626;stroke-width:0.5;\" x=\"49.854062\" xlink:href=\"#m76c5448cd1\" y=\"169.646165\"/>\n      </g>\n     </g>\n    </g>\n    <g id=\"ytick_20\">\n     <g id=\"line2d_25\">\n      <g>\n       <use style=\"fill:#262626;stroke:#262626;stroke-width:0.5;\" x=\"49.854062\" xlink:href=\"#m76c5448cd1\" y=\"167.47494\"/>\n      </g>\n     </g>\n    </g>\n    <g id=\"ytick_21\">\n     <g id=\"line2d_26\">\n      <g>\n       <use style=\"fill:#262626;stroke:#262626;stroke-width:0.5;\" x=\"49.854062\" xlink:href=\"#m76c5448cd1\" y=\"152.755163\"/>\n      </g>\n     </g>\n    </g>\n    <g id=\"ytick_22\">\n     <g id=\"line2d_27\">\n      <g>\n       <use style=\"fill:#262626;stroke:#262626;stroke-width:0.5;\" x=\"49.854062\" xlink:href=\"#m76c5448cd1\" y=\"145.280776\"/>\n      </g>\n     </g>\n    </g>\n    <g id=\"ytick_23\">\n     <g id=\"line2d_28\">\n      <g>\n       <use style=\"fill:#262626;stroke:#262626;stroke-width:0.5;\" x=\"49.854062\" xlink:href=\"#m76c5448cd1\" y=\"139.977613\"/>\n      </g>\n     </g>\n    </g>\n    <g id=\"ytick_24\">\n     <g id=\"line2d_29\">\n      <g>\n       <use style=\"fill:#262626;stroke:#262626;stroke-width:0.5;\" x=\"49.854062\" xlink:href=\"#m76c5448cd1\" y=\"135.864161\"/>\n      </g>\n     </g>\n    </g>\n    <g id=\"ytick_25\">\n     <g id=\"line2d_30\">\n      <g>\n       <use style=\"fill:#262626;stroke:#262626;stroke-width:0.5;\" x=\"49.854062\" xlink:href=\"#m76c5448cd1\" y=\"132.503226\"/>\n      </g>\n     </g>\n    </g>\n    <g id=\"ytick_26\">\n     <g id=\"line2d_31\">\n      <g>\n       <use style=\"fill:#262626;stroke:#262626;stroke-width:0.5;\" x=\"49.854062\" xlink:href=\"#m76c5448cd1\" y=\"129.661596\"/>\n      </g>\n     </g>\n    </g>\n    <g id=\"ytick_27\">\n     <g id=\"line2d_32\">\n      <g>\n       <use style=\"fill:#262626;stroke:#262626;stroke-width:0.5;\" x=\"49.854062\" xlink:href=\"#m76c5448cd1\" y=\"127.200064\"/>\n      </g>\n     </g>\n    </g>\n    <g id=\"ytick_28\">\n     <g id=\"line2d_33\">\n      <g>\n       <use style=\"fill:#262626;stroke:#262626;stroke-width:0.5;\" x=\"49.854062\" xlink:href=\"#m76c5448cd1\" y=\"125.028839\"/>\n      </g>\n     </g>\n    </g>\n    <g id=\"ytick_29\">\n     <g id=\"line2d_34\">\n      <g>\n       <use style=\"fill:#262626;stroke:#262626;stroke-width:0.5;\" x=\"49.854062\" xlink:href=\"#m76c5448cd1\" y=\"110.309062\"/>\n      </g>\n     </g>\n    </g>\n    <g id=\"ytick_30\">\n     <g id=\"line2d_35\">\n      <g>\n       <use style=\"fill:#262626;stroke:#262626;stroke-width:0.5;\" x=\"49.854062\" xlink:href=\"#m76c5448cd1\" y=\"102.834674\"/>\n      </g>\n     </g>\n    </g>\n    <g id=\"ytick_31\">\n     <g id=\"line2d_36\">\n      <g>\n       <use style=\"fill:#262626;stroke:#262626;stroke-width:0.5;\" x=\"49.854062\" xlink:href=\"#m76c5448cd1\" y=\"97.531512\"/>\n      </g>\n     </g>\n    </g>\n    <g id=\"ytick_32\">\n     <g id=\"line2d_37\">\n      <g>\n       <use style=\"fill:#262626;stroke:#262626;stroke-width:0.5;\" x=\"49.854062\" xlink:href=\"#m76c5448cd1\" y=\"93.41806\"/>\n      </g>\n     </g>\n    </g>\n    <g id=\"ytick_33\">\n     <g id=\"line2d_38\">\n      <g>\n       <use style=\"fill:#262626;stroke:#262626;stroke-width:0.5;\" x=\"49.854062\" xlink:href=\"#m76c5448cd1\" y=\"90.057125\"/>\n      </g>\n     </g>\n    </g>\n    <g id=\"ytick_34\">\n     <g id=\"line2d_39\">\n      <g>\n       <use style=\"fill:#262626;stroke:#262626;stroke-width:0.5;\" x=\"49.854062\" xlink:href=\"#m76c5448cd1\" y=\"87.215495\"/>\n      </g>\n     </g>\n    </g>\n    <g id=\"ytick_35\">\n     <g id=\"line2d_40\">\n      <g>\n       <use style=\"fill:#262626;stroke:#262626;stroke-width:0.5;\" x=\"49.854062\" xlink:href=\"#m76c5448cd1\" y=\"84.753962\"/>\n      </g>\n     </g>\n    </g>\n    <g id=\"ytick_36\">\n     <g id=\"line2d_41\">\n      <g>\n       <use style=\"fill:#262626;stroke:#262626;stroke-width:0.5;\" x=\"49.854062\" xlink:href=\"#m76c5448cd1\" y=\"82.582737\"/>\n      </g>\n     </g>\n    </g>\n    <g id=\"ytick_37\">\n     <g id=\"line2d_42\">\n      <g>\n       <use style=\"fill:#262626;stroke:#262626;stroke-width:0.5;\" x=\"49.854062\" xlink:href=\"#m76c5448cd1\" y=\"67.862961\"/>\n      </g>\n     </g>\n    </g>\n    <g id=\"ytick_38\">\n     <g id=\"line2d_43\">\n      <g>\n       <use style=\"fill:#262626;stroke:#262626;stroke-width:0.5;\" x=\"49.854062\" xlink:href=\"#m76c5448cd1\" y=\"60.388573\"/>\n      </g>\n     </g>\n    </g>\n    <g id=\"ytick_39\">\n     <g id=\"line2d_44\">\n      <g>\n       <use style=\"fill:#262626;stroke:#262626;stroke-width:0.5;\" x=\"49.854062\" xlink:href=\"#m76c5448cd1\" y=\"55.085411\"/>\n      </g>\n     </g>\n    </g>\n    <g id=\"ytick_40\">\n     <g id=\"line2d_45\">\n      <g>\n       <use style=\"fill:#262626;stroke:#262626;stroke-width:0.5;\" x=\"49.854062\" xlink:href=\"#m76c5448cd1\" y=\"50.971959\"/>\n      </g>\n     </g>\n    </g>\n    <g id=\"ytick_41\">\n     <g id=\"line2d_46\">\n      <g>\n       <use style=\"fill:#262626;stroke:#262626;stroke-width:0.5;\" x=\"49.854062\" xlink:href=\"#m76c5448cd1\" y=\"47.611023\"/>\n      </g>\n     </g>\n    </g>\n    <g id=\"ytick_42\">\n     <g id=\"line2d_47\">\n      <g>\n       <use style=\"fill:#262626;stroke:#262626;stroke-width:0.5;\" x=\"49.854062\" xlink:href=\"#m76c5448cd1\" y=\"44.769393\"/>\n      </g>\n     </g>\n    </g>\n    <g id=\"ytick_43\">\n     <g id=\"line2d_48\">\n      <g>\n       <use style=\"fill:#262626;stroke:#262626;stroke-width:0.5;\" x=\"49.854062\" xlink:href=\"#m76c5448cd1\" y=\"42.307861\"/>\n      </g>\n     </g>\n    </g>\n    <g id=\"ytick_44\">\n     <g id=\"line2d_49\">\n      <g>\n       <use style=\"fill:#262626;stroke:#262626;stroke-width:0.5;\" x=\"49.854062\" xlink:href=\"#m76c5448cd1\" y=\"40.136636\"/>\n      </g>\n     </g>\n    </g>\n    <g id=\"ytick_45\">\n     <g id=\"line2d_50\">\n      <g>\n       <use style=\"fill:#262626;stroke:#262626;stroke-width:0.5;\" x=\"49.854062\" xlink:href=\"#m76c5448cd1\" y=\"25.416859\"/>\n      </g>\n     </g>\n    </g>\n    <g id=\"ytick_46\">\n     <g id=\"line2d_51\">\n      <g>\n       <use style=\"fill:#262626;stroke:#262626;stroke-width:0.5;\" x=\"49.854062\" xlink:href=\"#m76c5448cd1\" y=\"17.942472\"/>\n      </g>\n     </g>\n    </g>\n    <g id=\"text_12\">\n     <!-- Frequency -->\n     <defs>\n      <path d=\"M 17.53125 61.1875 \nL 17.53125 35.59375 \nL 55.90625 35.59375 \nL 55.90625 27.875 \nL 17.53125 27.875 \nL 17.53125 0 \nL 8.203125 0 \nL 8.203125 68.796875 \nL 57.078125 68.796875 \nL 57.078125 61.1875 \nz\n\" id=\"LiberationSans-70\"/>\n      <path d=\"M 23.640625 -0.984375 \nQ 13.578125 -0.984375 8.890625 5.796875 \nQ 4.203125 12.59375 4.203125 26.171875 \nQ 4.203125 39.9375 9 46.875 \nQ 13.8125 53.8125 23.640625 53.8125 \nQ 26.90625 53.8125 29.421875 53.21875 \nQ 31.9375 52.640625 33.90625 51.484375 \nQ 35.890625 50.34375 37.375 48.625 \nQ 38.875 46.921875 40.09375 44.625 \nL 40.1875 44.625 \nQ 40.1875 45.84375 40.25 47.328125 \nQ 40.328125 48.828125 40.40625 50.140625 \nQ 40.484375 51.46875 40.578125 52.421875 \nQ 40.671875 53.375 40.765625 53.515625 \nL 49.21875 53.515625 \nQ 49.125 52.6875 49 49.171875 \nQ 48.875 45.65625 48.875 39.109375 \nL 48.875 -20.75 \nL 40.09375 -20.75 \nL 40.09375 0.6875 \nQ 40.09375 1.953125 40.109375 3.3125 \nQ 40.140625 4.6875 40.1875 5.90625 \nQ 40.234375 7.28125 40.28125 8.6875 \nL 40.1875 8.6875 \nQ 38.921875 6.203125 37.375 4.375 \nQ 35.84375 2.546875 33.84375 1.34375 \nQ 31.84375 0.140625 29.328125 -0.421875 \nQ 26.8125 -0.984375 23.640625 -0.984375 \nz\nM 40.09375 27.046875 \nQ 40.09375 32.8125 39.09375 36.71875 \nQ 38.09375 40.625 36.25 42.96875 \nQ 34.421875 45.3125 31.8125 46.3125 \nQ 29.203125 47.3125 25.984375 47.3125 \nQ 22.609375 47.3125 20.21875 46.0625 \nQ 17.828125 44.828125 16.328125 42.265625 \nQ 14.84375 39.703125 14.125 35.765625 \nQ 13.421875 31.84375 13.421875 26.46875 \nQ 13.421875 21.1875 14.078125 17.28125 \nQ 14.75 13.375 16.234375 10.828125 \nQ 17.71875 8.296875 20.09375 7.046875 \nQ 22.46875 5.8125 25.875 5.8125 \nQ 28.8125 5.8125 31.390625 6.71875 \nQ 33.984375 7.625 35.90625 9.984375 \nQ 37.84375 12.359375 38.96875 16.484375 \nQ 40.09375 20.609375 40.09375 27.046875 \nz\n\" id=\"LiberationSans-113\"/>\n      <path d=\"M 15.328125 52.828125 \nL 15.328125 19.34375 \nQ 15.328125 15.484375 15.890625 12.890625 \nQ 16.453125 10.296875 17.71875 8.703125 \nQ 19 7.125 21.0625 6.46875 \nQ 23.140625 5.8125 26.21875 5.8125 \nQ 29.34375 5.8125 31.859375 6.90625 \nQ 34.375 8.015625 36.15625 10.078125 \nQ 37.9375 12.15625 38.90625 15.203125 \nQ 39.890625 18.265625 39.890625 22.21875 \nL 39.890625 52.828125 \nL 48.6875 52.828125 \nL 48.6875 11.28125 \nQ 48.6875 9.625 48.703125 7.78125 \nQ 48.734375 5.953125 48.78125 4.3125 \nQ 48.828125 2.6875 48.875 1.515625 \nQ 48.921875 0.34375 48.96875 0 \nL 40.671875 0 \nQ 40.625 0.25 40.578125 1.3125 \nQ 40.53125 2.390625 40.453125 3.78125 \nQ 40.375 5.171875 40.328125 6.609375 \nQ 40.28125 8.0625 40.28125 9.03125 \nL 40.140625 9.03125 \nQ 38.875 6.734375 37.359375 4.875 \nQ 35.84375 3.03125 33.84375 1.734375 \nQ 31.84375 0.4375 29.25 -0.265625 \nQ 26.65625 -0.984375 23.25 -0.984375 \nQ 18.84375 -0.984375 15.671875 0.09375 \nQ 12.5 1.171875 10.453125 3.421875 \nQ 8.40625 5.671875 7.453125 9.1875 \nQ 6.5 12.703125 6.5 17.625 \nL 6.5 52.828125 \nz\n\" id=\"LiberationSans-117\"/>\n      <path d=\"M 40.28125 0 \nL 40.28125 33.5 \nQ 40.28125 37.359375 39.71875 39.9375 \nQ 39.15625 42.53125 37.890625 44.109375 \nQ 36.625 45.703125 34.546875 46.359375 \nQ 32.46875 47.015625 29.390625 47.015625 \nQ 26.265625 47.015625 23.75 45.921875 \nQ 21.234375 44.828125 19.453125 42.75 \nQ 17.671875 40.671875 16.6875 37.625 \nQ 15.71875 34.578125 15.71875 30.609375 \nL 15.71875 0 \nL 6.9375 0 \nL 6.9375 41.546875 \nQ 6.9375 43.21875 6.90625 45.046875 \nQ 6.890625 46.875 6.828125 48.5 \nQ 6.78125 50.140625 6.734375 51.3125 \nQ 6.6875 52.484375 6.640625 52.828125 \nL 14.9375 52.828125 \nQ 14.984375 52.59375 15.03125 51.515625 \nQ 15.09375 50.4375 15.15625 49.046875 \nQ 15.234375 47.65625 15.28125 46.21875 \nQ 15.328125 44.78125 15.328125 43.796875 \nL 15.484375 43.796875 \nQ 16.75 46.09375 18.265625 47.953125 \nQ 19.78125 49.8125 21.78125 51.09375 \nQ 23.78125 52.390625 26.359375 53.09375 \nQ 28.953125 53.8125 32.375 53.8125 \nQ 36.765625 53.8125 39.9375 52.734375 \nQ 43.109375 51.65625 45.15625 49.40625 \nQ 47.21875 47.171875 48.171875 43.625 \nQ 49.125 40.09375 49.125 35.203125 \nL 49.125 0 \nz\n\" id=\"LiberationSans-110\"/>\n      <path d=\"M 29.5 0 \nQ 27.640625 -4.78125 25.703125 -8.609375 \nQ 23.78125 -12.453125 21.390625 -15.15625 \nQ 19 -17.875 16.0625 -19.3125 \nQ 13.140625 -20.75 9.328125 -20.75 \nQ 7.671875 -20.75 6.25 -20.65625 \nQ 4.828125 -20.5625 3.265625 -20.21875 \nL 3.265625 -13.625 \nQ 4.203125 -13.765625 5.375 -13.84375 \nQ 6.546875 -13.921875 7.375 -13.921875 \nQ 11.234375 -13.921875 14.546875 -11.03125 \nQ 17.875 -8.15625 20.359375 -1.859375 \nL 21.1875 0.25 \nL 0.25 52.828125 \nL 9.625 52.828125 \nL 20.75 23.640625 \nQ 21.234375 22.3125 21.984375 20.109375 \nQ 22.75 17.921875 23.5 15.71875 \nQ 24.265625 13.53125 24.84375 11.765625 \nQ 25.4375 10.015625 25.53125 9.578125 \nQ 25.6875 10.109375 26.25 11.6875 \nQ 26.8125 13.28125 27.515625 15.234375 \nQ 28.21875 17.1875 28.953125 19.1875 \nQ 29.6875 21.1875 30.171875 22.65625 \nL 40.53125 52.828125 \nL 49.8125 52.828125 \nz\n\" id=\"LiberationSans-121\"/>\n     </defs>\n     <g style=\"fill:#262626;\" transform=\"translate(15.171562 147.903203)rotate(-90)scale(0.11 -0.11)\">\n      <use xlink:href=\"#LiberationSans-70\"/>\n      <use x=\"61.083984\" xlink:href=\"#LiberationSans-114\"/>\n      <use x=\"94.384766\" xlink:href=\"#LiberationSans-101\"/>\n      <use x=\"150\" xlink:href=\"#LiberationSans-113\"/>\n      <use x=\"205.615234\" xlink:href=\"#LiberationSans-117\"/>\n      <use x=\"261.230469\" xlink:href=\"#LiberationSans-101\"/>\n      <use x=\"316.845703\" xlink:href=\"#LiberationSans-110\"/>\n      <use x=\"372.460938\" xlink:href=\"#LiberationSans-99\"/>\n      <use x=\"422.460938\" xlink:href=\"#LiberationSans-121\"/>\n     </g>\n    </g>\n   </g>\n   <g id=\"patch_3\">\n    <path clip-path=\"url(#pacf1610bc7)\" d=\"M 65.072244 42696.526156 \nL 68.115881 42696.526156 \nL 68.115881 23.083636 \nL 65.072244 23.083636 \nz\n\" style=\"fill:#4c72b0;opacity:0.4;\"/>\n   </g>\n   <g id=\"patch_4\">\n    <path clip-path=\"url(#pacf1610bc7)\" d=\"M 68.115881 42696.526156 \nL 71.159517 42696.526156 \nL 71.159517 69.741801 \nL 68.115881 69.741801 \nz\n\" style=\"fill:#4c72b0;opacity:0.4;\"/>\n   </g>\n   <g id=\"patch_5\">\n    <path clip-path=\"url(#pacf1610bc7)\" d=\"M 71.159517 42696.526156 \nL 74.203153 42696.526156 \nL 74.203153 80.058074 \nL 71.159517 80.058074 \nz\n\" style=\"fill:#4c72b0;opacity:0.4;\"/>\n   </g>\n   <g id=\"patch_6\">\n    <path clip-path=\"url(#pacf1610bc7)\" d=\"M 74.203153 42696.526156 \nL 77.24679 42696.526156 \nL 77.24679 87.147152 \nL 74.203153 87.147152 \nz\n\" style=\"fill:#4c72b0;opacity:0.4;\"/>\n   </g>\n   <g id=\"patch_7\">\n    <path clip-path=\"url(#pacf1610bc7)\" d=\"M 77.24679 42696.526156 \nL 80.290426 42696.526156 \nL 80.290426 92.748313 \nL 77.24679 92.748313 \nz\n\" style=\"fill:#4c72b0;opacity:0.4;\"/>\n   </g>\n   <g id=\"patch_8\">\n    <path clip-path=\"url(#pacf1610bc7)\" d=\"M 80.290426 42696.526156 \nL 83.334063 42696.526156 \nL 83.334063 97.220766 \nL 80.290426 97.220766 \nz\n\" style=\"fill:#4c72b0;opacity:0.4;\"/>\n   </g>\n   <g id=\"patch_9\">\n    <path clip-path=\"url(#pacf1610bc7)\" d=\"M 83.334063 42696.526156 \nL 86.377699 42696.526156 \nL 86.377699 101.410278 \nL 83.334063 101.410278 \nz\n\" style=\"fill:#4c72b0;opacity:0.4;\"/>\n   </g>\n   <g id=\"patch_10\">\n    <path clip-path=\"url(#pacf1610bc7)\" d=\"M 86.377699 42696.526156 \nL 89.421335 42696.526156 \nL 89.421335 105.065908 \nL 86.377699 105.065908 \nz\n\" style=\"fill:#4c72b0;opacity:0.4;\"/>\n   </g>\n   <g id=\"patch_11\">\n    <path clip-path=\"url(#pacf1610bc7)\" d=\"M 89.421335 42696.526156 \nL 92.464972 42696.526156 \nL 92.464972 107.788864 \nL 89.421335 107.788864 \nz\n\" style=\"fill:#4c72b0;opacity:0.4;\"/>\n   </g>\n   <g id=\"patch_12\">\n    <path clip-path=\"url(#pacf1610bc7)\" d=\"M 92.464972 42696.526156 \nL 95.508608 42696.526156 \nL 95.508608 111.05198 \nL 92.464972 111.05198 \nz\n\" style=\"fill:#4c72b0;opacity:0.4;\"/>\n   </g>\n   <g id=\"patch_13\">\n    <path clip-path=\"url(#pacf1610bc7)\" d=\"M 95.508608 42696.526156 \nL 98.552244 42696.526156 \nL 98.552244 112.91866 \nL 95.508608 112.91866 \nz\n\" style=\"fill:#4c72b0;opacity:0.4;\"/>\n   </g>\n   <g id=\"patch_14\">\n    <path clip-path=\"url(#pacf1610bc7)\" d=\"M 98.552244 42696.526156 \nL 101.595881 42696.526156 \nL 101.595881 116.403186 \nL 98.552244 116.403186 \nz\n\" style=\"fill:#4c72b0;opacity:0.4;\"/>\n   </g>\n   <g id=\"patch_15\">\n    <path clip-path=\"url(#pacf1610bc7)\" d=\"M 101.595881 42696.526156 \nL 104.639517 42696.526156 \nL 104.639517 118.651541 \nL 101.595881 118.651541 \nz\n\" style=\"fill:#4c72b0;opacity:0.4;\"/>\n   </g>\n   <g id=\"patch_16\">\n    <path clip-path=\"url(#pacf1610bc7)\" d=\"M 104.639517 42696.526156 \nL 107.683153 42696.526156 \nL 107.683153 120.606655 \nL 104.639517 120.606655 \nz\n\" style=\"fill:#4c72b0;opacity:0.4;\"/>\n   </g>\n   <g id=\"patch_17\">\n    <path clip-path=\"url(#pacf1610bc7)\" d=\"M 107.683153 42696.526156 \nL 110.72679 42696.526156 \nL 110.72679 122.577551 \nL 107.683153 122.577551 \nz\n\" style=\"fill:#4c72b0;opacity:0.4;\"/>\n   </g>\n   <g id=\"patch_18\">\n    <path clip-path=\"url(#pacf1610bc7)\" d=\"M 110.72679 42696.526156 \nL 113.770426 42696.526156 \nL 113.770426 125.548144 \nL 110.72679 125.548144 \nz\n\" style=\"fill:#4c72b0;opacity:0.4;\"/>\n   </g>\n   <g id=\"patch_19\">\n    <path clip-path=\"url(#pacf1610bc7)\" d=\"M 113.770426 42696.526156 \nL 116.814062 42696.526156 \nL 116.814062 126.588181 \nL 113.770426 126.588181 \nz\n\" style=\"fill:#4c72b0;opacity:0.4;\"/>\n   </g>\n   <g id=\"patch_20\">\n    <path clip-path=\"url(#pacf1610bc7)\" d=\"M 116.814063 42696.526156 \nL 119.857699 42696.526156 \nL 119.857699 127.832956 \nL 116.814063 127.832956 \nz\n\" style=\"fill:#4c72b0;opacity:0.4;\"/>\n   </g>\n   <g id=\"patch_21\">\n    <path clip-path=\"url(#pacf1610bc7)\" d=\"M 119.857699 42696.526156 \nL 122.901335 42696.526156 \nL 122.901335 129.426097 \nL 119.857699 129.426097 \nz\n\" style=\"fill:#4c72b0;opacity:0.4;\"/>\n   </g>\n   <g id=\"patch_22\">\n    <path clip-path=\"url(#pacf1610bc7)\" d=\"M 122.901335 42696.526156 \nL 125.944972 42696.526156 \nL 125.944972 131.458098 \nL 122.901335 131.458098 \nz\n\" style=\"fill:#4c72b0;opacity:0.4;\"/>\n   </g>\n   <g id=\"patch_23\">\n    <path clip-path=\"url(#pacf1610bc7)\" d=\"M 125.944972 42696.526156 \nL 128.988608 42696.526156 \nL 128.988608 131.839406 \nL 125.944972 131.839406 \nz\n\" style=\"fill:#4c72b0;opacity:0.4;\"/>\n   </g>\n   <g id=\"patch_24\">\n    <path clip-path=\"url(#pacf1610bc7)\" d=\"M 128.988608 42696.526156 \nL 132.032244 42696.526156 \nL 132.032244 132.875645 \nL 128.988608 132.875645 \nz\n\" style=\"fill:#4c72b0;opacity:0.4;\"/>\n   </g>\n   <g id=\"patch_25\">\n    <path clip-path=\"url(#pacf1610bc7)\" d=\"M 132.032244 42696.526156 \nL 135.075881 42696.526156 \nL 135.075881 134.309407 \nL 132.032244 134.309407 \nz\n\" style=\"fill:#4c72b0;opacity:0.4;\"/>\n   </g>\n   <g id=\"patch_26\">\n    <path clip-path=\"url(#pacf1610bc7)\" d=\"M 135.075881 42696.526156 \nL 138.119517 42696.526156 \nL 138.119517 137.004779 \nL 135.075881 137.004779 \nz\n\" style=\"fill:#4c72b0;opacity:0.4;\"/>\n   </g>\n   <g id=\"patch_27\">\n    <path clip-path=\"url(#pacf1610bc7)\" d=\"M 138.119517 42696.526156 \nL 141.163153 42696.526156 \nL 141.163153 137.201937 \nL 138.119517 137.201937 \nz\n\" style=\"fill:#4c72b0;opacity:0.4;\"/>\n   </g>\n   <g id=\"patch_28\">\n    <path clip-path=\"url(#pacf1610bc7)\" d=\"M 141.163153 42696.526156 \nL 144.20679 42696.526156 \nL 144.20679 139.07821 \nL 141.163153 139.07821 \nz\n\" style=\"fill:#4c72b0;opacity:0.4;\"/>\n   </g>\n   <g id=\"patch_29\">\n    <path clip-path=\"url(#pacf1610bc7)\" d=\"M 144.20679 42696.526156 \nL 147.250426 42696.526156 \nL 147.250426 141.91984 \nL 144.20679 141.91984 \nz\n\" style=\"fill:#4c72b0;opacity:0.4;\"/>\n   </g>\n   <g id=\"patch_30\">\n    <path clip-path=\"url(#pacf1610bc7)\" d=\"M 147.250426 42696.526156 \nL 150.294062 42696.526156 \nL 150.294062 141.315389 \nL 147.250426 141.315389 \nz\n\" style=\"fill:#4c72b0;opacity:0.4;\"/>\n   </g>\n   <g id=\"patch_31\">\n    <path clip-path=\"url(#pacf1610bc7)\" d=\"M 150.294062 42696.526156 \nL 153.337699 42696.526156 \nL 153.337699 142.177664 \nL 150.294062 142.177664 \nz\n\" style=\"fill:#4c72b0;opacity:0.4;\"/>\n   </g>\n   <g id=\"patch_32\">\n    <path clip-path=\"url(#pacf1610bc7)\" d=\"M 153.337699 42696.526156 \nL 156.381335 42696.526156 \nL 156.381335 142.334107 \nL 153.337699 142.334107 \nz\n\" style=\"fill:#4c72b0;opacity:0.4;\"/>\n   </g>\n   <g id=\"patch_33\">\n    <path clip-path=\"url(#pacf1610bc7)\" d=\"M 156.381335 42696.526156 \nL 159.424972 42696.526156 \nL 159.424972 142.973505 \nL 156.381335 142.973505 \nz\n\" style=\"fill:#4c72b0;opacity:0.4;\"/>\n   </g>\n   <g id=\"patch_34\">\n    <path clip-path=\"url(#pacf1610bc7)\" d=\"M 159.424972 42696.526156 \nL 162.468608 42696.526156 \nL 162.468608 146.684742 \nL 159.424972 146.684742 \nz\n\" style=\"fill:#4c72b0;opacity:0.4;\"/>\n   </g>\n   <g id=\"patch_35\">\n    <path clip-path=\"url(#pacf1610bc7)\" d=\"M 162.468608 42696.526156 \nL 165.512244 42696.526156 \nL 165.512244 146.552598 \nL 162.468608 146.552598 \nz\n\" style=\"fill:#4c72b0;opacity:0.4;\"/>\n   </g>\n   <g id=\"patch_36\">\n    <path clip-path=\"url(#pacf1610bc7)\" d=\"M 165.512244 42696.526156 \nL 168.555881 42696.526156 \nL 168.555881 147.918712 \nL 165.512244 147.918712 \nz\n\" style=\"fill:#4c72b0;opacity:0.4;\"/>\n   </g>\n   <g id=\"patch_37\">\n    <path clip-path=\"url(#pacf1610bc7)\" d=\"M 168.555881 42696.526156 \nL 171.599517 42696.526156 \nL 171.599517 146.817841 \nL 168.555881 146.817841 \nz\n\" style=\"fill:#4c72b0;opacity:0.4;\"/>\n   </g>\n   <g id=\"patch_38\">\n    <path clip-path=\"url(#pacf1610bc7)\" d=\"M 171.599517 42696.526156 \nL 174.643153 42696.526156 \nL 174.643153 146.751172 \nL 171.599517 146.751172 \nz\n\" style=\"fill:#4c72b0;opacity:0.4;\"/>\n   </g>\n   <g id=\"patch_39\">\n    <path clip-path=\"url(#pacf1610bc7)\" d=\"M 174.643153 42696.526156 \nL 177.68679 42696.526156 \nL 177.68679 150.098802 \nL 174.643153 150.098802 \nz\n\" style=\"fill:#4c72b0;opacity:0.4;\"/>\n   </g>\n   <g id=\"patch_40\">\n    <path clip-path=\"url(#pacf1610bc7)\" d=\"M 177.68679 42696.526156 \nL 180.730426 42696.526156 \nL 180.730426 147.918712 \nL 177.68679 147.918712 \nz\n\" style=\"fill:#4c72b0;opacity:0.4;\"/>\n   </g>\n   <g id=\"patch_41\">\n    <path clip-path=\"url(#pacf1610bc7)\" d=\"M 180.730426 42696.526156 \nL 183.774062 42696.526156 \nL 183.774062 150.748529 \nL 180.730426 150.748529 \nz\n\" style=\"fill:#4c72b0;opacity:0.4;\"/>\n   </g>\n   <g id=\"patch_42\">\n    <path clip-path=\"url(#pacf1610bc7)\" d=\"M 183.774062 42696.526156 \nL 186.817699 42696.526156 \nL 186.817699 150.998205 \nL 183.774062 150.998205 \nz\n\" style=\"fill:#4c72b0;opacity:0.4;\"/>\n   </g>\n   <g id=\"patch_43\">\n    <path clip-path=\"url(#pacf1610bc7)\" d=\"M 186.817699 42696.526156 \nL 189.861335 42696.526156 \nL 189.861335 149.782329 \nL 186.817699 149.782329 \nz\n\" style=\"fill:#4c72b0;opacity:0.4;\"/>\n   </g>\n   <g id=\"patch_44\">\n    <path clip-path=\"url(#pacf1610bc7)\" d=\"M 189.861335 42696.526156 \nL 192.904972 42696.526156 \nL 192.904972 150.339774 \nL 189.861335 150.339774 \nz\n\" style=\"fill:#4c72b0;opacity:0.4;\"/>\n   </g>\n   <g id=\"patch_45\">\n    <path clip-path=\"url(#pacf1610bc7)\" d=\"M 192.904972 42696.526156 \nL 195.948608 42696.526156 \nL 195.948608 152.121003 \nL 192.904972 152.121003 \nz\n\" style=\"fill:#4c72b0;opacity:0.4;\"/>\n   </g>\n   <g id=\"patch_46\">\n    <path clip-path=\"url(#pacf1610bc7)\" d=\"M 195.948608 42696.526156 \nL 198.992244 42696.526156 \nL 198.992244 151.594279 \nL 195.948608 151.594279 \nz\n\" style=\"fill:#4c72b0;opacity:0.4;\"/>\n   </g>\n   <g id=\"patch_47\">\n    <path clip-path=\"url(#pacf1610bc7)\" d=\"M 198.992244 42696.526156 \nL 202.035881 42696.526156 \nL 202.035881 153.316651 \nL 198.992244 153.316651 \nz\n\" style=\"fill:#4c72b0;opacity:0.4;\"/>\n   </g>\n   <g id=\"patch_48\">\n    <path clip-path=\"url(#pacf1610bc7)\" d=\"M 202.035881 42696.526156 \nL 205.079517 42696.526156 \nL 205.079517 158.810842 \nL 202.035881 158.810842 \nz\n\" style=\"fill:#4c72b0;opacity:0.4;\"/>\n   </g>\n   <g id=\"patch_49\">\n    <path clip-path=\"url(#pacf1610bc7)\" d=\"M 205.079517 42696.526156 \nL 208.123153 42696.526156 \nL 208.123153 155.007214 \nL 205.079517 155.007214 \nz\n\" style=\"fill:#4c72b0;opacity:0.4;\"/>\n   </g>\n   <g id=\"patch_50\">\n    <path clip-path=\"url(#pacf1610bc7)\" d=\"M 208.123153 42696.526156 \nL 211.16679 42696.526156 \nL 211.16679 154.595262 \nL 208.123153 154.595262 \nz\n\" style=\"fill:#4c72b0;opacity:0.4;\"/>\n   </g>\n   <g id=\"patch_51\">\n    <path clip-path=\"url(#pacf1610bc7)\" d=\"M 211.16679 42696.526156 \nL 214.210426 42696.526156 \nL 214.210426 155.859811 \nL 211.16679 155.859811 \nz\n\" style=\"fill:#4c72b0;opacity:0.4;\"/>\n   </g>\n   <g id=\"patch_52\">\n    <path clip-path=\"url(#pacf1610bc7)\" d=\"M 214.210426 42696.526156 \nL 217.254063 42696.526156 \nL 217.254063 155.642936 \nL 214.210426 155.642936 \nz\n\" style=\"fill:#4c72b0;opacity:0.4;\"/>\n   </g>\n   <g id=\"patch_53\">\n    <path clip-path=\"url(#pacf1610bc7)\" d=\"M 217.254062 42696.526156 \nL 220.297699 42696.526156 \nL 220.297699 155.322335 \nL 217.254062 155.322335 \nz\n\" style=\"fill:#4c72b0;opacity:0.4;\"/>\n   </g>\n   <g id=\"patch_54\">\n    <path clip-path=\"url(#pacf1610bc7)\" d=\"M 220.297699 42696.526156 \nL 223.341335 42696.526156 \nL 223.341335 155.007214 \nL 220.297699 155.007214 \nz\n\" style=\"fill:#4c72b0;opacity:0.4;\"/>\n   </g>\n   <g id=\"patch_55\">\n    <path clip-path=\"url(#pacf1610bc7)\" d=\"M 223.341335 42696.526156 \nL 226.384972 42696.526156 \nL 226.384972 160.838611 \nL 223.341335 160.838611 \nz\n\" style=\"fill:#4c72b0;opacity:0.4;\"/>\n   </g>\n   <g id=\"patch_56\">\n    <path clip-path=\"url(#pacf1610bc7)\" d=\"M 226.384972 42696.526156 \nL 229.428608 42696.526156 \nL 229.428608 158.305767 \nL 226.384972 158.305767 \nz\n\" style=\"fill:#4c72b0;opacity:0.4;\"/>\n   </g>\n   <g id=\"patch_57\">\n    <path clip-path=\"url(#pacf1610bc7)\" d=\"M 229.428608 42696.526156 \nL 232.472244 42696.526156 \nL 232.472244 159.068666 \nL 229.428608 159.068666 \nz\n\" style=\"fill:#4c72b0;opacity:0.4;\"/>\n   </g>\n   <g id=\"patch_58\">\n    <path clip-path=\"url(#pacf1610bc7)\" d=\"M 232.472244 42696.526156 \nL 235.515881 42696.526156 \nL 235.515881 161.716591 \nL 232.472244 161.716591 \nz\n\" style=\"fill:#4c72b0;opacity:0.4;\"/>\n   </g>\n   <g id=\"patch_59\">\n    <path clip-path=\"url(#pacf1610bc7)\" d=\"M 235.515881 42696.526156 \nL 238.559517 42696.526156 \nL 238.559517 166.094201 \nL 235.515881 166.094201 \nz\n\" style=\"fill:#4c72b0;opacity:0.4;\"/>\n   </g>\n   <g id=\"patch_60\">\n    <path clip-path=\"url(#pacf1610bc7)\" d=\"M 238.559517 42696.526156 \nL 241.603153 42696.526156 \nL 241.603153 158.556575 \nL 238.559517 158.556575 \nz\n\" style=\"fill:#4c72b0;opacity:0.4;\"/>\n   </g>\n   <g id=\"patch_61\">\n    <path clip-path=\"url(#pacf1610bc7)\" d=\"M 241.603153 42696.526156 \nL 244.64679 42696.526156 \nL 244.64679 163.944104 \nL 241.603153 163.944104 \nz\n\" style=\"fill:#4c72b0;opacity:0.4;\"/>\n   </g>\n   <g id=\"patch_62\">\n    <path clip-path=\"url(#pacf1610bc7)\" d=\"M 244.64679 42696.526156 \nL 247.690426 42696.526156 \nL 247.690426 161.272374 \nL 244.64679 161.272374 \nz\n\" style=\"fill:#4c72b0;opacity:0.4;\"/>\n   </g>\n   <g id=\"patch_63\">\n    <path clip-path=\"url(#pacf1610bc7)\" d=\"M 247.690426 42696.526156 \nL 250.734062 42696.526156 \nL 250.734062 169.417167 \nL 247.690426 169.417167 \nz\n\" style=\"fill:#4c72b0;opacity:0.4;\"/>\n   </g>\n   <g id=\"patch_64\">\n    <path clip-path=\"url(#pacf1610bc7)\" d=\"M 250.734062 42696.526156 \nL 253.777699 42696.526156 \nL 253.777699 171.334124 \nL 250.734062 171.334124 \nz\n\" style=\"fill:#4c72b0;opacity:0.4;\"/>\n   </g>\n   <g id=\"patch_65\">\n    <path clip-path=\"url(#pacf1610bc7)\" d=\"M 253.777699 42696.526156 \nL 256.821335 42696.526156 \nL 256.821335 170.112876 \nL 253.777699 170.112876 \nz\n\" style=\"fill:#4c72b0;opacity:0.4;\"/>\n   </g>\n   <g id=\"patch_66\">\n    <path clip-path=\"url(#pacf1610bc7)\" d=\"M 256.821335 42696.526156 \nL 259.864972 42696.526156 \nL 259.864972 171.846216 \nL 256.821335 171.846216 \nz\n\" style=\"fill:#4c72b0;opacity:0.4;\"/>\n   </g>\n   <g id=\"patch_67\">\n    <path clip-path=\"url(#pacf1610bc7)\" d=\"M 259.864972 42696.526156 \nL 262.908608 42696.526156 \nL 262.908608 174.344876 \nL 259.864972 174.344876 \nz\n\" style=\"fill:#4c72b0;opacity:0.4;\"/>\n   </g>\n   <g id=\"patch_68\">\n    <path clip-path=\"url(#pacf1610bc7)\" d=\"M 262.908608 42696.526156 \nL 265.952244 42696.526156 \nL 265.952244 177.587264 \nL 262.908608 177.587264 \nz\n\" style=\"fill:#4c72b0;opacity:0.4;\"/>\n   </g>\n   <g id=\"patch_69\">\n    <path clip-path=\"url(#pacf1610bc7)\" d=\"M 265.952244 42696.526156 \nL 268.995881 42696.526156 \nL 268.995881 177.587264 \nL 265.952244 177.587264 \nz\n\" style=\"fill:#4c72b0;opacity:0.4;\"/>\n   </g>\n   <g id=\"patch_70\">\n    <path clip-path=\"url(#pacf1610bc7)\" d=\"M 268.995881 42696.526156 \nL 272.039517 42696.526156 \nL 272.039517 178.682681 \nL 268.995881 178.682681 \nz\n\" style=\"fill:#4c72b0;opacity:0.4;\"/>\n   </g>\n   <g id=\"patch_71\">\n    <path clip-path=\"url(#pacf1610bc7)\" d=\"M 272.039517 42696.526156 \nL 275.083153 42696.526156 \nL 275.083153 183.860866 \nL 272.039517 183.860866 \nz\n\" style=\"fill:#4c72b0;opacity:0.4;\"/>\n   </g>\n   <g id=\"patch_72\">\n    <path clip-path=\"url(#pacf1610bc7)\" d=\"M 275.083153 42696.526156 \nL 278.12679 42696.526156 \nL 278.12679 193.444306 \nL 275.083153 193.444306 \nz\n\" style=\"fill:#4c72b0;opacity:0.4;\"/>\n   </g>\n   <g id=\"patch_73\">\n    <path clip-path=\"url(#pacf1610bc7)\" d=\"M 278.12679 42696.526156 \nL 281.170426 42696.526156 \nL 281.170426 196.14681 \nL 278.12679 196.14681 \nz\n\" style=\"fill:#4c72b0;opacity:0.4;\"/>\n   </g>\n   <g id=\"patch_74\">\n    <path clip-path=\"url(#pacf1610bc7)\" d=\"M 281.170426 42696.526156 \nL 284.214062 42696.526156 \nL 284.214062 188.998699 \nL 281.170426 188.998699 \nz\n\" style=\"fill:#4c72b0;opacity:0.4;\"/>\n   </g>\n   <g id=\"patch_75\">\n    <path clip-path=\"url(#pacf1610bc7)\" d=\"M 284.214062 42696.526156 \nL 287.257699 42696.526156 \nL 287.257699 193.444306 \nL 284.214062 193.444306 \nz\n\" style=\"fill:#4c72b0;opacity:0.4;\"/>\n   </g>\n   <g id=\"patch_76\">\n    <path clip-path=\"url(#pacf1610bc7)\" d=\"M 287.257699 42696.526156 \nL 290.301335 42696.526156 \nL 290.301335 193.444306 \nL 287.257699 193.444306 \nz\n\" style=\"fill:#4c72b0;opacity:0.4;\"/>\n   </g>\n   <g id=\"patch_77\">\n    <path clip-path=\"url(#pacf1610bc7)\" d=\"M 290.301335 42696.526156 \nL 293.344972 42696.526156 \nL 293.344972 198.197156 \nL 290.301335 198.197156 \nz\n\" style=\"fill:#4c72b0;opacity:0.4;\"/>\n   </g>\n   <g id=\"patch_78\">\n    <path clip-path=\"url(#pacf1610bc7)\" d=\"M 293.344972 42696.526156 \nL 296.388608 42696.526156 \nL 296.388608 195.201264 \nL 293.344972 195.201264 \nz\n\" style=\"fill:#4c72b0;opacity:0.4;\"/>\n   </g>\n   <g id=\"patch_79\">\n    <path clip-path=\"url(#pacf1610bc7)\" d=\"M 296.388608 42696.526156 \nL 299.432244 42696.526156 \nL 299.432244 200.504427 \nL 296.388608 200.504427 \nz\n\" style=\"fill:#4c72b0;opacity:0.4;\"/>\n   </g>\n   <g id=\"patch_80\">\n    <path clip-path=\"url(#pacf1610bc7)\" d=\"M 299.432244 42696.526156 \nL 302.475881 42696.526156 \nL 302.475881 199.314717 \nL 299.432244 199.314717 \nz\n\" style=\"fill:#4c72b0;opacity:0.4;\"/>\n   </g>\n   <g id=\"patch_81\">\n    <path clip-path=\"url(#pacf1610bc7)\" d=\"M 302.475881 42696.526156 \nL 305.519517 42696.526156 \nL 305.519517 209.921041 \nL 302.475881 209.921041 \nz\n\" style=\"fill:#4c72b0;opacity:0.4;\"/>\n   </g>\n   <g id=\"patch_82\">\n    <path clip-path=\"url(#pacf1610bc7)\" d=\"M 305.519517 42696.526156 \nL 308.563153 42696.526156 \nL 308.563153 201.776249 \nL 305.519517 201.776249 \nz\n\" style=\"fill:#4c72b0;opacity:0.4;\"/>\n   </g>\n   <g id=\"patch_83\">\n    <path clip-path=\"url(#pacf1610bc7)\" d=\"M 308.563153 42696.526156 \nL 311.60679 42696.526156 \nL 311.60679 206.221856 \nL 308.563153 206.221856 \nz\n\" style=\"fill:#4c72b0;opacity:0.4;\"/>\n   </g>\n   <g id=\"patch_84\">\n    <path clip-path=\"url(#pacf1610bc7)\" d=\"M 311.60679 42696.526156 \nL 314.650426 42696.526156 \nL 314.650426 204.617879 \nL 311.60679 204.617879 \nz\n\" style=\"fill:#4c72b0;opacity:0.4;\"/>\n   </g>\n   <g id=\"patch_85\">\n    <path clip-path=\"url(#pacf1610bc7)\" d=\"M 314.650426 42696.526156 \nL 317.694062 42696.526156 \nL 317.694062 201.776249 \nL 314.650426 201.776249 \nz\n\" style=\"fill:#4c72b0;opacity:0.4;\"/>\n   </g>\n   <g id=\"patch_86\">\n    <path clip-path=\"url(#pacf1610bc7)\" d=\"M 317.694062 42696.526156 \nL 320.737699 42696.526156 \nL 320.737699 220.756364 \nL 317.694062 220.756364 \nz\n\" style=\"fill:#4c72b0;opacity:0.4;\"/>\n   </g>\n   <g id=\"patch_87\">\n    <path clip-path=\"url(#pacf1610bc7)\" d=\"M 320.737699 42696.526156 \nL 323.781335 42696.526156 \nL 323.781335 201.776249 \nL 320.737699 201.776249 \nz\n\" style=\"fill:#4c72b0;opacity:0.4;\"/>\n   </g>\n   <g id=\"patch_88\">\n    <path clip-path=\"url(#pacf1610bc7)\" d=\"M 323.781335 42696.526156 \nL 326.824972 42696.526156 \nL 326.824972 206.221856 \nL 323.781335 206.221856 \nz\n\" style=\"fill:#4c72b0;opacity:0.4;\"/>\n   </g>\n   <g id=\"patch_89\">\n    <path clip-path=\"url(#pacf1610bc7)\" d=\"M 326.824972 42696.526156 \nL 329.868608 42696.526156 \nL 329.868608 201.776249 \nL 326.824972 201.776249 \nz\n\" style=\"fill:#4c72b0;opacity:0.4;\"/>\n   </g>\n   <g id=\"patch_90\">\n    <path clip-path=\"url(#pacf1610bc7)\" d=\"M 329.868608 42696.526156 \nL 332.912244 42696.526156 \nL 332.912244 204.617879 \nL 329.868608 204.617879 \nz\n\" style=\"fill:#4c72b0;opacity:0.4;\"/>\n   </g>\n   <g id=\"patch_91\">\n    <path clip-path=\"url(#pacf1610bc7)\" d=\"M 332.912244 42696.526156 \nL 335.955881 42696.526156 \nL 335.955881 189.669104 \nL 332.912244 189.669104 \nz\n\" style=\"fill:#4c72b0;opacity:0.4;\"/>\n   </g>\n   <g id=\"patch_92\">\n    <path clip-path=\"url(#pacf1610bc7)\" d=\"M 335.955881 42696.526156 \nL 338.999517 42696.526156 \nL 338.999517 207.978814 \nL 335.955881 207.978814 \nz\n\" style=\"fill:#4c72b0;opacity:0.4;\"/>\n   </g>\n   <g id=\"patch_93\">\n    <path clip-path=\"url(#pacf1610bc7)\" d=\"M 338.999517 42696.526156 \nL 342.043153 42696.526156 \nL 342.043153 207.978814 \nL 338.999517 207.978814 \nz\n\" style=\"fill:#4c72b0;opacity:0.4;\"/>\n   </g>\n   <g id=\"patch_94\">\n    <path clip-path=\"url(#pacf1610bc7)\" d=\"M 342.043153 42696.526156 \nL 345.08679 42696.526156 \nL 345.08679 206.221856 \nL 342.043153 206.221856 \nz\n\" style=\"fill:#4c72b0;opacity:0.4;\"/>\n   </g>\n   <g id=\"patch_95\">\n    <path clip-path=\"url(#pacf1610bc7)\" d=\"M 345.08679 42696.526156 \nL 348.130426 42696.526156 \nL 348.130426 198.197156 \nL 345.08679 198.197156 \nz\n\" style=\"fill:#4c72b0;opacity:0.4;\"/>\n   </g>\n   <g id=\"patch_96\">\n    <path clip-path=\"url(#pacf1610bc7)\" d=\"M 348.130426 42696.526156 \nL 351.174062 42696.526156 \nL 351.174062 194.301861 \nL 348.130426 194.301861 \nz\n\" style=\"fill:#4c72b0;opacity:0.4;\"/>\n   </g>\n   <g id=\"patch_97\">\n    <path clip-path=\"url(#pacf1610bc7)\" d=\"M 351.174062 42696.526156 \nL 354.217699 42696.526156 \nL 354.217699 197.143491 \nL 351.174062 197.143491 \nz\n\" style=\"fill:#4c72b0;opacity:0.4;\"/>\n   </g>\n   <g id=\"patch_98\">\n    <path clip-path=\"url(#pacf1610bc7)\" d=\"M 354.217699 42696.526156 \nL 357.261335 42696.526156 \nL 357.261335 198.197156 \nL 354.217699 198.197156 \nz\n\" style=\"fill:#4c72b0;opacity:0.4;\"/>\n   </g>\n   <g id=\"patch_99\">\n    <path clip-path=\"url(#pacf1610bc7)\" d=\"M 357.261335 42696.526156 \nL 360.304972 42696.526156 \nL 360.304972 199.314717 \nL 357.261335 199.314717 \nz\n\" style=\"fill:#4c72b0;opacity:0.4;\"/>\n   </g>\n   <g id=\"patch_100\">\n    <path clip-path=\"url(#pacf1610bc7)\" d=\"M 360.304972 42696.526156 \nL 363.348608 42696.526156 \nL 363.348608 183.369261 \nL 360.304972 183.369261 \nz\n\" style=\"fill:#4c72b0;opacity:0.4;\"/>\n   </g>\n   <g id=\"patch_101\">\n    <path clip-path=\"url(#pacf1610bc7)\" d=\"M 363.348608 42696.526156 \nL 366.392244 42696.526156 \nL 366.392244 184.365942 \nL 363.348608 184.365942 \nz\n\" style=\"fill:#4c72b0;opacity:0.4;\"/>\n   </g>\n   <g id=\"patch_102\">\n    <path clip-path=\"url(#pacf1610bc7)\" d=\"M 366.392244 42696.526156 \nL 369.435881 42696.526156 \nL 369.435881 155.535448 \nL 366.392244 155.535448 \nz\n\" style=\"fill:#4c72b0;opacity:0.4;\"/>\n   </g>\n   <g id=\"patch_103\">\n    <path d=\"M 49.854062 230.64 \nL 49.854062 13.2 \n\" style=\"fill:none;stroke:#262626;stroke-linecap:square;stroke-linejoin:miter;stroke-width:1.25;\"/>\n   </g>\n   <g id=\"patch_104\">\n    <path d=\"M 49.854062 230.64 \nL 384.654063 230.64 \n\" style=\"fill:none;stroke:#262626;stroke-linecap:square;stroke-linejoin:miter;stroke-width:1.25;\"/>\n   </g>\n  </g>\n </g>\n <defs>\n  <clipPath id=\"pacf1610bc7\">\n   <rect height=\"217.44\" width=\"334.8\" x=\"49.854062\" y=\"13.2\"/>\n  </clipPath>\n </defs>\n</svg>\n"
          },
          "metadata": {
            "tags": []
          }
        }
      ]
    },
    {
      "metadata": {
        "id": "mDBuU-gmbu8F",
        "colab_type": "text"
      },
      "cell_type": "markdown",
      "source": [
        "## ORTB2"
      ]
    },
    {
      "metadata": {
        "id": "n5OYD9Mzbu8G",
        "colab_type": "code",
        "colab": {}
      },
      "cell_type": "code",
      "source": [
        "payprice = validation['payprice']\n",
        "clicks = validation['click']\n",
        "\n",
        "ortb_strategy2 = lambda lamda, const, pCTR: const * (((pCTR+np.sqrt(const**2*lamda**2 + pCTR**2))/(const*lamda))**(1/3)- ((const*lamda)/(pCTR+np.sqrt(const**2*lamda**2 + pCTR**2)))**(1/3))\n",
        "\n",
        "lamda_range = np.linspace(1e-7, 1e-5, num=20)\n",
        "const_range = np.arange(10, 100, 10)\n",
        "parameter_grid = [(x,i) for x in const_range for i in lamda_range]\n",
        "\n",
        "statistics = {}\n",
        "\n",
        "# find optimal parameters\n",
        "for const, lamda in tqdm(parameter_grid):\n",
        "    budget_remaining = 6250*1000\n",
        "    \n",
        "    index = (const, lamda)\n",
        "    \n",
        "    statistics[index] = {\n",
        "        'impressions':0,\n",
        "        'spend': 0,\n",
        "        'clicks': 0,\n",
        "        'too_expensive': 0,\n",
        "        'lost': 0\n",
        "    }\n",
        "    \n",
        "    # list of bids for all ad requests\n",
        "    bids = ortb_strategy2(lamda, const, pCTR)\n",
        "    \n",
        "    # loop through all bids for every ad request\n",
        "    for i in range(len(bids)):    \n",
        "        second_highest_bid = payprice[i]\n",
        "        \n",
        "        won = bids[i] >= second_highest_bid and second_highest_bid <= budget_remaining\n",
        "        \n",
        "        if(second_highest_bid > budget_remaining):\n",
        "            statistics[index]['too_expensive'] += 1\n",
        "            \n",
        "        if(second_highest_bid> bids[i]):\n",
        "            statistics[index]['lost'] += 1\n",
        "        \n",
        "        \n",
        "        if(won):\n",
        "            statistics[index]['impressions'] += 1\n",
        "            statistics[index]['spend'] += second_highest_bid\n",
        "            statistics[index]['clicks'] += clicks[i]\n",
        "            \n",
        "            # subtract current bid from budget \n",
        "            budget_remaining -= second_highest_bid\n",
        "            \n",
        "    \n",
        "statistics = pd.DataFrame(statistics).T\n",
        "statistics['CTR'] = statistics['clicks'] / statistics['impressions']\n",
        "statistics['aCPM'] = statistics['spend'] / statistics['impressions'] \n",
        "statistics['aCPC'] = (statistics['spend']/1000) / statistics['clicks']\n",
        "print('done')"
      ],
      "execution_count": 0,
      "outputs": []
    },
    {
      "metadata": {
        "id": "I7R3B0zsbu8J",
        "colab_type": "code",
        "outputId": "d47658f9-f6ee-4b44-c36d-f8eba9c4bd56",
        "colab": {
          "base_uri": "https://localhost:8080/",
          "height": 514
        }
      },
      "cell_type": "code",
      "source": [
        "statistics.sort_values('clicks', ascending=False).head(15)"
      ],
      "execution_count": 92,
      "outputs": [
        {
          "output_type": "execute_result",
          "data": {
            "text/html": [
              "<div>\n",
              "<style scoped>\n",
              "    .dataframe tbody tr th:only-of-type {\n",
              "        vertical-align: middle;\n",
              "    }\n",
              "\n",
              "    .dataframe tbody tr th {\n",
              "        vertical-align: top;\n",
              "    }\n",
              "\n",
              "    .dataframe thead th {\n",
              "        text-align: right;\n",
              "    }\n",
              "</style>\n",
              "<table border=\"1\" class=\"dataframe\">\n",
              "  <thead>\n",
              "    <tr style=\"text-align: right;\">\n",
              "      <th></th>\n",
              "      <th></th>\n",
              "      <th>clicks</th>\n",
              "      <th>impressions</th>\n",
              "      <th>lost</th>\n",
              "      <th>spend</th>\n",
              "      <th>too_expensive</th>\n",
              "      <th>CTR</th>\n",
              "      <th>aCPM</th>\n",
              "      <th>aCPC</th>\n",
              "    </tr>\n",
              "  </thead>\n",
              "  <tbody>\n",
              "    <tr>\n",
              "      <th>20</th>\n",
              "      <th>6.210526e-07</th>\n",
              "      <td>163</td>\n",
              "      <td>107583</td>\n",
              "      <td>196342</td>\n",
              "      <td>6041983</td>\n",
              "      <td>0</td>\n",
              "      <td>0.001515</td>\n",
              "      <td>56.161131</td>\n",
              "      <td>37.067380</td>\n",
              "    </tr>\n",
              "    <tr>\n",
              "      <th>50</th>\n",
              "      <th>2.184211e-06</th>\n",
              "      <td>162</td>\n",
              "      <td>99964</td>\n",
              "      <td>203961</td>\n",
              "      <td>6100903</td>\n",
              "      <td>0</td>\n",
              "      <td>0.001621</td>\n",
              "      <td>61.031001</td>\n",
              "      <td>37.659895</td>\n",
              "    </tr>\n",
              "    <tr>\n",
              "      <th>40</th>\n",
              "      <th>1.663158e-06</th>\n",
              "      <td>162</td>\n",
              "      <td>102327</td>\n",
              "      <td>201598</td>\n",
              "      <td>6113885</td>\n",
              "      <td>0</td>\n",
              "      <td>0.001583</td>\n",
              "      <td>59.748502</td>\n",
              "      <td>37.740031</td>\n",
              "    </tr>\n",
              "    <tr>\n",
              "      <th>30</th>\n",
              "      <th>1.142105e-06</th>\n",
              "      <td>162</td>\n",
              "      <td>104665</td>\n",
              "      <td>199260</td>\n",
              "      <td>6081895</td>\n",
              "      <td>0</td>\n",
              "      <td>0.001548</td>\n",
              "      <td>58.108202</td>\n",
              "      <td>37.542562</td>\n",
              "    </tr>\n",
              "    <tr>\n",
              "      <th>80</th>\n",
              "      <th>3.226316e-06</th>\n",
              "      <td>161</td>\n",
              "      <td>97141</td>\n",
              "      <td>206784</td>\n",
              "      <td>6200216</td>\n",
              "      <td>0</td>\n",
              "      <td>0.001657</td>\n",
              "      <td>63.826973</td>\n",
              "      <td>38.510658</td>\n",
              "    </tr>\n",
              "    <tr>\n",
              "      <th>90</th>\n",
              "      <th>3.747368e-06</th>\n",
              "      <td>161</td>\n",
              "      <td>94689</td>\n",
              "      <td>209236</td>\n",
              "      <td>6081483</td>\n",
              "      <td>0</td>\n",
              "      <td>0.001700</td>\n",
              "      <td>64.225866</td>\n",
              "      <td>37.773186</td>\n",
              "    </tr>\n",
              "    <tr>\n",
              "      <th>60</th>\n",
              "      <th>2.705263e-06</th>\n",
              "      <td>161</td>\n",
              "      <td>97714</td>\n",
              "      <td>206211</td>\n",
              "      <td>6058847</td>\n",
              "      <td>0</td>\n",
              "      <td>0.001648</td>\n",
              "      <td>62.005925</td>\n",
              "      <td>37.632590</td>\n",
              "    </tr>\n",
              "    <tr>\n",
              "      <th>40</th>\n",
              "      <th>2.184211e-06</th>\n",
              "      <td>160</td>\n",
              "      <td>95677</td>\n",
              "      <td>208248</td>\n",
              "      <td>5625553</td>\n",
              "      <td>0</td>\n",
              "      <td>0.001672</td>\n",
              "      <td>58.797339</td>\n",
              "      <td>35.159706</td>\n",
              "    </tr>\n",
              "    <tr>\n",
              "      <th>70</th>\n",
              "      <th>3.226316e-06</th>\n",
              "      <td>160</td>\n",
              "      <td>95547</td>\n",
              "      <td>208378</td>\n",
              "      <td>5996913</td>\n",
              "      <td>0</td>\n",
              "      <td>0.001675</td>\n",
              "      <td>62.764011</td>\n",
              "      <td>37.480706</td>\n",
              "    </tr>\n",
              "    <tr>\n",
              "      <th>80</th>\n",
              "      <th>3.747368e-06</th>\n",
              "      <td>160</td>\n",
              "      <td>93422</td>\n",
              "      <td>210503</td>\n",
              "      <td>5916061</td>\n",
              "      <td>0</td>\n",
              "      <td>0.001713</td>\n",
              "      <td>63.326208</td>\n",
              "      <td>36.975381</td>\n",
              "    </tr>\n",
              "    <tr>\n",
              "      <th>60</th>\n",
              "      <th>3.226316e-06</th>\n",
              "      <td>159</td>\n",
              "      <td>93351</td>\n",
              "      <td>210574</td>\n",
              "      <td>5733886</td>\n",
              "      <td>0</td>\n",
              "      <td>0.001703</td>\n",
              "      <td>61.422866</td>\n",
              "      <td>36.062176</td>\n",
              "    </tr>\n",
              "    <tr>\n",
              "      <th rowspan=\"3\" valign=\"top\">70</th>\n",
              "      <th>4.268421e-06</th>\n",
              "      <td>159</td>\n",
              "      <td>88619</td>\n",
              "      <td>215306</td>\n",
              "      <td>5483443</td>\n",
              "      <td>0</td>\n",
              "      <td>0.001794</td>\n",
              "      <td>61.876607</td>\n",
              "      <td>34.487063</td>\n",
              "    </tr>\n",
              "    <tr>\n",
              "      <th>3.747368e-06</th>\n",
              "      <td>159</td>\n",
              "      <td>91822</td>\n",
              "      <td>212103</td>\n",
              "      <td>5717093</td>\n",
              "      <td>0</td>\n",
              "      <td>0.001732</td>\n",
              "      <td>62.262780</td>\n",
              "      <td>35.956560</td>\n",
              "    </tr>\n",
              "    <tr>\n",
              "      <th>2.705263e-06</th>\n",
              "      <td>159</td>\n",
              "      <td>98776</td>\n",
              "      <td>204142</td>\n",
              "      <td>6250000</td>\n",
              "      <td>3035</td>\n",
              "      <td>0.001610</td>\n",
              "      <td>63.274480</td>\n",
              "      <td>39.308176</td>\n",
              "    </tr>\n",
              "    <tr>\n",
              "      <th>80</th>\n",
              "      <th>4.268421e-06</th>\n",
              "      <td>159</td>\n",
              "      <td>90176</td>\n",
              "      <td>213749</td>\n",
              "      <td>5676263</td>\n",
              "      <td>0</td>\n",
              "      <td>0.001763</td>\n",
              "      <td>62.946494</td>\n",
              "      <td>35.699767</td>\n",
              "    </tr>\n",
              "  </tbody>\n",
              "</table>\n",
              "</div>"
            ],
            "text/plain": [
              "                 clicks  impressions    lost    spend  too_expensive  \\\n",
              "20 6.210526e-07     163       107583  196342  6041983              0   \n",
              "50 2.184211e-06     162        99964  203961  6100903              0   \n",
              "40 1.663158e-06     162       102327  201598  6113885              0   \n",
              "30 1.142105e-06     162       104665  199260  6081895              0   \n",
              "80 3.226316e-06     161        97141  206784  6200216              0   \n",
              "90 3.747368e-06     161        94689  209236  6081483              0   \n",
              "60 2.705263e-06     161        97714  206211  6058847              0   \n",
              "40 2.184211e-06     160        95677  208248  5625553              0   \n",
              "70 3.226316e-06     160        95547  208378  5996913              0   \n",
              "80 3.747368e-06     160        93422  210503  5916061              0   \n",
              "60 3.226316e-06     159        93351  210574  5733886              0   \n",
              "70 4.268421e-06     159        88619  215306  5483443              0   \n",
              "   3.747368e-06     159        91822  212103  5717093              0   \n",
              "   2.705263e-06     159        98776  204142  6250000           3035   \n",
              "80 4.268421e-06     159        90176  213749  5676263              0   \n",
              "\n",
              "                      CTR       aCPM       aCPC  \n",
              "20 6.210526e-07  0.001515  56.161131  37.067380  \n",
              "50 2.184211e-06  0.001621  61.031001  37.659895  \n",
              "40 1.663158e-06  0.001583  59.748502  37.740031  \n",
              "30 1.142105e-06  0.001548  58.108202  37.542562  \n",
              "80 3.226316e-06  0.001657  63.826973  38.510658  \n",
              "90 3.747368e-06  0.001700  64.225866  37.773186  \n",
              "60 2.705263e-06  0.001648  62.005925  37.632590  \n",
              "40 2.184211e-06  0.001672  58.797339  35.159706  \n",
              "70 3.226316e-06  0.001675  62.764011  37.480706  \n",
              "80 3.747368e-06  0.001713  63.326208  36.975381  \n",
              "60 3.226316e-06  0.001703  61.422866  36.062176  \n",
              "70 4.268421e-06  0.001794  61.876607  34.487063  \n",
              "   3.747368e-06  0.001732  62.262780  35.956560  \n",
              "   2.705263e-06  0.001610  63.274480  39.308176  \n",
              "80 4.268421e-06  0.001763  62.946494  35.699767  "
            ]
          },
          "metadata": {
            "tags": []
          },
          "execution_count": 92
        }
      ]
    },
    {
      "metadata": {
        "id": "aVcioNCCbu8L",
        "colab_type": "code",
        "outputId": "023943a1-4fc8-4803-c587-92526ed7b49f",
        "colab": {
          "base_uri": "https://localhost:8080/",
          "height": 398
        }
      },
      "cell_type": "code",
      "source": [
        "x = np.linspace(1e-2, 1)\n",
        "y = ortb_strategy2(6.210526e-7,20,x)\n",
        "y2 = ortb_strategy2(2.184211e-6,50,x)\n",
        "y3 = ortb_strategy2(1.663158e-6,40,x)\n",
        "\n",
        "plt.plot(x,y, label='#1')\n",
        "plt.plot(x, y2, label='#2')\n",
        "plt.plot(x, y3, label='#3')\n",
        "sns.despine()\n",
        "plt.title('Non linear bidding strategy ORTB2')\n",
        "plt.ylabel('Bid price')\n",
        "plt.xlabel('pCTR')\n",
        "plt.legend()\n",
        "plt.show()"
      ],
      "execution_count": 103,
      "outputs": [
        {
          "output_type": "display_data",
          "data": {
            "text/plain": [
              "<Figure size 432x288 with 1 Axes>"
            ],
            "image/svg+xml": "<?xml version=\"1.0\" encoding=\"utf-8\" standalone=\"no\"?>\n<!DOCTYPE svg PUBLIC \"-//W3C//DTD SVG 1.1//EN\"\n  \"http://www.w3.org/Graphics/SVG/1.1/DTD/svg11.dtd\">\n<!-- Created with matplotlib (https://matplotlib.org/) -->\n<svg height=\"283.112188pt\" version=\"1.1\" viewBox=\"0 0 404.697812 283.112188\" width=\"404.697812pt\" xmlns=\"http://www.w3.org/2000/svg\" xmlns:xlink=\"http://www.w3.org/1999/xlink\">\n <defs>\n  <style type=\"text/css\">\n*{stroke-linecap:butt;stroke-linejoin:round;}\n  </style>\n </defs>\n <g id=\"figure_1\">\n  <g id=\"patch_1\">\n   <path d=\"M 0 283.112188 \nL 404.697812 283.112188 \nL 404.697812 0 \nL 0 0 \nz\n\" style=\"fill:none;\"/>\n  </g>\n  <g id=\"axes_1\">\n   <g id=\"patch_2\">\n    <path d=\"M 56.697813 239.33625 \nL 391.497813 239.33625 \nL 391.497813 21.89625 \nL 56.697813 21.89625 \nz\n\" style=\"fill:#ffffff;\"/>\n   </g>\n   <g id=\"matplotlib.axis_1\">\n    <g id=\"xtick_1\">\n     <g id=\"line2d_1\">\n      <defs>\n       <path d=\"M 0 0 \nL 0 6 \n\" id=\"me0e7c677d4\" style=\"stroke:#262626;\"/>\n      </defs>\n      <g>\n       <use style=\"fill:#262626;stroke:#262626;\" x=\"68.841614\" xlink:href=\"#me0e7c677d4\" y=\"239.33625\"/>\n      </g>\n     </g>\n     <g id=\"text_1\">\n      <!-- 0.0 -->\n      <defs>\n       <path d=\"M 51.703125 34.421875 \nQ 51.703125 24.515625 49.828125 17.75 \nQ 47.953125 10.984375 44.703125 6.8125 \nQ 41.453125 2.640625 37.0625 0.828125 \nQ 32.671875 -0.984375 27.6875 -0.984375 \nQ 22.65625 -0.984375 18.3125 0.828125 \nQ 13.96875 2.640625 10.765625 6.78125 \nQ 7.5625 10.9375 5.734375 17.703125 \nQ 3.90625 24.46875 3.90625 34.421875 \nQ 3.90625 44.828125 5.734375 51.640625 \nQ 7.5625 58.453125 10.78125 62.5 \nQ 14.015625 66.546875 18.40625 68.1875 \nQ 22.796875 69.828125 27.984375 69.828125 \nQ 32.90625 69.828125 37.21875 68.1875 \nQ 41.546875 66.546875 44.765625 62.5 \nQ 48 58.453125 49.84375 51.640625 \nQ 51.703125 44.828125 51.703125 34.421875 \nz\nM 42.78125 34.421875 \nQ 42.78125 42.625 41.796875 48.0625 \nQ 40.828125 53.515625 38.921875 56.765625 \nQ 37.015625 60.015625 34.25 61.359375 \nQ 31.5 62.703125 27.984375 62.703125 \nQ 24.265625 62.703125 21.4375 61.328125 \nQ 18.609375 59.96875 16.671875 56.71875 \nQ 14.75 53.46875 13.765625 48.015625 \nQ 12.796875 42.578125 12.796875 34.421875 \nQ 12.796875 26.515625 13.796875 21.09375 \nQ 14.796875 15.671875 16.71875 12.375 \nQ 18.65625 9.078125 21.4375 7.640625 \nQ 24.21875 6.203125 27.78125 6.203125 \nQ 31.25 6.203125 34.03125 7.640625 \nQ 36.8125 9.078125 38.734375 12.375 \nQ 40.671875 15.671875 41.71875 21.09375 \nQ 42.78125 26.515625 42.78125 34.421875 \nz\n\" id=\"LiberationSans-48\"/>\n       <path d=\"M 9.125 0 \nL 9.125 10.6875 \nL 18.65625 10.6875 \nL 18.65625 0 \nz\n\" id=\"LiberationSans-46\"/>\n      </defs>\n      <g style=\"fill:#262626;\" transform=\"translate(61.891614 259.583125)scale(0.1 -0.1)\">\n       <use xlink:href=\"#LiberationSans-48\"/>\n       <use x=\"55.615234\" xlink:href=\"#LiberationSans-46\"/>\n       <use x=\"83.398438\" xlink:href=\"#LiberationSans-48\"/>\n      </g>\n     </g>\n    </g>\n    <g id=\"xtick_2\">\n     <g id=\"line2d_2\">\n      <g>\n       <use style=\"fill:#262626;stroke:#262626;\" x=\"130.329217\" xlink:href=\"#me0e7c677d4\" y=\"239.33625\"/>\n      </g>\n     </g>\n     <g id=\"text_2\">\n      <!-- 0.2 -->\n      <defs>\n       <path d=\"M 5.03125 0 \nL 5.03125 6.203125 \nQ 7.515625 11.921875 11.109375 16.28125 \nQ 14.703125 20.65625 18.65625 24.1875 \nQ 22.609375 27.734375 26.484375 30.765625 \nQ 30.375 33.796875 33.5 36.8125 \nQ 36.625 39.84375 38.546875 43.15625 \nQ 40.484375 46.484375 40.484375 50.6875 \nQ 40.484375 53.609375 39.59375 55.828125 \nQ 38.71875 58.0625 37.0625 59.5625 \nQ 35.40625 61.078125 33.078125 61.828125 \nQ 30.765625 62.59375 27.9375 62.59375 \nQ 25.296875 62.59375 22.96875 61.859375 \nQ 20.65625 61.140625 18.84375 59.671875 \nQ 17.046875 58.203125 15.890625 56.03125 \nQ 14.75 53.859375 14.40625 50.984375 \nL 5.421875 51.8125 \nQ 5.859375 55.515625 7.46875 58.78125 \nQ 9.078125 62.0625 11.90625 64.53125 \nQ 14.75 67 18.71875 68.40625 \nQ 22.703125 69.828125 27.9375 69.828125 \nQ 33.0625 69.828125 37.0625 68.609375 \nQ 41.0625 67.390625 43.8125 64.984375 \nQ 46.578125 62.59375 48.046875 59.078125 \nQ 49.515625 55.5625 49.515625 50.984375 \nQ 49.515625 47.515625 48.265625 44.390625 \nQ 47.015625 41.265625 44.9375 38.421875 \nQ 42.875 35.59375 40.140625 32.953125 \nQ 37.40625 30.328125 34.421875 27.8125 \nQ 31.453125 25.296875 28.421875 22.828125 \nQ 25.390625 20.359375 22.71875 17.859375 \nQ 20.0625 15.375 17.96875 12.8125 \nQ 15.875 10.25 14.703125 7.46875 \nL 50.59375 7.46875 \nL 50.59375 0 \nz\n\" id=\"LiberationSans-50\"/>\n      </defs>\n      <g style=\"fill:#262626;\" transform=\"translate(123.379217 259.583125)scale(0.1 -0.1)\">\n       <use xlink:href=\"#LiberationSans-48\"/>\n       <use x=\"55.615234\" xlink:href=\"#LiberationSans-46\"/>\n       <use x=\"83.398438\" xlink:href=\"#LiberationSans-50\"/>\n      </g>\n     </g>\n    </g>\n    <g id=\"xtick_3\">\n     <g id=\"line2d_3\">\n      <g>\n       <use style=\"fill:#262626;stroke:#262626;\" x=\"191.816821\" xlink:href=\"#me0e7c677d4\" y=\"239.33625\"/>\n      </g>\n     </g>\n     <g id=\"text_3\">\n      <!-- 0.4 -->\n      <defs>\n       <path d=\"M 43.015625 15.578125 \nL 43.015625 0 \nL 34.71875 0 \nL 34.71875 15.578125 \nL 2.296875 15.578125 \nL 2.296875 22.40625 \nL 33.796875 68.796875 \nL 43.015625 68.796875 \nL 43.015625 22.515625 \nL 52.6875 22.515625 \nL 52.6875 15.578125 \nz\nM 34.71875 58.890625 \nQ 34.625 58.640625 34.234375 57.9375 \nQ 33.84375 57.234375 33.34375 56.34375 \nQ 32.859375 55.46875 32.34375 54.5625 \nQ 31.84375 53.65625 31.453125 53.078125 \nL 13.8125 27.09375 \nQ 13.578125 26.703125 13.109375 26.0625 \nQ 12.640625 25.4375 12.15625 24.78125 \nQ 11.671875 24.125 11.171875 23.484375 \nQ 10.6875 22.859375 10.40625 22.515625 \nL 34.71875 22.515625 \nz\n\" id=\"LiberationSans-52\"/>\n      </defs>\n      <g style=\"fill:#262626;\" transform=\"translate(184.866821 259.583125)scale(0.1 -0.1)\">\n       <use xlink:href=\"#LiberationSans-48\"/>\n       <use x=\"55.615234\" xlink:href=\"#LiberationSans-46\"/>\n       <use x=\"83.398438\" xlink:href=\"#LiberationSans-52\"/>\n      </g>\n     </g>\n    </g>\n    <g id=\"xtick_4\">\n     <g id=\"line2d_4\">\n      <g>\n       <use style=\"fill:#262626;stroke:#262626;\" x=\"253.304424\" xlink:href=\"#me0e7c677d4\" y=\"239.33625\"/>\n      </g>\n     </g>\n     <g id=\"text_4\">\n      <!-- 0.6 -->\n      <defs>\n       <path d=\"M 51.21875 22.515625 \nQ 51.21875 17.328125 49.78125 13 \nQ 48.34375 8.6875 45.53125 5.578125 \nQ 42.71875 2.484375 38.5625 0.75 \nQ 34.421875 -0.984375 29 -0.984375 \nQ 23 -0.984375 18.5 1.3125 \nQ 14.015625 3.609375 11.03125 7.921875 \nQ 8.0625 12.25 6.5625 18.53125 \nQ 5.078125 24.8125 5.078125 32.8125 \nQ 5.078125 42 6.765625 48.921875 \nQ 8.453125 55.859375 11.625 60.5 \nQ 14.796875 65.140625 19.359375 67.484375 \nQ 23.921875 69.828125 29.6875 69.828125 \nQ 33.203125 69.828125 36.28125 69.09375 \nQ 39.359375 68.359375 41.875 66.71875 \nQ 44.390625 65.09375 46.28125 62.40625 \nQ 48.1875 59.71875 49.3125 55.8125 \nL 40.921875 54.296875 \nQ 39.546875 58.734375 36.546875 60.71875 \nQ 33.546875 62.703125 29.59375 62.703125 \nQ 25.984375 62.703125 23.046875 60.984375 \nQ 20.125 59.28125 18.0625 55.875 \nQ 16.015625 52.484375 14.90625 47.359375 \nQ 13.8125 42.234375 13.8125 35.40625 \nQ 16.21875 39.84375 20.5625 42.15625 \nQ 24.90625 44.484375 30.515625 44.484375 \nQ 35.203125 44.484375 39.015625 42.96875 \nQ 42.828125 41.453125 45.53125 38.59375 \nQ 48.25 35.75 49.734375 31.671875 \nQ 51.21875 27.59375 51.21875 22.515625 \nz\nM 42.28125 22.125 \nQ 42.28125 25.6875 41.40625 28.5625 \nQ 40.53125 31.453125 38.765625 33.46875 \nQ 37.015625 35.5 34.421875 36.59375 \nQ 31.84375 37.703125 28.421875 37.703125 \nQ 26.03125 37.703125 23.578125 36.984375 \nQ 21.140625 36.28125 19.15625 34.6875 \nQ 17.1875 33.109375 15.9375 30.515625 \nQ 14.703125 27.9375 14.703125 24.21875 \nQ 14.703125 20.40625 15.671875 17.109375 \nQ 16.65625 13.8125 18.484375 11.375 \nQ 20.3125 8.9375 22.890625 7.515625 \nQ 25.484375 6.109375 28.71875 6.109375 \nQ 31.890625 6.109375 34.40625 7.203125 \nQ 36.921875 8.296875 38.671875 10.375 \nQ 40.4375 12.453125 41.359375 15.421875 \nQ 42.28125 18.40625 42.28125 22.125 \nz\n\" id=\"LiberationSans-54\"/>\n      </defs>\n      <g style=\"fill:#262626;\" transform=\"translate(246.354424 259.583125)scale(0.1 -0.1)\">\n       <use xlink:href=\"#LiberationSans-48\"/>\n       <use x=\"55.615234\" xlink:href=\"#LiberationSans-46\"/>\n       <use x=\"83.398438\" xlink:href=\"#LiberationSans-54\"/>\n      </g>\n     </g>\n    </g>\n    <g id=\"xtick_5\">\n     <g id=\"line2d_5\">\n      <g>\n       <use style=\"fill:#262626;stroke:#262626;\" x=\"314.792027\" xlink:href=\"#me0e7c677d4\" y=\"239.33625\"/>\n      </g>\n     </g>\n     <g id=\"text_5\">\n      <!-- 0.8 -->\n      <defs>\n       <path d=\"M 51.265625 19.1875 \nQ 51.265625 14.796875 49.875 11.109375 \nQ 48.484375 7.421875 45.625 4.734375 \nQ 42.78125 2.046875 38.328125 0.53125 \nQ 33.890625 -0.984375 27.828125 -0.984375 \nQ 21.78125 -0.984375 17.359375 0.53125 \nQ 12.9375 2.046875 10.03125 4.703125 \nQ 7.125 7.375 5.734375 11.0625 \nQ 4.34375 14.75 4.34375 19.09375 \nQ 4.34375 22.859375 5.484375 25.78125 \nQ 6.640625 28.71875 8.5625 30.828125 \nQ 10.5 32.953125 12.96875 34.25 \nQ 15.4375 35.546875 18.0625 35.984375 \nL 18.0625 36.1875 \nQ 15.1875 36.859375 12.90625 38.375 \nQ 10.640625 39.890625 9.09375 42.015625 \nQ 7.5625 44.140625 6.75 46.71875 \nQ 5.953125 49.3125 5.953125 52.203125 \nQ 5.953125 55.8125 7.34375 59 \nQ 8.734375 62.203125 11.46875 64.625 \nQ 14.203125 67.046875 18.25 68.4375 \nQ 22.3125 69.828125 27.640625 69.828125 \nQ 33.25 69.828125 37.375 68.40625 \nQ 41.5 67 44.203125 64.578125 \nQ 46.921875 62.15625 48.234375 58.9375 \nQ 49.5625 55.71875 49.5625 52.09375 \nQ 49.5625 49.265625 48.75 46.671875 \nQ 47.953125 44.09375 46.40625 41.96875 \nQ 44.875 39.84375 42.59375 38.34375 \nQ 40.328125 36.859375 37.359375 36.28125 \nL 37.359375 36.078125 \nQ 40.328125 35.59375 42.859375 34.296875 \nQ 45.40625 33.015625 47.265625 30.890625 \nQ 49.125 28.765625 50.1875 25.828125 \nQ 51.265625 22.90625 51.265625 19.1875 \nz\nM 40.4375 51.609375 \nQ 40.4375 54.203125 39.765625 56.34375 \nQ 39.109375 58.5 37.59375 60.03125 \nQ 36.078125 61.578125 33.640625 62.421875 \nQ 31.203125 63.28125 27.640625 63.28125 \nQ 24.171875 63.28125 21.78125 62.421875 \nQ 19.390625 61.578125 17.84375 60.03125 \nQ 16.3125 58.5 15.625 56.34375 \nQ 14.9375 54.203125 14.9375 51.609375 \nQ 14.9375 49.5625 15.46875 47.40625 \nQ 16.015625 45.265625 17.421875 43.5 \nQ 18.84375 41.75 21.328125 40.625 \nQ 23.828125 39.5 27.734375 39.5 \nQ 31.890625 39.5 34.40625 40.625 \nQ 36.921875 41.75 38.25 43.5 \nQ 39.59375 45.265625 40.015625 47.40625 \nQ 40.4375 49.5625 40.4375 51.609375 \nz\nM 42.140625 20.015625 \nQ 42.140625 22.515625 41.453125 24.828125 \nQ 40.765625 27.15625 39.109375 28.9375 \nQ 37.453125 30.71875 34.640625 31.8125 \nQ 31.84375 32.90625 27.640625 32.90625 \nQ 23.78125 32.90625 21.0625 31.8125 \nQ 18.359375 30.71875 16.671875 28.90625 \nQ 14.984375 27.09375 14.203125 24.71875 \nQ 13.421875 22.359375 13.421875 19.828125 \nQ 13.421875 16.65625 14.203125 14.03125 \nQ 14.984375 11.421875 16.6875 9.546875 \nQ 18.40625 7.671875 21.1875 6.640625 \nQ 23.96875 5.609375 27.9375 5.609375 \nQ 31.9375 5.609375 34.671875 6.640625 \nQ 37.40625 7.671875 39.0625 9.546875 \nQ 40.71875 11.421875 41.421875 14.078125 \nQ 42.140625 16.75 42.140625 20.015625 \nz\n\" id=\"LiberationSans-56\"/>\n      </defs>\n      <g style=\"fill:#262626;\" transform=\"translate(307.842027 259.583125)scale(0.1 -0.1)\">\n       <use xlink:href=\"#LiberationSans-48\"/>\n       <use x=\"55.615234\" xlink:href=\"#LiberationSans-46\"/>\n       <use x=\"83.398438\" xlink:href=\"#LiberationSans-56\"/>\n      </g>\n     </g>\n    </g>\n    <g id=\"xtick_6\">\n     <g id=\"line2d_6\">\n      <g>\n       <use style=\"fill:#262626;stroke:#262626;\" x=\"376.279631\" xlink:href=\"#me0e7c677d4\" y=\"239.33625\"/>\n      </g>\n     </g>\n     <g id=\"text_6\">\n      <!-- 1.0 -->\n      <defs>\n       <path d=\"M 7.625 0 \nL 7.625 7.46875 \nL 25.140625 7.46875 \nL 25.140625 60.40625 \nL 9.625 49.3125 \nL 9.625 57.625 \nL 25.875 68.796875 \nL 33.984375 68.796875 \nL 33.984375 7.46875 \nL 50.734375 7.46875 \nL 50.734375 0 \nz\n\" id=\"LiberationSans-49\"/>\n      </defs>\n      <g style=\"fill:#262626;\" transform=\"translate(369.329631 259.583125)scale(0.1 -0.1)\">\n       <use xlink:href=\"#LiberationSans-49\"/>\n       <use x=\"55.615234\" xlink:href=\"#LiberationSans-46\"/>\n       <use x=\"83.398438\" xlink:href=\"#LiberationSans-48\"/>\n      </g>\n     </g>\n    </g>\n    <g id=\"text_7\">\n     <!-- pCTR -->\n     <defs>\n      <path d=\"M 51.421875 26.65625 \nQ 51.421875 20.65625 50.4375 15.578125 \nQ 49.46875 10.5 47.1875 6.828125 \nQ 44.921875 3.171875 41.1875 1.09375 \nQ 37.453125 -0.984375 31.984375 -0.984375 \nQ 26.3125 -0.984375 22.0625 1.171875 \nQ 17.828125 3.328125 15.578125 8.203125 \nL 15.328125 8.203125 \nQ 15.375 8.109375 15.40625 7.328125 \nQ 15.4375 6.546875 15.453125 5.375 \nQ 15.484375 4.203125 15.5 2.75 \nQ 15.53125 1.3125 15.53125 -0.09375 \nL 15.53125 -20.75 \nL 6.734375 -20.75 \nL 6.734375 42.046875 \nQ 6.734375 43.953125 6.703125 45.703125 \nQ 6.6875 47.46875 6.640625 48.90625 \nQ 6.59375 50.34375 6.546875 51.359375 \nQ 6.5 52.390625 6.453125 52.828125 \nL 14.9375 52.828125 \nQ 14.984375 52.6875 15.0625 51.796875 \nQ 15.140625 50.921875 15.203125 49.671875 \nQ 15.28125 48.4375 15.359375 47.015625 \nQ 15.4375 45.609375 15.4375 44.34375 \nL 15.625 44.34375 \nQ 16.84375 46.875 18.40625 48.65625 \nQ 19.96875 50.4375 21.96875 51.578125 \nQ 23.96875 52.734375 26.4375 53.25 \nQ 28.90625 53.765625 31.984375 53.765625 \nQ 37.453125 53.765625 41.1875 51.8125 \nQ 44.921875 49.859375 47.1875 46.3125 \nQ 49.46875 42.78125 50.4375 37.765625 \nQ 51.421875 32.765625 51.421875 26.65625 \nz\nM 42.1875 26.46875 \nQ 42.1875 31.34375 41.59375 35.15625 \nQ 41.015625 38.96875 39.578125 41.59375 \nQ 38.140625 44.234375 35.734375 45.59375 \nQ 33.34375 46.96875 29.734375 46.96875 \nQ 26.8125 46.96875 24.21875 46.140625 \nQ 21.625 45.3125 19.703125 42.96875 \nQ 17.78125 40.625 16.65625 36.5 \nQ 15.53125 32.375 15.53125 25.78125 \nQ 15.53125 20.171875 16.453125 16.28125 \nQ 17.390625 12.40625 19.171875 10.015625 \nQ 20.953125 7.625 23.578125 6.5625 \nQ 26.21875 5.515625 29.640625 5.515625 \nQ 33.296875 5.515625 35.71875 6.921875 \nQ 38.140625 8.34375 39.578125 11.03125 \nQ 41.015625 13.71875 41.59375 17.59375 \nQ 42.1875 21.484375 42.1875 26.46875 \nz\n\" id=\"LiberationSans-112\"/>\n      <path d=\"M 38.671875 62.203125 \nQ 32.8125 62.203125 28.296875 60.25 \nQ 23.78125 58.296875 20.71875 54.6875 \nQ 17.671875 51.078125 16.109375 46 \nQ 14.546875 40.921875 14.546875 34.71875 \nQ 14.546875 28.515625 16.234375 23.359375 \nQ 17.921875 18.21875 21.0625 14.5 \nQ 24.21875 10.796875 28.78125 8.734375 \nQ 33.34375 6.6875 39.0625 6.6875 \nQ 43.0625 6.6875 46.359375 7.734375 \nQ 49.65625 8.796875 52.3125 10.6875 \nQ 54.984375 12.59375 57.078125 15.203125 \nQ 59.1875 17.828125 60.796875 21 \nL 68.40625 17.1875 \nQ 66.546875 13.328125 63.8125 10 \nQ 61.078125 6.6875 57.390625 4.25 \nQ 53.71875 1.8125 49.046875 0.40625 \nQ 44.390625 -0.984375 38.625 -0.984375 \nQ 30.28125 -0.984375 24 1.671875 \nQ 17.71875 4.34375 13.5 9.109375 \nQ 9.28125 13.875 7.171875 20.40625 \nQ 5.078125 26.953125 5.078125 34.71875 \nQ 5.078125 42.78125 7.296875 49.265625 \nQ 9.515625 55.765625 13.78125 60.328125 \nQ 18.0625 64.890625 24.3125 67.359375 \nQ 30.5625 69.828125 38.578125 69.828125 \nQ 49.5625 69.828125 56.9375 65.53125 \nQ 64.3125 61.234375 67.78125 52.78125 \nL 58.9375 49.859375 \nQ 57.953125 52.296875 56.296875 54.515625 \nQ 54.640625 56.734375 52.140625 58.4375 \nQ 49.65625 60.15625 46.3125 61.171875 \nQ 42.96875 62.203125 38.671875 62.203125 \nz\n\" id=\"LiberationSans-67\"/>\n      <path d=\"M 35.15625 61.1875 \nL 35.15625 0 \nL 25.875 0 \nL 25.875 61.1875 \nL 2.25 61.1875 \nL 2.25 68.796875 \nL 58.796875 68.796875 \nL 58.796875 61.1875 \nz\n\" id=\"LiberationSans-84\"/>\n      <path d=\"M 56.84375 0 \nL 38.96875 28.5625 \nL 17.53125 28.5625 \nL 17.53125 0 \nL 8.203125 0 \nL 8.203125 68.796875 \nL 40.578125 68.796875 \nQ 46.4375 68.796875 50.953125 67.453125 \nQ 55.46875 66.109375 58.546875 63.5625 \nQ 61.625 61.03125 63.234375 57.375 \nQ 64.84375 53.71875 64.84375 49.125 \nQ 64.84375 45.84375 63.890625 42.671875 \nQ 62.9375 39.5 60.890625 36.859375 \nQ 58.84375 34.234375 55.65625 32.328125 \nQ 52.484375 30.421875 48.046875 29.640625 \nL 67.578125 0 \nz\nM 55.46875 49.03125 \nQ 55.46875 52.15625 54.390625 54.4375 \nQ 53.328125 56.734375 51.265625 58.265625 \nQ 49.21875 59.8125 46.28125 60.5625 \nQ 43.359375 61.328125 39.65625 61.328125 \nL 17.53125 61.328125 \nL 17.53125 35.9375 \nL 40.046875 35.9375 \nQ 44.046875 35.9375 46.96875 36.9375 \nQ 49.90625 37.9375 51.78125 39.6875 \nQ 53.65625 41.453125 54.5625 43.84375 \nQ 55.46875 46.234375 55.46875 49.03125 \nz\n\" id=\"LiberationSans-82\"/>\n     </defs>\n     <g style=\"fill:#262626;\" transform=\"translate(209.735938 273.629687)scale(0.11 -0.11)\">\n      <use xlink:href=\"#LiberationSans-112\"/>\n      <use x=\"55.615234\" xlink:href=\"#LiberationSans-67\"/>\n      <use x=\"127.832031\" xlink:href=\"#LiberationSans-84\"/>\n      <use x=\"188.916016\" xlink:href=\"#LiberationSans-82\"/>\n     </g>\n    </g>\n   </g>\n   <g id=\"matplotlib.axis_2\">\n    <g id=\"ytick_1\">\n     <g id=\"line2d_7\">\n      <defs>\n       <path d=\"M 0 0 \nL -6 0 \n\" id=\"m8ac1e0fe40\" style=\"stroke:#262626;\"/>\n      </defs>\n      <g>\n       <use style=\"fill:#262626;stroke:#262626;\" x=\"56.697813\" xlink:href=\"#m8ac1e0fe40\" y=\"235.42111\"/>\n      </g>\n     </g>\n     <g id=\"text_8\">\n      <!-- 200 -->\n      <g style=\"fill:#262626;\" transform=\"translate(27.015 239.044548)scale(0.1 -0.1)\">\n       <use xlink:href=\"#LiberationSans-50\"/>\n       <use x=\"55.615234\" xlink:href=\"#LiberationSans-48\"/>\n       <use x=\"111.230469\" xlink:href=\"#LiberationSans-48\"/>\n      </g>\n     </g>\n    </g>\n    <g id=\"ytick_2\">\n     <g id=\"line2d_8\">\n      <g>\n       <use style=\"fill:#262626;stroke:#262626;\" x=\"56.697813\" xlink:href=\"#m8ac1e0fe40\" y=\"198.927296\"/>\n      </g>\n     </g>\n     <g id=\"text_9\">\n      <!-- 400 -->\n      <g style=\"fill:#262626;\" transform=\"translate(27.015 202.550733)scale(0.1 -0.1)\">\n       <use xlink:href=\"#LiberationSans-52\"/>\n       <use x=\"55.615234\" xlink:href=\"#LiberationSans-48\"/>\n       <use x=\"111.230469\" xlink:href=\"#LiberationSans-48\"/>\n      </g>\n     </g>\n    </g>\n    <g id=\"ytick_3\">\n     <g id=\"line2d_9\">\n      <g>\n       <use style=\"fill:#262626;stroke:#262626;\" x=\"56.697813\" xlink:href=\"#m8ac1e0fe40\" y=\"162.433481\"/>\n      </g>\n     </g>\n     <g id=\"text_10\">\n      <!-- 600 -->\n      <g style=\"fill:#262626;\" transform=\"translate(27.015 166.056919)scale(0.1 -0.1)\">\n       <use xlink:href=\"#LiberationSans-54\"/>\n       <use x=\"55.615234\" xlink:href=\"#LiberationSans-48\"/>\n       <use x=\"111.230469\" xlink:href=\"#LiberationSans-48\"/>\n      </g>\n     </g>\n    </g>\n    <g id=\"ytick_4\">\n     <g id=\"line2d_10\">\n      <g>\n       <use style=\"fill:#262626;stroke:#262626;\" x=\"56.697813\" xlink:href=\"#m8ac1e0fe40\" y=\"125.939667\"/>\n      </g>\n     </g>\n     <g id=\"text_11\">\n      <!-- 800 -->\n      <g style=\"fill:#262626;\" transform=\"translate(27.015 129.563104)scale(0.1 -0.1)\">\n       <use xlink:href=\"#LiberationSans-56\"/>\n       <use x=\"55.615234\" xlink:href=\"#LiberationSans-48\"/>\n       <use x=\"111.230469\" xlink:href=\"#LiberationSans-48\"/>\n      </g>\n     </g>\n    </g>\n    <g id=\"ytick_5\">\n     <g id=\"line2d_11\">\n      <g>\n       <use style=\"fill:#262626;stroke:#262626;\" x=\"56.697813\" xlink:href=\"#m8ac1e0fe40\" y=\"89.445852\"/>\n      </g>\n     </g>\n     <g id=\"text_12\">\n      <!-- 1000 -->\n      <g style=\"fill:#262626;\" transform=\"translate(21.454063 93.069289)scale(0.1 -0.1)\">\n       <use xlink:href=\"#LiberationSans-49\"/>\n       <use x=\"55.615234\" xlink:href=\"#LiberationSans-48\"/>\n       <use x=\"111.230469\" xlink:href=\"#LiberationSans-48\"/>\n       <use x=\"166.845703\" xlink:href=\"#LiberationSans-48\"/>\n      </g>\n     </g>\n    </g>\n    <g id=\"ytick_6\">\n     <g id=\"line2d_12\">\n      <g>\n       <use style=\"fill:#262626;stroke:#262626;\" x=\"56.697813\" xlink:href=\"#m8ac1e0fe40\" y=\"52.952037\"/>\n      </g>\n     </g>\n     <g id=\"text_13\">\n      <!-- 1200 -->\n      <g style=\"fill:#262626;\" transform=\"translate(21.454063 56.575475)scale(0.1 -0.1)\">\n       <use xlink:href=\"#LiberationSans-49\"/>\n       <use x=\"55.615234\" xlink:href=\"#LiberationSans-50\"/>\n       <use x=\"111.230469\" xlink:href=\"#LiberationSans-48\"/>\n       <use x=\"166.845703\" xlink:href=\"#LiberationSans-48\"/>\n      </g>\n     </g>\n    </g>\n    <g id=\"text_14\">\n     <!-- Bid price -->\n     <defs>\n      <path d=\"M 61.421875 19.390625 \nQ 61.421875 14.15625 59.375 10.46875 \nQ 57.328125 6.78125 53.859375 4.46875 \nQ 50.390625 2.15625 45.796875 1.078125 \nQ 41.21875 0 36.140625 0 \nL 8.203125 0 \nL 8.203125 68.796875 \nL 33.203125 68.796875 \nQ 38.921875 68.796875 43.40625 67.84375 \nQ 47.90625 66.890625 51.03125 64.84375 \nQ 54.15625 62.796875 55.78125 59.640625 \nQ 57.421875 56.5 57.421875 52.09375 \nQ 57.421875 49.21875 56.609375 46.671875 \nQ 55.8125 44.140625 54.171875 42.0625 \nQ 52.546875 39.984375 50.078125 38.5 \nQ 47.609375 37.015625 44.34375 36.28125 \nQ 48.484375 35.796875 51.6875 34.375 \nQ 54.890625 32.953125 57.03125 30.75 \nQ 59.1875 28.5625 60.296875 25.65625 \nQ 61.421875 22.75 61.421875 19.390625 \nz\nM 48.046875 50.984375 \nQ 48.046875 56.546875 44.234375 58.9375 \nQ 40.4375 61.328125 33.203125 61.328125 \nL 17.53125 61.328125 \nL 17.53125 39.546875 \nL 33.203125 39.546875 \nQ 37.3125 39.546875 40.140625 40.34375 \nQ 42.96875 41.15625 44.71875 42.640625 \nQ 46.484375 44.140625 47.265625 46.234375 \nQ 48.046875 48.34375 48.046875 50.984375 \nz\nM 52 20.125 \nQ 52 23.390625 50.796875 25.6875 \nQ 49.609375 27.984375 47.359375 29.4375 \nQ 45.125 30.90625 41.96875 31.59375 \nQ 38.8125 32.28125 34.90625 32.28125 \nL 17.53125 32.28125 \nL 17.53125 7.46875 \nL 35.640625 7.46875 \nQ 39.203125 7.46875 42.203125 8.046875 \nQ 45.21875 8.640625 47.390625 10.109375 \nQ 49.5625 11.578125 50.78125 14.015625 \nQ 52 16.453125 52 20.125 \nz\n\" id=\"LiberationSans-66\"/>\n      <path d=\"M 6.6875 64.0625 \nL 6.6875 72.46875 \nL 15.484375 72.46875 \nL 15.484375 64.0625 \nz\nM 6.6875 0 \nL 6.6875 52.828125 \nL 15.484375 52.828125 \nL 15.484375 0 \nz\n\" id=\"LiberationSans-105\"/>\n      <path d=\"M 40.09375 8.5 \nQ 37.640625 3.421875 33.609375 1.21875 \nQ 29.59375 -0.984375 23.640625 -0.984375 \nQ 13.625 -0.984375 8.90625 5.75 \nQ 4.203125 12.5 4.203125 26.171875 \nQ 4.203125 53.8125 23.640625 53.8125 \nQ 29.640625 53.8125 33.640625 51.609375 \nQ 37.640625 49.421875 40.09375 44.625 \nL 40.1875 44.625 \nQ 40.1875 45.125 40.15625 46.171875 \nQ 40.140625 47.21875 40.109375 48.359375 \nQ 40.09375 49.515625 40.09375 50.53125 \nQ 40.09375 51.5625 40.09375 52 \nL 40.09375 72.46875 \nL 48.875 72.46875 \nL 48.875 10.890625 \nQ 48.875 8.984375 48.890625 7.21875 \nQ 48.921875 5.46875 48.96875 4 \nQ 49.03125 2.546875 49.078125 1.484375 \nQ 49.125 0.4375 49.171875 0 \nL 40.765625 0 \nQ 40.671875 0.484375 40.59375 1.390625 \nQ 40.53125 2.296875 40.453125 3.46875 \nQ 40.375 4.640625 40.328125 5.9375 \nQ 40.28125 7.234375 40.28125 8.5 \nz\nM 13.421875 26.46875 \nQ 13.421875 21 14.109375 17.09375 \nQ 14.796875 13.1875 16.3125 10.671875 \nQ 17.828125 8.15625 20.171875 6.984375 \nQ 22.515625 5.8125 25.875 5.8125 \nQ 29.34375 5.8125 32 6.9375 \nQ 34.671875 8.0625 36.453125 10.578125 \nQ 38.234375 13.09375 39.15625 17.140625 \nQ 40.09375 21.1875 40.09375 27.046875 \nQ 40.09375 32.671875 39.15625 36.546875 \nQ 38.234375 40.4375 36.421875 42.828125 \nQ 34.625 45.21875 32 46.265625 \nQ 29.390625 47.3125 25.984375 47.3125 \nQ 22.75 47.3125 20.40625 46.1875 \nQ 18.0625 45.0625 16.5 42.578125 \nQ 14.9375 40.09375 14.171875 36.109375 \nQ 13.421875 32.125 13.421875 26.46875 \nz\n\" id=\"LiberationSans-100\"/>\n      <path id=\"LiberationSans-32\"/>\n      <path d=\"M 6.9375 0 \nL 6.9375 40.53125 \nQ 6.9375 42.1875 6.90625 43.921875 \nQ 6.890625 45.65625 6.828125 47.265625 \nQ 6.78125 48.875 6.734375 50.28125 \nQ 6.6875 51.703125 6.640625 52.828125 \nL 14.9375 52.828125 \nQ 14.984375 51.703125 15.0625 50.265625 \nQ 15.140625 48.828125 15.203125 47.3125 \nQ 15.28125 45.796875 15.296875 44.40625 \nQ 15.328125 43.015625 15.328125 42.046875 \nL 15.53125 42.046875 \nQ 16.453125 45.0625 17.5 47.28125 \nQ 18.5625 49.515625 19.96875 50.953125 \nQ 21.390625 52.390625 23.34375 53.09375 \nQ 25.296875 53.8125 28.078125 53.8125 \nQ 29.15625 53.8125 30.125 53.640625 \nQ 31.109375 53.46875 31.640625 53.328125 \nL 31.640625 45.265625 \nQ 30.765625 45.515625 29.59375 45.625 \nQ 28.421875 45.75 26.953125 45.75 \nQ 23.921875 45.75 21.796875 44.375 \nQ 19.671875 43.015625 18.328125 40.59375 \nQ 17 38.1875 16.359375 34.84375 \nQ 15.71875 31.5 15.71875 27.546875 \nL 15.71875 0 \nz\n\" id=\"LiberationSans-114\"/>\n      <path d=\"M 13.421875 26.65625 \nQ 13.421875 22.125 14.078125 18.3125 \nQ 14.75 14.5 16.3125 11.734375 \nQ 17.875 8.984375 20.4375 7.46875 \nQ 23 5.953125 26.765625 5.953125 \nQ 31.453125 5.953125 34.59375 8.484375 \nQ 37.75 11.03125 38.484375 16.3125 \nL 47.359375 15.71875 \nQ 46.921875 12.453125 45.453125 9.421875 \nQ 44 6.390625 41.484375 4.09375 \nQ 38.96875 1.8125 35.34375 0.40625 \nQ 31.734375 -0.984375 27 -0.984375 \nQ 20.796875 -0.984375 16.453125 1.109375 \nQ 12.109375 3.21875 9.390625 6.90625 \nQ 6.6875 10.59375 5.46875 15.59375 \nQ 4.25 20.609375 4.25 26.46875 \nQ 4.25 31.78125 5.125 35.859375 \nQ 6 39.9375 7.59375 42.984375 \nQ 9.1875 46.046875 11.328125 48.125 \nQ 13.484375 50.203125 15.984375 51.4375 \nQ 18.5 52.6875 21.28125 53.25 \nQ 24.078125 53.8125 26.90625 53.8125 \nQ 31.34375 53.8125 34.8125 52.59375 \nQ 38.28125 51.375 40.796875 49.25 \nQ 43.3125 47.125 44.875 44.234375 \nQ 46.4375 41.359375 47.078125 38.03125 \nL 38.03125 37.359375 \nQ 37.359375 41.75 34.5625 44.328125 \nQ 31.78125 46.921875 26.65625 46.921875 \nQ 22.90625 46.921875 20.390625 45.671875 \nQ 17.875 44.4375 16.3125 41.921875 \nQ 14.75 39.40625 14.078125 35.59375 \nQ 13.421875 31.78125 13.421875 26.65625 \nz\n\" id=\"LiberationSans-99\"/>\n      <path d=\"M 13.484375 24.5625 \nQ 13.484375 20.40625 14.328125 16.90625 \nQ 15.1875 13.421875 16.96875 10.90625 \nQ 18.75 8.40625 21.53125 7 \nQ 24.3125 5.609375 28.21875 5.609375 \nQ 33.9375 5.609375 37.375 7.90625 \nQ 40.828125 10.203125 42.046875 13.71875 \nL 49.75 11.53125 \nQ 48.921875 9.328125 47.4375 7.109375 \nQ 45.953125 4.890625 43.453125 3.09375 \nQ 40.96875 1.3125 37.234375 0.15625 \nQ 33.5 -0.984375 28.21875 -0.984375 \nQ 16.5 -0.984375 10.375 6 \nQ 4.25 12.984375 4.25 26.765625 \nQ 4.25 34.1875 6.09375 39.328125 \nQ 7.953125 44.484375 11.171875 47.703125 \nQ 14.40625 50.921875 18.703125 52.359375 \nQ 23 53.8125 27.875 53.8125 \nQ 34.515625 53.8125 38.984375 51.65625 \nQ 43.453125 49.515625 46.15625 45.71875 \nQ 48.875 41.9375 50.015625 36.8125 \nQ 51.171875 31.6875 51.171875 25.734375 \nL 51.171875 24.5625 \nz\nM 42.09375 31.296875 \nQ 41.359375 39.65625 37.84375 43.484375 \nQ 34.328125 47.3125 27.734375 47.3125 \nQ 25.53125 47.3125 23.109375 46.609375 \nQ 20.703125 45.90625 18.65625 44.09375 \nQ 16.609375 42.28125 15.1875 39.171875 \nQ 13.765625 36.078125 13.578125 31.296875 \nz\n\" id=\"LiberationSans-101\"/>\n     </defs>\n     <g style=\"fill:#262626;\" transform=\"translate(15.171563 152.013828)rotate(-90)scale(0.11 -0.11)\">\n      <use xlink:href=\"#LiberationSans-66\"/>\n      <use x=\"66.699219\" xlink:href=\"#LiberationSans-105\"/>\n      <use x=\"88.916016\" xlink:href=\"#LiberationSans-100\"/>\n      <use x=\"144.53125\" xlink:href=\"#LiberationSans-32\"/>\n      <use x=\"172.314453\" xlink:href=\"#LiberationSans-112\"/>\n      <use x=\"227.929688\" xlink:href=\"#LiberationSans-114\"/>\n      <use x=\"261.230469\" xlink:href=\"#LiberationSans-105\"/>\n      <use x=\"283.447266\" xlink:href=\"#LiberationSans-99\"/>\n      <use x=\"333.447266\" xlink:href=\"#LiberationSans-101\"/>\n     </g>\n    </g>\n   </g>\n   <g id=\"line2d_13\">\n    <path clip-path=\"url(#pe94596116c)\" d=\"M 71.915994 229.452614 \nL 78.127497 210.30045 \nL 84.339 198.756091 \nL 90.550503 190.016281 \nL 96.762005 182.823158 \nL 102.973508 176.633472 \nL 109.185011 171.156936 \nL 115.396514 166.218019 \nL 121.608017 161.701527 \nL 127.819519 157.527306 \nL 134.031022 153.637071 \nL 140.242525 149.986961 \nL 146.454028 146.543038 \nL 152.66553 143.278446 \nL 158.877033 140.171522 \nL 165.088536 137.204507 \nL 171.300039 134.362644 \nL 177.511542 131.633516 \nL 183.723044 129.006569 \nL 189.934547 126.472746 \nL 196.14605 124.024208 \nL 202.357553 121.654123 \nL 208.569056 119.356495 \nL 214.780558 117.126027 \nL 220.992061 114.958018 \nL 227.203564 112.848272 \nL 233.415067 110.793025 \nL 239.626569 108.788888 \nL 245.838072 106.832799 \nL 252.049575 104.921977 \nL 258.261078 103.053892 \nL 264.472581 101.226231 \nL 270.684083 99.436876 \nL 276.895586 97.683881 \nL 283.107089 95.965454 \nL 289.318592 94.279939 \nL 295.530095 92.625804 \nL 301.741597 91.001629 \nL 307.9531 89.406093 \nL 314.164603 87.837966 \nL 320.376106 86.296101 \nL 326.587608 84.779424 \nL 332.799111 83.286932 \nL 339.010614 81.817684 \nL 345.222117 80.370794 \nL 351.43362 78.945431 \nL 357.645122 77.540813 \nL 363.856625 76.1562 \nL 370.068128 74.790894 \nL 376.279631 73.444238 \n\" style=\"fill:none;stroke:#4c72b0;stroke-linecap:round;stroke-width:1.75;\"/>\n   </g>\n   <g id=\"line2d_14\">\n    <path clip-path=\"url(#pe94596116c)\" d=\"M 71.915994 221.710884 \nL 78.127497 198.134125 \nL 84.339 184.017446 \nL 90.550503 173.355067 \nL 96.762005 164.59076 \nL 102.973508 157.055269 \nL 109.185011 150.391879 \nL 115.396514 144.385264 \nL 121.608017 138.894293 \nL 127.819519 133.820863 \nL 134.031022 129.093695 \nL 140.242525 124.659184 \nL 146.454028 120.475876 \nL 152.66553 116.510983 \nL 158.877033 112.738067 \nL 165.088536 109.135464 \nL 171.300039 105.685177 \nL 177.511542 102.372067 \nL 183.723044 99.18327 \nL 189.934547 96.107748 \nL 196.14605 93.135953 \nL 202.357553 90.259562 \nL 208.569056 87.471271 \nL 214.780558 84.764633 \nL 220.992061 82.133922 \nL 227.203564 79.574031 \nL 233.415067 77.080378 \nL 239.626569 74.648841 \nL 245.838072 72.275691 \nL 252.049575 69.957547 \nL 258.261078 67.691328 \nL 264.472581 65.474222 \nL 270.684083 63.303653 \nL 276.895586 61.177254 \nL 283.107089 59.092845 \nL 289.318592 57.048413 \nL 295.530095 55.042096 \nL 301.741597 53.072165 \nL 307.9531 51.137016 \nL 314.164603 49.235152 \nL 320.376106 47.365179 \nL 326.587608 45.525794 \nL 332.799111 43.715775 \nL 339.010614 41.933978 \nL 345.222117 40.179329 \nL 351.43362 38.450816 \nL 357.645122 36.747488 \nL 363.856625 35.068448 \nL 370.068128 33.412848 \nL 376.279631 31.779886 \n\" style=\"fill:none;stroke:#55a868;stroke-linecap:round;stroke-width:1.75;\"/>\n   </g>\n   <g id=\"line2d_15\">\n    <path clip-path=\"url(#pe94596116c)\" d=\"M 71.915994 224.109606 \nL 78.127497 201.99078 \nL 84.339 188.714765 \nL 90.550503 178.67881 \nL 96.762005 170.425573 \nL 102.973508 163.327359 \nL 109.185011 157.049295 \nL 115.396514 151.389112 \nL 121.608017 146.214177 \nL 127.819519 141.43226 \nL 134.031022 136.97633 \nL 140.242525 132.795962 \nL 146.454028 128.852156 \nL 152.66553 125.114059 \nL 158.877033 121.556788 \nL 165.088536 118.159954 \nL 171.300039 114.906612 \nL 177.511542 111.782512 \nL 183.723044 108.775541 \nL 189.934547 105.875304 \nL 196.14605 103.07281 \nL 202.357553 100.360221 \nL 208.569056 97.730658 \nL 214.780558 95.178048 \nL 220.992061 92.696997 \nL 227.203564 90.282694 \nL 233.415067 87.930825 \nL 239.626569 85.637504 \nL 245.838072 83.399218 \nL 252.049575 81.212783 \nL 258.261078 79.075295 \nL 264.472581 76.984105 \nL 270.684083 74.936785 \nL 276.895586 72.931105 \nL 283.107089 70.965011 \nL 289.318592 69.036605 \nL 295.530095 67.144133 \nL 301.741597 65.285967 \nL 307.9531 63.460592 \nL 314.164603 61.6666 \nL 320.376106 59.902676 \nL 326.587608 58.167592 \nL 332.799111 56.460196 \nL 339.010614 54.779411 \nL 345.222117 53.124223 \nL 351.43362 51.493679 \nL 357.645122 49.886883 \nL 363.856625 48.302989 \nL 370.068128 46.741197 \nL 376.279631 45.200752 \n\" style=\"fill:none;stroke:#c44e52;stroke-linecap:round;stroke-width:1.75;\"/>\n   </g>\n   <g id=\"patch_3\">\n    <path d=\"M 56.697813 239.33625 \nL 56.697813 21.89625 \n\" style=\"fill:none;stroke:#262626;stroke-linecap:square;stroke-linejoin:miter;stroke-width:1.25;\"/>\n   </g>\n   <g id=\"patch_4\">\n    <path d=\"M 56.697812 239.33625 \nL 391.497813 239.33625 \n\" style=\"fill:none;stroke:#262626;stroke-linecap:square;stroke-linejoin:miter;stroke-width:1.25;\"/>\n   </g>\n   <g id=\"text_15\">\n    <!-- Non linear bidding strategy ORTB2 -->\n    <defs>\n     <path d=\"M 52.828125 0 \nL 16.015625 58.59375 \nQ 16.109375 56.203125 16.265625 53.859375 \nQ 16.359375 51.859375 16.421875 49.625 \nQ 16.5 47.40625 16.5 45.703125 \nL 16.5 0 \nL 8.203125 0 \nL 8.203125 68.796875 \nL 19.046875 68.796875 \nL 56.25 9.8125 \nQ 56.109375 12.203125 55.953125 14.59375 \nQ 55.859375 16.65625 55.765625 19.0625 \nQ 55.671875 21.484375 55.671875 23.6875 \nL 55.671875 68.796875 \nL 64.0625 68.796875 \nL 64.0625 0 \nz\n\" id=\"LiberationSans-78\"/>\n     <path d=\"M 51.421875 26.46875 \nQ 51.421875 12.59375 45.3125 5.796875 \nQ 39.203125 -0.984375 27.59375 -0.984375 \nQ 22.078125 -0.984375 17.71875 0.671875 \nQ 13.375 2.34375 10.375 5.765625 \nQ 7.375 9.1875 5.78125 14.328125 \nQ 4.203125 19.484375 4.203125 26.46875 \nQ 4.203125 53.8125 27.875 53.8125 \nQ 34.03125 53.8125 38.5 52.09375 \nQ 42.96875 50.390625 45.828125 46.96875 \nQ 48.6875 43.5625 50.046875 38.421875 \nQ 51.421875 33.296875 51.421875 26.46875 \nz\nM 42.1875 26.46875 \nQ 42.1875 32.625 41.234375 36.625 \nQ 40.28125 40.625 38.453125 43.015625 \nQ 36.625 45.40625 33.984375 46.359375 \nQ 31.34375 47.3125 28.03125 47.3125 \nQ 24.65625 47.3125 21.9375 46.3125 \nQ 19.234375 45.3125 17.328125 42.890625 \nQ 15.4375 40.484375 14.421875 36.46875 \nQ 13.421875 32.46875 13.421875 26.46875 \nQ 13.421875 20.3125 14.5 16.28125 \nQ 15.578125 12.25 17.453125 9.859375 \nQ 19.34375 7.46875 21.90625 6.484375 \nQ 24.46875 5.515625 27.484375 5.515625 \nQ 30.859375 5.515625 33.59375 6.46875 \nQ 36.328125 7.421875 38.234375 9.8125 \nQ 40.140625 12.203125 41.15625 16.25 \nQ 42.1875 20.3125 42.1875 26.46875 \nz\n\" id=\"LiberationSans-111\"/>\n     <path d=\"M 40.28125 0 \nL 40.28125 33.5 \nQ 40.28125 37.359375 39.71875 39.9375 \nQ 39.15625 42.53125 37.890625 44.109375 \nQ 36.625 45.703125 34.546875 46.359375 \nQ 32.46875 47.015625 29.390625 47.015625 \nQ 26.265625 47.015625 23.75 45.921875 \nQ 21.234375 44.828125 19.453125 42.75 \nQ 17.671875 40.671875 16.6875 37.625 \nQ 15.71875 34.578125 15.71875 30.609375 \nL 15.71875 0 \nL 6.9375 0 \nL 6.9375 41.546875 \nQ 6.9375 43.21875 6.90625 45.046875 \nQ 6.890625 46.875 6.828125 48.5 \nQ 6.78125 50.140625 6.734375 51.3125 \nQ 6.6875 52.484375 6.640625 52.828125 \nL 14.9375 52.828125 \nQ 14.984375 52.59375 15.03125 51.515625 \nQ 15.09375 50.4375 15.15625 49.046875 \nQ 15.234375 47.65625 15.28125 46.21875 \nQ 15.328125 44.78125 15.328125 43.796875 \nL 15.484375 43.796875 \nQ 16.75 46.09375 18.265625 47.953125 \nQ 19.78125 49.8125 21.78125 51.09375 \nQ 23.78125 52.390625 26.359375 53.09375 \nQ 28.953125 53.8125 32.375 53.8125 \nQ 36.765625 53.8125 39.9375 52.734375 \nQ 43.109375 51.65625 45.15625 49.40625 \nQ 47.21875 47.171875 48.171875 43.625 \nQ 49.125 40.09375 49.125 35.203125 \nL 49.125 0 \nz\n\" id=\"LiberationSans-110\"/>\n     <path d=\"M 6.734375 0 \nL 6.734375 72.46875 \nL 15.53125 72.46875 \nL 15.53125 0 \nz\n\" id=\"LiberationSans-108\"/>\n     <path d=\"M 20.21875 -0.984375 \nQ 12.25 -0.984375 8.25 3.21875 \nQ 4.25 7.421875 4.25 14.75 \nQ 4.25 19.96875 6.21875 23.3125 \nQ 8.203125 26.65625 11.390625 28.5625 \nQ 14.59375 30.46875 18.6875 31.203125 \nQ 22.796875 31.9375 27.046875 32.03125 \nL 38.921875 32.234375 \nL 38.921875 35.109375 \nQ 38.921875 38.375 38.234375 40.671875 \nQ 37.546875 42.96875 36.125 44.375 \nQ 34.71875 45.796875 32.59375 46.453125 \nQ 30.46875 47.125 27.59375 47.125 \nQ 25.046875 47.125 23 46.75 \nQ 20.953125 46.390625 19.4375 45.4375 \nQ 17.921875 44.484375 16.984375 42.84375 \nQ 16.0625 41.21875 15.765625 38.71875 \nL 6.59375 39.546875 \nQ 7.078125 42.671875 8.4375 45.28125 \nQ 9.8125 47.90625 12.328125 49.796875 \nQ 14.84375 51.703125 18.625 52.75 \nQ 22.40625 53.8125 27.78125 53.8125 \nQ 37.75 53.8125 42.765625 49.234375 \nQ 47.796875 44.671875 47.796875 36.03125 \nL 47.796875 13.28125 \nQ 47.796875 9.375 48.828125 7.390625 \nQ 49.859375 5.421875 52.734375 5.421875 \nQ 53.46875 5.421875 54.203125 5.515625 \nQ 54.9375 5.609375 55.609375 5.765625 \nL 55.609375 0.296875 \nQ 53.953125 -0.09375 52.3125 -0.28125 \nQ 50.6875 -0.484375 48.828125 -0.484375 \nQ 46.34375 -0.484375 44.5625 0.171875 \nQ 42.78125 0.828125 41.65625 2.171875 \nQ 40.53125 3.515625 39.9375 5.484375 \nQ 39.359375 7.46875 39.203125 10.109375 \nL 38.921875 10.109375 \nQ 37.5 7.5625 35.8125 5.515625 \nQ 34.125 3.46875 31.875 2.03125 \nQ 29.640625 0.59375 26.78125 -0.1875 \nQ 23.921875 -0.984375 20.21875 -0.984375 \nz\nM 22.21875 5.609375 \nQ 26.421875 5.609375 29.5625 7.140625 \nQ 32.71875 8.6875 34.78125 11.078125 \nQ 36.859375 13.484375 37.890625 16.3125 \nQ 38.921875 19.140625 38.921875 21.734375 \nL 38.921875 26.078125 \nL 29.296875 25.875 \nQ 26.078125 25.828125 23.171875 25.40625 \nQ 20.265625 25 18.0625 23.78125 \nQ 15.875 22.5625 14.578125 20.359375 \nQ 13.28125 18.171875 13.28125 14.59375 \nQ 13.28125 10.296875 15.59375 7.953125 \nQ 17.921875 5.609375 22.21875 5.609375 \nz\n\" id=\"LiberationSans-97\"/>\n     <path d=\"M 51.421875 26.65625 \nQ 51.421875 -0.984375 31.984375 -0.984375 \nQ 25.984375 -0.984375 22 1.1875 \nQ 18.015625 3.375 15.53125 8.203125 \nL 15.4375 8.203125 \nQ 15.4375 6.9375 15.359375 5.5625 \nQ 15.28125 4.203125 15.203125 3.03125 \nQ 15.140625 1.859375 15.0625 1.03125 \nQ 14.984375 0.203125 14.9375 0 \nL 6.453125 0 \nQ 6.5 0.4375 6.546875 1.484375 \nQ 6.59375 2.546875 6.640625 4 \nQ 6.6875 5.46875 6.703125 7.21875 \nQ 6.734375 8.984375 6.734375 10.890625 \nL 6.734375 72.46875 \nL 15.53125 72.46875 \nL 15.53125 51.8125 \nQ 15.53125 50.34375 15.5 49 \nQ 15.484375 47.65625 15.4375 46.625 \nQ 15.375 45.40625 15.328125 44.34375 \nL 15.53125 44.34375 \nQ 17.96875 49.421875 22 51.609375 \nQ 26.03125 53.8125 31.984375 53.8125 \nQ 42 53.8125 46.703125 47.0625 \nQ 51.421875 40.328125 51.421875 26.65625 \nz\nM 42.1875 26.375 \nQ 42.1875 31.84375 41.5 35.75 \nQ 40.828125 39.65625 39.3125 42.15625 \nQ 37.796875 44.671875 35.453125 45.84375 \nQ 33.109375 47.015625 29.734375 47.015625 \nQ 26.265625 47.015625 23.609375 45.890625 \nQ 20.953125 44.78125 19.171875 42.28125 \nQ 17.390625 39.796875 16.453125 35.734375 \nQ 15.53125 31.6875 15.53125 25.828125 \nQ 15.53125 20.171875 16.453125 16.3125 \nQ 17.390625 12.453125 19.171875 10.03125 \nQ 20.953125 7.625 23.578125 6.5625 \nQ 26.21875 5.515625 29.640625 5.515625 \nQ 32.859375 5.515625 35.203125 6.640625 \nQ 37.546875 7.765625 39.109375 10.25 \nQ 40.671875 12.75 41.421875 16.71875 \nQ 42.1875 20.703125 42.1875 26.375 \nz\n\" id=\"LiberationSans-98\"/>\n     <path d=\"M 26.765625 -20.75 \nQ 22.21875 -20.75 18.703125 -19.8125 \nQ 15.1875 -18.890625 12.6875 -17.15625 \nQ 10.203125 -15.4375 8.640625 -13.03125 \nQ 7.078125 -10.640625 6.390625 -7.71875 \nL 15.234375 -6.453125 \nQ 16.109375 -10.109375 19.109375 -12.078125 \nQ 22.125 -14.0625 27 -14.0625 \nQ 29.984375 -14.0625 32.421875 -13.234375 \nQ 34.859375 -12.40625 36.5625 -10.5625 \nQ 38.28125 -8.734375 39.203125 -5.796875 \nQ 40.140625 -2.875 40.140625 1.3125 \nL 40.140625 9.8125 \nL 40.046875 9.8125 \nQ 39.0625 7.8125 37.625 5.984375 \nQ 36.1875 4.15625 34.109375 2.734375 \nQ 32.03125 1.3125 29.296875 0.453125 \nQ 26.5625 -0.390625 23.046875 -0.390625 \nQ 18.015625 -0.390625 14.421875 1.296875 \nQ 10.84375 2.984375 8.5625 6.34375 \nQ 6.296875 9.71875 5.25 14.71875 \nQ 4.203125 19.734375 4.203125 26.3125 \nQ 4.203125 32.671875 5.25 37.75 \nQ 6.296875 42.828125 8.65625 46.359375 \nQ 11.03125 49.90625 14.8125 51.78125 \nQ 18.609375 53.65625 24.03125 53.65625 \nQ 29.640625 53.65625 33.765625 51.09375 \nQ 37.890625 48.53125 40.140625 43.796875 \nL 40.234375 43.796875 \nQ 40.234375 45.015625 40.296875 46.53125 \nQ 40.375 48.046875 40.453125 49.390625 \nQ 40.53125 50.734375 40.625 51.703125 \nQ 40.71875 52.6875 40.828125 52.828125 \nL 49.171875 52.828125 \nQ 49.125 52.390625 49.078125 51.34375 \nQ 49.03125 50.296875 48.96875 48.828125 \nQ 48.921875 47.359375 48.890625 45.578125 \nQ 48.875 43.796875 48.875 41.890625 \nL 48.875 1.515625 \nQ 48.875 -9.578125 43.421875 -15.15625 \nQ 37.984375 -20.75 26.765625 -20.75 \nz\nM 40.140625 26.421875 \nQ 40.140625 31.9375 38.9375 35.859375 \nQ 37.75 39.796875 35.796875 42.28125 \nQ 33.84375 44.78125 31.328125 45.953125 \nQ 28.8125 47.125 26.171875 47.125 \nQ 22.796875 47.125 20.375 45.953125 \nQ 17.96875 44.78125 16.375 42.265625 \nQ 14.796875 39.75 14.03125 35.8125 \nQ 13.28125 31.890625 13.28125 26.421875 \nQ 13.28125 20.703125 14.03125 16.8125 \nQ 14.796875 12.9375 16.359375 10.546875 \nQ 17.921875 8.15625 20.3125 7.125 \nQ 22.703125 6.109375 26.03125 6.109375 \nQ 28.65625 6.109375 31.171875 7.21875 \nQ 33.6875 8.34375 35.6875 10.78125 \nQ 37.703125 13.234375 38.921875 17.09375 \nQ 40.140625 20.953125 40.140625 26.421875 \nz\n\" id=\"LiberationSans-103\"/>\n     <path d=\"M 46.390625 14.59375 \nQ 46.390625 10.890625 44.9375 7.984375 \nQ 43.5 5.078125 40.765625 3.09375 \nQ 38.03125 1.125 34.046875 0.0625 \nQ 30.078125 -0.984375 24.953125 -0.984375 \nQ 20.359375 -0.984375 16.671875 -0.265625 \nQ 12.984375 0.4375 10.203125 2 \nQ 7.421875 3.5625 5.53125 6.125 \nQ 3.65625 8.6875 2.78125 12.40625 \nL 10.546875 13.921875 \nQ 11.671875 9.671875 15.1875 7.6875 \nQ 18.703125 5.71875 24.953125 5.71875 \nQ 27.78125 5.71875 30.140625 6.109375 \nQ 32.515625 6.5 34.21875 7.453125 \nQ 35.9375 8.40625 36.890625 9.984375 \nQ 37.84375 11.578125 37.84375 13.921875 \nQ 37.84375 16.3125 36.71875 17.84375 \nQ 35.59375 19.390625 33.59375 20.40625 \nQ 31.59375 21.4375 28.734375 22.1875 \nQ 25.875 22.953125 22.46875 23.875 \nQ 19.28125 24.703125 16.15625 25.734375 \nQ 13.03125 26.765625 10.515625 28.4375 \nQ 8.015625 30.125 6.453125 32.609375 \nQ 4.890625 35.109375 4.890625 38.875 \nQ 4.890625 46.09375 10.03125 49.875 \nQ 15.1875 53.65625 25.046875 53.65625 \nQ 33.796875 53.65625 38.9375 50.578125 \nQ 44.09375 47.515625 45.453125 40.71875 \nL 37.546875 39.75 \nQ 37.109375 41.796875 35.9375 43.1875 \nQ 34.765625 44.578125 33.109375 45.4375 \nQ 31.453125 46.296875 29.375 46.65625 \nQ 27.296875 47.015625 25.046875 47.015625 \nQ 19.09375 47.015625 16.25 45.203125 \nQ 13.421875 43.40625 13.421875 39.75 \nQ 13.421875 37.59375 14.46875 36.203125 \nQ 15.53125 34.8125 17.40625 33.859375 \nQ 19.28125 32.90625 21.921875 32.203125 \nQ 24.5625 31.5 27.734375 30.71875 \nQ 29.828125 30.171875 32.03125 29.5625 \nQ 34.234375 28.953125 36.296875 28.09375 \nQ 38.375 27.25 40.203125 26.09375 \nQ 42.046875 24.953125 43.40625 23.34375 \nQ 44.78125 21.734375 45.578125 19.578125 \nQ 46.390625 17.4375 46.390625 14.59375 \nz\n\" id=\"LiberationSans-115\"/>\n     <path d=\"M 27.046875 0.390625 \nQ 25.046875 -0.140625 22.96875 -0.453125 \nQ 20.90625 -0.78125 18.171875 -0.78125 \nQ 7.625 -0.78125 7.625 11.1875 \nL 7.625 46.4375 \nL 1.515625 46.4375 \nL 1.515625 52.828125 \nL 7.953125 52.828125 \nL 10.546875 64.65625 \nL 16.40625 64.65625 \nL 16.40625 52.828125 \nL 26.171875 52.828125 \nL 26.171875 46.4375 \nL 16.40625 46.4375 \nL 16.40625 13.09375 \nQ 16.40625 9.28125 17.640625 7.734375 \nQ 18.890625 6.203125 21.96875 6.203125 \nQ 23.25 6.203125 24.4375 6.390625 \nQ 25.640625 6.59375 27.046875 6.890625 \nz\n\" id=\"LiberationSans-116\"/>\n     <path d=\"M 29.5 0 \nQ 27.640625 -4.78125 25.703125 -8.609375 \nQ 23.78125 -12.453125 21.390625 -15.15625 \nQ 19 -17.875 16.0625 -19.3125 \nQ 13.140625 -20.75 9.328125 -20.75 \nQ 7.671875 -20.75 6.25 -20.65625 \nQ 4.828125 -20.5625 3.265625 -20.21875 \nL 3.265625 -13.625 \nQ 4.203125 -13.765625 5.375 -13.84375 \nQ 6.546875 -13.921875 7.375 -13.921875 \nQ 11.234375 -13.921875 14.546875 -11.03125 \nQ 17.875 -8.15625 20.359375 -1.859375 \nL 21.1875 0.25 \nL 0.25 52.828125 \nL 9.625 52.828125 \nL 20.75 23.640625 \nQ 21.234375 22.3125 21.984375 20.109375 \nQ 22.75 17.921875 23.5 15.71875 \nQ 24.265625 13.53125 24.84375 11.765625 \nQ 25.4375 10.015625 25.53125 9.578125 \nQ 25.6875 10.109375 26.25 11.6875 \nQ 26.8125 13.28125 27.515625 15.234375 \nQ 28.21875 17.1875 28.953125 19.1875 \nQ 29.6875 21.1875 30.171875 22.65625 \nL 40.53125 52.828125 \nL 49.8125 52.828125 \nz\n\" id=\"LiberationSans-121\"/>\n     <path d=\"M 73 34.71875 \nQ 73 26.65625 70.671875 20.0625 \nQ 68.359375 13.484375 63.96875 8.796875 \nQ 59.578125 4.109375 53.21875 1.5625 \nQ 46.875 -0.984375 38.8125 -0.984375 \nQ 30.328125 -0.984375 23.921875 1.671875 \nQ 17.53125 4.34375 13.28125 9.109375 \nQ 9.03125 13.875 6.875 20.40625 \nQ 4.734375 26.953125 4.734375 34.71875 \nQ 4.734375 42.78125 6.984375 49.265625 \nQ 9.234375 55.765625 13.578125 60.328125 \nQ 17.921875 64.890625 24.296875 67.359375 \nQ 30.671875 69.828125 38.921875 69.828125 \nQ 47.125 69.828125 53.484375 67.328125 \nQ 59.859375 64.84375 64.171875 60.25 \nQ 68.5 55.671875 70.75 49.171875 \nQ 73 42.671875 73 34.71875 \nz\nM 63.484375 34.71875 \nQ 63.484375 40.921875 61.890625 46 \nQ 60.296875 51.078125 57.203125 54.6875 \nQ 54.109375 58.296875 49.515625 60.25 \nQ 44.921875 62.203125 38.921875 62.203125 \nQ 32.765625 62.203125 28.125 60.25 \nQ 23.484375 58.296875 20.375 54.6875 \nQ 17.28125 51.078125 15.734375 46 \nQ 14.203125 40.921875 14.203125 34.71875 \nQ 14.203125 28.515625 15.796875 23.359375 \nQ 17.390625 18.21875 20.484375 14.484375 \nQ 23.578125 10.75 28.1875 8.671875 \nQ 32.8125 6.59375 38.8125 6.59375 \nQ 45.265625 6.59375 49.921875 8.6875 \nQ 54.59375 10.796875 57.59375 14.53125 \nQ 60.59375 18.265625 62.03125 23.4375 \nQ 63.484375 28.609375 63.484375 34.71875 \nz\n\" id=\"LiberationSans-79\"/>\n    </defs>\n    <g style=\"fill:#262626;\" transform=\"translate(131.0575 15.89625)scale(0.12 -0.12)\">\n     <use xlink:href=\"#LiberationSans-78\"/>\n     <use x=\"72.216797\" xlink:href=\"#LiberationSans-111\"/>\n     <use x=\"127.832031\" xlink:href=\"#LiberationSans-110\"/>\n     <use x=\"183.447266\" xlink:href=\"#LiberationSans-32\"/>\n     <use x=\"211.230469\" xlink:href=\"#LiberationSans-108\"/>\n     <use x=\"233.447266\" xlink:href=\"#LiberationSans-105\"/>\n     <use x=\"255.664062\" xlink:href=\"#LiberationSans-110\"/>\n     <use x=\"311.279297\" xlink:href=\"#LiberationSans-101\"/>\n     <use x=\"366.894531\" xlink:href=\"#LiberationSans-97\"/>\n     <use x=\"422.509766\" xlink:href=\"#LiberationSans-114\"/>\n     <use x=\"455.810547\" xlink:href=\"#LiberationSans-32\"/>\n     <use x=\"483.59375\" xlink:href=\"#LiberationSans-98\"/>\n     <use x=\"539.208984\" xlink:href=\"#LiberationSans-105\"/>\n     <use x=\"561.425781\" xlink:href=\"#LiberationSans-100\"/>\n     <use x=\"617.041016\" xlink:href=\"#LiberationSans-100\"/>\n     <use x=\"672.65625\" xlink:href=\"#LiberationSans-105\"/>\n     <use x=\"694.873047\" xlink:href=\"#LiberationSans-110\"/>\n     <use x=\"750.488281\" xlink:href=\"#LiberationSans-103\"/>\n     <use x=\"806.103516\" xlink:href=\"#LiberationSans-32\"/>\n     <use x=\"833.886719\" xlink:href=\"#LiberationSans-115\"/>\n     <use x=\"883.886719\" xlink:href=\"#LiberationSans-116\"/>\n     <use x=\"911.669922\" xlink:href=\"#LiberationSans-114\"/>\n     <use x=\"944.970703\" xlink:href=\"#LiberationSans-97\"/>\n     <use x=\"1000.585938\" xlink:href=\"#LiberationSans-116\"/>\n     <use x=\"1028.369141\" xlink:href=\"#LiberationSans-101\"/>\n     <use x=\"1083.984375\" xlink:href=\"#LiberationSans-103\"/>\n     <use x=\"1139.599609\" xlink:href=\"#LiberationSans-121\"/>\n     <use x=\"1189.599609\" xlink:href=\"#LiberationSans-32\"/>\n     <use x=\"1217.382812\" xlink:href=\"#LiberationSans-79\"/>\n     <use x=\"1295.166016\" xlink:href=\"#LiberationSans-82\"/>\n     <use x=\"1367.367188\" xlink:href=\"#LiberationSans-84\"/>\n     <use x=\"1428.451172\" xlink:href=\"#LiberationSans-66\"/>\n     <use x=\"1495.150391\" xlink:href=\"#LiberationSans-50\"/>\n    </g>\n   </g>\n   <g id=\"legend_1\">\n    <g id=\"line2d_16\">\n     <path d=\"M 65.697812 34.643125 \nL 85.697812 34.643125 \n\" style=\"fill:none;stroke:#4c72b0;stroke-linecap:round;stroke-width:1.75;\"/>\n    </g>\n    <g id=\"line2d_17\"/>\n    <g id=\"text_16\">\n     <!-- #1 -->\n     <defs>\n      <path d=\"M 43.75 43.21875 \nL 39.9375 25.203125 \nL 52.640625 25.203125 \nL 52.640625 19.921875 \nL 38.8125 19.921875 \nL 34.515625 0 \nL 29.15625 0 \nL 33.34375 19.921875 \nL 15.625 19.921875 \nL 11.53125 0 \nL 6.15625 0 \nL 10.25 19.921875 \nL 0.4375 19.921875 \nL 0.4375 25.203125 \nL 11.421875 25.203125 \nL 15.234375 43.21875 \nL 2.9375 43.21875 \nL 2.9375 48.484375 \nL 16.3125 48.484375 \nL 20.65625 68.40625 \nL 26.03125 68.40625 \nL 21.734375 48.484375 \nL 39.453125 48.484375 \nL 43.75 68.40625 \nL 49.125 68.40625 \nL 44.828125 48.484375 \nL 55.125 48.484375 \nL 55.125 43.21875 \nz\nM 20.75 43.21875 \nL 16.84375 25.203125 \nL 34.515625 25.203125 \nL 38.328125 43.21875 \nz\n\" id=\"LiberationSans-35\"/>\n     </defs>\n     <g style=\"fill:#262626;\" transform=\"translate(93.697812 38.143125)scale(0.1 -0.1)\">\n      <use xlink:href=\"#LiberationSans-35\"/>\n      <use x=\"55.615234\" xlink:href=\"#LiberationSans-49\"/>\n     </g>\n    </g>\n    <g id=\"line2d_18\">\n     <path d=\"M 65.697812 48.965 \nL 85.697812 48.965 \n\" style=\"fill:none;stroke:#55a868;stroke-linecap:round;stroke-width:1.75;\"/>\n    </g>\n    <g id=\"line2d_19\"/>\n    <g id=\"text_17\">\n     <!-- #2 -->\n     <g style=\"fill:#262626;\" transform=\"translate(93.697812 52.465)scale(0.1 -0.1)\">\n      <use xlink:href=\"#LiberationSans-35\"/>\n      <use x=\"55.615234\" xlink:href=\"#LiberationSans-50\"/>\n     </g>\n    </g>\n    <g id=\"line2d_20\">\n     <path d=\"M 65.697812 63.286875 \nL 85.697812 63.286875 \n\" style=\"fill:none;stroke:#c44e52;stroke-linecap:round;stroke-width:1.75;\"/>\n    </g>\n    <g id=\"line2d_21\"/>\n    <g id=\"text_18\">\n     <!-- #3 -->\n     <defs>\n      <path d=\"M 51.21875 19 \nQ 51.21875 14.265625 49.671875 10.546875 \nQ 48.140625 6.84375 45.1875 4.265625 \nQ 42.234375 1.703125 37.859375 0.359375 \nQ 33.5 -0.984375 27.875 -0.984375 \nQ 21.484375 -0.984375 17.109375 0.609375 \nQ 12.75 2.203125 9.90625 4.8125 \nQ 7.078125 7.421875 5.65625 10.765625 \nQ 4.25 14.109375 3.8125 17.671875 \nL 12.890625 18.5 \nQ 13.28125 15.765625 14.328125 13.515625 \nQ 15.375 11.28125 17.1875 9.671875 \nQ 19 8.0625 21.625 7.171875 \nQ 24.265625 6.296875 27.875 6.296875 \nQ 34.515625 6.296875 38.296875 9.5625 \nQ 42.09375 12.84375 42.09375 19.28125 \nQ 42.09375 23.09375 40.40625 25.40625 \nQ 38.71875 27.734375 36.203125 29.03125 \nQ 33.6875 30.328125 30.734375 30.765625 \nQ 27.78125 31.203125 25.296875 31.203125 \nL 20.3125 31.203125 \nL 20.3125 38.8125 \nL 25.09375 38.8125 \nQ 27.59375 38.8125 30.265625 39.328125 \nQ 32.953125 39.84375 35.171875 41.1875 \nQ 37.40625 42.53125 38.84375 44.828125 \nQ 40.28125 47.125 40.28125 50.6875 \nQ 40.28125 56.203125 37.03125 59.390625 \nQ 33.796875 62.59375 27.390625 62.59375 \nQ 21.578125 62.59375 17.984375 59.609375 \nQ 14.40625 56.640625 13.8125 51.21875 \nL 4.984375 51.90625 \nQ 5.515625 56.453125 7.46875 59.8125 \nQ 9.421875 63.1875 12.421875 65.40625 \nQ 15.4375 67.625 19.28125 68.71875 \nQ 23.140625 69.828125 27.484375 69.828125 \nQ 33.25 69.828125 37.390625 68.375 \nQ 41.546875 66.9375 44.1875 64.46875 \nQ 46.828125 62.015625 48.0625 58.6875 \nQ 49.3125 55.375 49.3125 51.609375 \nQ 49.3125 48.578125 48.484375 45.9375 \nQ 47.65625 43.3125 45.890625 41.203125 \nQ 44.140625 39.109375 41.421875 37.59375 \nQ 38.71875 36.078125 34.90625 35.296875 \nL 34.90625 35.109375 \nQ 39.0625 34.671875 42.140625 33.21875 \nQ 45.21875 31.78125 47.21875 29.625 \nQ 49.21875 27.484375 50.21875 24.75 \nQ 51.21875 22.015625 51.21875 19 \nz\n\" id=\"LiberationSans-51\"/>\n     </defs>\n     <g style=\"fill:#262626;\" transform=\"translate(93.697812 66.786875)scale(0.1 -0.1)\">\n      <use xlink:href=\"#LiberationSans-35\"/>\n      <use x=\"55.615234\" xlink:href=\"#LiberationSans-51\"/>\n     </g>\n    </g>\n   </g>\n  </g>\n </g>\n <defs>\n  <clipPath id=\"pe94596116c\">\n   <rect height=\"217.44\" width=\"334.8\" x=\"56.697813\" y=\"21.89625\"/>\n  </clipPath>\n </defs>\n</svg>\n"
          },
          "metadata": {
            "tags": []
          }
        }
      ]
    },
    {
      "metadata": {
        "id": "NSYgH1pooZUH",
        "colab_type": "code",
        "colab": {
          "base_uri": "https://localhost:8080/",
          "height": 437
        },
        "outputId": "b16f5fd8-d98f-422d-c69b-284bff40caa6"
      },
      "cell_type": "code",
      "source": [
        "x = np.linspace(1e-2, 1)\n",
        "y = ortb_strategy2(6.210526e-7,20,pCTR)\n",
        "\n",
        "ax = sns.distplot(y, kde=False, bins=100, hist_kws={'log':True});\n",
        "sns.despine()\n",
        "plt.ylabel('Frequency')\n",
        "plt.xlabel('Bid price')\n",
        "plt.show();"
      ],
      "execution_count": 104,
      "outputs": [
        {
          "output_type": "stream",
          "text": [
            "/usr/local/lib/python3.6/dist-packages/matplotlib/axes/_axes.py:6521: MatplotlibDeprecationWarning: \n",
            "The 'normed' kwarg was deprecated in Matplotlib 2.1 and will be removed in 3.1. Use 'density' instead.\n",
            "  alternative=\"'density'\", removal=\"3.1\")\n"
          ],
          "name": "stderr"
        },
        {
          "output_type": "display_data",
          "data": {
            "text/plain": [
              "<Figure size 432x288 with 1 Axes>"
            ],
            "image/svg+xml": "<?xml version=\"1.0\" encoding=\"utf-8\" standalone=\"no\"?>\n<!DOCTYPE svg PUBLIC \"-//W3C//DTD SVG 1.1//EN\"\n  \"http://www.w3.org/Graphics/SVG/1.1/DTD/svg11.dtd\">\n<!-- Created with matplotlib (https://matplotlib.org/) -->\n<svg height=\"274.415937pt\" version=\"1.1\" viewBox=\"0 0 397.854062 274.415937\" width=\"397.854062pt\" xmlns=\"http://www.w3.org/2000/svg\" xmlns:xlink=\"http://www.w3.org/1999/xlink\">\n <defs>\n  <style type=\"text/css\">\n*{stroke-linecap:butt;stroke-linejoin:round;}\n  </style>\n </defs>\n <g id=\"figure_1\">\n  <g id=\"patch_1\">\n   <path d=\"M 0 274.415937 \nL 397.854062 274.415937 \nL 397.854062 0 \nL 0 0 \nz\n\" style=\"fill:none;\"/>\n  </g>\n  <g id=\"axes_1\">\n   <g id=\"patch_2\">\n    <path d=\"M 49.854062 230.64 \nL 384.654063 230.64 \nL 384.654063 13.2 \nL 49.854062 13.2 \nz\n\" style=\"fill:#ffffff;\"/>\n   </g>\n   <g id=\"matplotlib.axis_1\">\n    <g id=\"xtick_1\">\n     <g id=\"line2d_1\">\n      <defs>\n       <path d=\"M 0 0 \nL 0 6 \n\" id=\"m7b2eac881e\" style=\"stroke:#262626;\"/>\n      </defs>\n      <g>\n       <use style=\"fill:#262626;stroke:#262626;\" x=\"65.072244\" xlink:href=\"#m7b2eac881e\" y=\"230.64\"/>\n      </g>\n     </g>\n     <g id=\"text_1\">\n      <!-- 0 -->\n      <defs>\n       <path d=\"M 51.703125 34.421875 \nQ 51.703125 24.515625 49.828125 17.75 \nQ 47.953125 10.984375 44.703125 6.8125 \nQ 41.453125 2.640625 37.0625 0.828125 \nQ 32.671875 -0.984375 27.6875 -0.984375 \nQ 22.65625 -0.984375 18.3125 0.828125 \nQ 13.96875 2.640625 10.765625 6.78125 \nQ 7.5625 10.9375 5.734375 17.703125 \nQ 3.90625 24.46875 3.90625 34.421875 \nQ 3.90625 44.828125 5.734375 51.640625 \nQ 7.5625 58.453125 10.78125 62.5 \nQ 14.015625 66.546875 18.40625 68.1875 \nQ 22.796875 69.828125 27.984375 69.828125 \nQ 32.90625 69.828125 37.21875 68.1875 \nQ 41.546875 66.546875 44.765625 62.5 \nQ 48 58.453125 49.84375 51.640625 \nQ 51.703125 44.828125 51.703125 34.421875 \nz\nM 42.78125 34.421875 \nQ 42.78125 42.625 41.796875 48.0625 \nQ 40.828125 53.515625 38.921875 56.765625 \nQ 37.015625 60.015625 34.25 61.359375 \nQ 31.5 62.703125 27.984375 62.703125 \nQ 24.265625 62.703125 21.4375 61.328125 \nQ 18.609375 59.96875 16.671875 56.71875 \nQ 14.75 53.46875 13.765625 48.015625 \nQ 12.796875 42.578125 12.796875 34.421875 \nQ 12.796875 26.515625 13.796875 21.09375 \nQ 14.796875 15.671875 16.71875 12.375 \nQ 18.65625 9.078125 21.4375 7.640625 \nQ 24.21875 6.203125 27.78125 6.203125 \nQ 31.25 6.203125 34.03125 7.640625 \nQ 36.8125 9.078125 38.734375 12.375 \nQ 40.671875 15.671875 41.71875 21.09375 \nQ 42.78125 26.515625 42.78125 34.421875 \nz\n\" id=\"LiberationSans-48\"/>\n      </defs>\n      <g style=\"fill:#262626;\" transform=\"translate(62.291776 250.886875)scale(0.1 -0.1)\">\n       <use xlink:href=\"#LiberationSans-48\"/>\n      </g>\n     </g>\n    </g>\n    <g id=\"xtick_2\">\n     <g id=\"line2d_2\">\n      <g>\n       <use style=\"fill:#262626;stroke:#262626;\" x=\"121.037171\" xlink:href=\"#m7b2eac881e\" y=\"230.64\"/>\n      </g>\n     </g>\n     <g id=\"text_2\">\n      <!-- 200 -->\n      <defs>\n       <path d=\"M 5.03125 0 \nL 5.03125 6.203125 \nQ 7.515625 11.921875 11.109375 16.28125 \nQ 14.703125 20.65625 18.65625 24.1875 \nQ 22.609375 27.734375 26.484375 30.765625 \nQ 30.375 33.796875 33.5 36.8125 \nQ 36.625 39.84375 38.546875 43.15625 \nQ 40.484375 46.484375 40.484375 50.6875 \nQ 40.484375 53.609375 39.59375 55.828125 \nQ 38.71875 58.0625 37.0625 59.5625 \nQ 35.40625 61.078125 33.078125 61.828125 \nQ 30.765625 62.59375 27.9375 62.59375 \nQ 25.296875 62.59375 22.96875 61.859375 \nQ 20.65625 61.140625 18.84375 59.671875 \nQ 17.046875 58.203125 15.890625 56.03125 \nQ 14.75 53.859375 14.40625 50.984375 \nL 5.421875 51.8125 \nQ 5.859375 55.515625 7.46875 58.78125 \nQ 9.078125 62.0625 11.90625 64.53125 \nQ 14.75 67 18.71875 68.40625 \nQ 22.703125 69.828125 27.9375 69.828125 \nQ 33.0625 69.828125 37.0625 68.609375 \nQ 41.0625 67.390625 43.8125 64.984375 \nQ 46.578125 62.59375 48.046875 59.078125 \nQ 49.515625 55.5625 49.515625 50.984375 \nQ 49.515625 47.515625 48.265625 44.390625 \nQ 47.015625 41.265625 44.9375 38.421875 \nQ 42.875 35.59375 40.140625 32.953125 \nQ 37.40625 30.328125 34.421875 27.8125 \nQ 31.453125 25.296875 28.421875 22.828125 \nQ 25.390625 20.359375 22.71875 17.859375 \nQ 20.0625 15.375 17.96875 12.8125 \nQ 15.875 10.25 14.703125 7.46875 \nL 50.59375 7.46875 \nL 50.59375 0 \nz\n\" id=\"LiberationSans-50\"/>\n      </defs>\n      <g style=\"fill:#262626;\" transform=\"translate(112.695765 250.886875)scale(0.1 -0.1)\">\n       <use xlink:href=\"#LiberationSans-50\"/>\n       <use x=\"55.615234\" xlink:href=\"#LiberationSans-48\"/>\n       <use x=\"111.230469\" xlink:href=\"#LiberationSans-48\"/>\n      </g>\n     </g>\n    </g>\n    <g id=\"xtick_3\">\n     <g id=\"line2d_3\">\n      <g>\n       <use style=\"fill:#262626;stroke:#262626;\" x=\"177.002098\" xlink:href=\"#m7b2eac881e\" y=\"230.64\"/>\n      </g>\n     </g>\n     <g id=\"text_3\">\n      <!-- 400 -->\n      <defs>\n       <path d=\"M 43.015625 15.578125 \nL 43.015625 0 \nL 34.71875 0 \nL 34.71875 15.578125 \nL 2.296875 15.578125 \nL 2.296875 22.40625 \nL 33.796875 68.796875 \nL 43.015625 68.796875 \nL 43.015625 22.515625 \nL 52.6875 22.515625 \nL 52.6875 15.578125 \nz\nM 34.71875 58.890625 \nQ 34.625 58.640625 34.234375 57.9375 \nQ 33.84375 57.234375 33.34375 56.34375 \nQ 32.859375 55.46875 32.34375 54.5625 \nQ 31.84375 53.65625 31.453125 53.078125 \nL 13.8125 27.09375 \nQ 13.578125 26.703125 13.109375 26.0625 \nQ 12.640625 25.4375 12.15625 24.78125 \nQ 11.671875 24.125 11.171875 23.484375 \nQ 10.6875 22.859375 10.40625 22.515625 \nL 34.71875 22.515625 \nz\n\" id=\"LiberationSans-52\"/>\n      </defs>\n      <g style=\"fill:#262626;\" transform=\"translate(168.660692 250.886875)scale(0.1 -0.1)\">\n       <use xlink:href=\"#LiberationSans-52\"/>\n       <use x=\"55.615234\" xlink:href=\"#LiberationSans-48\"/>\n       <use x=\"111.230469\" xlink:href=\"#LiberationSans-48\"/>\n      </g>\n     </g>\n    </g>\n    <g id=\"xtick_4\">\n     <g id=\"line2d_4\">\n      <g>\n       <use style=\"fill:#262626;stroke:#262626;\" x=\"232.967025\" xlink:href=\"#m7b2eac881e\" y=\"230.64\"/>\n      </g>\n     </g>\n     <g id=\"text_4\">\n      <!-- 600 -->\n      <defs>\n       <path d=\"M 51.21875 22.515625 \nQ 51.21875 17.328125 49.78125 13 \nQ 48.34375 8.6875 45.53125 5.578125 \nQ 42.71875 2.484375 38.5625 0.75 \nQ 34.421875 -0.984375 29 -0.984375 \nQ 23 -0.984375 18.5 1.3125 \nQ 14.015625 3.609375 11.03125 7.921875 \nQ 8.0625 12.25 6.5625 18.53125 \nQ 5.078125 24.8125 5.078125 32.8125 \nQ 5.078125 42 6.765625 48.921875 \nQ 8.453125 55.859375 11.625 60.5 \nQ 14.796875 65.140625 19.359375 67.484375 \nQ 23.921875 69.828125 29.6875 69.828125 \nQ 33.203125 69.828125 36.28125 69.09375 \nQ 39.359375 68.359375 41.875 66.71875 \nQ 44.390625 65.09375 46.28125 62.40625 \nQ 48.1875 59.71875 49.3125 55.8125 \nL 40.921875 54.296875 \nQ 39.546875 58.734375 36.546875 60.71875 \nQ 33.546875 62.703125 29.59375 62.703125 \nQ 25.984375 62.703125 23.046875 60.984375 \nQ 20.125 59.28125 18.0625 55.875 \nQ 16.015625 52.484375 14.90625 47.359375 \nQ 13.8125 42.234375 13.8125 35.40625 \nQ 16.21875 39.84375 20.5625 42.15625 \nQ 24.90625 44.484375 30.515625 44.484375 \nQ 35.203125 44.484375 39.015625 42.96875 \nQ 42.828125 41.453125 45.53125 38.59375 \nQ 48.25 35.75 49.734375 31.671875 \nQ 51.21875 27.59375 51.21875 22.515625 \nz\nM 42.28125 22.125 \nQ 42.28125 25.6875 41.40625 28.5625 \nQ 40.53125 31.453125 38.765625 33.46875 \nQ 37.015625 35.5 34.421875 36.59375 \nQ 31.84375 37.703125 28.421875 37.703125 \nQ 26.03125 37.703125 23.578125 36.984375 \nQ 21.140625 36.28125 19.15625 34.6875 \nQ 17.1875 33.109375 15.9375 30.515625 \nQ 14.703125 27.9375 14.703125 24.21875 \nQ 14.703125 20.40625 15.671875 17.109375 \nQ 16.65625 13.8125 18.484375 11.375 \nQ 20.3125 8.9375 22.890625 7.515625 \nQ 25.484375 6.109375 28.71875 6.109375 \nQ 31.890625 6.109375 34.40625 7.203125 \nQ 36.921875 8.296875 38.671875 10.375 \nQ 40.4375 12.453125 41.359375 15.421875 \nQ 42.28125 18.40625 42.28125 22.125 \nz\n\" id=\"LiberationSans-54\"/>\n      </defs>\n      <g style=\"fill:#262626;\" transform=\"translate(224.625619 250.886875)scale(0.1 -0.1)\">\n       <use xlink:href=\"#LiberationSans-54\"/>\n       <use x=\"55.615234\" xlink:href=\"#LiberationSans-48\"/>\n       <use x=\"111.230469\" xlink:href=\"#LiberationSans-48\"/>\n      </g>\n     </g>\n    </g>\n    <g id=\"xtick_5\">\n     <g id=\"line2d_5\">\n      <g>\n       <use style=\"fill:#262626;stroke:#262626;\" x=\"288.931952\" xlink:href=\"#m7b2eac881e\" y=\"230.64\"/>\n      </g>\n     </g>\n     <g id=\"text_5\">\n      <!-- 800 -->\n      <defs>\n       <path d=\"M 51.265625 19.1875 \nQ 51.265625 14.796875 49.875 11.109375 \nQ 48.484375 7.421875 45.625 4.734375 \nQ 42.78125 2.046875 38.328125 0.53125 \nQ 33.890625 -0.984375 27.828125 -0.984375 \nQ 21.78125 -0.984375 17.359375 0.53125 \nQ 12.9375 2.046875 10.03125 4.703125 \nQ 7.125 7.375 5.734375 11.0625 \nQ 4.34375 14.75 4.34375 19.09375 \nQ 4.34375 22.859375 5.484375 25.78125 \nQ 6.640625 28.71875 8.5625 30.828125 \nQ 10.5 32.953125 12.96875 34.25 \nQ 15.4375 35.546875 18.0625 35.984375 \nL 18.0625 36.1875 \nQ 15.1875 36.859375 12.90625 38.375 \nQ 10.640625 39.890625 9.09375 42.015625 \nQ 7.5625 44.140625 6.75 46.71875 \nQ 5.953125 49.3125 5.953125 52.203125 \nQ 5.953125 55.8125 7.34375 59 \nQ 8.734375 62.203125 11.46875 64.625 \nQ 14.203125 67.046875 18.25 68.4375 \nQ 22.3125 69.828125 27.640625 69.828125 \nQ 33.25 69.828125 37.375 68.40625 \nQ 41.5 67 44.203125 64.578125 \nQ 46.921875 62.15625 48.234375 58.9375 \nQ 49.5625 55.71875 49.5625 52.09375 \nQ 49.5625 49.265625 48.75 46.671875 \nQ 47.953125 44.09375 46.40625 41.96875 \nQ 44.875 39.84375 42.59375 38.34375 \nQ 40.328125 36.859375 37.359375 36.28125 \nL 37.359375 36.078125 \nQ 40.328125 35.59375 42.859375 34.296875 \nQ 45.40625 33.015625 47.265625 30.890625 \nQ 49.125 28.765625 50.1875 25.828125 \nQ 51.265625 22.90625 51.265625 19.1875 \nz\nM 40.4375 51.609375 \nQ 40.4375 54.203125 39.765625 56.34375 \nQ 39.109375 58.5 37.59375 60.03125 \nQ 36.078125 61.578125 33.640625 62.421875 \nQ 31.203125 63.28125 27.640625 63.28125 \nQ 24.171875 63.28125 21.78125 62.421875 \nQ 19.390625 61.578125 17.84375 60.03125 \nQ 16.3125 58.5 15.625 56.34375 \nQ 14.9375 54.203125 14.9375 51.609375 \nQ 14.9375 49.5625 15.46875 47.40625 \nQ 16.015625 45.265625 17.421875 43.5 \nQ 18.84375 41.75 21.328125 40.625 \nQ 23.828125 39.5 27.734375 39.5 \nQ 31.890625 39.5 34.40625 40.625 \nQ 36.921875 41.75 38.25 43.5 \nQ 39.59375 45.265625 40.015625 47.40625 \nQ 40.4375 49.5625 40.4375 51.609375 \nz\nM 42.140625 20.015625 \nQ 42.140625 22.515625 41.453125 24.828125 \nQ 40.765625 27.15625 39.109375 28.9375 \nQ 37.453125 30.71875 34.640625 31.8125 \nQ 31.84375 32.90625 27.640625 32.90625 \nQ 23.78125 32.90625 21.0625 31.8125 \nQ 18.359375 30.71875 16.671875 28.90625 \nQ 14.984375 27.09375 14.203125 24.71875 \nQ 13.421875 22.359375 13.421875 19.828125 \nQ 13.421875 16.65625 14.203125 14.03125 \nQ 14.984375 11.421875 16.6875 9.546875 \nQ 18.40625 7.671875 21.1875 6.640625 \nQ 23.96875 5.609375 27.9375 5.609375 \nQ 31.9375 5.609375 34.671875 6.640625 \nQ 37.40625 7.671875 39.0625 9.546875 \nQ 40.71875 11.421875 41.421875 14.078125 \nQ 42.140625 16.75 42.140625 20.015625 \nz\n\" id=\"LiberationSans-56\"/>\n      </defs>\n      <g style=\"fill:#262626;\" transform=\"translate(280.590546 250.886875)scale(0.1 -0.1)\">\n       <use xlink:href=\"#LiberationSans-56\"/>\n       <use x=\"55.615234\" xlink:href=\"#LiberationSans-48\"/>\n       <use x=\"111.230469\" xlink:href=\"#LiberationSans-48\"/>\n      </g>\n     </g>\n    </g>\n    <g id=\"xtick_6\">\n     <g id=\"line2d_6\">\n      <g>\n       <use style=\"fill:#262626;stroke:#262626;\" x=\"344.896879\" xlink:href=\"#m7b2eac881e\" y=\"230.64\"/>\n      </g>\n     </g>\n     <g id=\"text_6\">\n      <!-- 1000 -->\n      <defs>\n       <path d=\"M 7.625 0 \nL 7.625 7.46875 \nL 25.140625 7.46875 \nL 25.140625 60.40625 \nL 9.625 49.3125 \nL 9.625 57.625 \nL 25.875 68.796875 \nL 33.984375 68.796875 \nL 33.984375 7.46875 \nL 50.734375 7.46875 \nL 50.734375 0 \nz\n\" id=\"LiberationSans-49\"/>\n      </defs>\n      <g style=\"fill:#262626;\" transform=\"translate(333.775004 250.886875)scale(0.1 -0.1)\">\n       <use xlink:href=\"#LiberationSans-49\"/>\n       <use x=\"55.615234\" xlink:href=\"#LiberationSans-48\"/>\n       <use x=\"111.230469\" xlink:href=\"#LiberationSans-48\"/>\n       <use x=\"166.845703\" xlink:href=\"#LiberationSans-48\"/>\n      </g>\n     </g>\n    </g>\n    <g id=\"text_7\">\n     <!-- Bid price -->\n     <defs>\n      <path d=\"M 61.421875 19.390625 \nQ 61.421875 14.15625 59.375 10.46875 \nQ 57.328125 6.78125 53.859375 4.46875 \nQ 50.390625 2.15625 45.796875 1.078125 \nQ 41.21875 0 36.140625 0 \nL 8.203125 0 \nL 8.203125 68.796875 \nL 33.203125 68.796875 \nQ 38.921875 68.796875 43.40625 67.84375 \nQ 47.90625 66.890625 51.03125 64.84375 \nQ 54.15625 62.796875 55.78125 59.640625 \nQ 57.421875 56.5 57.421875 52.09375 \nQ 57.421875 49.21875 56.609375 46.671875 \nQ 55.8125 44.140625 54.171875 42.0625 \nQ 52.546875 39.984375 50.078125 38.5 \nQ 47.609375 37.015625 44.34375 36.28125 \nQ 48.484375 35.796875 51.6875 34.375 \nQ 54.890625 32.953125 57.03125 30.75 \nQ 59.1875 28.5625 60.296875 25.65625 \nQ 61.421875 22.75 61.421875 19.390625 \nz\nM 48.046875 50.984375 \nQ 48.046875 56.546875 44.234375 58.9375 \nQ 40.4375 61.328125 33.203125 61.328125 \nL 17.53125 61.328125 \nL 17.53125 39.546875 \nL 33.203125 39.546875 \nQ 37.3125 39.546875 40.140625 40.34375 \nQ 42.96875 41.15625 44.71875 42.640625 \nQ 46.484375 44.140625 47.265625 46.234375 \nQ 48.046875 48.34375 48.046875 50.984375 \nz\nM 52 20.125 \nQ 52 23.390625 50.796875 25.6875 \nQ 49.609375 27.984375 47.359375 29.4375 \nQ 45.125 30.90625 41.96875 31.59375 \nQ 38.8125 32.28125 34.90625 32.28125 \nL 17.53125 32.28125 \nL 17.53125 7.46875 \nL 35.640625 7.46875 \nQ 39.203125 7.46875 42.203125 8.046875 \nQ 45.21875 8.640625 47.390625 10.109375 \nQ 49.5625 11.578125 50.78125 14.015625 \nQ 52 16.453125 52 20.125 \nz\n\" id=\"LiberationSans-66\"/>\n      <path d=\"M 6.6875 64.0625 \nL 6.6875 72.46875 \nL 15.484375 72.46875 \nL 15.484375 64.0625 \nz\nM 6.6875 0 \nL 6.6875 52.828125 \nL 15.484375 52.828125 \nL 15.484375 0 \nz\n\" id=\"LiberationSans-105\"/>\n      <path d=\"M 40.09375 8.5 \nQ 37.640625 3.421875 33.609375 1.21875 \nQ 29.59375 -0.984375 23.640625 -0.984375 \nQ 13.625 -0.984375 8.90625 5.75 \nQ 4.203125 12.5 4.203125 26.171875 \nQ 4.203125 53.8125 23.640625 53.8125 \nQ 29.640625 53.8125 33.640625 51.609375 \nQ 37.640625 49.421875 40.09375 44.625 \nL 40.1875 44.625 \nQ 40.1875 45.125 40.15625 46.171875 \nQ 40.140625 47.21875 40.109375 48.359375 \nQ 40.09375 49.515625 40.09375 50.53125 \nQ 40.09375 51.5625 40.09375 52 \nL 40.09375 72.46875 \nL 48.875 72.46875 \nL 48.875 10.890625 \nQ 48.875 8.984375 48.890625 7.21875 \nQ 48.921875 5.46875 48.96875 4 \nQ 49.03125 2.546875 49.078125 1.484375 \nQ 49.125 0.4375 49.171875 0 \nL 40.765625 0 \nQ 40.671875 0.484375 40.59375 1.390625 \nQ 40.53125 2.296875 40.453125 3.46875 \nQ 40.375 4.640625 40.328125 5.9375 \nQ 40.28125 7.234375 40.28125 8.5 \nz\nM 13.421875 26.46875 \nQ 13.421875 21 14.109375 17.09375 \nQ 14.796875 13.1875 16.3125 10.671875 \nQ 17.828125 8.15625 20.171875 6.984375 \nQ 22.515625 5.8125 25.875 5.8125 \nQ 29.34375 5.8125 32 6.9375 \nQ 34.671875 8.0625 36.453125 10.578125 \nQ 38.234375 13.09375 39.15625 17.140625 \nQ 40.09375 21.1875 40.09375 27.046875 \nQ 40.09375 32.671875 39.15625 36.546875 \nQ 38.234375 40.4375 36.421875 42.828125 \nQ 34.625 45.21875 32 46.265625 \nQ 29.390625 47.3125 25.984375 47.3125 \nQ 22.75 47.3125 20.40625 46.1875 \nQ 18.0625 45.0625 16.5 42.578125 \nQ 14.9375 40.09375 14.171875 36.109375 \nQ 13.421875 32.125 13.421875 26.46875 \nz\n\" id=\"LiberationSans-100\"/>\n      <path id=\"LiberationSans-32\"/>\n      <path d=\"M 51.421875 26.65625 \nQ 51.421875 20.65625 50.4375 15.578125 \nQ 49.46875 10.5 47.1875 6.828125 \nQ 44.921875 3.171875 41.1875 1.09375 \nQ 37.453125 -0.984375 31.984375 -0.984375 \nQ 26.3125 -0.984375 22.0625 1.171875 \nQ 17.828125 3.328125 15.578125 8.203125 \nL 15.328125 8.203125 \nQ 15.375 8.109375 15.40625 7.328125 \nQ 15.4375 6.546875 15.453125 5.375 \nQ 15.484375 4.203125 15.5 2.75 \nQ 15.53125 1.3125 15.53125 -0.09375 \nL 15.53125 -20.75 \nL 6.734375 -20.75 \nL 6.734375 42.046875 \nQ 6.734375 43.953125 6.703125 45.703125 \nQ 6.6875 47.46875 6.640625 48.90625 \nQ 6.59375 50.34375 6.546875 51.359375 \nQ 6.5 52.390625 6.453125 52.828125 \nL 14.9375 52.828125 \nQ 14.984375 52.6875 15.0625 51.796875 \nQ 15.140625 50.921875 15.203125 49.671875 \nQ 15.28125 48.4375 15.359375 47.015625 \nQ 15.4375 45.609375 15.4375 44.34375 \nL 15.625 44.34375 \nQ 16.84375 46.875 18.40625 48.65625 \nQ 19.96875 50.4375 21.96875 51.578125 \nQ 23.96875 52.734375 26.4375 53.25 \nQ 28.90625 53.765625 31.984375 53.765625 \nQ 37.453125 53.765625 41.1875 51.8125 \nQ 44.921875 49.859375 47.1875 46.3125 \nQ 49.46875 42.78125 50.4375 37.765625 \nQ 51.421875 32.765625 51.421875 26.65625 \nz\nM 42.1875 26.46875 \nQ 42.1875 31.34375 41.59375 35.15625 \nQ 41.015625 38.96875 39.578125 41.59375 \nQ 38.140625 44.234375 35.734375 45.59375 \nQ 33.34375 46.96875 29.734375 46.96875 \nQ 26.8125 46.96875 24.21875 46.140625 \nQ 21.625 45.3125 19.703125 42.96875 \nQ 17.78125 40.625 16.65625 36.5 \nQ 15.53125 32.375 15.53125 25.78125 \nQ 15.53125 20.171875 16.453125 16.28125 \nQ 17.390625 12.40625 19.171875 10.015625 \nQ 20.953125 7.625 23.578125 6.5625 \nQ 26.21875 5.515625 29.640625 5.515625 \nQ 33.296875 5.515625 35.71875 6.921875 \nQ 38.140625 8.34375 39.578125 11.03125 \nQ 41.015625 13.71875 41.59375 17.59375 \nQ 42.1875 21.484375 42.1875 26.46875 \nz\n\" id=\"LiberationSans-112\"/>\n      <path d=\"M 6.9375 0 \nL 6.9375 40.53125 \nQ 6.9375 42.1875 6.90625 43.921875 \nQ 6.890625 45.65625 6.828125 47.265625 \nQ 6.78125 48.875 6.734375 50.28125 \nQ 6.6875 51.703125 6.640625 52.828125 \nL 14.9375 52.828125 \nQ 14.984375 51.703125 15.0625 50.265625 \nQ 15.140625 48.828125 15.203125 47.3125 \nQ 15.28125 45.796875 15.296875 44.40625 \nQ 15.328125 43.015625 15.328125 42.046875 \nL 15.53125 42.046875 \nQ 16.453125 45.0625 17.5 47.28125 \nQ 18.5625 49.515625 19.96875 50.953125 \nQ 21.390625 52.390625 23.34375 53.09375 \nQ 25.296875 53.8125 28.078125 53.8125 \nQ 29.15625 53.8125 30.125 53.640625 \nQ 31.109375 53.46875 31.640625 53.328125 \nL 31.640625 45.265625 \nQ 30.765625 45.515625 29.59375 45.625 \nQ 28.421875 45.75 26.953125 45.75 \nQ 23.921875 45.75 21.796875 44.375 \nQ 19.671875 43.015625 18.328125 40.59375 \nQ 17 38.1875 16.359375 34.84375 \nQ 15.71875 31.5 15.71875 27.546875 \nL 15.71875 0 \nz\n\" id=\"LiberationSans-114\"/>\n      <path d=\"M 13.421875 26.65625 \nQ 13.421875 22.125 14.078125 18.3125 \nQ 14.75 14.5 16.3125 11.734375 \nQ 17.875 8.984375 20.4375 7.46875 \nQ 23 5.953125 26.765625 5.953125 \nQ 31.453125 5.953125 34.59375 8.484375 \nQ 37.75 11.03125 38.484375 16.3125 \nL 47.359375 15.71875 \nQ 46.921875 12.453125 45.453125 9.421875 \nQ 44 6.390625 41.484375 4.09375 \nQ 38.96875 1.8125 35.34375 0.40625 \nQ 31.734375 -0.984375 27 -0.984375 \nQ 20.796875 -0.984375 16.453125 1.109375 \nQ 12.109375 3.21875 9.390625 6.90625 \nQ 6.6875 10.59375 5.46875 15.59375 \nQ 4.25 20.609375 4.25 26.46875 \nQ 4.25 31.78125 5.125 35.859375 \nQ 6 39.9375 7.59375 42.984375 \nQ 9.1875 46.046875 11.328125 48.125 \nQ 13.484375 50.203125 15.984375 51.4375 \nQ 18.5 52.6875 21.28125 53.25 \nQ 24.078125 53.8125 26.90625 53.8125 \nQ 31.34375 53.8125 34.8125 52.59375 \nQ 38.28125 51.375 40.796875 49.25 \nQ 43.3125 47.125 44.875 44.234375 \nQ 46.4375 41.359375 47.078125 38.03125 \nL 38.03125 37.359375 \nQ 37.359375 41.75 34.5625 44.328125 \nQ 31.78125 46.921875 26.65625 46.921875 \nQ 22.90625 46.921875 20.390625 45.671875 \nQ 17.875 44.4375 16.3125 41.921875 \nQ 14.75 39.40625 14.078125 35.59375 \nQ 13.421875 31.78125 13.421875 26.65625 \nz\n\" id=\"LiberationSans-99\"/>\n      <path d=\"M 13.484375 24.5625 \nQ 13.484375 20.40625 14.328125 16.90625 \nQ 15.1875 13.421875 16.96875 10.90625 \nQ 18.75 8.40625 21.53125 7 \nQ 24.3125 5.609375 28.21875 5.609375 \nQ 33.9375 5.609375 37.375 7.90625 \nQ 40.828125 10.203125 42.046875 13.71875 \nL 49.75 11.53125 \nQ 48.921875 9.328125 47.4375 7.109375 \nQ 45.953125 4.890625 43.453125 3.09375 \nQ 40.96875 1.3125 37.234375 0.15625 \nQ 33.5 -0.984375 28.21875 -0.984375 \nQ 16.5 -0.984375 10.375 6 \nQ 4.25 12.984375 4.25 26.765625 \nQ 4.25 34.1875 6.09375 39.328125 \nQ 7.953125 44.484375 11.171875 47.703125 \nQ 14.40625 50.921875 18.703125 52.359375 \nQ 23 53.8125 27.875 53.8125 \nQ 34.515625 53.8125 38.984375 51.65625 \nQ 43.453125 49.515625 46.15625 45.71875 \nQ 48.875 41.9375 50.015625 36.8125 \nQ 51.171875 31.6875 51.171875 25.734375 \nL 51.171875 24.5625 \nz\nM 42.09375 31.296875 \nQ 41.359375 39.65625 37.84375 43.484375 \nQ 34.328125 47.3125 27.734375 47.3125 \nQ 25.53125 47.3125 23.109375 46.609375 \nQ 20.703125 45.90625 18.65625 44.09375 \nQ 16.609375 42.28125 15.1875 39.171875 \nQ 13.765625 36.078125 13.578125 31.296875 \nz\n\" id=\"LiberationSans-101\"/>\n     </defs>\n     <g style=\"fill:#262626;\" transform=\"translate(195.856484 264.933437)scale(0.11 -0.11)\">\n      <use xlink:href=\"#LiberationSans-66\"/>\n      <use x=\"66.699219\" xlink:href=\"#LiberationSans-105\"/>\n      <use x=\"88.916016\" xlink:href=\"#LiberationSans-100\"/>\n      <use x=\"144.53125\" xlink:href=\"#LiberationSans-32\"/>\n      <use x=\"172.314453\" xlink:href=\"#LiberationSans-112\"/>\n      <use x=\"227.929688\" xlink:href=\"#LiberationSans-114\"/>\n      <use x=\"261.230469\" xlink:href=\"#LiberationSans-105\"/>\n      <use x=\"283.447266\" xlink:href=\"#LiberationSans-99\"/>\n      <use x=\"333.447266\" xlink:href=\"#LiberationSans-101\"/>\n     </g>\n    </g>\n   </g>\n   <g id=\"matplotlib.axis_2\">\n    <g id=\"ytick_1\">\n     <g id=\"line2d_7\">\n      <defs>\n       <path d=\"M 0 0 \nL -6 0 \n\" id=\"mf81a3ba7b8\" style=\"stroke:#262626;\"/>\n      </defs>\n      <g>\n       <use style=\"fill:#262626;stroke:#262626;\" x=\"49.854062\" xlink:href=\"#mf81a3ba7b8\" y=\"228.125176\"/>\n      </g>\n     </g>\n     <g id=\"text_8\">\n      <!-- $\\mathdefault{10^{1}}$ -->\n      <g style=\"fill:#262626;\" transform=\"translate(21.454062 231.748614)scale(0.1 -0.1)\">\n       <use transform=\"translate(0 0.8625)\" xlink:href=\"#LiberationSans-49\"/>\n       <use transform=\"translate(55.615234 0.8625)\" xlink:href=\"#LiberationSans-48\"/>\n       <use transform=\"translate(112.154961 37.842188)scale(0.7)\" xlink:href=\"#LiberationSans-49\"/>\n      </g>\n     </g>\n    </g>\n    <g id=\"ytick_2\">\n     <g id=\"line2d_8\">\n      <g>\n       <use style=\"fill:#262626;stroke:#262626;\" x=\"49.854062\" xlink:href=\"#mf81a3ba7b8\" y=\"177.69808\"/>\n      </g>\n     </g>\n     <g id=\"text_9\">\n      <!-- $\\mathdefault{10^{2}}$ -->\n      <g style=\"fill:#262626;\" transform=\"translate(21.454062 181.321517)scale(0.1 -0.1)\">\n       <use transform=\"translate(0 0.140625)\" xlink:href=\"#LiberationSans-49\"/>\n       <use transform=\"translate(55.615234 0.140625)\" xlink:href=\"#LiberationSans-48\"/>\n       <use transform=\"translate(112.154961 37.120312)scale(0.7)\" xlink:href=\"#LiberationSans-50\"/>\n      </g>\n     </g>\n    </g>\n    <g id=\"ytick_3\">\n     <g id=\"line2d_9\">\n      <g>\n       <use style=\"fill:#262626;stroke:#262626;\" x=\"49.854062\" xlink:href=\"#mf81a3ba7b8\" y=\"127.270983\"/>\n      </g>\n     </g>\n     <g id=\"text_10\">\n      <!-- $\\mathdefault{10^{3}}$ -->\n      <defs>\n       <path d=\"M 51.21875 19 \nQ 51.21875 14.265625 49.671875 10.546875 \nQ 48.140625 6.84375 45.1875 4.265625 \nQ 42.234375 1.703125 37.859375 0.359375 \nQ 33.5 -0.984375 27.875 -0.984375 \nQ 21.484375 -0.984375 17.109375 0.609375 \nQ 12.75 2.203125 9.90625 4.8125 \nQ 7.078125 7.421875 5.65625 10.765625 \nQ 4.25 14.109375 3.8125 17.671875 \nL 12.890625 18.5 \nQ 13.28125 15.765625 14.328125 13.515625 \nQ 15.375 11.28125 17.1875 9.671875 \nQ 19 8.0625 21.625 7.171875 \nQ 24.265625 6.296875 27.875 6.296875 \nQ 34.515625 6.296875 38.296875 9.5625 \nQ 42.09375 12.84375 42.09375 19.28125 \nQ 42.09375 23.09375 40.40625 25.40625 \nQ 38.71875 27.734375 36.203125 29.03125 \nQ 33.6875 30.328125 30.734375 30.765625 \nQ 27.78125 31.203125 25.296875 31.203125 \nL 20.3125 31.203125 \nL 20.3125 38.8125 \nL 25.09375 38.8125 \nQ 27.59375 38.8125 30.265625 39.328125 \nQ 32.953125 39.84375 35.171875 41.1875 \nQ 37.40625 42.53125 38.84375 44.828125 \nQ 40.28125 47.125 40.28125 50.6875 \nQ 40.28125 56.203125 37.03125 59.390625 \nQ 33.796875 62.59375 27.390625 62.59375 \nQ 21.578125 62.59375 17.984375 59.609375 \nQ 14.40625 56.640625 13.8125 51.21875 \nL 4.984375 51.90625 \nQ 5.515625 56.453125 7.46875 59.8125 \nQ 9.421875 63.1875 12.421875 65.40625 \nQ 15.4375 67.625 19.28125 68.71875 \nQ 23.140625 69.828125 27.484375 69.828125 \nQ 33.25 69.828125 37.390625 68.375 \nQ 41.546875 66.9375 44.1875 64.46875 \nQ 46.828125 62.015625 48.0625 58.6875 \nQ 49.3125 55.375 49.3125 51.609375 \nQ 49.3125 48.578125 48.484375 45.9375 \nQ 47.65625 43.3125 45.890625 41.203125 \nQ 44.140625 39.109375 41.421875 37.59375 \nQ 38.71875 36.078125 34.90625 35.296875 \nL 34.90625 35.109375 \nQ 39.0625 34.671875 42.140625 33.21875 \nQ 45.21875 31.78125 47.21875 29.625 \nQ 49.21875 27.484375 50.21875 24.75 \nQ 51.21875 22.015625 51.21875 19 \nz\n\" id=\"LiberationSans-51\"/>\n      </defs>\n      <g style=\"fill:#262626;\" transform=\"translate(21.454062 130.894421)scale(0.1 -0.1)\">\n       <use transform=\"translate(0 0.140625)\" xlink:href=\"#LiberationSans-49\"/>\n       <use transform=\"translate(55.615234 0.140625)\" xlink:href=\"#LiberationSans-48\"/>\n       <use transform=\"translate(112.154961 37.120312)scale(0.7)\" xlink:href=\"#LiberationSans-51\"/>\n      </g>\n     </g>\n    </g>\n    <g id=\"ytick_4\">\n     <g id=\"line2d_10\">\n      <g>\n       <use style=\"fill:#262626;stroke:#262626;\" x=\"49.854062\" xlink:href=\"#mf81a3ba7b8\" y=\"76.843887\"/>\n      </g>\n     </g>\n     <g id=\"text_11\">\n      <!-- $\\mathdefault{10^{4}}$ -->\n      <g style=\"fill:#262626;\" transform=\"translate(21.454062 80.467324)scale(0.1 -0.1)\">\n       <use transform=\"translate(0 0.8625)\" xlink:href=\"#LiberationSans-49\"/>\n       <use transform=\"translate(55.615234 0.8625)\" xlink:href=\"#LiberationSans-48\"/>\n       <use transform=\"translate(112.154961 37.842188)scale(0.7)\" xlink:href=\"#LiberationSans-52\"/>\n      </g>\n     </g>\n    </g>\n    <g id=\"ytick_5\">\n     <g id=\"line2d_11\">\n      <g>\n       <use style=\"fill:#262626;stroke:#262626;\" x=\"49.854062\" xlink:href=\"#mf81a3ba7b8\" y=\"26.41679\"/>\n      </g>\n     </g>\n     <g id=\"text_12\">\n      <!-- $\\mathdefault{10^{5}}$ -->\n      <defs>\n       <path d=\"M 51.421875 22.40625 \nQ 51.421875 17.234375 49.859375 12.9375 \nQ 48.296875 8.640625 45.21875 5.53125 \nQ 42.140625 2.4375 37.578125 0.71875 \nQ 33.015625 -0.984375 27 -0.984375 \nQ 21.578125 -0.984375 17.546875 0.28125 \nQ 13.53125 1.5625 10.734375 3.78125 \nQ 7.953125 6 6.3125 8.984375 \nQ 4.6875 11.96875 4 15.375 \nL 12.890625 16.40625 \nQ 13.421875 14.453125 14.390625 12.625 \nQ 15.375 10.796875 17.0625 9.34375 \nQ 18.75 7.90625 21.21875 7.046875 \nQ 23.6875 6.203125 27.203125 6.203125 \nQ 30.609375 6.203125 33.390625 7.25 \nQ 36.1875 8.296875 38.15625 10.34375 \nQ 40.140625 12.40625 41.203125 15.375 \nQ 42.28125 18.359375 42.28125 22.21875 \nQ 42.28125 25.390625 41.25 28.046875 \nQ 40.234375 30.71875 38.328125 32.640625 \nQ 36.421875 34.578125 33.65625 35.640625 \nQ 30.90625 36.71875 27.390625 36.71875 \nQ 25.203125 36.71875 23.34375 36.328125 \nQ 21.484375 35.9375 19.890625 35.25 \nQ 18.3125 34.578125 17.015625 33.671875 \nQ 15.71875 32.765625 14.59375 31.78125 \nL 6 31.78125 \nL 8.296875 68.796875 \nL 47.40625 68.796875 \nL 47.40625 61.328125 \nL 16.3125 61.328125 \nL 14.984375 39.5 \nQ 17.328125 41.3125 20.84375 42.59375 \nQ 24.359375 43.890625 29.203125 43.890625 \nQ 34.328125 43.890625 38.421875 42.328125 \nQ 42.53125 40.765625 45.40625 37.90625 \nQ 48.296875 35.0625 49.859375 31.109375 \nQ 51.421875 27.15625 51.421875 22.40625 \nz\n\" id=\"LiberationSans-53\"/>\n      </defs>\n      <g style=\"fill:#262626;\" transform=\"translate(21.454062 30.040228)scale(0.1 -0.1)\">\n       <use transform=\"translate(0 0.8625)\" xlink:href=\"#LiberationSans-49\"/>\n       <use transform=\"translate(55.615234 0.8625)\" xlink:href=\"#LiberationSans-48\"/>\n       <use transform=\"translate(112.154961 37.842188)scale(0.7)\" xlink:href=\"#LiberationSans-53\"/>\n      </g>\n     </g>\n    </g>\n    <g id=\"ytick_6\">\n     <g id=\"line2d_12\">\n      <defs>\n       <path d=\"M 0 0 \nL -3 0 \n\" id=\"mb4f33b7662\" style=\"stroke:#262626;stroke-width:0.5;\"/>\n      </defs>\n      <g>\n       <use style=\"fill:#262626;stroke:#262626;stroke-width:0.5;\" x=\"49.854062\" xlink:href=\"#mb4f33b7662\" y=\"230.432594\"/>\n      </g>\n     </g>\n    </g>\n    <g id=\"ytick_7\">\n     <g id=\"line2d_13\">\n      <g>\n       <use style=\"fill:#262626;stroke:#262626;stroke-width:0.5;\" x=\"49.854062\" xlink:href=\"#mb4f33b7662\" y=\"212.945108\"/>\n      </g>\n     </g>\n    </g>\n    <g id=\"ytick_8\">\n     <g id=\"line2d_14\">\n      <g>\n       <use style=\"fill:#262626;stroke:#262626;stroke-width:0.5;\" x=\"49.854062\" xlink:href=\"#mb4f33b7662\" y=\"204.065337\"/>\n      </g>\n     </g>\n    </g>\n    <g id=\"ytick_9\">\n     <g id=\"line2d_15\">\n      <g>\n       <use style=\"fill:#262626;stroke:#262626;stroke-width:0.5;\" x=\"49.854062\" xlink:href=\"#mb4f33b7662\" y=\"197.765039\"/>\n      </g>\n     </g>\n    </g>\n    <g id=\"ytick_10\">\n     <g id=\"line2d_16\">\n      <g>\n       <use style=\"fill:#262626;stroke:#262626;stroke-width:0.5;\" x=\"49.854062\" xlink:href=\"#mb4f33b7662\" y=\"192.878148\"/>\n      </g>\n     </g>\n    </g>\n    <g id=\"ytick_11\">\n     <g id=\"line2d_17\">\n      <g>\n       <use style=\"fill:#262626;stroke:#262626;stroke-width:0.5;\" x=\"49.854062\" xlink:href=\"#mb4f33b7662\" y=\"188.885268\"/>\n      </g>\n     </g>\n    </g>\n    <g id=\"ytick_12\">\n     <g id=\"line2d_18\">\n      <g>\n       <use style=\"fill:#262626;stroke:#262626;stroke-width:0.5;\" x=\"49.854062\" xlink:href=\"#mb4f33b7662\" y=\"185.509336\"/>\n      </g>\n     </g>\n    </g>\n    <g id=\"ytick_13\">\n     <g id=\"line2d_19\">\n      <g>\n       <use style=\"fill:#262626;stroke:#262626;stroke-width:0.5;\" x=\"49.854062\" xlink:href=\"#mb4f33b7662\" y=\"182.58497\"/>\n      </g>\n     </g>\n    </g>\n    <g id=\"ytick_14\">\n     <g id=\"line2d_20\">\n      <g>\n       <use style=\"fill:#262626;stroke:#262626;stroke-width:0.5;\" x=\"49.854062\" xlink:href=\"#mb4f33b7662\" y=\"180.005497\"/>\n      </g>\n     </g>\n    </g>\n    <g id=\"ytick_15\">\n     <g id=\"line2d_21\">\n      <g>\n       <use style=\"fill:#262626;stroke:#262626;stroke-width:0.5;\" x=\"49.854062\" xlink:href=\"#mb4f33b7662\" y=\"162.518011\"/>\n      </g>\n     </g>\n    </g>\n    <g id=\"ytick_16\">\n     <g id=\"line2d_22\">\n      <g>\n       <use style=\"fill:#262626;stroke:#262626;stroke-width:0.5;\" x=\"49.854062\" xlink:href=\"#mb4f33b7662\" y=\"153.63824\"/>\n      </g>\n     </g>\n    </g>\n    <g id=\"ytick_17\">\n     <g id=\"line2d_23\">\n      <g>\n       <use style=\"fill:#262626;stroke:#262626;stroke-width:0.5;\" x=\"49.854062\" xlink:href=\"#mb4f33b7662\" y=\"147.337942\"/>\n      </g>\n     </g>\n    </g>\n    <g id=\"ytick_18\">\n     <g id=\"line2d_24\">\n      <g>\n       <use style=\"fill:#262626;stroke:#262626;stroke-width:0.5;\" x=\"49.854062\" xlink:href=\"#mb4f33b7662\" y=\"142.451052\"/>\n      </g>\n     </g>\n    </g>\n    <g id=\"ytick_19\">\n     <g id=\"line2d_25\">\n      <g>\n       <use style=\"fill:#262626;stroke:#262626;stroke-width:0.5;\" x=\"49.854062\" xlink:href=\"#mb4f33b7662\" y=\"138.458171\"/>\n      </g>\n     </g>\n    </g>\n    <g id=\"ytick_20\">\n     <g id=\"line2d_26\">\n      <g>\n       <use style=\"fill:#262626;stroke:#262626;stroke-width:0.5;\" x=\"49.854062\" xlink:href=\"#mb4f33b7662\" y=\"135.082239\"/>\n      </g>\n     </g>\n    </g>\n    <g id=\"ytick_21\">\n     <g id=\"line2d_27\">\n      <g>\n       <use style=\"fill:#262626;stroke:#262626;stroke-width:0.5;\" x=\"49.854062\" xlink:href=\"#mb4f33b7662\" y=\"132.157874\"/>\n      </g>\n     </g>\n    </g>\n    <g id=\"ytick_22\">\n     <g id=\"line2d_28\">\n      <g>\n       <use style=\"fill:#262626;stroke:#262626;stroke-width:0.5;\" x=\"49.854062\" xlink:href=\"#mb4f33b7662\" y=\"129.578401\"/>\n      </g>\n     </g>\n    </g>\n    <g id=\"ytick_23\">\n     <g id=\"line2d_29\">\n      <g>\n       <use style=\"fill:#262626;stroke:#262626;stroke-width:0.5;\" x=\"49.854062\" xlink:href=\"#mb4f33b7662\" y=\"112.090915\"/>\n      </g>\n     </g>\n    </g>\n    <g id=\"ytick_24\">\n     <g id=\"line2d_30\">\n      <g>\n       <use style=\"fill:#262626;stroke:#262626;stroke-width:0.5;\" x=\"49.854062\" xlink:href=\"#mb4f33b7662\" y=\"103.211144\"/>\n      </g>\n     </g>\n    </g>\n    <g id=\"ytick_25\">\n     <g id=\"line2d_31\">\n      <g>\n       <use style=\"fill:#262626;stroke:#262626;stroke-width:0.5;\" x=\"49.854062\" xlink:href=\"#mb4f33b7662\" y=\"96.910846\"/>\n      </g>\n     </g>\n    </g>\n    <g id=\"ytick_26\">\n     <g id=\"line2d_32\">\n      <g>\n       <use style=\"fill:#262626;stroke:#262626;stroke-width:0.5;\" x=\"49.854062\" xlink:href=\"#mb4f33b7662\" y=\"92.023955\"/>\n      </g>\n     </g>\n    </g>\n    <g id=\"ytick_27\">\n     <g id=\"line2d_33\">\n      <g>\n       <use style=\"fill:#262626;stroke:#262626;stroke-width:0.5;\" x=\"49.854062\" xlink:href=\"#mb4f33b7662\" y=\"88.031075\"/>\n      </g>\n     </g>\n    </g>\n    <g id=\"ytick_28\">\n     <g id=\"line2d_34\">\n      <g>\n       <use style=\"fill:#262626;stroke:#262626;stroke-width:0.5;\" x=\"49.854062\" xlink:href=\"#mb4f33b7662\" y=\"84.655143\"/>\n      </g>\n     </g>\n    </g>\n    <g id=\"ytick_29\">\n     <g id=\"line2d_35\">\n      <g>\n       <use style=\"fill:#262626;stroke:#262626;stroke-width:0.5;\" x=\"49.854062\" xlink:href=\"#mb4f33b7662\" y=\"81.730777\"/>\n      </g>\n     </g>\n    </g>\n    <g id=\"ytick_30\">\n     <g id=\"line2d_36\">\n      <g>\n       <use style=\"fill:#262626;stroke:#262626;stroke-width:0.5;\" x=\"49.854062\" xlink:href=\"#mb4f33b7662\" y=\"79.151304\"/>\n      </g>\n     </g>\n    </g>\n    <g id=\"ytick_31\">\n     <g id=\"line2d_37\">\n      <g>\n       <use style=\"fill:#262626;stroke:#262626;stroke-width:0.5;\" x=\"49.854062\" xlink:href=\"#mb4f33b7662\" y=\"61.663818\"/>\n      </g>\n     </g>\n    </g>\n    <g id=\"ytick_32\">\n     <g id=\"line2d_38\">\n      <g>\n       <use style=\"fill:#262626;stroke:#262626;stroke-width:0.5;\" x=\"49.854062\" xlink:href=\"#mb4f33b7662\" y=\"52.784047\"/>\n      </g>\n     </g>\n    </g>\n    <g id=\"ytick_33\">\n     <g id=\"line2d_39\">\n      <g>\n       <use style=\"fill:#262626;stroke:#262626;stroke-width:0.5;\" x=\"49.854062\" xlink:href=\"#mb4f33b7662\" y=\"46.483749\"/>\n      </g>\n     </g>\n    </g>\n    <g id=\"ytick_34\">\n     <g id=\"line2d_40\">\n      <g>\n       <use style=\"fill:#262626;stroke:#262626;stroke-width:0.5;\" x=\"49.854062\" xlink:href=\"#mb4f33b7662\" y=\"41.596859\"/>\n      </g>\n     </g>\n    </g>\n    <g id=\"ytick_35\">\n     <g id=\"line2d_41\">\n      <g>\n       <use style=\"fill:#262626;stroke:#262626;stroke-width:0.5;\" x=\"49.854062\" xlink:href=\"#mb4f33b7662\" y=\"37.603978\"/>\n      </g>\n     </g>\n    </g>\n    <g id=\"ytick_36\">\n     <g id=\"line2d_42\">\n      <g>\n       <use style=\"fill:#262626;stroke:#262626;stroke-width:0.5;\" x=\"49.854062\" xlink:href=\"#mb4f33b7662\" y=\"34.228046\"/>\n      </g>\n     </g>\n    </g>\n    <g id=\"ytick_37\">\n     <g id=\"line2d_43\">\n      <g>\n       <use style=\"fill:#262626;stroke:#262626;stroke-width:0.5;\" x=\"49.854062\" xlink:href=\"#mb4f33b7662\" y=\"31.303681\"/>\n      </g>\n     </g>\n    </g>\n    <g id=\"ytick_38\">\n     <g id=\"line2d_44\">\n      <g>\n       <use style=\"fill:#262626;stroke:#262626;stroke-width:0.5;\" x=\"49.854062\" xlink:href=\"#mb4f33b7662\" y=\"28.724208\"/>\n      </g>\n     </g>\n    </g>\n    <g id=\"text_13\">\n     <!-- Frequency -->\n     <defs>\n      <path d=\"M 17.53125 61.1875 \nL 17.53125 35.59375 \nL 55.90625 35.59375 \nL 55.90625 27.875 \nL 17.53125 27.875 \nL 17.53125 0 \nL 8.203125 0 \nL 8.203125 68.796875 \nL 57.078125 68.796875 \nL 57.078125 61.1875 \nz\n\" id=\"LiberationSans-70\"/>\n      <path d=\"M 23.640625 -0.984375 \nQ 13.578125 -0.984375 8.890625 5.796875 \nQ 4.203125 12.59375 4.203125 26.171875 \nQ 4.203125 39.9375 9 46.875 \nQ 13.8125 53.8125 23.640625 53.8125 \nQ 26.90625 53.8125 29.421875 53.21875 \nQ 31.9375 52.640625 33.90625 51.484375 \nQ 35.890625 50.34375 37.375 48.625 \nQ 38.875 46.921875 40.09375 44.625 \nL 40.1875 44.625 \nQ 40.1875 45.84375 40.25 47.328125 \nQ 40.328125 48.828125 40.40625 50.140625 \nQ 40.484375 51.46875 40.578125 52.421875 \nQ 40.671875 53.375 40.765625 53.515625 \nL 49.21875 53.515625 \nQ 49.125 52.6875 49 49.171875 \nQ 48.875 45.65625 48.875 39.109375 \nL 48.875 -20.75 \nL 40.09375 -20.75 \nL 40.09375 0.6875 \nQ 40.09375 1.953125 40.109375 3.3125 \nQ 40.140625 4.6875 40.1875 5.90625 \nQ 40.234375 7.28125 40.28125 8.6875 \nL 40.1875 8.6875 \nQ 38.921875 6.203125 37.375 4.375 \nQ 35.84375 2.546875 33.84375 1.34375 \nQ 31.84375 0.140625 29.328125 -0.421875 \nQ 26.8125 -0.984375 23.640625 -0.984375 \nz\nM 40.09375 27.046875 \nQ 40.09375 32.8125 39.09375 36.71875 \nQ 38.09375 40.625 36.25 42.96875 \nQ 34.421875 45.3125 31.8125 46.3125 \nQ 29.203125 47.3125 25.984375 47.3125 \nQ 22.609375 47.3125 20.21875 46.0625 \nQ 17.828125 44.828125 16.328125 42.265625 \nQ 14.84375 39.703125 14.125 35.765625 \nQ 13.421875 31.84375 13.421875 26.46875 \nQ 13.421875 21.1875 14.078125 17.28125 \nQ 14.75 13.375 16.234375 10.828125 \nQ 17.71875 8.296875 20.09375 7.046875 \nQ 22.46875 5.8125 25.875 5.8125 \nQ 28.8125 5.8125 31.390625 6.71875 \nQ 33.984375 7.625 35.90625 9.984375 \nQ 37.84375 12.359375 38.96875 16.484375 \nQ 40.09375 20.609375 40.09375 27.046875 \nz\n\" id=\"LiberationSans-113\"/>\n      <path d=\"M 15.328125 52.828125 \nL 15.328125 19.34375 \nQ 15.328125 15.484375 15.890625 12.890625 \nQ 16.453125 10.296875 17.71875 8.703125 \nQ 19 7.125 21.0625 6.46875 \nQ 23.140625 5.8125 26.21875 5.8125 \nQ 29.34375 5.8125 31.859375 6.90625 \nQ 34.375 8.015625 36.15625 10.078125 \nQ 37.9375 12.15625 38.90625 15.203125 \nQ 39.890625 18.265625 39.890625 22.21875 \nL 39.890625 52.828125 \nL 48.6875 52.828125 \nL 48.6875 11.28125 \nQ 48.6875 9.625 48.703125 7.78125 \nQ 48.734375 5.953125 48.78125 4.3125 \nQ 48.828125 2.6875 48.875 1.515625 \nQ 48.921875 0.34375 48.96875 0 \nL 40.671875 0 \nQ 40.625 0.25 40.578125 1.3125 \nQ 40.53125 2.390625 40.453125 3.78125 \nQ 40.375 5.171875 40.328125 6.609375 \nQ 40.28125 8.0625 40.28125 9.03125 \nL 40.140625 9.03125 \nQ 38.875 6.734375 37.359375 4.875 \nQ 35.84375 3.03125 33.84375 1.734375 \nQ 31.84375 0.4375 29.25 -0.265625 \nQ 26.65625 -0.984375 23.25 -0.984375 \nQ 18.84375 -0.984375 15.671875 0.09375 \nQ 12.5 1.171875 10.453125 3.421875 \nQ 8.40625 5.671875 7.453125 9.1875 \nQ 6.5 12.703125 6.5 17.625 \nL 6.5 52.828125 \nz\n\" id=\"LiberationSans-117\"/>\n      <path d=\"M 40.28125 0 \nL 40.28125 33.5 \nQ 40.28125 37.359375 39.71875 39.9375 \nQ 39.15625 42.53125 37.890625 44.109375 \nQ 36.625 45.703125 34.546875 46.359375 \nQ 32.46875 47.015625 29.390625 47.015625 \nQ 26.265625 47.015625 23.75 45.921875 \nQ 21.234375 44.828125 19.453125 42.75 \nQ 17.671875 40.671875 16.6875 37.625 \nQ 15.71875 34.578125 15.71875 30.609375 \nL 15.71875 0 \nL 6.9375 0 \nL 6.9375 41.546875 \nQ 6.9375 43.21875 6.90625 45.046875 \nQ 6.890625 46.875 6.828125 48.5 \nQ 6.78125 50.140625 6.734375 51.3125 \nQ 6.6875 52.484375 6.640625 52.828125 \nL 14.9375 52.828125 \nQ 14.984375 52.59375 15.03125 51.515625 \nQ 15.09375 50.4375 15.15625 49.046875 \nQ 15.234375 47.65625 15.28125 46.21875 \nQ 15.328125 44.78125 15.328125 43.796875 \nL 15.484375 43.796875 \nQ 16.75 46.09375 18.265625 47.953125 \nQ 19.78125 49.8125 21.78125 51.09375 \nQ 23.78125 52.390625 26.359375 53.09375 \nQ 28.953125 53.8125 32.375 53.8125 \nQ 36.765625 53.8125 39.9375 52.734375 \nQ 43.109375 51.65625 45.15625 49.40625 \nQ 47.21875 47.171875 48.171875 43.625 \nQ 49.125 40.09375 49.125 35.203125 \nL 49.125 0 \nz\n\" id=\"LiberationSans-110\"/>\n      <path d=\"M 29.5 0 \nQ 27.640625 -4.78125 25.703125 -8.609375 \nQ 23.78125 -12.453125 21.390625 -15.15625 \nQ 19 -17.875 16.0625 -19.3125 \nQ 13.140625 -20.75 9.328125 -20.75 \nQ 7.671875 -20.75 6.25 -20.65625 \nQ 4.828125 -20.5625 3.265625 -20.21875 \nL 3.265625 -13.625 \nQ 4.203125 -13.765625 5.375 -13.84375 \nQ 6.546875 -13.921875 7.375 -13.921875 \nQ 11.234375 -13.921875 14.546875 -11.03125 \nQ 17.875 -8.15625 20.359375 -1.859375 \nL 21.1875 0.25 \nL 0.25 52.828125 \nL 9.625 52.828125 \nL 20.75 23.640625 \nQ 21.234375 22.3125 21.984375 20.109375 \nQ 22.75 17.921875 23.5 15.71875 \nQ 24.265625 13.53125 24.84375 11.765625 \nQ 25.4375 10.015625 25.53125 9.578125 \nQ 25.6875 10.109375 26.25 11.6875 \nQ 26.8125 13.28125 27.515625 15.234375 \nQ 28.21875 17.1875 28.953125 19.1875 \nQ 29.6875 21.1875 30.171875 22.65625 \nL 40.53125 52.828125 \nL 49.8125 52.828125 \nz\n\" id=\"LiberationSans-121\"/>\n     </defs>\n     <g style=\"fill:#262626;\" transform=\"translate(15.171562 147.903203)rotate(-90)scale(0.11 -0.11)\">\n      <use xlink:href=\"#LiberationSans-70\"/>\n      <use x=\"61.083984\" xlink:href=\"#LiberationSans-114\"/>\n      <use x=\"94.384766\" xlink:href=\"#LiberationSans-101\"/>\n      <use x=\"150\" xlink:href=\"#LiberationSans-113\"/>\n      <use x=\"205.615234\" xlink:href=\"#LiberationSans-117\"/>\n      <use x=\"261.230469\" xlink:href=\"#LiberationSans-101\"/>\n      <use x=\"316.845703\" xlink:href=\"#LiberationSans-110\"/>\n      <use x=\"372.460938\" xlink:href=\"#LiberationSans-99\"/>\n      <use x=\"422.460938\" xlink:href=\"#LiberationSans-121\"/>\n     </g>\n    </g>\n   </g>\n   <g id=\"patch_3\">\n    <path clip-path=\"url(#pe815df1e22)\" d=\"M 65.072244 50705.648787 \nL 68.115881 50705.648787 \nL 68.115881 23.083636 \nL 65.072244 23.083636 \nz\n\" style=\"fill:#4c72b0;opacity:0.4;\"/>\n   </g>\n   <g id=\"patch_4\">\n    <path clip-path=\"url(#pe815df1e22)\" d=\"M 68.115881 50705.648787 \nL 71.159517 50705.648787 \nL 71.159517 58.936894 \nL 68.115881 58.936894 \nz\n\" style=\"fill:#4c72b0;opacity:0.4;\"/>\n   </g>\n   <g id=\"patch_5\">\n    <path clip-path=\"url(#pe815df1e22)\" d=\"M 71.159517 50705.648787 \nL 74.203153 50705.648787 \nL 74.203153 63.59608 \nL 71.159517 63.59608 \nz\n\" style=\"fill:#4c72b0;opacity:0.4;\"/>\n   </g>\n   <g id=\"patch_6\">\n    <path clip-path=\"url(#pe815df1e22)\" d=\"M 74.203153 50705.648787 \nL 77.24679 50705.648787 \nL 77.24679 66.56714 \nL 74.203153 66.56714 \nz\n\" style=\"fill:#4c72b0;opacity:0.4;\"/>\n   </g>\n   <g id=\"patch_7\">\n    <path clip-path=\"url(#pe815df1e22)\" d=\"M 77.24679 50705.648787 \nL 80.290426 50705.648787 \nL 80.290426 69.861721 \nL 77.24679 69.861721 \nz\n\" style=\"fill:#4c72b0;opacity:0.4;\"/>\n   </g>\n   <g id=\"patch_8\">\n    <path clip-path=\"url(#pe815df1e22)\" d=\"M 80.290426 50705.648787 \nL 83.334062 50705.648787 \nL 83.334062 73.187557 \nL 80.290426 73.187557 \nz\n\" style=\"fill:#4c72b0;opacity:0.4;\"/>\n   </g>\n   <g id=\"patch_9\">\n    <path clip-path=\"url(#pe815df1e22)\" d=\"M 83.334062 50705.648787 \nL 86.377699 50705.648787 \nL 86.377699 76.393035 \nL 83.334062 76.393035 \nz\n\" style=\"fill:#4c72b0;opacity:0.4;\"/>\n   </g>\n   <g id=\"patch_10\">\n    <path clip-path=\"url(#pe815df1e22)\" d=\"M 86.377699 50705.648787 \nL 89.421335 50705.648787 \nL 89.421335 78.842029 \nL 86.377699 78.842029 \nz\n\" style=\"fill:#4c72b0;opacity:0.4;\"/>\n   </g>\n   <g id=\"patch_11\">\n    <path clip-path=\"url(#pe815df1e22)\" d=\"M 89.421335 50705.648787 \nL 92.464972 50705.648787 \nL 92.464972 81.824051 \nL 89.421335 81.824051 \nz\n\" style=\"fill:#4c72b0;opacity:0.4;\"/>\n   </g>\n   <g id=\"patch_12\">\n    <path clip-path=\"url(#pe815df1e22)\" d=\"M 92.464972 50705.648787 \nL 95.508608 50705.648787 \nL 95.508608 85.07844 \nL 92.464972 85.07844 \nz\n\" style=\"fill:#4c72b0;opacity:0.4;\"/>\n   </g>\n   <g id=\"patch_13\">\n    <path clip-path=\"url(#pe815df1e22)\" d=\"M 95.508608 50705.648787 \nL 98.552244 50705.648787 \nL 98.552244 87.373102 \nL 95.508608 87.373102 \nz\n\" style=\"fill:#4c72b0;opacity:0.4;\"/>\n   </g>\n   <g id=\"patch_14\">\n    <path clip-path=\"url(#pe815df1e22)\" d=\"M 98.552244 50705.648787 \nL 101.595881 50705.648787 \nL 101.595881 90.164792 \nL 98.552244 90.164792 \nz\n\" style=\"fill:#4c72b0;opacity:0.4;\"/>\n   </g>\n   <g id=\"patch_15\">\n    <path clip-path=\"url(#pe815df1e22)\" d=\"M 101.595881 50705.648787 \nL 104.639517 50705.648787 \nL 104.639517 92.520098 \nL 101.595881 92.520098 \nz\n\" style=\"fill:#4c72b0;opacity:0.4;\"/>\n   </g>\n   <g id=\"patch_16\">\n    <path clip-path=\"url(#pe815df1e22)\" d=\"M 104.639517 50705.648787 \nL 107.683153 50705.648787 \nL 107.683153 95.043637 \nL 104.639517 95.043637 \nz\n\" style=\"fill:#4c72b0;opacity:0.4;\"/>\n   </g>\n   <g id=\"patch_17\">\n    <path clip-path=\"url(#pe815df1e22)\" d=\"M 107.683153 50705.648787 \nL 110.72679 50705.648787 \nL 110.72679 97.5328 \nL 107.683153 97.5328 \nz\n\" style=\"fill:#4c72b0;opacity:0.4;\"/>\n   </g>\n   <g id=\"patch_18\">\n    <path clip-path=\"url(#pe815df1e22)\" d=\"M 110.72679 50705.648787 \nL 113.770426 50705.648787 \nL 113.770426 99.395396 \nL 110.72679 99.395396 \nz\n\" style=\"fill:#4c72b0;opacity:0.4;\"/>\n   </g>\n   <g id=\"patch_19\">\n    <path clip-path=\"url(#pe815df1e22)\" d=\"M 113.770426 50705.648787 \nL 116.814062 50705.648787 \nL 116.814062 102.556713 \nL 113.770426 102.556713 \nz\n\" style=\"fill:#4c72b0;opacity:0.4;\"/>\n   </g>\n   <g id=\"patch_20\">\n    <path clip-path=\"url(#pe815df1e22)\" d=\"M 116.814062 50705.648787 \nL 119.857699 50705.648787 \nL 119.857699 104.349851 \nL 116.814062 104.349851 \nz\n\" style=\"fill:#4c72b0;opacity:0.4;\"/>\n   </g>\n   <g id=\"patch_21\">\n    <path clip-path=\"url(#pe815df1e22)\" d=\"M 119.857699 50705.648787 \nL 122.901335 50705.648787 \nL 122.901335 106.303007 \nL 119.857699 106.303007 \nz\n\" style=\"fill:#4c72b0;opacity:0.4;\"/>\n   </g>\n   <g id=\"patch_22\">\n    <path clip-path=\"url(#pe815df1e22)\" d=\"M 122.901335 50705.648787 \nL 125.944972 50705.648787 \nL 125.944972 108.849927 \nL 122.901335 108.849927 \nz\n\" style=\"fill:#4c72b0;opacity:0.4;\"/>\n   </g>\n   <g id=\"patch_23\">\n    <path clip-path=\"url(#pe815df1e22)\" d=\"M 125.944972 50705.648787 \nL 128.988608 50705.648787 \nL 128.988608 111.401087 \nL 125.944972 111.401087 \nz\n\" style=\"fill:#4c72b0;opacity:0.4;\"/>\n   </g>\n   <g id=\"patch_24\">\n    <path clip-path=\"url(#pe815df1e22)\" d=\"M 128.988608 50705.648787 \nL 132.032244 50705.648787 \nL 132.032244 112.566904 \nL 128.988608 112.566904 \nz\n\" style=\"fill:#4c72b0;opacity:0.4;\"/>\n   </g>\n   <g id=\"patch_25\">\n    <path clip-path=\"url(#pe815df1e22)\" d=\"M 132.032244 50705.648787 \nL 135.075881 50705.648787 \nL 135.075881 115.457724 \nL 132.032244 115.457724 \nz\n\" style=\"fill:#4c72b0;opacity:0.4;\"/>\n   </g>\n   <g id=\"patch_26\">\n    <path clip-path=\"url(#pe815df1e22)\" d=\"M 135.075881 50705.648787 \nL 138.119517 50705.648787 \nL 138.119517 116.964122 \nL 135.075881 116.964122 \nz\n\" style=\"fill:#4c72b0;opacity:0.4;\"/>\n   </g>\n   <g id=\"patch_27\">\n    <path clip-path=\"url(#pe815df1e22)\" d=\"M 138.119517 50705.648787 \nL 141.163153 50705.648787 \nL 141.163153 118.789007 \nL 138.119517 118.789007 \nz\n\" style=\"fill:#4c72b0;opacity:0.4;\"/>\n   </g>\n   <g id=\"patch_28\">\n    <path clip-path=\"url(#pe815df1e22)\" d=\"M 141.163153 50705.648787 \nL 144.20679 50705.648787 \nL 144.20679 120.747351 \nL 141.163153 120.747351 \nz\n\" style=\"fill:#4c72b0;opacity:0.4;\"/>\n   </g>\n   <g id=\"patch_29\">\n    <path clip-path=\"url(#pe815df1e22)\" d=\"M 144.20679 50705.648787 \nL 147.250426 50705.648787 \nL 147.250426 121.47467 \nL 144.20679 121.47467 \nz\n\" style=\"fill:#4c72b0;opacity:0.4;\"/>\n   </g>\n   <g id=\"patch_30\">\n    <path clip-path=\"url(#pe815df1e22)\" d=\"M 147.250426 50705.648787 \nL 150.294062 50705.648787 \nL 150.294062 125.064539 \nL 147.250426 125.064539 \nz\n\" style=\"fill:#4c72b0;opacity:0.4;\"/>\n   </g>\n   <g id=\"patch_31\">\n    <path clip-path=\"url(#pe815df1e22)\" d=\"M 150.294062 50705.648787 \nL 153.337699 50705.648787 \nL 153.337699 126.666205 \nL 150.294062 126.666205 \nz\n\" style=\"fill:#4c72b0;opacity:0.4;\"/>\n   </g>\n   <g id=\"patch_32\">\n    <path clip-path=\"url(#pe815df1e22)\" d=\"M 153.337699 50705.648787 \nL 156.381335 50705.648787 \nL 156.381335 127.938046 \nL 153.337699 127.938046 \nz\n\" style=\"fill:#4c72b0;opacity:0.4;\"/>\n   </g>\n   <g id=\"patch_33\">\n    <path clip-path=\"url(#pe815df1e22)\" d=\"M 156.381335 50705.648787 \nL 159.424972 50705.648787 \nL 159.424972 130.020844 \nL 156.381335 130.020844 \nz\n\" style=\"fill:#4c72b0;opacity:0.4;\"/>\n   </g>\n   <g id=\"patch_34\">\n    <path clip-path=\"url(#pe815df1e22)\" d=\"M 159.424972 50705.648787 \nL 162.468608 50705.648787 \nL 162.468608 131.115446 \nL 159.424972 131.115446 \nz\n\" style=\"fill:#4c72b0;opacity:0.4;\"/>\n   </g>\n   <g id=\"patch_35\">\n    <path clip-path=\"url(#pe815df1e22)\" d=\"M 162.468608 50705.648787 \nL 165.512244 50705.648787 \nL 165.512244 133.023387 \nL 162.468608 133.023387 \nz\n\" style=\"fill:#4c72b0;opacity:0.4;\"/>\n   </g>\n   <g id=\"patch_36\">\n    <path clip-path=\"url(#pe815df1e22)\" d=\"M 165.512244 50705.648787 \nL 168.555881 50705.648787 \nL 168.555881 134.163214 \nL 165.512244 134.163214 \nz\n\" style=\"fill:#4c72b0;opacity:0.4;\"/>\n   </g>\n   <g id=\"patch_37\">\n    <path clip-path=\"url(#pe815df1e22)\" d=\"M 168.555881 50705.648787 \nL 171.599517 50705.648787 \nL 171.599517 135.652755 \nL 168.555881 135.652755 \nz\n\" style=\"fill:#4c72b0;opacity:0.4;\"/>\n   </g>\n   <g id=\"patch_38\">\n    <path clip-path=\"url(#pe815df1e22)\" d=\"M 171.599517 50705.648787 \nL 174.643153 50705.648787 \nL 174.643153 136.537401 \nL 171.599517 136.537401 \nz\n\" style=\"fill:#4c72b0;opacity:0.4;\"/>\n   </g>\n   <g id=\"patch_39\">\n    <path clip-path=\"url(#pe815df1e22)\" d=\"M 174.643153 50705.648787 \nL 177.68679 50705.648787 \nL 177.68679 137.810828 \nL 174.643153 137.810828 \nz\n\" style=\"fill:#4c72b0;opacity:0.4;\"/>\n   </g>\n   <g id=\"patch_40\">\n    <path clip-path=\"url(#pe815df1e22)\" d=\"M 177.68679 50705.648787 \nL 180.730426 50705.648787 \nL 180.730426 139.504797 \nL 177.68679 139.504797 \nz\n\" style=\"fill:#4c72b0;opacity:0.4;\"/>\n   </g>\n   <g id=\"patch_41\">\n    <path clip-path=\"url(#pe815df1e22)\" d=\"M 180.730426 50705.648787 \nL 183.774062 50705.648787 \nL 183.774062 139.96913 \nL 180.730426 139.96913 \nz\n\" style=\"fill:#4c72b0;opacity:0.4;\"/>\n   </g>\n   <g id=\"patch_42\">\n    <path clip-path=\"url(#pe815df1e22)\" d=\"M 183.774062 50705.648787 \nL 186.817699 50705.648787 \nL 186.817699 141.174951 \nL 183.774062 141.174951 \nz\n\" style=\"fill:#4c72b0;opacity:0.4;\"/>\n   </g>\n   <g id=\"patch_43\">\n    <path clip-path=\"url(#pe815df1e22)\" d=\"M 186.817699 50705.648787 \nL 189.861335 50705.648787 \nL 189.861335 141.718823 \nL 186.817699 141.718823 \nz\n\" style=\"fill:#4c72b0;opacity:0.4;\"/>\n   </g>\n   <g id=\"patch_44\">\n    <path clip-path=\"url(#pe815df1e22)\" d=\"M 189.861335 50705.648787 \nL 192.904972 50705.648787 \nL 192.904972 144.420422 \nL 189.861335 144.420422 \nz\n\" style=\"fill:#4c72b0;opacity:0.4;\"/>\n   </g>\n   <g id=\"patch_45\">\n    <path clip-path=\"url(#pe815df1e22)\" d=\"M 192.904972 50705.648787 \nL 195.948608 50705.648787 \nL 195.948608 145.450633 \nL 192.904972 145.450633 \nz\n\" style=\"fill:#4c72b0;opacity:0.4;\"/>\n   </g>\n   <g id=\"patch_46\">\n    <path clip-path=\"url(#pe815df1e22)\" d=\"M 195.948608 50705.648787 \nL 198.992244 50705.648787 \nL 198.992244 148.289059 \nL 195.948608 148.289059 \nz\n\" style=\"fill:#4c72b0;opacity:0.4;\"/>\n   </g>\n   <g id=\"patch_47\">\n    <path clip-path=\"url(#pe815df1e22)\" d=\"M 198.992244 50705.648787 \nL 202.035881 50705.648787 \nL 202.035881 147.337942 \nL 198.992244 147.337942 \nz\n\" style=\"fill:#4c72b0;opacity:0.4;\"/>\n   </g>\n   <g id=\"patch_48\">\n    <path clip-path=\"url(#pe815df1e22)\" d=\"M 202.035881 50705.648787 \nL 205.079517 50705.648787 \nL 205.079517 148.809828 \nL 202.035881 148.809828 \nz\n\" style=\"fill:#4c72b0;opacity:0.4;\"/>\n   </g>\n   <g id=\"patch_49\">\n    <path clip-path=\"url(#pe815df1e22)\" d=\"M 205.079517 50705.648787 \nL 208.123153 50705.648787 \nL 208.123153 148.75135 \nL 205.079517 148.75135 \nz\n\" style=\"fill:#4c72b0;opacity:0.4;\"/>\n   </g>\n   <g id=\"patch_50\">\n    <path clip-path=\"url(#pe815df1e22)\" d=\"M 208.123153 50705.648787 \nL 211.16679 50705.648787 \nL 211.16679 149.463614 \nL 208.123153 149.463614 \nz\n\" style=\"fill:#4c72b0;opacity:0.4;\"/>\n   </g>\n   <g id=\"patch_51\">\n    <path clip-path=\"url(#pe815df1e22)\" d=\"M 211.16679 50705.648787 \nL 214.210426 50705.648787 \nL 214.210426 153.348167 \nL 211.16679 153.348167 \nz\n\" style=\"fill:#4c72b0;opacity:0.4;\"/>\n   </g>\n   <g id=\"patch_52\">\n    <path clip-path=\"url(#pe815df1e22)\" d=\"M 214.210426 50705.648787 \nL 217.254062 50705.648787 \nL 217.254062 153.348167 \nL 214.210426 153.348167 \nz\n\" style=\"fill:#4c72b0;opacity:0.4;\"/>\n   </g>\n   <g id=\"patch_53\">\n    <path clip-path=\"url(#pe815df1e22)\" d=\"M 217.254062 50705.648787 \nL 220.297699 50705.648787 \nL 220.297699 153.78473 \nL 217.254062 153.78473 \nz\n\" style=\"fill:#4c72b0;opacity:0.4;\"/>\n   </g>\n   <g id=\"patch_54\">\n    <path clip-path=\"url(#pe815df1e22)\" d=\"M 220.297699 50705.648787 \nL 223.341335 50705.648787 \nL 223.341335 152.709218 \nL 220.297699 152.709218 \nz\n\" style=\"fill:#4c72b0;opacity:0.4;\"/>\n   </g>\n   <g id=\"patch_55\">\n    <path clip-path=\"url(#pe815df1e22)\" d=\"M 223.341335 50705.648787 \nL 226.384972 50705.648787 \nL 226.384972 154.305303 \nL 223.341335 154.305303 \nz\n\" style=\"fill:#4c72b0;opacity:0.4;\"/>\n   </g>\n   <g id=\"patch_56\">\n    <path clip-path=\"url(#pe815df1e22)\" d=\"M 226.384972 50705.648787 \nL 229.428608 50705.648787 \nL 229.428608 154.53225 \nL 226.384972 154.53225 \nz\n\" style=\"fill:#4c72b0;opacity:0.4;\"/>\n   </g>\n   <g id=\"patch_57\">\n    <path clip-path=\"url(#pe815df1e22)\" d=\"M 229.428608 50705.648787 \nL 232.472244 50705.648787 \nL 232.472244 157.026343 \nL 229.428608 157.026343 \nz\n\" style=\"fill:#4c72b0;opacity:0.4;\"/>\n   </g>\n   <g id=\"patch_58\">\n    <path clip-path=\"url(#pe815df1e22)\" d=\"M 232.472244 50705.648787 \nL 235.515881 50705.648787 \nL 235.515881 157.369882 \nL 232.472244 157.369882 \nz\n\" style=\"fill:#4c72b0;opacity:0.4;\"/>\n   </g>\n   <g id=\"patch_59\">\n    <path clip-path=\"url(#pe815df1e22)\" d=\"M 235.515881 50705.648787 \nL 238.559517 50705.648787 \nL 238.559517 155.784032 \nL 235.515881 155.784032 \nz\n\" style=\"fill:#4c72b0;opacity:0.4;\"/>\n   </g>\n   <g id=\"patch_60\">\n    <path clip-path=\"url(#pe815df1e22)\" d=\"M 238.559517 50705.648787 \nL 241.603153 50705.648787 \nL 241.603153 156.856573 \nL 238.559517 156.856573 \nz\n\" style=\"fill:#4c72b0;opacity:0.4;\"/>\n   </g>\n   <g id=\"patch_61\">\n    <path clip-path=\"url(#pe815df1e22)\" d=\"M 241.603153 50705.648787 \nL 244.64679 50705.648787 \nL 244.64679 158.434069 \nL 241.603153 158.434069 \nz\n\" style=\"fill:#4c72b0;opacity:0.4;\"/>\n   </g>\n   <g id=\"patch_62\">\n    <path clip-path=\"url(#pe815df1e22)\" d=\"M 244.64679 50705.648787 \nL 247.690426 50705.648787 \nL 247.690426 157.807027 \nL 244.64679 157.807027 \nz\n\" style=\"fill:#4c72b0;opacity:0.4;\"/>\n   </g>\n   <g id=\"patch_63\">\n    <path clip-path=\"url(#pe815df1e22)\" d=\"M 247.690426 50705.648787 \nL 250.734062 50705.648787 \nL 250.734062 161.13885 \nL 247.690426 161.13885 \nz\n\" style=\"fill:#4c72b0;opacity:0.4;\"/>\n   </g>\n   <g id=\"patch_64\">\n    <path clip-path=\"url(#pe815df1e22)\" d=\"M 250.734062 50705.648787 \nL 253.777699 50705.648787 \nL 253.777699 162.738115 \nL 250.734062 162.738115 \nz\n\" style=\"fill:#4c72b0;opacity:0.4;\"/>\n   </g>\n   <g id=\"patch_65\">\n    <path clip-path=\"url(#pe815df1e22)\" d=\"M 253.777699 50705.648787 \nL 256.821335 50705.648787 \nL 256.821335 160.331377 \nL 253.777699 160.331377 \nz\n\" style=\"fill:#4c72b0;opacity:0.4;\"/>\n   </g>\n   <g id=\"patch_66\">\n    <path clip-path=\"url(#pe815df1e22)\" d=\"M 256.821335 50705.648787 \nL 259.864972 50705.648787 \nL 259.864972 161.345457 \nL 256.821335 161.345457 \nz\n\" style=\"fill:#4c72b0;opacity:0.4;\"/>\n   </g>\n   <g id=\"patch_67\">\n    <path clip-path=\"url(#pe815df1e22)\" d=\"M 259.864972 50705.648787 \nL 262.908608 50705.648787 \nL 262.908608 160.934173 \nL 259.864972 160.934173 \nz\n\" style=\"fill:#4c72b0;opacity:0.4;\"/>\n   </g>\n   <g id=\"patch_68\">\n    <path clip-path=\"url(#pe815df1e22)\" d=\"M 262.908608 50705.648787 \nL 265.952244 50705.648787 \nL 265.952244 160.934173 \nL 262.908608 160.934173 \nz\n\" style=\"fill:#4c72b0;opacity:0.4;\"/>\n   </g>\n   <g id=\"patch_69\">\n    <path clip-path=\"url(#pe815df1e22)\" d=\"M 265.952244 50705.648787 \nL 268.995881 50705.648787 \nL 268.995881 164.225385 \nL 265.952244 164.225385 \nz\n\" style=\"fill:#4c72b0;opacity:0.4;\"/>\n   </g>\n   <g id=\"patch_70\">\n    <path clip-path=\"url(#pe815df1e22)\" d=\"M 268.995881 50705.648787 \nL 272.039517 50705.648787 \nL 272.039517 162.960455 \nL 268.995881 162.960455 \nz\n\" style=\"fill:#4c72b0;opacity:0.4;\"/>\n   </g>\n   <g id=\"patch_71\">\n    <path clip-path=\"url(#pe815df1e22)\" d=\"M 272.039517 50705.648787 \nL 275.083153 50705.648787 \nL 275.083153 167.68038 \nL 272.039517 167.68038 \nz\n\" style=\"fill:#4c72b0;opacity:0.4;\"/>\n   </g>\n   <g id=\"patch_72\">\n    <path clip-path=\"url(#pe815df1e22)\" d=\"M 275.083153 50705.648787 \nL 278.12679 50705.648787 \nL 278.12679 171.784429 \nL 275.083153 171.784429 \nz\n\" style=\"fill:#4c72b0;opacity:0.4;\"/>\n   </g>\n   <g id=\"patch_73\">\n    <path clip-path=\"url(#pe815df1e22)\" d=\"M 278.12679 50705.648787 \nL 281.170426 50705.648787 \nL 281.170426 162.960455 \nL 278.12679 162.960455 \nz\n\" style=\"fill:#4c72b0;opacity:0.4;\"/>\n   </g>\n   <g id=\"patch_74\">\n    <path clip-path=\"url(#pe815df1e22)\" d=\"M 281.170426 50705.648787 \nL 284.214062 50705.648787 \nL 284.214062 168.241954 \nL 281.170426 168.241954 \nz\n\" style=\"fill:#4c72b0;opacity:0.4;\"/>\n   </g>\n   <g id=\"patch_75\">\n    <path clip-path=\"url(#pe815df1e22)\" d=\"M 284.214062 50705.648787 \nL 287.257699 50705.648787 \nL 287.257699 176.216341 \nL 284.214062 176.216341 \nz\n\" style=\"fill:#4c72b0;opacity:0.4;\"/>\n   </g>\n   <g id=\"patch_76\">\n    <path clip-path=\"url(#pe815df1e22)\" d=\"M 287.257699 50705.648787 \nL 290.301335 50705.648787 \nL 290.301335 177.050736 \nL 287.257699 177.050736 \nz\n\" style=\"fill:#4c72b0;opacity:0.4;\"/>\n   </g>\n   <g id=\"patch_77\">\n    <path clip-path=\"url(#pe815df1e22)\" d=\"M 290.301335 50705.648787 \nL 293.344972 50705.648787 \nL 293.344972 177.480165 \nL 290.301335 177.480165 \nz\n\" style=\"fill:#4c72b0;opacity:0.4;\"/>\n   </g>\n   <g id=\"patch_78\">\n    <path clip-path=\"url(#pe815df1e22)\" d=\"M 293.344972 50705.648787 \nL 296.388608 50705.648787 \nL 296.388608 181.778737 \nL 293.344972 181.778737 \nz\n\" style=\"fill:#4c72b0;opacity:0.4;\"/>\n   </g>\n   <g id=\"patch_79\">\n    <path clip-path=\"url(#pe815df1e22)\" d=\"M 296.388608 50705.648787 \nL 299.432244 50705.648787 \nL 299.432244 183.708304 \nL 296.388608 183.708304 \nz\n\" style=\"fill:#4c72b0;opacity:0.4;\"/>\n   </g>\n   <g id=\"patch_80\">\n    <path clip-path=\"url(#pe815df1e22)\" d=\"M 299.432244 50705.648787 \nL 302.475881 50705.648787 \nL 302.475881 187.132316 \nL 299.432244 187.132316 \nz\n\" style=\"fill:#4c72b0;opacity:0.4;\"/>\n   </g>\n   <g id=\"patch_81\">\n    <path clip-path=\"url(#pe815df1e22)\" d=\"M 302.475881 50705.648787 \nL 305.519517 50705.648787 \nL 305.519517 191.602047 \nL 302.475881 191.602047 \nz\n\" style=\"fill:#4c72b0;opacity:0.4;\"/>\n   </g>\n   <g id=\"patch_82\">\n    <path clip-path=\"url(#pe815df1e22)\" d=\"M 305.519517 50705.648787 \nL 308.563153 50705.648787 \nL 308.563153 203.347233 \nL 305.519517 203.347233 \nz\n\" style=\"fill:#4c72b0;opacity:0.4;\"/>\n   </g>\n   <g id=\"patch_83\">\n    <path clip-path=\"url(#pe815df1e22)\" d=\"M 308.563153 50705.648787 \nL 311.60679 50705.648787 \nL 311.60679 201.978024 \nL 308.563153 201.978024 \nz\n\" style=\"fill:#4c72b0;opacity:0.4;\"/>\n   </g>\n   <g id=\"patch_84\">\n    <path clip-path=\"url(#pe815df1e22)\" d=\"M 311.60679 50705.648787 \nL 314.650426 50705.648787 \nL 314.650426 202.651929 \nL 311.60679 202.651929 \nz\n\" style=\"fill:#4c72b0;opacity:0.4;\"/>\n   </g>\n   <g id=\"patch_85\">\n    <path clip-path=\"url(#pe815df1e22)\" d=\"M 314.650426 50705.648787 \nL 317.694062 50705.648787 \nL 317.694062 207.199275 \nL 314.650426 207.199275 \nz\n\" style=\"fill:#4c72b0;opacity:0.4;\"/>\n   </g>\n   <g id=\"patch_86\">\n    <path clip-path=\"url(#pe815df1e22)\" d=\"M 317.694062 50705.648787 \nL 320.737699 50705.648787 \nL 320.737699 207.199275 \nL 317.694062 207.199275 \nz\n\" style=\"fill:#4c72b0;opacity:0.4;\"/>\n   </g>\n   <g id=\"patch_87\">\n    <path clip-path=\"url(#pe815df1e22)\" d=\"M 320.737699 50705.648787 \nL 323.781335 50705.648787 \nL 323.781335 209.884292 \nL 320.737699 209.884292 \nz\n\" style=\"fill:#4c72b0;opacity:0.4;\"/>\n   </g>\n   <g id=\"patch_88\">\n    <path clip-path=\"url(#pe815df1e22)\" d=\"M 323.781335 50705.648787 \nL 326.824972 50705.648787 \nL 326.824972 216.504306 \nL 323.781335 216.504306 \nz\n\" style=\"fill:#4c72b0;opacity:0.4;\"/>\n   </g>\n   <g id=\"patch_89\">\n    <path clip-path=\"url(#pe815df1e22)\" d=\"M 326.824972 50705.648787 \nL 329.868608 50705.648787 \nL 329.868608 214.068441 \nL 326.824972 214.068441 \nz\n\" style=\"fill:#4c72b0;opacity:0.4;\"/>\n   </g>\n   <g id=\"patch_90\">\n    <path clip-path=\"url(#pe815df1e22)\" d=\"M 329.868608 50705.648787 \nL 332.912244 50705.648787 \nL 332.912244 215.252525 \nL 329.868608 215.252525 \nz\n\" style=\"fill:#4c72b0;opacity:0.4;\"/>\n   </g>\n   <g id=\"patch_91\">\n    <path clip-path=\"url(#pe815df1e22)\" d=\"M 332.912244 50705.648787 \nL 335.955881 50705.648787 \nL 335.955881 220.756364 \nL 332.912244 220.756364 \nz\n\" style=\"fill:#4c72b0;opacity:0.4;\"/>\n   </g>\n   <g id=\"patch_92\">\n    <path clip-path=\"url(#pe815df1e22)\" d=\"M 335.955881 50705.648787 \nL 338.999517 50705.648787 \nL 338.999517 217.831998 \nL 335.955881 217.831998 \nz\n\" style=\"fill:#4c72b0;opacity:0.4;\"/>\n   </g>\n   <g id=\"patch_93\">\n    <path clip-path=\"url(#pe815df1e22)\" d=\"M 338.999517 50705.648787 \nL 342.043153 50705.648787 \nL 342.043153 219.245405 \nL 338.999517 219.245405 \nz\n\" style=\"fill:#4c72b0;opacity:0.4;\"/>\n   </g>\n   <g id=\"patch_94\">\n    <path clip-path=\"url(#pe815df1e22)\" d=\"M 342.043153 50705.648787 \nL 345.08679 50705.648787 \nL 345.08679 208.952227 \nL 342.043153 208.952227 \nz\n\" style=\"fill:#4c72b0;opacity:0.4;\"/>\n   </g>\n   <g id=\"patch_95\">\n    <path clip-path=\"url(#pe815df1e22)\" d=\"M 345.08679 50705.648787 \nL 348.130426 50705.648787 \nL 348.130426 202.651929 \nL 345.08679 202.651929 \nz\n\" style=\"fill:#4c72b0;opacity:0.4;\"/>\n   </g>\n   <g id=\"patch_96\">\n    <path clip-path=\"url(#pe815df1e22)\" d=\"M 348.130426 50705.648787 \nL 351.174062 50705.648787 \nL 351.174062 219.245405 \nL 348.130426 219.245405 \nz\n\" style=\"fill:#4c72b0;opacity:0.4;\"/>\n   </g>\n   <g id=\"patch_97\">\n    <path clip-path=\"url(#pe815df1e22)\" d=\"M 351.174062 50705.648787 \nL 354.217699 50705.648787 \nL 354.217699 219.245405 \nL 351.174062 219.245405 \nz\n\" style=\"fill:#4c72b0;opacity:0.4;\"/>\n   </g>\n   <g id=\"patch_98\">\n    <path clip-path=\"url(#pe815df1e22)\" d=\"M 354.217699 50705.648787 \nL 357.261335 50705.648787 \nL 357.261335 203.347233 \nL 354.217699 203.347233 \nz\n\" style=\"fill:#4c72b0;opacity:0.4;\"/>\n   </g>\n   <g id=\"patch_99\">\n    <path clip-path=\"url(#pe815df1e22)\" d=\"M 357.261335 50705.648787 \nL 360.304972 50705.648787 \nL 360.304972 207.199275 \nL 357.261335 207.199275 \nz\n\" style=\"fill:#4c72b0;opacity:0.4;\"/>\n   </g>\n   <g id=\"patch_100\">\n    <path clip-path=\"url(#pe815df1e22)\" d=\"M 360.304972 50705.648787 \nL 363.348608 50705.648787 \nL 363.348608 206.372754 \nL 360.304972 206.372754 \nz\n\" style=\"fill:#4c72b0;opacity:0.4;\"/>\n   </g>\n   <g id=\"patch_101\">\n    <path clip-path=\"url(#pe815df1e22)\" d=\"M 363.348608 50705.648787 \nL 366.392244 50705.648787 \nL 366.392244 192.878148 \nL 363.348608 192.878148 \nz\n\" style=\"fill:#4c72b0;opacity:0.4;\"/>\n   </g>\n   <g id=\"patch_102\">\n    <path clip-path=\"url(#pe815df1e22)\" d=\"M 366.392244 50705.648787 \nL 369.435881 50705.648787 \nL 369.435881 162.738115 \nL 366.392244 162.738115 \nz\n\" style=\"fill:#4c72b0;opacity:0.4;\"/>\n   </g>\n   <g id=\"patch_103\">\n    <path d=\"M 49.854062 230.64 \nL 49.854062 13.2 \n\" style=\"fill:none;stroke:#262626;stroke-linecap:square;stroke-linejoin:miter;stroke-width:1.25;\"/>\n   </g>\n   <g id=\"patch_104\">\n    <path d=\"M 49.854062 230.64 \nL 384.654063 230.64 \n\" style=\"fill:none;stroke:#262626;stroke-linecap:square;stroke-linejoin:miter;stroke-width:1.25;\"/>\n   </g>\n  </g>\n </g>\n <defs>\n  <clipPath id=\"pe815df1e22\">\n   <rect height=\"217.44\" width=\"334.8\" x=\"49.854062\" y=\"13.2\"/>\n  </clipPath>\n </defs>\n</svg>\n"
          },
          "metadata": {
            "tags": []
          }
        }
      ]
    },
    {
      "metadata": {
        "id": "-z5eH1_xbu8O",
        "colab_type": "text"
      },
      "cell_type": "markdown",
      "source": [
        "## Alternative"
      ]
    },
    {
      "metadata": {
        "id": "Bs0WpSUwbu8P",
        "colab_type": "code",
        "colab": {}
      },
      "cell_type": "code",
      "source": [
        "payprice = validation['payprice']\n",
        "clicks = validation['click']\n",
        "\n",
        "B =6250*1000\n",
        "T = len(payprice)\n",
        "\n",
        "\n",
        "strategy3 = lambda B, T, l, pCTR: 2*pCTR*(((B*(l**2)))/T)**(1/3)\n",
        "\n",
        "const_range = np.linspace(4000000, 4300000, 50)\n",
        "\n",
        "\n",
        "statistics = {}\n",
        "\n",
        "# find optimal base_bid\n",
        "for l in tqdm(const_range):\n",
        "    budget_remaining = 6250*1000\n",
        "    \n",
        "    statistics[l] = {\n",
        "        'impressions':0,\n",
        "        'spend': 0,\n",
        "        'clicks': 0,\n",
        "        'too_expensive': 0,\n",
        "        'lost': 0\n",
        "    }\n",
        "    \n",
        "    # list of bids for all ad requests\n",
        "    bids = strategy3(B, T, l, pCTR)\n",
        "    \n",
        "    # loop through all bids for every ad request\n",
        "    for i in range(len(bids)):    \n",
        "        second_highest_bid = payprice[i]\n",
        "        \n",
        "        # limit spend per impression\n",
        "        if(bids[i] > 250):\n",
        "            bids[i] = 250\n",
        "            \n",
        "        won = bids[i] >= second_highest_bid and second_highest_bid <= budget_remaining\n",
        "        \n",
        "        if(second_highest_bid > budget_remaining):\n",
        "            statistics[l]['too_expensive'] += 1\n",
        "            \n",
        "        if(second_highest_bid > bids[i]):\n",
        "            statistics[l]['lost'] += 1\n",
        "        \n",
        "        \n",
        "        if(won):\n",
        "            statistics[l]['impressions'] += 1\n",
        "            statistics[l]['spend'] += second_highest_bid\n",
        "            statistics[l]['clicks'] += clicks[i]\n",
        "            \n",
        "            # subtract current bid from budget \n",
        "            budget_remaining -= second_highest_bid\n",
        "            \n",
        "    \n",
        "statistics = pd.DataFrame(statistics).T\n",
        "statistics['CTR'] = statistics['clicks'] / statistics['impressions']\n",
        "statistics['aCPM'] = statistics['spend'] / statistics['impressions'] \n",
        "statistics['aCPC'] = (statistics['spend']/1000) / statistics['clicks']\n",
        "print('done')"
      ],
      "execution_count": 0,
      "outputs": []
    },
    {
      "metadata": {
        "id": "0lqauFrUbu8R",
        "colab_type": "code",
        "outputId": "b17fa1ef-53f2-4f5c-9bea-2c16900a8a54",
        "colab": {
          "base_uri": "https://localhost:8080/",
          "height": 204
        }
      },
      "cell_type": "code",
      "source": [
        "statistics.sort_values('clicks', ascending=False).head(5)"
      ],
      "execution_count": 125,
      "outputs": [
        {
          "output_type": "execute_result",
          "data": {
            "text/html": [
              "<div>\n",
              "<style scoped>\n",
              "    .dataframe tbody tr th:only-of-type {\n",
              "        vertical-align: middle;\n",
              "    }\n",
              "\n",
              "    .dataframe tbody tr th {\n",
              "        vertical-align: top;\n",
              "    }\n",
              "\n",
              "    .dataframe thead th {\n",
              "        text-align: right;\n",
              "    }\n",
              "</style>\n",
              "<table border=\"1\" class=\"dataframe\">\n",
              "  <thead>\n",
              "    <tr style=\"text-align: right;\">\n",
              "      <th></th>\n",
              "      <th>clicks</th>\n",
              "      <th>impressions</th>\n",
              "      <th>lost</th>\n",
              "      <th>spend</th>\n",
              "      <th>too_expensive</th>\n",
              "      <th>CTR</th>\n",
              "      <th>aCPM</th>\n",
              "      <th>aCPC</th>\n",
              "    </tr>\n",
              "  </thead>\n",
              "  <tbody>\n",
              "    <tr>\n",
              "      <th>4.000000e+06</th>\n",
              "      <td>157</td>\n",
              "      <td>93608</td>\n",
              "      <td>210317</td>\n",
              "      <td>6215653</td>\n",
              "      <td>0</td>\n",
              "      <td>0.001677</td>\n",
              "      <td>66.400874</td>\n",
              "      <td>39.590146</td>\n",
              "    </tr>\n",
              "    <tr>\n",
              "      <th>4.091837e+06</th>\n",
              "      <td>157</td>\n",
              "      <td>93996</td>\n",
              "      <td>209929</td>\n",
              "      <td>6243538</td>\n",
              "      <td>0</td>\n",
              "      <td>0.001670</td>\n",
              "      <td>66.423444</td>\n",
              "      <td>39.767758</td>\n",
              "    </tr>\n",
              "    <tr>\n",
              "      <th>4.165306e+06</th>\n",
              "      <td>157</td>\n",
              "      <td>94072</td>\n",
              "      <td>209660</td>\n",
              "      <td>6249999</td>\n",
              "      <td>567</td>\n",
              "      <td>0.001669</td>\n",
              "      <td>66.438462</td>\n",
              "      <td>39.808911</td>\n",
              "    </tr>\n",
              "    <tr>\n",
              "      <th>4.159184e+06</th>\n",
              "      <td>157</td>\n",
              "      <td>94073</td>\n",
              "      <td>209676</td>\n",
              "      <td>6250000</td>\n",
              "      <td>524</td>\n",
              "      <td>0.001669</td>\n",
              "      <td>66.437766</td>\n",
              "      <td>39.808917</td>\n",
              "    </tr>\n",
              "    <tr>\n",
              "      <th>4.006122e+06</th>\n",
              "      <td>157</td>\n",
              "      <td>93642</td>\n",
              "      <td>210283</td>\n",
              "      <td>6217612</td>\n",
              "      <td>0</td>\n",
              "      <td>0.001677</td>\n",
              "      <td>66.397685</td>\n",
              "      <td>39.602624</td>\n",
              "    </tr>\n",
              "  </tbody>\n",
              "</table>\n",
              "</div>"
            ],
            "text/plain": [
              "              clicks  impressions    lost    spend  too_expensive       CTR  \\\n",
              "4.000000e+06     157        93608  210317  6215653              0  0.001677   \n",
              "4.091837e+06     157        93996  209929  6243538              0  0.001670   \n",
              "4.165306e+06     157        94072  209660  6249999            567  0.001669   \n",
              "4.159184e+06     157        94073  209676  6250000            524  0.001669   \n",
              "4.006122e+06     157        93642  210283  6217612              0  0.001677   \n",
              "\n",
              "                   aCPM       aCPC  \n",
              "4.000000e+06  66.400874  39.590146  \n",
              "4.091837e+06  66.423444  39.767758  \n",
              "4.165306e+06  66.438462  39.808911  \n",
              "4.159184e+06  66.437766  39.808917  \n",
              "4.006122e+06  66.397685  39.602624  "
            ]
          },
          "metadata": {
            "tags": []
          },
          "execution_count": 125
        }
      ]
    },
    {
      "metadata": {
        "id": "_9ugT20Pbu8U",
        "colab_type": "code",
        "colab": {}
      },
      "cell_type": "code",
      "source": [
        "x = np.linspace(1e-2, 1)\n",
        "y = strategy3(B, T, l, x)\n",
        "y3 = strategy3(B, T, l, x)\n",
        "\n",
        "plt.plot(x,y, label='#1')\n",
        "plt.plot(x, y2, label='#2')\n",
        "plt.plot(x, y3, label='#3')\n",
        "sns.despine()\n",
        "plt.title('Non linear bidding strategy alternative form')\n",
        "plt.ylabel('Bid price')\n",
        "plt.xlabel('pCTR')\n",
        "plt.legend()\n",
        "plt.show()"
      ],
      "execution_count": 0,
      "outputs": []
    },
    {
      "metadata": {
        "id": "25AOkse9sEYR",
        "colab_type": "code",
        "colab": {
          "base_uri": "https://localhost:8080/",
          "height": 437
        },
        "outputId": "fdc99d04-bcd7-4ba5-dbd0-7a009ed09966"
      },
      "cell_type": "code",
      "source": [
        "x = np.linspace(1e-2, 1)\n",
        "y = strategy3(B,T,4000000,pCTR)\n",
        "\n",
        "ax = sns.distplot(y, kde=False, bins=100, hist_kws={'log':True});\n",
        "sns.despine()\n",
        "plt.ylabel('Frequency')\n",
        "plt.xlabel('Bid price')\n",
        "plt.show();"
      ],
      "execution_count": 127,
      "outputs": [
        {
          "output_type": "stream",
          "text": [
            "/usr/local/lib/python3.6/dist-packages/matplotlib/axes/_axes.py:6521: MatplotlibDeprecationWarning: \n",
            "The 'normed' kwarg was deprecated in Matplotlib 2.1 and will be removed in 3.1. Use 'density' instead.\n",
            "  alternative=\"'density'\", removal=\"3.1\")\n"
          ],
          "name": "stderr"
        },
        {
          "output_type": "display_data",
          "data": {
            "text/plain": [
              "<Figure size 432x288 with 1 Axes>"
            ],
            "image/svg+xml": "<?xml version=\"1.0\" encoding=\"utf-8\" standalone=\"no\"?>\n<!DOCTYPE svg PUBLIC \"-//W3C//DTD SVG 1.1//EN\"\n  \"http://www.w3.org/Graphics/SVG/1.1/DTD/svg11.dtd\">\n<!-- Created with matplotlib (https://matplotlib.org/) -->\n<svg height=\"274.415937pt\" version=\"1.1\" viewBox=\"0 0 397.854062 274.415937\" width=\"397.854062pt\" xmlns=\"http://www.w3.org/2000/svg\" xmlns:xlink=\"http://www.w3.org/1999/xlink\">\n <defs>\n  <style type=\"text/css\">\n*{stroke-linecap:butt;stroke-linejoin:round;}\n  </style>\n </defs>\n <g id=\"figure_1\">\n  <g id=\"patch_1\">\n   <path d=\"M 0 274.415937 \nL 397.854062 274.415937 \nL 397.854062 0 \nL 0 0 \nz\n\" style=\"fill:none;\"/>\n  </g>\n  <g id=\"axes_1\">\n   <g id=\"patch_2\">\n    <path d=\"M 49.854062 230.64 \nL 384.654063 230.64 \nL 384.654063 13.2 \nL 49.854062 13.2 \nz\n\" style=\"fill:#ffffff;\"/>\n   </g>\n   <g id=\"matplotlib.axis_1\">\n    <g id=\"xtick_1\">\n     <g id=\"line2d_1\">\n      <defs>\n       <path d=\"M 0 0 \nL 0 6 \n\" id=\"m688640fd55\" style=\"stroke:#262626;\"/>\n      </defs>\n      <g>\n       <use style=\"fill:#262626;stroke:#262626;\" x=\"65.072244\" xlink:href=\"#m688640fd55\" y=\"230.64\"/>\n      </g>\n     </g>\n     <g id=\"text_1\">\n      <!-- 0 -->\n      <defs>\n       <path d=\"M 51.703125 34.421875 \nQ 51.703125 24.515625 49.828125 17.75 \nQ 47.953125 10.984375 44.703125 6.8125 \nQ 41.453125 2.640625 37.0625 0.828125 \nQ 32.671875 -0.984375 27.6875 -0.984375 \nQ 22.65625 -0.984375 18.3125 0.828125 \nQ 13.96875 2.640625 10.765625 6.78125 \nQ 7.5625 10.9375 5.734375 17.703125 \nQ 3.90625 24.46875 3.90625 34.421875 \nQ 3.90625 44.828125 5.734375 51.640625 \nQ 7.5625 58.453125 10.78125 62.5 \nQ 14.015625 66.546875 18.40625 68.1875 \nQ 22.796875 69.828125 27.984375 69.828125 \nQ 32.90625 69.828125 37.21875 68.1875 \nQ 41.546875 66.546875 44.765625 62.5 \nQ 48 58.453125 49.84375 51.640625 \nQ 51.703125 44.828125 51.703125 34.421875 \nz\nM 42.78125 34.421875 \nQ 42.78125 42.625 41.796875 48.0625 \nQ 40.828125 53.515625 38.921875 56.765625 \nQ 37.015625 60.015625 34.25 61.359375 \nQ 31.5 62.703125 27.984375 62.703125 \nQ 24.265625 62.703125 21.4375 61.328125 \nQ 18.609375 59.96875 16.671875 56.71875 \nQ 14.75 53.46875 13.765625 48.015625 \nQ 12.796875 42.578125 12.796875 34.421875 \nQ 12.796875 26.515625 13.796875 21.09375 \nQ 14.796875 15.671875 16.71875 12.375 \nQ 18.65625 9.078125 21.4375 7.640625 \nQ 24.21875 6.203125 27.78125 6.203125 \nQ 31.25 6.203125 34.03125 7.640625 \nQ 36.8125 9.078125 38.734375 12.375 \nQ 40.671875 15.671875 41.71875 21.09375 \nQ 42.78125 26.515625 42.78125 34.421875 \nz\n\" id=\"LiberationSans-48\"/>\n      </defs>\n      <g style=\"fill:#262626;\" transform=\"translate(62.291776 250.886875)scale(0.1 -0.1)\">\n       <use xlink:href=\"#LiberationSans-48\"/>\n      </g>\n     </g>\n    </g>\n    <g id=\"xtick_2\">\n     <g id=\"line2d_2\">\n      <g>\n       <use style=\"fill:#262626;stroke:#262626;\" x=\"109.159779\" xlink:href=\"#m688640fd55\" y=\"230.64\"/>\n      </g>\n     </g>\n     <g id=\"text_2\">\n      <!-- 20000 -->\n      <defs>\n       <path d=\"M 5.03125 0 \nL 5.03125 6.203125 \nQ 7.515625 11.921875 11.109375 16.28125 \nQ 14.703125 20.65625 18.65625 24.1875 \nQ 22.609375 27.734375 26.484375 30.765625 \nQ 30.375 33.796875 33.5 36.8125 \nQ 36.625 39.84375 38.546875 43.15625 \nQ 40.484375 46.484375 40.484375 50.6875 \nQ 40.484375 53.609375 39.59375 55.828125 \nQ 38.71875 58.0625 37.0625 59.5625 \nQ 35.40625 61.078125 33.078125 61.828125 \nQ 30.765625 62.59375 27.9375 62.59375 \nQ 25.296875 62.59375 22.96875 61.859375 \nQ 20.65625 61.140625 18.84375 59.671875 \nQ 17.046875 58.203125 15.890625 56.03125 \nQ 14.75 53.859375 14.40625 50.984375 \nL 5.421875 51.8125 \nQ 5.859375 55.515625 7.46875 58.78125 \nQ 9.078125 62.0625 11.90625 64.53125 \nQ 14.75 67 18.71875 68.40625 \nQ 22.703125 69.828125 27.9375 69.828125 \nQ 33.0625 69.828125 37.0625 68.609375 \nQ 41.0625 67.390625 43.8125 64.984375 \nQ 46.578125 62.59375 48.046875 59.078125 \nQ 49.515625 55.5625 49.515625 50.984375 \nQ 49.515625 47.515625 48.265625 44.390625 \nQ 47.015625 41.265625 44.9375 38.421875 \nQ 42.875 35.59375 40.140625 32.953125 \nQ 37.40625 30.328125 34.421875 27.8125 \nQ 31.453125 25.296875 28.421875 22.828125 \nQ 25.390625 20.359375 22.71875 17.859375 \nQ 20.0625 15.375 17.96875 12.8125 \nQ 15.875 10.25 14.703125 7.46875 \nL 50.59375 7.46875 \nL 50.59375 0 \nz\n\" id=\"LiberationSans-50\"/>\n      </defs>\n      <g style=\"fill:#262626;\" transform=\"translate(95.257436 250.886875)scale(0.1 -0.1)\">\n       <use xlink:href=\"#LiberationSans-50\"/>\n       <use x=\"55.615234\" xlink:href=\"#LiberationSans-48\"/>\n       <use x=\"111.230469\" xlink:href=\"#LiberationSans-48\"/>\n       <use x=\"166.845703\" xlink:href=\"#LiberationSans-48\"/>\n       <use x=\"222.460938\" xlink:href=\"#LiberationSans-48\"/>\n      </g>\n     </g>\n    </g>\n    <g id=\"xtick_3\">\n     <g id=\"line2d_3\">\n      <g>\n       <use style=\"fill:#262626;stroke:#262626;\" x=\"153.247314\" xlink:href=\"#m688640fd55\" y=\"230.64\"/>\n      </g>\n     </g>\n     <g id=\"text_3\">\n      <!-- 40000 -->\n      <defs>\n       <path d=\"M 43.015625 15.578125 \nL 43.015625 0 \nL 34.71875 0 \nL 34.71875 15.578125 \nL 2.296875 15.578125 \nL 2.296875 22.40625 \nL 33.796875 68.796875 \nL 43.015625 68.796875 \nL 43.015625 22.515625 \nL 52.6875 22.515625 \nL 52.6875 15.578125 \nz\nM 34.71875 58.890625 \nQ 34.625 58.640625 34.234375 57.9375 \nQ 33.84375 57.234375 33.34375 56.34375 \nQ 32.859375 55.46875 32.34375 54.5625 \nQ 31.84375 53.65625 31.453125 53.078125 \nL 13.8125 27.09375 \nQ 13.578125 26.703125 13.109375 26.0625 \nQ 12.640625 25.4375 12.15625 24.78125 \nQ 11.671875 24.125 11.171875 23.484375 \nQ 10.6875 22.859375 10.40625 22.515625 \nL 34.71875 22.515625 \nz\n\" id=\"LiberationSans-52\"/>\n      </defs>\n      <g style=\"fill:#262626;\" transform=\"translate(139.344971 250.886875)scale(0.1 -0.1)\">\n       <use xlink:href=\"#LiberationSans-52\"/>\n       <use x=\"55.615234\" xlink:href=\"#LiberationSans-48\"/>\n       <use x=\"111.230469\" xlink:href=\"#LiberationSans-48\"/>\n       <use x=\"166.845703\" xlink:href=\"#LiberationSans-48\"/>\n       <use x=\"222.460938\" xlink:href=\"#LiberationSans-48\"/>\n      </g>\n     </g>\n    </g>\n    <g id=\"xtick_4\">\n     <g id=\"line2d_4\">\n      <g>\n       <use style=\"fill:#262626;stroke:#262626;\" x=\"197.334849\" xlink:href=\"#m688640fd55\" y=\"230.64\"/>\n      </g>\n     </g>\n     <g id=\"text_4\">\n      <!-- 60000 -->\n      <defs>\n       <path d=\"M 51.21875 22.515625 \nQ 51.21875 17.328125 49.78125 13 \nQ 48.34375 8.6875 45.53125 5.578125 \nQ 42.71875 2.484375 38.5625 0.75 \nQ 34.421875 -0.984375 29 -0.984375 \nQ 23 -0.984375 18.5 1.3125 \nQ 14.015625 3.609375 11.03125 7.921875 \nQ 8.0625 12.25 6.5625 18.53125 \nQ 5.078125 24.8125 5.078125 32.8125 \nQ 5.078125 42 6.765625 48.921875 \nQ 8.453125 55.859375 11.625 60.5 \nQ 14.796875 65.140625 19.359375 67.484375 \nQ 23.921875 69.828125 29.6875 69.828125 \nQ 33.203125 69.828125 36.28125 69.09375 \nQ 39.359375 68.359375 41.875 66.71875 \nQ 44.390625 65.09375 46.28125 62.40625 \nQ 48.1875 59.71875 49.3125 55.8125 \nL 40.921875 54.296875 \nQ 39.546875 58.734375 36.546875 60.71875 \nQ 33.546875 62.703125 29.59375 62.703125 \nQ 25.984375 62.703125 23.046875 60.984375 \nQ 20.125 59.28125 18.0625 55.875 \nQ 16.015625 52.484375 14.90625 47.359375 \nQ 13.8125 42.234375 13.8125 35.40625 \nQ 16.21875 39.84375 20.5625 42.15625 \nQ 24.90625 44.484375 30.515625 44.484375 \nQ 35.203125 44.484375 39.015625 42.96875 \nQ 42.828125 41.453125 45.53125 38.59375 \nQ 48.25 35.75 49.734375 31.671875 \nQ 51.21875 27.59375 51.21875 22.515625 \nz\nM 42.28125 22.125 \nQ 42.28125 25.6875 41.40625 28.5625 \nQ 40.53125 31.453125 38.765625 33.46875 \nQ 37.015625 35.5 34.421875 36.59375 \nQ 31.84375 37.703125 28.421875 37.703125 \nQ 26.03125 37.703125 23.578125 36.984375 \nQ 21.140625 36.28125 19.15625 34.6875 \nQ 17.1875 33.109375 15.9375 30.515625 \nQ 14.703125 27.9375 14.703125 24.21875 \nQ 14.703125 20.40625 15.671875 17.109375 \nQ 16.65625 13.8125 18.484375 11.375 \nQ 20.3125 8.9375 22.890625 7.515625 \nQ 25.484375 6.109375 28.71875 6.109375 \nQ 31.890625 6.109375 34.40625 7.203125 \nQ 36.921875 8.296875 38.671875 10.375 \nQ 40.4375 12.453125 41.359375 15.421875 \nQ 42.28125 18.40625 42.28125 22.125 \nz\n\" id=\"LiberationSans-54\"/>\n      </defs>\n      <g style=\"fill:#262626;\" transform=\"translate(183.432505 250.886875)scale(0.1 -0.1)\">\n       <use xlink:href=\"#LiberationSans-54\"/>\n       <use x=\"55.615234\" xlink:href=\"#LiberationSans-48\"/>\n       <use x=\"111.230469\" xlink:href=\"#LiberationSans-48\"/>\n       <use x=\"166.845703\" xlink:href=\"#LiberationSans-48\"/>\n       <use x=\"222.460938\" xlink:href=\"#LiberationSans-48\"/>\n      </g>\n     </g>\n    </g>\n    <g id=\"xtick_5\">\n     <g id=\"line2d_5\">\n      <g>\n       <use style=\"fill:#262626;stroke:#262626;\" x=\"241.422384\" xlink:href=\"#m688640fd55\" y=\"230.64\"/>\n      </g>\n     </g>\n     <g id=\"text_5\">\n      <!-- 80000 -->\n      <defs>\n       <path d=\"M 51.265625 19.1875 \nQ 51.265625 14.796875 49.875 11.109375 \nQ 48.484375 7.421875 45.625 4.734375 \nQ 42.78125 2.046875 38.328125 0.53125 \nQ 33.890625 -0.984375 27.828125 -0.984375 \nQ 21.78125 -0.984375 17.359375 0.53125 \nQ 12.9375 2.046875 10.03125 4.703125 \nQ 7.125 7.375 5.734375 11.0625 \nQ 4.34375 14.75 4.34375 19.09375 \nQ 4.34375 22.859375 5.484375 25.78125 \nQ 6.640625 28.71875 8.5625 30.828125 \nQ 10.5 32.953125 12.96875 34.25 \nQ 15.4375 35.546875 18.0625 35.984375 \nL 18.0625 36.1875 \nQ 15.1875 36.859375 12.90625 38.375 \nQ 10.640625 39.890625 9.09375 42.015625 \nQ 7.5625 44.140625 6.75 46.71875 \nQ 5.953125 49.3125 5.953125 52.203125 \nQ 5.953125 55.8125 7.34375 59 \nQ 8.734375 62.203125 11.46875 64.625 \nQ 14.203125 67.046875 18.25 68.4375 \nQ 22.3125 69.828125 27.640625 69.828125 \nQ 33.25 69.828125 37.375 68.40625 \nQ 41.5 67 44.203125 64.578125 \nQ 46.921875 62.15625 48.234375 58.9375 \nQ 49.5625 55.71875 49.5625 52.09375 \nQ 49.5625 49.265625 48.75 46.671875 \nQ 47.953125 44.09375 46.40625 41.96875 \nQ 44.875 39.84375 42.59375 38.34375 \nQ 40.328125 36.859375 37.359375 36.28125 \nL 37.359375 36.078125 \nQ 40.328125 35.59375 42.859375 34.296875 \nQ 45.40625 33.015625 47.265625 30.890625 \nQ 49.125 28.765625 50.1875 25.828125 \nQ 51.265625 22.90625 51.265625 19.1875 \nz\nM 40.4375 51.609375 \nQ 40.4375 54.203125 39.765625 56.34375 \nQ 39.109375 58.5 37.59375 60.03125 \nQ 36.078125 61.578125 33.640625 62.421875 \nQ 31.203125 63.28125 27.640625 63.28125 \nQ 24.171875 63.28125 21.78125 62.421875 \nQ 19.390625 61.578125 17.84375 60.03125 \nQ 16.3125 58.5 15.625 56.34375 \nQ 14.9375 54.203125 14.9375 51.609375 \nQ 14.9375 49.5625 15.46875 47.40625 \nQ 16.015625 45.265625 17.421875 43.5 \nQ 18.84375 41.75 21.328125 40.625 \nQ 23.828125 39.5 27.734375 39.5 \nQ 31.890625 39.5 34.40625 40.625 \nQ 36.921875 41.75 38.25 43.5 \nQ 39.59375 45.265625 40.015625 47.40625 \nQ 40.4375 49.5625 40.4375 51.609375 \nz\nM 42.140625 20.015625 \nQ 42.140625 22.515625 41.453125 24.828125 \nQ 40.765625 27.15625 39.109375 28.9375 \nQ 37.453125 30.71875 34.640625 31.8125 \nQ 31.84375 32.90625 27.640625 32.90625 \nQ 23.78125 32.90625 21.0625 31.8125 \nQ 18.359375 30.71875 16.671875 28.90625 \nQ 14.984375 27.09375 14.203125 24.71875 \nQ 13.421875 22.359375 13.421875 19.828125 \nQ 13.421875 16.65625 14.203125 14.03125 \nQ 14.984375 11.421875 16.6875 9.546875 \nQ 18.40625 7.671875 21.1875 6.640625 \nQ 23.96875 5.609375 27.9375 5.609375 \nQ 31.9375 5.609375 34.671875 6.640625 \nQ 37.40625 7.671875 39.0625 9.546875 \nQ 40.71875 11.421875 41.421875 14.078125 \nQ 42.140625 16.75 42.140625 20.015625 \nz\n\" id=\"LiberationSans-56\"/>\n      </defs>\n      <g style=\"fill:#262626;\" transform=\"translate(227.52004 250.886875)scale(0.1 -0.1)\">\n       <use xlink:href=\"#LiberationSans-56\"/>\n       <use x=\"55.615234\" xlink:href=\"#LiberationSans-48\"/>\n       <use x=\"111.230469\" xlink:href=\"#LiberationSans-48\"/>\n       <use x=\"166.845703\" xlink:href=\"#LiberationSans-48\"/>\n       <use x=\"222.460938\" xlink:href=\"#LiberationSans-48\"/>\n      </g>\n     </g>\n    </g>\n    <g id=\"xtick_6\">\n     <g id=\"line2d_6\">\n      <g>\n       <use style=\"fill:#262626;stroke:#262626;\" x=\"285.509919\" xlink:href=\"#m688640fd55\" y=\"230.64\"/>\n      </g>\n     </g>\n     <g id=\"text_6\">\n      <!-- 100000 -->\n      <defs>\n       <path d=\"M 7.625 0 \nL 7.625 7.46875 \nL 25.140625 7.46875 \nL 25.140625 60.40625 \nL 9.625 49.3125 \nL 9.625 57.625 \nL 25.875 68.796875 \nL 33.984375 68.796875 \nL 33.984375 7.46875 \nL 50.734375 7.46875 \nL 50.734375 0 \nz\n\" id=\"LiberationSans-49\"/>\n      </defs>\n      <g style=\"fill:#262626;\" transform=\"translate(268.827107 250.886875)scale(0.1 -0.1)\">\n       <use xlink:href=\"#LiberationSans-49\"/>\n       <use x=\"55.615234\" xlink:href=\"#LiberationSans-48\"/>\n       <use x=\"111.230469\" xlink:href=\"#LiberationSans-48\"/>\n       <use x=\"166.845703\" xlink:href=\"#LiberationSans-48\"/>\n       <use x=\"222.460938\" xlink:href=\"#LiberationSans-48\"/>\n       <use x=\"278.076172\" xlink:href=\"#LiberationSans-48\"/>\n      </g>\n     </g>\n    </g>\n    <g id=\"xtick_7\">\n     <g id=\"line2d_7\">\n      <g>\n       <use style=\"fill:#262626;stroke:#262626;\" x=\"329.597454\" xlink:href=\"#m688640fd55\" y=\"230.64\"/>\n      </g>\n     </g>\n     <g id=\"text_7\">\n      <!-- 120000 -->\n      <g style=\"fill:#262626;\" transform=\"translate(312.914642 250.886875)scale(0.1 -0.1)\">\n       <use xlink:href=\"#LiberationSans-49\"/>\n       <use x=\"55.615234\" xlink:href=\"#LiberationSans-50\"/>\n       <use x=\"111.230469\" xlink:href=\"#LiberationSans-48\"/>\n       <use x=\"166.845703\" xlink:href=\"#LiberationSans-48\"/>\n       <use x=\"222.460938\" xlink:href=\"#LiberationSans-48\"/>\n       <use x=\"278.076172\" xlink:href=\"#LiberationSans-48\"/>\n      </g>\n     </g>\n    </g>\n    <g id=\"xtick_8\">\n     <g id=\"line2d_8\">\n      <g>\n       <use style=\"fill:#262626;stroke:#262626;\" x=\"373.684989\" xlink:href=\"#m688640fd55\" y=\"230.64\"/>\n      </g>\n     </g>\n     <g id=\"text_8\">\n      <!-- 140000 -->\n      <g style=\"fill:#262626;\" transform=\"translate(357.002177 250.886875)scale(0.1 -0.1)\">\n       <use xlink:href=\"#LiberationSans-49\"/>\n       <use x=\"55.615234\" xlink:href=\"#LiberationSans-52\"/>\n       <use x=\"111.230469\" xlink:href=\"#LiberationSans-48\"/>\n       <use x=\"166.845703\" xlink:href=\"#LiberationSans-48\"/>\n       <use x=\"222.460938\" xlink:href=\"#LiberationSans-48\"/>\n       <use x=\"278.076172\" xlink:href=\"#LiberationSans-48\"/>\n      </g>\n     </g>\n    </g>\n    <g id=\"text_9\">\n     <!-- Bid price -->\n     <defs>\n      <path d=\"M 61.421875 19.390625 \nQ 61.421875 14.15625 59.375 10.46875 \nQ 57.328125 6.78125 53.859375 4.46875 \nQ 50.390625 2.15625 45.796875 1.078125 \nQ 41.21875 0 36.140625 0 \nL 8.203125 0 \nL 8.203125 68.796875 \nL 33.203125 68.796875 \nQ 38.921875 68.796875 43.40625 67.84375 \nQ 47.90625 66.890625 51.03125 64.84375 \nQ 54.15625 62.796875 55.78125 59.640625 \nQ 57.421875 56.5 57.421875 52.09375 \nQ 57.421875 49.21875 56.609375 46.671875 \nQ 55.8125 44.140625 54.171875 42.0625 \nQ 52.546875 39.984375 50.078125 38.5 \nQ 47.609375 37.015625 44.34375 36.28125 \nQ 48.484375 35.796875 51.6875 34.375 \nQ 54.890625 32.953125 57.03125 30.75 \nQ 59.1875 28.5625 60.296875 25.65625 \nQ 61.421875 22.75 61.421875 19.390625 \nz\nM 48.046875 50.984375 \nQ 48.046875 56.546875 44.234375 58.9375 \nQ 40.4375 61.328125 33.203125 61.328125 \nL 17.53125 61.328125 \nL 17.53125 39.546875 \nL 33.203125 39.546875 \nQ 37.3125 39.546875 40.140625 40.34375 \nQ 42.96875 41.15625 44.71875 42.640625 \nQ 46.484375 44.140625 47.265625 46.234375 \nQ 48.046875 48.34375 48.046875 50.984375 \nz\nM 52 20.125 \nQ 52 23.390625 50.796875 25.6875 \nQ 49.609375 27.984375 47.359375 29.4375 \nQ 45.125 30.90625 41.96875 31.59375 \nQ 38.8125 32.28125 34.90625 32.28125 \nL 17.53125 32.28125 \nL 17.53125 7.46875 \nL 35.640625 7.46875 \nQ 39.203125 7.46875 42.203125 8.046875 \nQ 45.21875 8.640625 47.390625 10.109375 \nQ 49.5625 11.578125 50.78125 14.015625 \nQ 52 16.453125 52 20.125 \nz\n\" id=\"LiberationSans-66\"/>\n      <path d=\"M 6.6875 64.0625 \nL 6.6875 72.46875 \nL 15.484375 72.46875 \nL 15.484375 64.0625 \nz\nM 6.6875 0 \nL 6.6875 52.828125 \nL 15.484375 52.828125 \nL 15.484375 0 \nz\n\" id=\"LiberationSans-105\"/>\n      <path d=\"M 40.09375 8.5 \nQ 37.640625 3.421875 33.609375 1.21875 \nQ 29.59375 -0.984375 23.640625 -0.984375 \nQ 13.625 -0.984375 8.90625 5.75 \nQ 4.203125 12.5 4.203125 26.171875 \nQ 4.203125 53.8125 23.640625 53.8125 \nQ 29.640625 53.8125 33.640625 51.609375 \nQ 37.640625 49.421875 40.09375 44.625 \nL 40.1875 44.625 \nQ 40.1875 45.125 40.15625 46.171875 \nQ 40.140625 47.21875 40.109375 48.359375 \nQ 40.09375 49.515625 40.09375 50.53125 \nQ 40.09375 51.5625 40.09375 52 \nL 40.09375 72.46875 \nL 48.875 72.46875 \nL 48.875 10.890625 \nQ 48.875 8.984375 48.890625 7.21875 \nQ 48.921875 5.46875 48.96875 4 \nQ 49.03125 2.546875 49.078125 1.484375 \nQ 49.125 0.4375 49.171875 0 \nL 40.765625 0 \nQ 40.671875 0.484375 40.59375 1.390625 \nQ 40.53125 2.296875 40.453125 3.46875 \nQ 40.375 4.640625 40.328125 5.9375 \nQ 40.28125 7.234375 40.28125 8.5 \nz\nM 13.421875 26.46875 \nQ 13.421875 21 14.109375 17.09375 \nQ 14.796875 13.1875 16.3125 10.671875 \nQ 17.828125 8.15625 20.171875 6.984375 \nQ 22.515625 5.8125 25.875 5.8125 \nQ 29.34375 5.8125 32 6.9375 \nQ 34.671875 8.0625 36.453125 10.578125 \nQ 38.234375 13.09375 39.15625 17.140625 \nQ 40.09375 21.1875 40.09375 27.046875 \nQ 40.09375 32.671875 39.15625 36.546875 \nQ 38.234375 40.4375 36.421875 42.828125 \nQ 34.625 45.21875 32 46.265625 \nQ 29.390625 47.3125 25.984375 47.3125 \nQ 22.75 47.3125 20.40625 46.1875 \nQ 18.0625 45.0625 16.5 42.578125 \nQ 14.9375 40.09375 14.171875 36.109375 \nQ 13.421875 32.125 13.421875 26.46875 \nz\n\" id=\"LiberationSans-100\"/>\n      <path id=\"LiberationSans-32\"/>\n      <path d=\"M 51.421875 26.65625 \nQ 51.421875 20.65625 50.4375 15.578125 \nQ 49.46875 10.5 47.1875 6.828125 \nQ 44.921875 3.171875 41.1875 1.09375 \nQ 37.453125 -0.984375 31.984375 -0.984375 \nQ 26.3125 -0.984375 22.0625 1.171875 \nQ 17.828125 3.328125 15.578125 8.203125 \nL 15.328125 8.203125 \nQ 15.375 8.109375 15.40625 7.328125 \nQ 15.4375 6.546875 15.453125 5.375 \nQ 15.484375 4.203125 15.5 2.75 \nQ 15.53125 1.3125 15.53125 -0.09375 \nL 15.53125 -20.75 \nL 6.734375 -20.75 \nL 6.734375 42.046875 \nQ 6.734375 43.953125 6.703125 45.703125 \nQ 6.6875 47.46875 6.640625 48.90625 \nQ 6.59375 50.34375 6.546875 51.359375 \nQ 6.5 52.390625 6.453125 52.828125 \nL 14.9375 52.828125 \nQ 14.984375 52.6875 15.0625 51.796875 \nQ 15.140625 50.921875 15.203125 49.671875 \nQ 15.28125 48.4375 15.359375 47.015625 \nQ 15.4375 45.609375 15.4375 44.34375 \nL 15.625 44.34375 \nQ 16.84375 46.875 18.40625 48.65625 \nQ 19.96875 50.4375 21.96875 51.578125 \nQ 23.96875 52.734375 26.4375 53.25 \nQ 28.90625 53.765625 31.984375 53.765625 \nQ 37.453125 53.765625 41.1875 51.8125 \nQ 44.921875 49.859375 47.1875 46.3125 \nQ 49.46875 42.78125 50.4375 37.765625 \nQ 51.421875 32.765625 51.421875 26.65625 \nz\nM 42.1875 26.46875 \nQ 42.1875 31.34375 41.59375 35.15625 \nQ 41.015625 38.96875 39.578125 41.59375 \nQ 38.140625 44.234375 35.734375 45.59375 \nQ 33.34375 46.96875 29.734375 46.96875 \nQ 26.8125 46.96875 24.21875 46.140625 \nQ 21.625 45.3125 19.703125 42.96875 \nQ 17.78125 40.625 16.65625 36.5 \nQ 15.53125 32.375 15.53125 25.78125 \nQ 15.53125 20.171875 16.453125 16.28125 \nQ 17.390625 12.40625 19.171875 10.015625 \nQ 20.953125 7.625 23.578125 6.5625 \nQ 26.21875 5.515625 29.640625 5.515625 \nQ 33.296875 5.515625 35.71875 6.921875 \nQ 38.140625 8.34375 39.578125 11.03125 \nQ 41.015625 13.71875 41.59375 17.59375 \nQ 42.1875 21.484375 42.1875 26.46875 \nz\n\" id=\"LiberationSans-112\"/>\n      <path d=\"M 6.9375 0 \nL 6.9375 40.53125 \nQ 6.9375 42.1875 6.90625 43.921875 \nQ 6.890625 45.65625 6.828125 47.265625 \nQ 6.78125 48.875 6.734375 50.28125 \nQ 6.6875 51.703125 6.640625 52.828125 \nL 14.9375 52.828125 \nQ 14.984375 51.703125 15.0625 50.265625 \nQ 15.140625 48.828125 15.203125 47.3125 \nQ 15.28125 45.796875 15.296875 44.40625 \nQ 15.328125 43.015625 15.328125 42.046875 \nL 15.53125 42.046875 \nQ 16.453125 45.0625 17.5 47.28125 \nQ 18.5625 49.515625 19.96875 50.953125 \nQ 21.390625 52.390625 23.34375 53.09375 \nQ 25.296875 53.8125 28.078125 53.8125 \nQ 29.15625 53.8125 30.125 53.640625 \nQ 31.109375 53.46875 31.640625 53.328125 \nL 31.640625 45.265625 \nQ 30.765625 45.515625 29.59375 45.625 \nQ 28.421875 45.75 26.953125 45.75 \nQ 23.921875 45.75 21.796875 44.375 \nQ 19.671875 43.015625 18.328125 40.59375 \nQ 17 38.1875 16.359375 34.84375 \nQ 15.71875 31.5 15.71875 27.546875 \nL 15.71875 0 \nz\n\" id=\"LiberationSans-114\"/>\n      <path d=\"M 13.421875 26.65625 \nQ 13.421875 22.125 14.078125 18.3125 \nQ 14.75 14.5 16.3125 11.734375 \nQ 17.875 8.984375 20.4375 7.46875 \nQ 23 5.953125 26.765625 5.953125 \nQ 31.453125 5.953125 34.59375 8.484375 \nQ 37.75 11.03125 38.484375 16.3125 \nL 47.359375 15.71875 \nQ 46.921875 12.453125 45.453125 9.421875 \nQ 44 6.390625 41.484375 4.09375 \nQ 38.96875 1.8125 35.34375 0.40625 \nQ 31.734375 -0.984375 27 -0.984375 \nQ 20.796875 -0.984375 16.453125 1.109375 \nQ 12.109375 3.21875 9.390625 6.90625 \nQ 6.6875 10.59375 5.46875 15.59375 \nQ 4.25 20.609375 4.25 26.46875 \nQ 4.25 31.78125 5.125 35.859375 \nQ 6 39.9375 7.59375 42.984375 \nQ 9.1875 46.046875 11.328125 48.125 \nQ 13.484375 50.203125 15.984375 51.4375 \nQ 18.5 52.6875 21.28125 53.25 \nQ 24.078125 53.8125 26.90625 53.8125 \nQ 31.34375 53.8125 34.8125 52.59375 \nQ 38.28125 51.375 40.796875 49.25 \nQ 43.3125 47.125 44.875 44.234375 \nQ 46.4375 41.359375 47.078125 38.03125 \nL 38.03125 37.359375 \nQ 37.359375 41.75 34.5625 44.328125 \nQ 31.78125 46.921875 26.65625 46.921875 \nQ 22.90625 46.921875 20.390625 45.671875 \nQ 17.875 44.4375 16.3125 41.921875 \nQ 14.75 39.40625 14.078125 35.59375 \nQ 13.421875 31.78125 13.421875 26.65625 \nz\n\" id=\"LiberationSans-99\"/>\n      <path d=\"M 13.484375 24.5625 \nQ 13.484375 20.40625 14.328125 16.90625 \nQ 15.1875 13.421875 16.96875 10.90625 \nQ 18.75 8.40625 21.53125 7 \nQ 24.3125 5.609375 28.21875 5.609375 \nQ 33.9375 5.609375 37.375 7.90625 \nQ 40.828125 10.203125 42.046875 13.71875 \nL 49.75 11.53125 \nQ 48.921875 9.328125 47.4375 7.109375 \nQ 45.953125 4.890625 43.453125 3.09375 \nQ 40.96875 1.3125 37.234375 0.15625 \nQ 33.5 -0.984375 28.21875 -0.984375 \nQ 16.5 -0.984375 10.375 6 \nQ 4.25 12.984375 4.25 26.765625 \nQ 4.25 34.1875 6.09375 39.328125 \nQ 7.953125 44.484375 11.171875 47.703125 \nQ 14.40625 50.921875 18.703125 52.359375 \nQ 23 53.8125 27.875 53.8125 \nQ 34.515625 53.8125 38.984375 51.65625 \nQ 43.453125 49.515625 46.15625 45.71875 \nQ 48.875 41.9375 50.015625 36.8125 \nQ 51.171875 31.6875 51.171875 25.734375 \nL 51.171875 24.5625 \nz\nM 42.09375 31.296875 \nQ 41.359375 39.65625 37.84375 43.484375 \nQ 34.328125 47.3125 27.734375 47.3125 \nQ 25.53125 47.3125 23.109375 46.609375 \nQ 20.703125 45.90625 18.65625 44.09375 \nQ 16.609375 42.28125 15.1875 39.171875 \nQ 13.765625 36.078125 13.578125 31.296875 \nz\n\" id=\"LiberationSans-101\"/>\n     </defs>\n     <g style=\"fill:#262626;\" transform=\"translate(195.856484 264.933437)scale(0.11 -0.11)\">\n      <use xlink:href=\"#LiberationSans-66\"/>\n      <use x=\"66.699219\" xlink:href=\"#LiberationSans-105\"/>\n      <use x=\"88.916016\" xlink:href=\"#LiberationSans-100\"/>\n      <use x=\"144.53125\" xlink:href=\"#LiberationSans-32\"/>\n      <use x=\"172.314453\" xlink:href=\"#LiberationSans-112\"/>\n      <use x=\"227.929688\" xlink:href=\"#LiberationSans-114\"/>\n      <use x=\"261.230469\" xlink:href=\"#LiberationSans-105\"/>\n      <use x=\"283.447266\" xlink:href=\"#LiberationSans-99\"/>\n      <use x=\"333.447266\" xlink:href=\"#LiberationSans-101\"/>\n     </g>\n    </g>\n   </g>\n   <g id=\"matplotlib.axis_2\">\n    <g id=\"ytick_1\">\n     <g id=\"line2d_9\">\n      <defs>\n       <path d=\"M 0 0 \nL -6 0 \n\" id=\"m51f5e63db7\" style=\"stroke:#262626;\"/>\n      </defs>\n      <g>\n       <use style=\"fill:#262626;stroke:#262626;\" x=\"49.854062\" xlink:href=\"#m51f5e63db7\" y=\"199.928276\"/>\n      </g>\n     </g>\n     <g id=\"text_10\">\n      <!-- $\\mathdefault{10^{1}}$ -->\n      <g style=\"fill:#262626;\" transform=\"translate(21.454062 203.551713)scale(0.1 -0.1)\">\n       <use transform=\"translate(0 0.8625)\" xlink:href=\"#LiberationSans-49\"/>\n       <use transform=\"translate(55.615234 0.8625)\" xlink:href=\"#LiberationSans-48\"/>\n       <use transform=\"translate(112.154961 37.842188)scale(0.7)\" xlink:href=\"#LiberationSans-49\"/>\n      </g>\n     </g>\n    </g>\n    <g id=\"ytick_2\">\n     <g id=\"line2d_10\">\n      <g>\n       <use style=\"fill:#262626;stroke:#262626;\" x=\"49.854062\" xlink:href=\"#m51f5e63db7\" y=\"160.094781\"/>\n      </g>\n     </g>\n     <g id=\"text_11\">\n      <!-- $\\mathdefault{10^{2}}$ -->\n      <g style=\"fill:#262626;\" transform=\"translate(21.454062 163.718218)scale(0.1 -0.1)\">\n       <use transform=\"translate(0 0.140625)\" xlink:href=\"#LiberationSans-49\"/>\n       <use transform=\"translate(55.615234 0.140625)\" xlink:href=\"#LiberationSans-48\"/>\n       <use transform=\"translate(112.154961 37.120312)scale(0.7)\" xlink:href=\"#LiberationSans-50\"/>\n      </g>\n     </g>\n    </g>\n    <g id=\"ytick_3\">\n     <g id=\"line2d_11\">\n      <g>\n       <use style=\"fill:#262626;stroke:#262626;\" x=\"49.854062\" xlink:href=\"#m51f5e63db7\" y=\"120.261286\"/>\n      </g>\n     </g>\n     <g id=\"text_12\">\n      <!-- $\\mathdefault{10^{3}}$ -->\n      <defs>\n       <path d=\"M 51.21875 19 \nQ 51.21875 14.265625 49.671875 10.546875 \nQ 48.140625 6.84375 45.1875 4.265625 \nQ 42.234375 1.703125 37.859375 0.359375 \nQ 33.5 -0.984375 27.875 -0.984375 \nQ 21.484375 -0.984375 17.109375 0.609375 \nQ 12.75 2.203125 9.90625 4.8125 \nQ 7.078125 7.421875 5.65625 10.765625 \nQ 4.25 14.109375 3.8125 17.671875 \nL 12.890625 18.5 \nQ 13.28125 15.765625 14.328125 13.515625 \nQ 15.375 11.28125 17.1875 9.671875 \nQ 19 8.0625 21.625 7.171875 \nQ 24.265625 6.296875 27.875 6.296875 \nQ 34.515625 6.296875 38.296875 9.5625 \nQ 42.09375 12.84375 42.09375 19.28125 \nQ 42.09375 23.09375 40.40625 25.40625 \nQ 38.71875 27.734375 36.203125 29.03125 \nQ 33.6875 30.328125 30.734375 30.765625 \nQ 27.78125 31.203125 25.296875 31.203125 \nL 20.3125 31.203125 \nL 20.3125 38.8125 \nL 25.09375 38.8125 \nQ 27.59375 38.8125 30.265625 39.328125 \nQ 32.953125 39.84375 35.171875 41.1875 \nQ 37.40625 42.53125 38.84375 44.828125 \nQ 40.28125 47.125 40.28125 50.6875 \nQ 40.28125 56.203125 37.03125 59.390625 \nQ 33.796875 62.59375 27.390625 62.59375 \nQ 21.578125 62.59375 17.984375 59.609375 \nQ 14.40625 56.640625 13.8125 51.21875 \nL 4.984375 51.90625 \nQ 5.515625 56.453125 7.46875 59.8125 \nQ 9.421875 63.1875 12.421875 65.40625 \nQ 15.4375 67.625 19.28125 68.71875 \nQ 23.140625 69.828125 27.484375 69.828125 \nQ 33.25 69.828125 37.390625 68.375 \nQ 41.546875 66.9375 44.1875 64.46875 \nQ 46.828125 62.015625 48.0625 58.6875 \nQ 49.3125 55.375 49.3125 51.609375 \nQ 49.3125 48.578125 48.484375 45.9375 \nQ 47.65625 43.3125 45.890625 41.203125 \nQ 44.140625 39.109375 41.421875 37.59375 \nQ 38.71875 36.078125 34.90625 35.296875 \nL 34.90625 35.109375 \nQ 39.0625 34.671875 42.140625 33.21875 \nQ 45.21875 31.78125 47.21875 29.625 \nQ 49.21875 27.484375 50.21875 24.75 \nQ 51.21875 22.015625 51.21875 19 \nz\n\" id=\"LiberationSans-51\"/>\n      </defs>\n      <g style=\"fill:#262626;\" transform=\"translate(21.454062 123.884723)scale(0.1 -0.1)\">\n       <use transform=\"translate(0 0.140625)\" xlink:href=\"#LiberationSans-49\"/>\n       <use transform=\"translate(55.615234 0.140625)\" xlink:href=\"#LiberationSans-48\"/>\n       <use transform=\"translate(112.154961 37.120312)scale(0.7)\" xlink:href=\"#LiberationSans-51\"/>\n      </g>\n     </g>\n    </g>\n    <g id=\"ytick_4\">\n     <g id=\"line2d_12\">\n      <g>\n       <use style=\"fill:#262626;stroke:#262626;\" x=\"49.854062\" xlink:href=\"#m51f5e63db7\" y=\"80.42779\"/>\n      </g>\n     </g>\n     <g id=\"text_13\">\n      <!-- $\\mathdefault{10^{4}}$ -->\n      <g style=\"fill:#262626;\" transform=\"translate(21.454062 84.051228)scale(0.1 -0.1)\">\n       <use transform=\"translate(0 0.8625)\" xlink:href=\"#LiberationSans-49\"/>\n       <use transform=\"translate(55.615234 0.8625)\" xlink:href=\"#LiberationSans-48\"/>\n       <use transform=\"translate(112.154961 37.842188)scale(0.7)\" xlink:href=\"#LiberationSans-52\"/>\n      </g>\n     </g>\n    </g>\n    <g id=\"ytick_5\">\n     <g id=\"line2d_13\">\n      <g>\n       <use style=\"fill:#262626;stroke:#262626;\" x=\"49.854062\" xlink:href=\"#m51f5e63db7\" y=\"40.594295\"/>\n      </g>\n     </g>\n     <g id=\"text_14\">\n      <!-- $\\mathdefault{10^{5}}$ -->\n      <defs>\n       <path d=\"M 51.421875 22.40625 \nQ 51.421875 17.234375 49.859375 12.9375 \nQ 48.296875 8.640625 45.21875 5.53125 \nQ 42.140625 2.4375 37.578125 0.71875 \nQ 33.015625 -0.984375 27 -0.984375 \nQ 21.578125 -0.984375 17.546875 0.28125 \nQ 13.53125 1.5625 10.734375 3.78125 \nQ 7.953125 6 6.3125 8.984375 \nQ 4.6875 11.96875 4 15.375 \nL 12.890625 16.40625 \nQ 13.421875 14.453125 14.390625 12.625 \nQ 15.375 10.796875 17.0625 9.34375 \nQ 18.75 7.90625 21.21875 7.046875 \nQ 23.6875 6.203125 27.203125 6.203125 \nQ 30.609375 6.203125 33.390625 7.25 \nQ 36.1875 8.296875 38.15625 10.34375 \nQ 40.140625 12.40625 41.203125 15.375 \nQ 42.28125 18.359375 42.28125 22.21875 \nQ 42.28125 25.390625 41.25 28.046875 \nQ 40.234375 30.71875 38.328125 32.640625 \nQ 36.421875 34.578125 33.65625 35.640625 \nQ 30.90625 36.71875 27.390625 36.71875 \nQ 25.203125 36.71875 23.34375 36.328125 \nQ 21.484375 35.9375 19.890625 35.25 \nQ 18.3125 34.578125 17.015625 33.671875 \nQ 15.71875 32.765625 14.59375 31.78125 \nL 6 31.78125 \nL 8.296875 68.796875 \nL 47.40625 68.796875 \nL 47.40625 61.328125 \nL 16.3125 61.328125 \nL 14.984375 39.5 \nQ 17.328125 41.3125 20.84375 42.59375 \nQ 24.359375 43.890625 29.203125 43.890625 \nQ 34.328125 43.890625 38.421875 42.328125 \nQ 42.53125 40.765625 45.40625 37.90625 \nQ 48.296875 35.0625 49.859375 31.109375 \nQ 51.421875 27.15625 51.421875 22.40625 \nz\n\" id=\"LiberationSans-53\"/>\n      </defs>\n      <g style=\"fill:#262626;\" transform=\"translate(21.454062 44.217733)scale(0.1 -0.1)\">\n       <use transform=\"translate(0 0.8625)\" xlink:href=\"#LiberationSans-49\"/>\n       <use transform=\"translate(55.615234 0.8625)\" xlink:href=\"#LiberationSans-48\"/>\n       <use transform=\"translate(112.154961 37.842188)scale(0.7)\" xlink:href=\"#LiberationSans-53\"/>\n      </g>\n     </g>\n    </g>\n    <g id=\"ytick_6\">\n     <g id=\"line2d_14\">\n      <defs>\n       <path d=\"M 0 0 \nL -3 0 \n\" id=\"ma8a90fa283\" style=\"stroke:#262626;stroke-width:0.5;\"/>\n      </defs>\n      <g>\n       <use style=\"fill:#262626;stroke:#262626;stroke-width:0.5;\" x=\"49.854062\" xlink:href=\"#ma8a90fa283\" y=\"227.770694\"/>\n      </g>\n     </g>\n    </g>\n    <g id=\"ytick_7\">\n     <g id=\"line2d_15\">\n      <g>\n       <use style=\"fill:#262626;stroke:#262626;stroke-width:0.5;\" x=\"49.854062\" xlink:href=\"#ma8a90fa283\" y=\"220.756364\"/>\n      </g>\n     </g>\n    </g>\n    <g id=\"ytick_8\">\n     <g id=\"line2d_16\">\n      <g>\n       <use style=\"fill:#262626;stroke:#262626;stroke-width:0.5;\" x=\"49.854062\" xlink:href=\"#ma8a90fa283\" y=\"215.779617\"/>\n      </g>\n     </g>\n    </g>\n    <g id=\"ytick_9\">\n     <g id=\"line2d_17\">\n      <g>\n       <use style=\"fill:#262626;stroke:#262626;stroke-width:0.5;\" x=\"49.854062\" xlink:href=\"#ma8a90fa283\" y=\"211.919353\"/>\n      </g>\n     </g>\n    </g>\n    <g id=\"ytick_10\">\n     <g id=\"line2d_18\">\n      <g>\n       <use style=\"fill:#262626;stroke:#262626;stroke-width:0.5;\" x=\"49.854062\" xlink:href=\"#ma8a90fa283\" y=\"208.765287\"/>\n      </g>\n     </g>\n    </g>\n    <g id=\"ytick_11\">\n     <g id=\"line2d_19\">\n      <g>\n       <use style=\"fill:#262626;stroke:#262626;stroke-width:0.5;\" x=\"49.854062\" xlink:href=\"#ma8a90fa283\" y=\"206.098562\"/>\n      </g>\n     </g>\n    </g>\n    <g id=\"ytick_12\">\n     <g id=\"line2d_20\">\n      <g>\n       <use style=\"fill:#262626;stroke:#262626;stroke-width:0.5;\" x=\"49.854062\" xlink:href=\"#ma8a90fa283\" y=\"203.78854\"/>\n      </g>\n     </g>\n    </g>\n    <g id=\"ytick_13\">\n     <g id=\"line2d_21\">\n      <g>\n       <use style=\"fill:#262626;stroke:#262626;stroke-width:0.5;\" x=\"49.854062\" xlink:href=\"#ma8a90fa283\" y=\"201.750956\"/>\n      </g>\n     </g>\n    </g>\n    <g id=\"ytick_14\">\n     <g id=\"line2d_22\">\n      <g>\n       <use style=\"fill:#262626;stroke:#262626;stroke-width:0.5;\" x=\"49.854062\" xlink:href=\"#ma8a90fa283\" y=\"187.937199\"/>\n      </g>\n     </g>\n    </g>\n    <g id=\"ytick_15\">\n     <g id=\"line2d_23\">\n      <g>\n       <use style=\"fill:#262626;stroke:#262626;stroke-width:0.5;\" x=\"49.854062\" xlink:href=\"#ma8a90fa283\" y=\"180.922869\"/>\n      </g>\n     </g>\n    </g>\n    <g id=\"ytick_16\">\n     <g id=\"line2d_24\">\n      <g>\n       <use style=\"fill:#262626;stroke:#262626;stroke-width:0.5;\" x=\"49.854062\" xlink:href=\"#ma8a90fa283\" y=\"175.946122\"/>\n      </g>\n     </g>\n    </g>\n    <g id=\"ytick_17\">\n     <g id=\"line2d_25\">\n      <g>\n       <use style=\"fill:#262626;stroke:#262626;stroke-width:0.5;\" x=\"49.854062\" xlink:href=\"#ma8a90fa283\" y=\"172.085857\"/>\n      </g>\n     </g>\n    </g>\n    <g id=\"ytick_18\">\n     <g id=\"line2d_26\">\n      <g>\n       <use style=\"fill:#262626;stroke:#262626;stroke-width:0.5;\" x=\"49.854062\" xlink:href=\"#ma8a90fa283\" y=\"168.931792\"/>\n      </g>\n     </g>\n    </g>\n    <g id=\"ytick_19\">\n     <g id=\"line2d_27\">\n      <g>\n       <use style=\"fill:#262626;stroke:#262626;stroke-width:0.5;\" x=\"49.854062\" xlink:href=\"#ma8a90fa283\" y=\"166.265067\"/>\n      </g>\n     </g>\n    </g>\n    <g id=\"ytick_20\">\n     <g id=\"line2d_28\">\n      <g>\n       <use style=\"fill:#262626;stroke:#262626;stroke-width:0.5;\" x=\"49.854062\" xlink:href=\"#ma8a90fa283\" y=\"163.955045\"/>\n      </g>\n     </g>\n    </g>\n    <g id=\"ytick_21\">\n     <g id=\"line2d_29\">\n      <g>\n       <use style=\"fill:#262626;stroke:#262626;stroke-width:0.5;\" x=\"49.854062\" xlink:href=\"#ma8a90fa283\" y=\"161.917461\"/>\n      </g>\n     </g>\n    </g>\n    <g id=\"ytick_22\">\n     <g id=\"line2d_30\">\n      <g>\n       <use style=\"fill:#262626;stroke:#262626;stroke-width:0.5;\" x=\"49.854062\" xlink:href=\"#ma8a90fa283\" y=\"148.103704\"/>\n      </g>\n     </g>\n    </g>\n    <g id=\"ytick_23\">\n     <g id=\"line2d_31\">\n      <g>\n       <use style=\"fill:#262626;stroke:#262626;stroke-width:0.5;\" x=\"49.854062\" xlink:href=\"#ma8a90fa283\" y=\"141.089373\"/>\n      </g>\n     </g>\n    </g>\n    <g id=\"ytick_24\">\n     <g id=\"line2d_32\">\n      <g>\n       <use style=\"fill:#262626;stroke:#262626;stroke-width:0.5;\" x=\"49.854062\" xlink:href=\"#ma8a90fa283\" y=\"136.112627\"/>\n      </g>\n     </g>\n    </g>\n    <g id=\"ytick_25\">\n     <g id=\"line2d_33\">\n      <g>\n       <use style=\"fill:#262626;stroke:#262626;stroke-width:0.5;\" x=\"49.854062\" xlink:href=\"#ma8a90fa283\" y=\"132.252362\"/>\n      </g>\n     </g>\n    </g>\n    <g id=\"ytick_26\">\n     <g id=\"line2d_34\">\n      <g>\n       <use style=\"fill:#262626;stroke:#262626;stroke-width:0.5;\" x=\"49.854062\" xlink:href=\"#ma8a90fa283\" y=\"129.098297\"/>\n      </g>\n     </g>\n    </g>\n    <g id=\"ytick_27\">\n     <g id=\"line2d_35\">\n      <g>\n       <use style=\"fill:#262626;stroke:#262626;stroke-width:0.5;\" x=\"49.854062\" xlink:href=\"#ma8a90fa283\" y=\"126.431572\"/>\n      </g>\n     </g>\n    </g>\n    <g id=\"ytick_28\">\n     <g id=\"line2d_36\">\n      <g>\n       <use style=\"fill:#262626;stroke:#262626;stroke-width:0.5;\" x=\"49.854062\" xlink:href=\"#ma8a90fa283\" y=\"124.12155\"/>\n      </g>\n     </g>\n    </g>\n    <g id=\"ytick_29\">\n     <g id=\"line2d_37\">\n      <g>\n       <use style=\"fill:#262626;stroke:#262626;stroke-width:0.5;\" x=\"49.854062\" xlink:href=\"#ma8a90fa283\" y=\"122.083966\"/>\n      </g>\n     </g>\n    </g>\n    <g id=\"ytick_30\">\n     <g id=\"line2d_38\">\n      <g>\n       <use style=\"fill:#262626;stroke:#262626;stroke-width:0.5;\" x=\"49.854062\" xlink:href=\"#ma8a90fa283\" y=\"108.270209\"/>\n      </g>\n     </g>\n    </g>\n    <g id=\"ytick_31\">\n     <g id=\"line2d_39\">\n      <g>\n       <use style=\"fill:#262626;stroke:#262626;stroke-width:0.5;\" x=\"49.854062\" xlink:href=\"#ma8a90fa283\" y=\"101.255878\"/>\n      </g>\n     </g>\n    </g>\n    <g id=\"ytick_32\">\n     <g id=\"line2d_40\">\n      <g>\n       <use style=\"fill:#262626;stroke:#262626;stroke-width:0.5;\" x=\"49.854062\" xlink:href=\"#ma8a90fa283\" y=\"96.279132\"/>\n      </g>\n     </g>\n    </g>\n    <g id=\"ytick_33\">\n     <g id=\"line2d_41\">\n      <g>\n       <use style=\"fill:#262626;stroke:#262626;stroke-width:0.5;\" x=\"49.854062\" xlink:href=\"#ma8a90fa283\" y=\"92.418867\"/>\n      </g>\n     </g>\n    </g>\n    <g id=\"ytick_34\">\n     <g id=\"line2d_42\">\n      <g>\n       <use style=\"fill:#262626;stroke:#262626;stroke-width:0.5;\" x=\"49.854062\" xlink:href=\"#ma8a90fa283\" y=\"89.264802\"/>\n      </g>\n     </g>\n    </g>\n    <g id=\"ytick_35\">\n     <g id=\"line2d_43\">\n      <g>\n       <use style=\"fill:#262626;stroke:#262626;stroke-width:0.5;\" x=\"49.854062\" xlink:href=\"#ma8a90fa283\" y=\"86.598077\"/>\n      </g>\n     </g>\n    </g>\n    <g id=\"ytick_36\">\n     <g id=\"line2d_44\">\n      <g>\n       <use style=\"fill:#262626;stroke:#262626;stroke-width:0.5;\" x=\"49.854062\" xlink:href=\"#ma8a90fa283\" y=\"84.288055\"/>\n      </g>\n     </g>\n    </g>\n    <g id=\"ytick_37\">\n     <g id=\"line2d_45\">\n      <g>\n       <use style=\"fill:#262626;stroke:#262626;stroke-width:0.5;\" x=\"49.854062\" xlink:href=\"#ma8a90fa283\" y=\"82.250471\"/>\n      </g>\n     </g>\n    </g>\n    <g id=\"ytick_38\">\n     <g id=\"line2d_46\">\n      <g>\n       <use style=\"fill:#262626;stroke:#262626;stroke-width:0.5;\" x=\"49.854062\" xlink:href=\"#ma8a90fa283\" y=\"68.436714\"/>\n      </g>\n     </g>\n    </g>\n    <g id=\"ytick_39\">\n     <g id=\"line2d_47\">\n      <g>\n       <use style=\"fill:#262626;stroke:#262626;stroke-width:0.5;\" x=\"49.854062\" xlink:href=\"#ma8a90fa283\" y=\"61.422383\"/>\n      </g>\n     </g>\n    </g>\n    <g id=\"ytick_40\">\n     <g id=\"line2d_48\">\n      <g>\n       <use style=\"fill:#262626;stroke:#262626;stroke-width:0.5;\" x=\"49.854062\" xlink:href=\"#ma8a90fa283\" y=\"56.445637\"/>\n      </g>\n     </g>\n    </g>\n    <g id=\"ytick_41\">\n     <g id=\"line2d_49\">\n      <g>\n       <use style=\"fill:#262626;stroke:#262626;stroke-width:0.5;\" x=\"49.854062\" xlink:href=\"#ma8a90fa283\" y=\"52.585372\"/>\n      </g>\n     </g>\n    </g>\n    <g id=\"ytick_42\">\n     <g id=\"line2d_50\">\n      <g>\n       <use style=\"fill:#262626;stroke:#262626;stroke-width:0.5;\" x=\"49.854062\" xlink:href=\"#ma8a90fa283\" y=\"49.431306\"/>\n      </g>\n     </g>\n    </g>\n    <g id=\"ytick_43\">\n     <g id=\"line2d_51\">\n      <g>\n       <use style=\"fill:#262626;stroke:#262626;stroke-width:0.5;\" x=\"49.854062\" xlink:href=\"#ma8a90fa283\" y=\"46.764582\"/>\n      </g>\n     </g>\n    </g>\n    <g id=\"ytick_44\">\n     <g id=\"line2d_52\">\n      <g>\n       <use style=\"fill:#262626;stroke:#262626;stroke-width:0.5;\" x=\"49.854062\" xlink:href=\"#ma8a90fa283\" y=\"44.45456\"/>\n      </g>\n     </g>\n    </g>\n    <g id=\"ytick_45\">\n     <g id=\"line2d_53\">\n      <g>\n       <use style=\"fill:#262626;stroke:#262626;stroke-width:0.5;\" x=\"49.854062\" xlink:href=\"#ma8a90fa283\" y=\"42.416976\"/>\n      </g>\n     </g>\n    </g>\n    <g id=\"ytick_46\">\n     <g id=\"line2d_54\">\n      <g>\n       <use style=\"fill:#262626;stroke:#262626;stroke-width:0.5;\" x=\"49.854062\" xlink:href=\"#ma8a90fa283\" y=\"28.603219\"/>\n      </g>\n     </g>\n    </g>\n    <g id=\"ytick_47\">\n     <g id=\"line2d_55\">\n      <g>\n       <use style=\"fill:#262626;stroke:#262626;stroke-width:0.5;\" x=\"49.854062\" xlink:href=\"#ma8a90fa283\" y=\"21.588888\"/>\n      </g>\n     </g>\n    </g>\n    <g id=\"ytick_48\">\n     <g id=\"line2d_56\">\n      <g>\n       <use style=\"fill:#262626;stroke:#262626;stroke-width:0.5;\" x=\"49.854062\" xlink:href=\"#ma8a90fa283\" y=\"16.612142\"/>\n      </g>\n     </g>\n    </g>\n    <g id=\"ytick_49\">\n     <g id=\"line2d_57\">\n      <g>\n       <use style=\"fill:#262626;stroke:#262626;stroke-width:0.5;\" x=\"49.854062\" xlink:href=\"#ma8a90fa283\" y=\"12.751877\"/>\n      </g>\n     </g>\n    </g>\n    <g id=\"text_15\">\n     <!-- Frequency -->\n     <defs>\n      <path d=\"M 17.53125 61.1875 \nL 17.53125 35.59375 \nL 55.90625 35.59375 \nL 55.90625 27.875 \nL 17.53125 27.875 \nL 17.53125 0 \nL 8.203125 0 \nL 8.203125 68.796875 \nL 57.078125 68.796875 \nL 57.078125 61.1875 \nz\n\" id=\"LiberationSans-70\"/>\n      <path d=\"M 23.640625 -0.984375 \nQ 13.578125 -0.984375 8.890625 5.796875 \nQ 4.203125 12.59375 4.203125 26.171875 \nQ 4.203125 39.9375 9 46.875 \nQ 13.8125 53.8125 23.640625 53.8125 \nQ 26.90625 53.8125 29.421875 53.21875 \nQ 31.9375 52.640625 33.90625 51.484375 \nQ 35.890625 50.34375 37.375 48.625 \nQ 38.875 46.921875 40.09375 44.625 \nL 40.1875 44.625 \nQ 40.1875 45.84375 40.25 47.328125 \nQ 40.328125 48.828125 40.40625 50.140625 \nQ 40.484375 51.46875 40.578125 52.421875 \nQ 40.671875 53.375 40.765625 53.515625 \nL 49.21875 53.515625 \nQ 49.125 52.6875 49 49.171875 \nQ 48.875 45.65625 48.875 39.109375 \nL 48.875 -20.75 \nL 40.09375 -20.75 \nL 40.09375 0.6875 \nQ 40.09375 1.953125 40.109375 3.3125 \nQ 40.140625 4.6875 40.1875 5.90625 \nQ 40.234375 7.28125 40.28125 8.6875 \nL 40.1875 8.6875 \nQ 38.921875 6.203125 37.375 4.375 \nQ 35.84375 2.546875 33.84375 1.34375 \nQ 31.84375 0.140625 29.328125 -0.421875 \nQ 26.8125 -0.984375 23.640625 -0.984375 \nz\nM 40.09375 27.046875 \nQ 40.09375 32.8125 39.09375 36.71875 \nQ 38.09375 40.625 36.25 42.96875 \nQ 34.421875 45.3125 31.8125 46.3125 \nQ 29.203125 47.3125 25.984375 47.3125 \nQ 22.609375 47.3125 20.21875 46.0625 \nQ 17.828125 44.828125 16.328125 42.265625 \nQ 14.84375 39.703125 14.125 35.765625 \nQ 13.421875 31.84375 13.421875 26.46875 \nQ 13.421875 21.1875 14.078125 17.28125 \nQ 14.75 13.375 16.234375 10.828125 \nQ 17.71875 8.296875 20.09375 7.046875 \nQ 22.46875 5.8125 25.875 5.8125 \nQ 28.8125 5.8125 31.390625 6.71875 \nQ 33.984375 7.625 35.90625 9.984375 \nQ 37.84375 12.359375 38.96875 16.484375 \nQ 40.09375 20.609375 40.09375 27.046875 \nz\n\" id=\"LiberationSans-113\"/>\n      <path d=\"M 15.328125 52.828125 \nL 15.328125 19.34375 \nQ 15.328125 15.484375 15.890625 12.890625 \nQ 16.453125 10.296875 17.71875 8.703125 \nQ 19 7.125 21.0625 6.46875 \nQ 23.140625 5.8125 26.21875 5.8125 \nQ 29.34375 5.8125 31.859375 6.90625 \nQ 34.375 8.015625 36.15625 10.078125 \nQ 37.9375 12.15625 38.90625 15.203125 \nQ 39.890625 18.265625 39.890625 22.21875 \nL 39.890625 52.828125 \nL 48.6875 52.828125 \nL 48.6875 11.28125 \nQ 48.6875 9.625 48.703125 7.78125 \nQ 48.734375 5.953125 48.78125 4.3125 \nQ 48.828125 2.6875 48.875 1.515625 \nQ 48.921875 0.34375 48.96875 0 \nL 40.671875 0 \nQ 40.625 0.25 40.578125 1.3125 \nQ 40.53125 2.390625 40.453125 3.78125 \nQ 40.375 5.171875 40.328125 6.609375 \nQ 40.28125 8.0625 40.28125 9.03125 \nL 40.140625 9.03125 \nQ 38.875 6.734375 37.359375 4.875 \nQ 35.84375 3.03125 33.84375 1.734375 \nQ 31.84375 0.4375 29.25 -0.265625 \nQ 26.65625 -0.984375 23.25 -0.984375 \nQ 18.84375 -0.984375 15.671875 0.09375 \nQ 12.5 1.171875 10.453125 3.421875 \nQ 8.40625 5.671875 7.453125 9.1875 \nQ 6.5 12.703125 6.5 17.625 \nL 6.5 52.828125 \nz\n\" id=\"LiberationSans-117\"/>\n      <path d=\"M 40.28125 0 \nL 40.28125 33.5 \nQ 40.28125 37.359375 39.71875 39.9375 \nQ 39.15625 42.53125 37.890625 44.109375 \nQ 36.625 45.703125 34.546875 46.359375 \nQ 32.46875 47.015625 29.390625 47.015625 \nQ 26.265625 47.015625 23.75 45.921875 \nQ 21.234375 44.828125 19.453125 42.75 \nQ 17.671875 40.671875 16.6875 37.625 \nQ 15.71875 34.578125 15.71875 30.609375 \nL 15.71875 0 \nL 6.9375 0 \nL 6.9375 41.546875 \nQ 6.9375 43.21875 6.90625 45.046875 \nQ 6.890625 46.875 6.828125 48.5 \nQ 6.78125 50.140625 6.734375 51.3125 \nQ 6.6875 52.484375 6.640625 52.828125 \nL 14.9375 52.828125 \nQ 14.984375 52.59375 15.03125 51.515625 \nQ 15.09375 50.4375 15.15625 49.046875 \nQ 15.234375 47.65625 15.28125 46.21875 \nQ 15.328125 44.78125 15.328125 43.796875 \nL 15.484375 43.796875 \nQ 16.75 46.09375 18.265625 47.953125 \nQ 19.78125 49.8125 21.78125 51.09375 \nQ 23.78125 52.390625 26.359375 53.09375 \nQ 28.953125 53.8125 32.375 53.8125 \nQ 36.765625 53.8125 39.9375 52.734375 \nQ 43.109375 51.65625 45.15625 49.40625 \nQ 47.21875 47.171875 48.171875 43.625 \nQ 49.125 40.09375 49.125 35.203125 \nL 49.125 0 \nz\n\" id=\"LiberationSans-110\"/>\n      <path d=\"M 29.5 0 \nQ 27.640625 -4.78125 25.703125 -8.609375 \nQ 23.78125 -12.453125 21.390625 -15.15625 \nQ 19 -17.875 16.0625 -19.3125 \nQ 13.140625 -20.75 9.328125 -20.75 \nQ 7.671875 -20.75 6.25 -20.65625 \nQ 4.828125 -20.5625 3.265625 -20.21875 \nL 3.265625 -13.625 \nQ 4.203125 -13.765625 5.375 -13.84375 \nQ 6.546875 -13.921875 7.375 -13.921875 \nQ 11.234375 -13.921875 14.546875 -11.03125 \nQ 17.875 -8.15625 20.359375 -1.859375 \nL 21.1875 0.25 \nL 0.25 52.828125 \nL 9.625 52.828125 \nL 20.75 23.640625 \nQ 21.234375 22.3125 21.984375 20.109375 \nQ 22.75 17.921875 23.5 15.71875 \nQ 24.265625 13.53125 24.84375 11.765625 \nQ 25.4375 10.015625 25.53125 9.578125 \nQ 25.6875 10.109375 26.25 11.6875 \nQ 26.8125 13.28125 27.515625 15.234375 \nQ 28.21875 17.1875 28.953125 19.1875 \nQ 29.6875 21.1875 30.171875 22.65625 \nL 40.53125 52.828125 \nL 49.8125 52.828125 \nz\n\" id=\"LiberationSans-121\"/>\n     </defs>\n     <g style=\"fill:#262626;\" transform=\"translate(15.171562 147.903203)rotate(-90)scale(0.11 -0.11)\">\n      <use xlink:href=\"#LiberationSans-70\"/>\n      <use x=\"61.083984\" xlink:href=\"#LiberationSans-114\"/>\n      <use x=\"94.384766\" xlink:href=\"#LiberationSans-101\"/>\n      <use x=\"150\" xlink:href=\"#LiberationSans-113\"/>\n      <use x=\"205.615234\" xlink:href=\"#LiberationSans-117\"/>\n      <use x=\"261.230469\" xlink:href=\"#LiberationSans-101\"/>\n      <use x=\"316.845703\" xlink:href=\"#LiberationSans-110\"/>\n      <use x=\"372.460938\" xlink:href=\"#LiberationSans-99\"/>\n      <use x=\"422.460938\" xlink:href=\"#LiberationSans-121\"/>\n     </g>\n    </g>\n   </g>\n   <g id=\"patch_3\">\n    <path clip-path=\"url(#p272471d05a)\" d=\"M 65.072244 40073.256855 \nL 68.115881 40073.256855 \nL 68.115881 23.083636 \nL 65.072244 23.083636 \nz\n\" style=\"fill:#4c72b0;opacity:0.4;\"/>\n   </g>\n   <g id=\"patch_4\">\n    <path clip-path=\"url(#p272471d05a)\" d=\"M 68.115881 40073.256855 \nL 71.159517 40073.256855 \nL 71.159517 82.936659 \nL 68.115881 82.936659 \nz\n\" style=\"fill:#4c72b0;opacity:0.4;\"/>\n   </g>\n   <g id=\"patch_5\">\n    <path clip-path=\"url(#p272471d05a)\" d=\"M 71.159517 40073.256855 \nL 74.203153 40073.256855 \nL 74.203153 96.544981 \nL 71.159517 96.544981 \nz\n\" style=\"fill:#4c72b0;opacity:0.4;\"/>\n   </g>\n   <g id=\"patch_6\">\n    <path clip-path=\"url(#p272471d05a)\" d=\"M 74.203153 40073.256855 \nL 77.24679 40073.256855 \nL 77.24679 104.823106 \nL 74.203153 104.823106 \nz\n\" style=\"fill:#4c72b0;opacity:0.4;\"/>\n   </g>\n   <g id=\"patch_7\">\n    <path clip-path=\"url(#p272471d05a)\" d=\"M 77.24679 40073.256855 \nL 80.290426 40073.256855 \nL 80.290426 110.799088 \nL 77.24679 110.799088 \nz\n\" style=\"fill:#4c72b0;opacity:0.4;\"/>\n   </g>\n   <g id=\"patch_8\">\n    <path clip-path=\"url(#p272471d05a)\" d=\"M 80.290426 40073.256855 \nL 83.334063 40073.256855 \nL 83.334063 115.393 \nL 80.290426 115.393 \nz\n\" style=\"fill:#4c72b0;opacity:0.4;\"/>\n   </g>\n   <g id=\"patch_9\">\n    <path clip-path=\"url(#p272471d05a)\" d=\"M 83.334063 40073.256855 \nL 86.377699 40073.256855 \nL 86.377699 119.417242 \nL 83.334063 119.417242 \nz\n\" style=\"fill:#4c72b0;opacity:0.4;\"/>\n   </g>\n   <g id=\"patch_10\">\n    <path clip-path=\"url(#p272471d05a)\" d=\"M 86.377699 40073.256855 \nL 89.421335 40073.256855 \nL 89.421335 123.236366 \nL 86.377699 123.236366 \nz\n\" style=\"fill:#4c72b0;opacity:0.4;\"/>\n   </g>\n   <g id=\"patch_11\">\n    <path clip-path=\"url(#p272471d05a)\" d=\"M 89.421335 40073.256855 \nL 92.464972 40073.256855 \nL 92.464972 126.781068 \nL 89.421335 126.781068 \nz\n\" style=\"fill:#4c72b0;opacity:0.4;\"/>\n   </g>\n   <g id=\"patch_12\">\n    <path clip-path=\"url(#p272471d05a)\" d=\"M 92.464972 40073.256855 \nL 95.508608 40073.256855 \nL 95.508608 129.156058 \nL 92.464972 129.156058 \nz\n\" style=\"fill:#4c72b0;opacity:0.4;\"/>\n   </g>\n   <g id=\"patch_13\">\n    <path clip-path=\"url(#p272471d05a)\" d=\"M 95.508608 40073.256855 \nL 98.552244 40073.256855 \nL 98.552244 130.572122 \nL 95.508608 130.572122 \nz\n\" style=\"fill:#4c72b0;opacity:0.4;\"/>\n   </g>\n   <g id=\"patch_14\">\n    <path clip-path=\"url(#p272471d05a)\" d=\"M 98.552244 40073.256855 \nL 101.595881 40073.256855 \nL 101.595881 134.781242 \nL 98.552244 134.781242 \nz\n\" style=\"fill:#4c72b0;opacity:0.4;\"/>\n   </g>\n   <g id=\"patch_15\">\n    <path clip-path=\"url(#p272471d05a)\" d=\"M 101.595881 40073.256855 \nL 104.639517 40073.256855 \nL 104.639517 135.983365 \nL 101.595881 135.983365 \nz\n\" style=\"fill:#4c72b0;opacity:0.4;\"/>\n   </g>\n   <g id=\"patch_16\">\n    <path clip-path=\"url(#p272471d05a)\" d=\"M 104.639517 40073.256855 \nL 107.683153 40073.256855 \nL 107.683153 136.728958 \nL 104.639517 136.728958 \nz\n\" style=\"fill:#4c72b0;opacity:0.4;\"/>\n   </g>\n   <g id=\"patch_17\">\n    <path clip-path=\"url(#p272471d05a)\" d=\"M 107.683153 40073.256855 \nL 110.72679 40073.256855 \nL 110.72679 138.226062 \nL 107.683153 138.226062 \nz\n\" style=\"fill:#4c72b0;opacity:0.4;\"/>\n   </g>\n   <g id=\"patch_18\">\n    <path clip-path=\"url(#p272471d05a)\" d=\"M 110.72679 40073.256855 \nL 113.770426 40073.256855 \nL 113.770426 139.180411 \nL 110.72679 139.180411 \nz\n\" style=\"fill:#4c72b0;opacity:0.4;\"/>\n   </g>\n   <g id=\"patch_19\">\n    <path clip-path=\"url(#p272471d05a)\" d=\"M 113.770426 40073.256855 \nL 116.814063 40073.256855 \nL 116.814063 142.098548 \nL 113.770426 142.098548 \nz\n\" style=\"fill:#4c72b0;opacity:0.4;\"/>\n   </g>\n   <g id=\"patch_20\">\n    <path clip-path=\"url(#p272471d05a)\" d=\"M 116.814063 40073.256855 \nL 119.857699 40073.256855 \nL 119.857699 142.976245 \nL 116.814063 142.976245 \nz\n\" style=\"fill:#4c72b0;opacity:0.4;\"/>\n   </g>\n   <g id=\"patch_21\">\n    <path clip-path=\"url(#p272471d05a)\" d=\"M 119.857699 40073.256855 \nL 122.901335 40073.256855 \nL 122.901335 141.43887 \nL 119.857699 141.43887 \nz\n\" style=\"fill:#4c72b0;opacity:0.4;\"/>\n   </g>\n   <g id=\"patch_22\">\n    <path clip-path=\"url(#p272471d05a)\" d=\"M 122.901335 40073.256855 \nL 125.944972 40073.256855 \nL 125.944972 144.734735 \nL 122.901335 144.734735 \nz\n\" style=\"fill:#4c72b0;opacity:0.4;\"/>\n   </g>\n   <g id=\"patch_23\">\n    <path clip-path=\"url(#p272471d05a)\" d=\"M 125.944972 40073.256855 \nL 128.988608 40073.256855 \nL 128.988608 144.522469 \nL 125.944972 144.522469 \nz\n\" style=\"fill:#4c72b0;opacity:0.4;\"/>\n   </g>\n   <g id=\"patch_24\">\n    <path clip-path=\"url(#p272471d05a)\" d=\"M 128.988608 40073.256855 \nL 132.032244 40073.256855 \nL 132.032244 146.06612 \nL 128.988608 146.06612 \nz\n\" style=\"fill:#4c72b0;opacity:0.4;\"/>\n   </g>\n   <g id=\"patch_25\">\n    <path clip-path=\"url(#p272471d05a)\" d=\"M 132.032244 40073.256855 \nL 135.075881 40073.256855 \nL 135.075881 151.749065 \nL 132.032244 151.749065 \nz\n\" style=\"fill:#4c72b0;opacity:0.4;\"/>\n   </g>\n   <g id=\"patch_26\">\n    <path clip-path=\"url(#p272471d05a)\" d=\"M 135.075881 40073.256855 \nL 138.119517 40073.256855 \nL 138.119517 148.365162 \nL 135.075881 148.365162 \nz\n\" style=\"fill:#4c72b0;opacity:0.4;\"/>\n   </g>\n   <g id=\"patch_27\">\n    <path clip-path=\"url(#p272471d05a)\" d=\"M 138.119517 40073.256855 \nL 141.163153 40073.256855 \nL 141.163153 150.612572 \nL 138.119517 150.612572 \nz\n\" style=\"fill:#4c72b0;opacity:0.4;\"/>\n   </g>\n   <g id=\"patch_28\">\n    <path clip-path=\"url(#p272471d05a)\" d=\"M 141.163153 40073.256855 \nL 144.20679 40073.256855 \nL 144.20679 150.315153 \nL 141.163153 150.315153 \nz\n\" style=\"fill:#4c72b0;opacity:0.4;\"/>\n   </g>\n   <g id=\"patch_29\">\n    <path clip-path=\"url(#p272471d05a)\" d=\"M 144.20679 40073.256855 \nL 147.250426 40073.256855 \nL 147.250426 151.017257 \nL 144.20679 151.017257 \nz\n\" style=\"fill:#4c72b0;opacity:0.4;\"/>\n   </g>\n   <g id=\"patch_30\">\n    <path clip-path=\"url(#p272471d05a)\" d=\"M 147.250426 40073.256855 \nL 150.294063 40073.256855 \nL 150.294063 149.452397 \nL 147.250426 149.452397 \nz\n\" style=\"fill:#4c72b0;opacity:0.4;\"/>\n   </g>\n   <g id=\"patch_31\">\n    <path clip-path=\"url(#p272471d05a)\" d=\"M 150.294063 40073.256855 \nL 153.337699 40073.256855 \nL 153.337699 152.401953 \nL 150.294063 152.401953 \nz\n\" style=\"fill:#4c72b0;opacity:0.4;\"/>\n   </g>\n   <g id=\"patch_32\">\n    <path clip-path=\"url(#p272471d05a)\" d=\"M 153.337699 40073.256855 \nL 156.381335 40073.256855 \nL 156.381335 155.689606 \nL 153.337699 155.689606 \nz\n\" style=\"fill:#4c72b0;opacity:0.4;\"/>\n   </g>\n   <g id=\"patch_33\">\n    <path clip-path=\"url(#p272471d05a)\" d=\"M 156.381335 40073.256855 \nL 159.424972 40073.256855 \nL 159.424972 154.648723 \nL 156.381335 154.648723 \nz\n\" style=\"fill:#4c72b0;opacity:0.4;\"/>\n   </g>\n   <g id=\"patch_34\">\n    <path clip-path=\"url(#p272471d05a)\" d=\"M 159.424972 40073.256855 \nL 162.468608 40073.256855 \nL 162.468608 156.373468 \nL 159.424972 156.373468 \nz\n\" style=\"fill:#4c72b0;opacity:0.4;\"/>\n   </g>\n   <g id=\"patch_35\">\n    <path clip-path=\"url(#p272471d05a)\" d=\"M 162.468608 40073.256855 \nL 165.512244 40073.256855 \nL 165.512244 156.654767 \nL 162.468608 156.654767 \nz\n\" style=\"fill:#4c72b0;opacity:0.4;\"/>\n   </g>\n   <g id=\"patch_36\">\n    <path clip-path=\"url(#p272471d05a)\" d=\"M 165.512244 40073.256855 \nL 168.555881 40073.256855 \nL 168.555881 163.111001 \nL 165.512244 163.111001 \nz\n\" style=\"fill:#4c72b0;opacity:0.4;\"/>\n   </g>\n   <g id=\"patch_37\">\n    <path clip-path=\"url(#p272471d05a)\" d=\"M 168.555881 40073.256855 \nL 171.599517 40073.256855 \nL 171.599517 156.096671 \nL 168.555881 156.096671 \nz\n\" style=\"fill:#4c72b0;opacity:0.4;\"/>\n   </g>\n   <g id=\"patch_38\">\n    <path clip-path=\"url(#p272471d05a)\" d=\"M 171.599517 40073.256855 \nL 174.643153 40073.256855 \nL 174.643153 157.085481 \nL 171.599517 157.085481 \nz\n\" style=\"fill:#4c72b0;opacity:0.4;\"/>\n   </g>\n   <g id=\"patch_39\">\n    <path clip-path=\"url(#p272471d05a)\" d=\"M 174.643153 40073.256855 \nL 177.68679 40073.256855 \nL 177.68679 161.350215 \nL 174.643153 161.350215 \nz\n\" style=\"fill:#4c72b0;opacity:0.4;\"/>\n   </g>\n   <g id=\"patch_40\">\n    <path clip-path=\"url(#p272471d05a)\" d=\"M 177.68679 40073.256855 \nL 180.730426 40073.256855 \nL 180.730426 160.621709 \nL 177.68679 160.621709 \nz\n\" style=\"fill:#4c72b0;opacity:0.4;\"/>\n   </g>\n   <g id=\"patch_41\">\n    <path clip-path=\"url(#p272471d05a)\" d=\"M 180.730426 40073.256855 \nL 183.774063 40073.256855 \nL 183.774063 167.547096 \nL 180.730426 167.547096 \nz\n\" style=\"fill:#4c72b0;opacity:0.4;\"/>\n   </g>\n   <g id=\"patch_42\">\n    <path clip-path=\"url(#p272471d05a)\" d=\"M 183.774063 40073.256855 \nL 186.817699 40073.256855 \nL 186.817699 168.645844 \nL 183.774063 168.645844 \nz\n\" style=\"fill:#4c72b0;opacity:0.4;\"/>\n   </g>\n   <g id=\"patch_43\">\n    <path clip-path=\"url(#p272471d05a)\" d=\"M 186.817699 40073.256855 \nL 189.861335 40073.256855 \nL 189.861335 168.645844 \nL 186.817699 168.645844 \nz\n\" style=\"fill:#4c72b0;opacity:0.4;\"/>\n   </g>\n   <g id=\"patch_44\">\n    <path clip-path=\"url(#p272471d05a)\" d=\"M 189.861335 40073.256855 \nL 192.904972 40073.256855 \nL 192.904972 167.81531 \nL 189.861335 167.81531 \nz\n\" style=\"fill:#4c72b0;opacity:0.4;\"/>\n   </g>\n   <g id=\"patch_45\">\n    <path clip-path=\"url(#p272471d05a)\" d=\"M 192.904972 40073.256855 \nL 195.948608 40073.256855 \nL 195.948608 170.754472 \nL 192.904972 170.754472 \nz\n\" style=\"fill:#4c72b0;opacity:0.4;\"/>\n   </g>\n   <g id=\"patch_46\">\n    <path clip-path=\"url(#p272471d05a)\" d=\"M 195.948608 40073.256855 \nL 198.992244 40073.256855 \nL 198.992244 173.908538 \nL 195.948608 173.908538 \nz\n\" style=\"fill:#4c72b0;opacity:0.4;\"/>\n   </g>\n   <g id=\"patch_47\">\n    <path clip-path=\"url(#p272471d05a)\" d=\"M 198.992244 40073.256855 \nL 202.035881 40073.256855 \nL 202.035881 174.695013 \nL 198.992244 174.695013 \nz\n\" style=\"fill:#4c72b0;opacity:0.4;\"/>\n   </g>\n   <g id=\"patch_48\">\n    <path clip-path=\"url(#p272471d05a)\" d=\"M 202.035881 40073.256855 \nL 205.079517 40073.256855 \nL 205.079517 175.102078 \nL 202.035881 175.102078 \nz\n\" style=\"fill:#4c72b0;opacity:0.4;\"/>\n   </g>\n   <g id=\"patch_49\">\n    <path clip-path=\"url(#p272471d05a)\" d=\"M 205.079517 40073.256855 \nL 208.123153 40073.256855 \nL 208.123153 179.274053 \nL 205.079517 179.274053 \nz\n\" style=\"fill:#4c72b0;opacity:0.4;\"/>\n   </g>\n   <g id=\"patch_50\">\n    <path clip-path=\"url(#p272471d05a)\" d=\"M 208.123153 40073.256855 \nL 211.16679 40073.256855 \nL 211.16679 177.768803 \nL 208.123153 177.768803 \nz\n\" style=\"fill:#4c72b0;opacity:0.4;\"/>\n   </g>\n   <g id=\"patch_51\">\n    <path clip-path=\"url(#p272471d05a)\" d=\"M 211.16679 40073.256855 \nL 214.210426 40073.256855 \nL 214.210426 182.745549 \nL 211.16679 182.745549 \nz\n\" style=\"fill:#4c72b0;opacity:0.4;\"/>\n   </g>\n   <g id=\"patch_52\">\n    <path clip-path=\"url(#p272471d05a)\" d=\"M 214.210426 40073.256855 \nL 217.254063 40073.256855 \nL 217.254063 187.937199 \nL 214.210426 187.937199 \nz\n\" style=\"fill:#4c72b0;opacity:0.4;\"/>\n   </g>\n   <g id=\"patch_53\">\n    <path clip-path=\"url(#p272471d05a)\" d=\"M 217.254063 40073.256855 \nL 220.297699 40073.256855 \nL 220.297699 189.75988 \nL 217.254063 189.75988 \nz\n\" style=\"fill:#4c72b0;opacity:0.4;\"/>\n   </g>\n   <g id=\"patch_54\">\n    <path clip-path=\"url(#p272471d05a)\" d=\"M 220.297699 40073.256855 \nL 223.341335 40073.256855 \nL 223.341335 194.107485 \nL 220.297699 194.107485 \nz\n\" style=\"fill:#4c72b0;opacity:0.4;\"/>\n   </g>\n   <g id=\"patch_55\">\n    <path clip-path=\"url(#p272471d05a)\" d=\"M 223.341335 40073.256855 \nL 226.384972 40073.256855 \nL 226.384972 192.913945 \nL 223.341335 192.913945 \nz\n\" style=\"fill:#4c72b0;opacity:0.4;\"/>\n   </g>\n   <g id=\"patch_56\">\n    <path clip-path=\"url(#p272471d05a)\" d=\"M 226.384972 40073.256855 \nL 229.428608 40073.256855 \nL 229.428608 189.75988 \nL 226.384972 189.75988 \nz\n\" style=\"fill:#4c72b0;opacity:0.4;\"/>\n   </g>\n   <g id=\"patch_57\">\n    <path clip-path=\"url(#p272471d05a)\" d=\"M 229.428608 40073.256855 \nL 232.472244 40073.256855 \nL 232.472244 188.824546 \nL 229.428608 188.824546 \nz\n\" style=\"fill:#4c72b0;opacity:0.4;\"/>\n   </g>\n   <g id=\"patch_58\">\n    <path clip-path=\"url(#p272471d05a)\" d=\"M 232.472244 40073.256855 \nL 235.515881 40073.256855 \nL 235.515881 191.797463 \nL 232.472244 191.797463 \nz\n\" style=\"fill:#4c72b0;opacity:0.4;\"/>\n   </g>\n   <g id=\"patch_59\">\n    <path clip-path=\"url(#p272471d05a)\" d=\"M 235.515881 40073.256855 \nL 238.559517 40073.256855 \nL 238.559517 199.928276 \nL 235.515881 199.928276 \nz\n\" style=\"fill:#4c72b0;opacity:0.4;\"/>\n   </g>\n   <g id=\"patch_60\">\n    <path clip-path=\"url(#p272471d05a)\" d=\"M 238.559517 40073.256855 \nL 241.603153 40073.256855 \nL 241.603153 192.913945 \nL 238.559517 192.913945 \nz\n\" style=\"fill:#4c72b0;opacity:0.4;\"/>\n   </g>\n   <g id=\"patch_61\">\n    <path clip-path=\"url(#p272471d05a)\" d=\"M 241.603153 40073.256855 \nL 244.64679 40073.256855 \nL 244.64679 195.389514 \nL 241.603153 195.389514 \nz\n\" style=\"fill:#4c72b0;opacity:0.4;\"/>\n   </g>\n   <g id=\"patch_62\">\n    <path clip-path=\"url(#p272471d05a)\" d=\"M 244.64679 40073.256855 \nL 247.690426 40073.256855 \nL 247.690426 203.78854 \nL 244.64679 203.78854 \nz\n\" style=\"fill:#4c72b0;opacity:0.4;\"/>\n   </g>\n   <g id=\"patch_63\">\n    <path clip-path=\"url(#p272471d05a)\" d=\"M 247.690426 40073.256855 \nL 250.734063 40073.256855 \nL 250.734063 203.78854 \nL 247.690426 203.78854 \nz\n\" style=\"fill:#4c72b0;opacity:0.4;\"/>\n   </g>\n   <g id=\"patch_64\">\n    <path clip-path=\"url(#p272471d05a)\" d=\"M 250.734063 40073.256855 \nL 253.777699 40073.256855 \nL 253.777699 194.107485 \nL 250.734063 194.107485 \nz\n\" style=\"fill:#4c72b0;opacity:0.4;\"/>\n   </g>\n   <g id=\"patch_65\">\n    <path clip-path=\"url(#p272471d05a)\" d=\"M 253.777699 40073.256855 \nL 256.821335 40073.256855 \nL 256.821335 206.098562 \nL 253.777699 206.098562 \nz\n\" style=\"fill:#4c72b0;opacity:0.4;\"/>\n   </g>\n   <g id=\"patch_66\">\n    <path clip-path=\"url(#p272471d05a)\" d=\"M 256.821335 40073.256855 \nL 259.864972 40073.256855 \nL 259.864972 206.098562 \nL 256.821335 206.098562 \nz\n\" style=\"fill:#4c72b0;opacity:0.4;\"/>\n   </g>\n   <g id=\"patch_67\">\n    <path clip-path=\"url(#p272471d05a)\" d=\"M 259.864972 40073.256855 \nL 262.908608 40073.256855 \nL 262.908608 201.750956 \nL 259.864972 201.750956 \nz\n\" style=\"fill:#4c72b0;opacity:0.4;\"/>\n   </g>\n   <g id=\"patch_68\">\n    <path clip-path=\"url(#p272471d05a)\" d=\"M 262.908608 40073.256855 \nL 265.952244 40073.256855 \nL 265.952244 206.098562 \nL 262.908608 206.098562 \nz\n\" style=\"fill:#4c72b0;opacity:0.4;\"/>\n   </g>\n   <g id=\"patch_69\">\n    <path clip-path=\"url(#p272471d05a)\" d=\"M 265.952244 40073.256855 \nL 268.995881 40073.256855 \nL 268.995881 201.750956 \nL 265.952244 201.750956 \nz\n\" style=\"fill:#4c72b0;opacity:0.4;\"/>\n   </g>\n   <g id=\"patch_70\">\n    <path clip-path=\"url(#p272471d05a)\" d=\"M 268.995881 40073.256855 \nL 272.039517 40073.256855 \nL 272.039517 208.765287 \nL 268.995881 208.765287 \nz\n\" style=\"fill:#4c72b0;opacity:0.4;\"/>\n   </g>\n   <g id=\"patch_71\">\n    <path clip-path=\"url(#p272471d05a)\" d=\"M 272.039517 40073.256855 \nL 275.083153 40073.256855 \nL 275.083153 206.098562 \nL 272.039517 206.098562 \nz\n\" style=\"fill:#4c72b0;opacity:0.4;\"/>\n   </g>\n   <g id=\"patch_72\">\n    <path clip-path=\"url(#p272471d05a)\" d=\"M 275.083153 40073.256855 \nL 278.12679 40073.256855 \nL 278.12679 201.750956 \nL 275.083153 201.750956 \nz\n\" style=\"fill:#4c72b0;opacity:0.4;\"/>\n   </g>\n   <g id=\"patch_73\">\n    <path clip-path=\"url(#p272471d05a)\" d=\"M 278.12679 40073.256855 \nL 281.170426 40073.256855 \nL 281.170426 220.756364 \nL 278.12679 220.756364 \nz\n\" style=\"fill:#4c72b0;opacity:0.4;\"/>\n   </g>\n   <g id=\"patch_74\">\n    <path clip-path=\"url(#p272471d05a)\" d=\"M 281.170426 40073.256855 \nL 284.214063 40073.256855 \nL 284.214063 211.919353 \nL 281.170426 211.919353 \nz\n\" style=\"fill:#4c72b0;opacity:0.4;\"/>\n   </g>\n   <g id=\"patch_75\">\n    <path clip-path=\"url(#p272471d05a)\" d=\"M 284.214063 40073.256855 \nL 287.257699 40073.256855 \nL 287.257699 201.750956 \nL 284.214063 201.750956 \nz\n\" style=\"fill:#4c72b0;opacity:0.4;\"/>\n   </g>\n   <g id=\"patch_76\">\n    <path clip-path=\"url(#p272471d05a)\" d=\"M 287.257699 40073.256855 \nL 290.301335 40073.256855 \nL 290.301335 201.750956 \nL 287.257699 201.750956 \nz\n\" style=\"fill:#4c72b0;opacity:0.4;\"/>\n   </g>\n   <g id=\"patch_77\">\n    <path clip-path=\"url(#p272471d05a)\" d=\"M 290.301335 40073.256855 \nL 293.344972 40073.256855 \nL 293.344972 215.779617 \nL 290.301335 215.779617 \nz\n\" style=\"fill:#4c72b0;opacity:0.4;\"/>\n   </g>\n   <g id=\"patch_78\">\n    <path clip-path=\"url(#p272471d05a)\" d=\"M 293.344972 40073.256855 \nL 296.388608 40073.256855 \nL 296.388608 201.750956 \nL 293.344972 201.750956 \nz\n\" style=\"fill:#4c72b0;opacity:0.4;\"/>\n   </g>\n   <g id=\"patch_79\">\n    <path clip-path=\"url(#p272471d05a)\" d=\"M 296.388608 40073.256855 \nL 299.432244 40073.256855 \nL 299.432244 206.098562 \nL 296.388608 206.098562 \nz\n\" style=\"fill:#4c72b0;opacity:0.4;\"/>\n   </g>\n   <g id=\"patch_80\">\n    <path clip-path=\"url(#p272471d05a)\" d=\"M 299.432244 40073.256855 \nL 302.475881 40073.256855 \nL 302.475881 201.750956 \nL 299.432244 201.750956 \nz\n\" style=\"fill:#4c72b0;opacity:0.4;\"/>\n   </g>\n   <g id=\"patch_81\">\n    <path clip-path=\"url(#p272471d05a)\" d=\"M 302.475881 40073.256855 \nL 305.519517 40073.256855 \nL 305.519517 190.74869 \nL 302.475881 190.74869 \nz\n\" style=\"fill:#4c72b0;opacity:0.4;\"/>\n   </g>\n   <g id=\"patch_82\">\n    <path clip-path=\"url(#p272471d05a)\" d=\"M 305.519517 40073.256855 \nL 308.563153 40073.256855 \nL 308.563153 195.389514 \nL 305.519517 195.389514 \nz\n\" style=\"fill:#4c72b0;opacity:0.4;\"/>\n   </g>\n   <g id=\"patch_83\">\n    <path clip-path=\"url(#p272471d05a)\" d=\"M 308.563153 40073.256855 \nL 311.60679 40073.256855 \nL 311.60679 208.765287 \nL 308.563153 208.765287 \nz\n\" style=\"fill:#4c72b0;opacity:0.4;\"/>\n   </g>\n   <g id=\"patch_84\">\n    <path clip-path=\"url(#p272471d05a)\" d=\"M 311.60679 40073.256855 \nL 314.650426 40073.256855 \nL 314.650426 211.919353 \nL 311.60679 211.919353 \nz\n\" style=\"fill:#4c72b0;opacity:0.4;\"/>\n   </g>\n   <g id=\"patch_85\">\n    <path clip-path=\"url(#p272471d05a)\" d=\"M 314.650426 40073.256855 \nL 317.694063 40073.256855 \nL 317.694063 208.765287 \nL 314.650426 208.765287 \nz\n\" style=\"fill:#4c72b0;opacity:0.4;\"/>\n   </g>\n   <g id=\"patch_86\">\n    <path clip-path=\"url(#p272471d05a)\" d=\"M 317.694063 40073.256855 \nL 320.737699 40073.256855 \nL 320.737699 215.779617 \nL 317.694063 215.779617 \nz\n\" style=\"fill:#4c72b0;opacity:0.4;\"/>\n   </g>\n   <g id=\"patch_87\">\n    <path clip-path=\"url(#p272471d05a)\" d=\"M 320.737699 40073.256855 \nL 323.781335 40073.256855 \nL 323.781335 203.78854 \nL 320.737699 203.78854 \nz\n\" style=\"fill:#4c72b0;opacity:0.4;\"/>\n   </g>\n   <g id=\"patch_88\">\n    <path clip-path=\"url(#p272471d05a)\" d=\"M 323.781335 40073.256855 \nL 326.824972 40073.256855 \nL 326.824972 211.919353 \nL 323.781335 211.919353 \nz\n\" style=\"fill:#4c72b0;opacity:0.4;\"/>\n   </g>\n   <g id=\"patch_89\">\n    <path clip-path=\"url(#p272471d05a)\" d=\"M 326.824972 40073.256855 \nL 329.868608 40073.256855 \nL 329.868608 196.77421 \nL 326.824972 196.77421 \nz\n\" style=\"fill:#4c72b0;opacity:0.4;\"/>\n   </g>\n   <g id=\"patch_90\">\n    <path clip-path=\"url(#p272471d05a)\" d=\"M 329.868608 40073.256855 \nL 332.912244 40073.256855 \nL 332.912244 196.77421 \nL 329.868608 196.77421 \nz\n\" style=\"fill:#4c72b0;opacity:0.4;\"/>\n   </g>\n   <g id=\"patch_91\">\n    <path clip-path=\"url(#p272471d05a)\" d=\"M 332.912244 40073.256855 \nL 335.955881 40073.256855 \nL 335.955881 195.389514 \nL 332.912244 195.389514 \nz\n\" style=\"fill:#4c72b0;opacity:0.4;\"/>\n   </g>\n   <g id=\"patch_92\">\n    <path clip-path=\"url(#p272471d05a)\" d=\"M 335.955881 40073.256855 \nL 338.999517 40073.256855 \nL 338.999517 203.78854 \nL 335.955881 203.78854 \nz\n\" style=\"fill:#4c72b0;opacity:0.4;\"/>\n   </g>\n   <g id=\"patch_93\">\n    <path clip-path=\"url(#p272471d05a)\" d=\"M 338.999517 40073.256855 \nL 342.043153 40073.256855 \nL 342.043153 201.750956 \nL 338.999517 201.750956 \nz\n\" style=\"fill:#4c72b0;opacity:0.4;\"/>\n   </g>\n   <g id=\"patch_94\">\n    <path clip-path=\"url(#p272471d05a)\" d=\"M 342.043153 40073.256855 \nL 345.08679 40073.256855 \nL 345.08679 199.928276 \nL 342.043153 199.928276 \nz\n\" style=\"fill:#4c72b0;opacity:0.4;\"/>\n   </g>\n   <g id=\"patch_95\">\n    <path clip-path=\"url(#p272471d05a)\" d=\"M 345.08679 40073.256855 \nL 348.130426 40073.256855 \nL 348.130426 203.78854 \nL 345.08679 203.78854 \nz\n\" style=\"fill:#4c72b0;opacity:0.4;\"/>\n   </g>\n   <g id=\"patch_96\">\n    <path clip-path=\"url(#p272471d05a)\" d=\"M 348.130426 40073.256855 \nL 351.174063 40073.256855 \nL 351.174063 201.750956 \nL 348.130426 201.750956 \nz\n\" style=\"fill:#4c72b0;opacity:0.4;\"/>\n   </g>\n   <g id=\"patch_97\">\n    <path clip-path=\"url(#p272471d05a)\" d=\"M 351.174063 40073.256855 \nL 354.217699 40073.256855 \nL 354.217699 192.913945 \nL 351.174063 192.913945 \nz\n\" style=\"fill:#4c72b0;opacity:0.4;\"/>\n   </g>\n   <g id=\"patch_98\">\n    <path clip-path=\"url(#p272471d05a)\" d=\"M 354.217699 40073.256855 \nL 357.261335 40073.256855 \nL 357.261335 185.519392 \nL 354.217699 185.519392 \nz\n\" style=\"fill:#4c72b0;opacity:0.4;\"/>\n   </g>\n   <g id=\"patch_99\">\n    <path clip-path=\"url(#p272471d05a)\" d=\"M 357.261335 40073.256855 \nL 360.304972 40073.256855 \nL 360.304972 195.389514 \nL 357.261335 195.389514 \nz\n\" style=\"fill:#4c72b0;opacity:0.4;\"/>\n   </g>\n   <g id=\"patch_100\">\n    <path clip-path=\"url(#p272471d05a)\" d=\"M 360.304972 40073.256855 \nL 363.348608 40073.256855 \nL 363.348608 183.398437 \nL 360.304972 183.398437 \nz\n\" style=\"fill:#4c72b0;opacity:0.4;\"/>\n   </g>\n   <g id=\"patch_101\">\n    <path clip-path=\"url(#p272471d05a)\" d=\"M 363.348608 40073.256855 \nL 366.392244 40073.256855 \nL 366.392244 183.398437 \nL 363.348608 183.398437 \nz\n\" style=\"fill:#4c72b0;opacity:0.4;\"/>\n   </g>\n   <g id=\"patch_102\">\n    <path clip-path=\"url(#p272471d05a)\" d=\"M 366.392244 40073.256855 \nL 369.435881 40073.256855 \nL 369.435881 153.548032 \nL 366.392244 153.548032 \nz\n\" style=\"fill:#4c72b0;opacity:0.4;\"/>\n   </g>\n   <g id=\"patch_103\">\n    <path d=\"M 49.854062 230.64 \nL 49.854062 13.2 \n\" style=\"fill:none;stroke:#262626;stroke-linecap:square;stroke-linejoin:miter;stroke-width:1.25;\"/>\n   </g>\n   <g id=\"patch_104\">\n    <path d=\"M 49.854062 230.64 \nL 384.654063 230.64 \n\" style=\"fill:none;stroke:#262626;stroke-linecap:square;stroke-linejoin:miter;stroke-width:1.25;\"/>\n   </g>\n  </g>\n </g>\n <defs>\n  <clipPath id=\"p272471d05a\">\n   <rect height=\"217.44\" width=\"334.8\" x=\"49.854062\" y=\"13.2\"/>\n  </clipPath>\n </defs>\n</svg>\n"
          },
          "metadata": {
            "tags": []
          }
        }
      ]
    },
    {
      "metadata": {
        "id": "RmjiXAbATP8c",
        "colab_type": "text"
      },
      "cell_type": "markdown",
      "source": [
        "# Experimental"
      ]
    },
    {
      "metadata": {
        "id": "WjIh3gMoTSOj",
        "colab_type": "code",
        "colab": {}
      },
      "cell_type": "code",
      "source": [
        "%%time\n",
        "\n",
        "payprice = validation['payprice']\n",
        "clicks = validation['click']\n",
        "\n",
        "bid_strategy = lambda const: pCTR*const\n",
        "\n",
        "const_range =  [115000] # np.linspace(1e-7, 1e-6, 20)\n",
        "statistics = {}\n",
        "\n",
        "# find optimal base_bid\n",
        "for const in tqdm(const_range):\n",
        "    \n",
        "    budget_remaining = 6250*1000\n",
        "    \n",
        "    statistics[const] = {\n",
        "        'impressions':0,\n",
        "        'spend': 0,\n",
        "        'clicks': 0,\n",
        "        'too_expensive': 0,\n",
        "        'lost': 0\n",
        "    }\n",
        "    \n",
        "    # list of bids for all ad requests\n",
        "    bids = bid_strategy(const)\n",
        "    \n",
        "    # loop through all bids for every ad request\n",
        "    for i in range(len(bids)):    \n",
        "        second_highest_bid = payprice[i]\n",
        "        \n",
        "        won = bids[i] >= second_highest_bid and second_highest_bid <= budget_remaining\n",
        "        \n",
        "        if(second_highest_bid > budget_remaining):\n",
        "            statistics[const]['too_expensive'] += 1\n",
        "            \n",
        "        if(second_highest_bid> bids[i]):\n",
        "            statistics[const]['lost'] += 1\n",
        "        \n",
        "        if(won):\n",
        "            statistics[const]['impressions'] += 1\n",
        "            statistics[const]['spend'] += second_highest_bid\n",
        "            statistics[const]['clicks'] += clicks[i]\n",
        "            \n",
        "            # subtract current bid from budget \n",
        "            budget_remaining -= second_highest_bid\n",
        "            \n",
        "statistics = pd.DataFrame(statistics).T\n",
        "statistics['CTR'] = statistics['clicks'] / statistics['impressions']\n",
        "statistics['aCPM'] = statistics['spend'] / statistics['impressions'] \n",
        "statistics['aCPC'] = (statistics['spend']/1000) / statistics['clicks']\n",
        "print('done')\n",
        "\n",
        "print(statistics)"
      ],
      "execution_count": 0,
      "outputs": []
    },
    {
      "metadata": {
        "heading_collapsed": true,
        "id": "IZOdzyLMbu8W",
        "colab_type": "text"
      },
      "cell_type": "markdown",
      "source": [
        "# Use NN to predict pCTR on test and apply non-linear bidding strategy (C #1)"
      ]
    },
    {
      "metadata": {
        "hidden": true,
        "id": "LAYqYs3Xbu8X",
        "colab_type": "code",
        "colab": {}
      },
      "cell_type": "code",
      "source": [
        "batches = np.array_split(test, 200)\n",
        "\n",
        "pCTR_test = []\n",
        "for batch in batches:\n",
        "    data = batch.drop(columns=['click', 'payprice']).values\n",
        "    target = batch['click'].values\n",
        "    \n",
        "    data = torch.from_numpy(data).float()\n",
        "    target = torch.from_numpy(target).float()\n",
        "    \n",
        "    output = model(data)\n",
        "    \n",
        "    prediction = (output.data).float()\n",
        "    y_hat_prob = prediction.cpu().numpy().squeeze()\n",
        "    \n",
        "    pCTR_test.extend(y_hat_prob)\n",
        "    \n",
        "pCTR_test = np.array(pCTR_test)"
      ],
      "execution_count": 0,
      "outputs": []
    },
    {
      "metadata": {
        "hidden": true,
        "id": "YCaJCaS1bu8Z",
        "colab_type": "code",
        "colab": {}
      },
      "cell_type": "code",
      "source": [
        "X_test = test.drop(columns=['click', 'payprice'])\n",
        "\n",
        "bids = ortb_strategy2(6.210526e-7,20,pCTR_test)\n",
        "\n",
        "# get bid id's\n",
        "test_raw = pd.read_csv(\n",
        "    '/content/gdrive/My Drive/Colab Notebooks/we_data/test.csv')\n",
        "\n",
        "# export to file\n",
        "df_bids = pd.DataFrame(\n",
        "    np.round(bids, 1), index=test_raw['bidid'].values, columns=['bidprice'])\n",
        "df_bids.index.name = 'bidid'\n",
        "df_bids = df_bids.reset_index()\n",
        "\n",
        "file = '/content/gdrive/My Drive/Colab Notebooks/bid_attemnt_{}.csv'.format(\n",
        "    time.strftime('%Y-%m-%d_%H:%M:%S'))\n",
        "df_bids.to_csv(file, index=False)"
      ],
      "execution_count": 0,
      "outputs": []
    },
    {
      "metadata": {
        "id": "Btpyk5HNVFyF",
        "colab_type": "text"
      },
      "cell_type": "markdown",
      "source": [
        "# Multi agent  (C #2)"
      ]
    },
    {
      "metadata": {
        "id": "V7OgrjrbVOpw",
        "colab_type": "code",
        "colab": {}
      },
      "cell_type": "code",
      "source": [
        "def multi_agen_bid_function(pCTR):\n",
        "    \n",
        "    return pCTR*17000\n",
        "\n",
        "    lamda = 0.000017\n",
        "    const = 90\n",
        "    number_of_items = len(pCTR)\n",
        "    total_bids = []\n",
        "    \n",
        "    ortb_strategy = lambda lamda, const, pCTR: np.sqrt(np.multiply((const / lamda), pCTR) + const**2) - const\n",
        "    \n",
        "    for x in range(len(pCTR)):\n",
        "        \n",
        "        bid = ortb_strategy(lamda, const, pCTR[x])\n",
        "        \n",
        "        # do not bid for the first 20% of the items being sold\n",
        "        if x < number_of_items*0.2:\n",
        "            bid = 1\n",
        "            \n",
        "        # do not bid on items that are likely to be in very high demand\n",
        "        if(pCTR[x] > 0.95):\n",
        "            bid = 1\n",
        "            \n",
        "            \n",
        "        if(pCTR[x] < 0.4):\n",
        "            bid = bid*0.6\n",
        "            \n",
        "        # inflate bids that on items that are likely to be in lower demand\n",
        "        if(pCTR[x] > 0.75 and pCTR[x] < 8.5):\n",
        "            bid = bid*3\n",
        "        \n",
        "        # limit maxium bids\n",
        "#         if(bid > 500):\n",
        "#             bid = 500\n",
        "            \n",
        "            \n",
        "        total_bids.append(bid)\n",
        "        \n",
        "        \n",
        "    return total_bids\n",
        "        "
      ],
      "execution_count": 0,
      "outputs": []
    },
    {
      "metadata": {
        "id": "-p-PgI7cWEPV",
        "colab_type": "code",
        "outputId": "296b636e-07c4-45ca-d980-5726354dc333",
        "colab": {
          "base_uri": "https://localhost:8080/",
          "height": 367
        }
      },
      "cell_type": "code",
      "source": [
        "x = np.linspace(1e-2, 1)\n",
        "y = multi_agen_bid_function(x)\n",
        "\n",
        "\n",
        "plt.plot(x,y)\n",
        "sns.despine()\n",
        "plt.show()"
      ],
      "execution_count": 23,
      "outputs": [
        {
          "output_type": "display_data",
          "data": {
            "text/plain": [
              "<Figure size 432x288 with 1 Axes>"
            ],
            "image/svg+xml": "<?xml version=\"1.0\" encoding=\"utf-8\" standalone=\"no\"?>\n<!DOCTYPE svg PUBLIC \"-//W3C//DTD SVG 1.1//EN\"\n  \"http://www.w3.org/Graphics/SVG/1.1/DTD/svg11.dtd\">\n<!-- Created with matplotlib (https://matplotlib.org/) -->\n<svg height=\"260.161875pt\" version=\"1.1\" viewBox=\"0 0 396.004687 260.161875\" width=\"396.004687pt\" xmlns=\"http://www.w3.org/2000/svg\" xmlns:xlink=\"http://www.w3.org/1999/xlink\">\n <defs>\n  <style type=\"text/css\">\n*{stroke-linecap:butt;stroke-linejoin:round;}\n  </style>\n </defs>\n <g id=\"figure_1\">\n  <g id=\"patch_1\">\n   <path d=\"M 0 260.161875 \nL 396.004687 260.161875 \nL 396.004687 0 \nL 0 0 \nz\n\" style=\"fill:none;\"/>\n  </g>\n  <g id=\"axes_1\">\n   <g id=\"patch_2\">\n    <path d=\"M 48.004688 230.64 \nL 382.804688 230.64 \nL 382.804688 13.2 \nL 48.004688 13.2 \nz\n\" style=\"fill:#ffffff;\"/>\n   </g>\n   <g id=\"matplotlib.axis_1\">\n    <g id=\"xtick_1\">\n     <g id=\"line2d_1\">\n      <defs>\n       <path d=\"M 0 0 \nL 0 6 \n\" id=\"mf296a65d66\" style=\"stroke:#262626;\"/>\n      </defs>\n      <g>\n       <use style=\"fill:#262626;stroke:#262626;\" x=\"60.148489\" xlink:href=\"#mf296a65d66\" y=\"230.64\"/>\n      </g>\n     </g>\n     <g id=\"text_1\">\n      <!-- 0.0 -->\n      <defs>\n       <path d=\"M 51.703125 34.421875 \nQ 51.703125 24.515625 49.828125 17.75 \nQ 47.953125 10.984375 44.703125 6.8125 \nQ 41.453125 2.640625 37.0625 0.828125 \nQ 32.671875 -0.984375 27.6875 -0.984375 \nQ 22.65625 -0.984375 18.3125 0.828125 \nQ 13.96875 2.640625 10.765625 6.78125 \nQ 7.5625 10.9375 5.734375 17.703125 \nQ 3.90625 24.46875 3.90625 34.421875 \nQ 3.90625 44.828125 5.734375 51.640625 \nQ 7.5625 58.453125 10.78125 62.5 \nQ 14.015625 66.546875 18.40625 68.1875 \nQ 22.796875 69.828125 27.984375 69.828125 \nQ 32.90625 69.828125 37.21875 68.1875 \nQ 41.546875 66.546875 44.765625 62.5 \nQ 48 58.453125 49.84375 51.640625 \nQ 51.703125 44.828125 51.703125 34.421875 \nz\nM 42.78125 34.421875 \nQ 42.78125 42.625 41.796875 48.0625 \nQ 40.828125 53.515625 38.921875 56.765625 \nQ 37.015625 60.015625 34.25 61.359375 \nQ 31.5 62.703125 27.984375 62.703125 \nQ 24.265625 62.703125 21.4375 61.328125 \nQ 18.609375 59.96875 16.671875 56.71875 \nQ 14.75 53.46875 13.765625 48.015625 \nQ 12.796875 42.578125 12.796875 34.421875 \nQ 12.796875 26.515625 13.796875 21.09375 \nQ 14.796875 15.671875 16.71875 12.375 \nQ 18.65625 9.078125 21.4375 7.640625 \nQ 24.21875 6.203125 27.78125 6.203125 \nQ 31.25 6.203125 34.03125 7.640625 \nQ 36.8125 9.078125 38.734375 12.375 \nQ 40.671875 15.671875 41.71875 21.09375 \nQ 42.78125 26.515625 42.78125 34.421875 \nz\n\" id=\"LiberationSans-48\"/>\n       <path d=\"M 9.125 0 \nL 9.125 10.6875 \nL 18.65625 10.6875 \nL 18.65625 0 \nz\n\" id=\"LiberationSans-46\"/>\n      </defs>\n      <g style=\"fill:#262626;\" transform=\"translate(53.198489 250.886875)scale(0.1 -0.1)\">\n       <use xlink:href=\"#LiberationSans-48\"/>\n       <use x=\"55.615234\" xlink:href=\"#LiberationSans-46\"/>\n       <use x=\"83.398438\" xlink:href=\"#LiberationSans-48\"/>\n      </g>\n     </g>\n    </g>\n    <g id=\"xtick_2\">\n     <g id=\"line2d_2\">\n      <g>\n       <use style=\"fill:#262626;stroke:#262626;\" x=\"121.636092\" xlink:href=\"#mf296a65d66\" y=\"230.64\"/>\n      </g>\n     </g>\n     <g id=\"text_2\">\n      <!-- 0.2 -->\n      <defs>\n       <path d=\"M 5.03125 0 \nL 5.03125 6.203125 \nQ 7.515625 11.921875 11.109375 16.28125 \nQ 14.703125 20.65625 18.65625 24.1875 \nQ 22.609375 27.734375 26.484375 30.765625 \nQ 30.375 33.796875 33.5 36.8125 \nQ 36.625 39.84375 38.546875 43.15625 \nQ 40.484375 46.484375 40.484375 50.6875 \nQ 40.484375 53.609375 39.59375 55.828125 \nQ 38.71875 58.0625 37.0625 59.5625 \nQ 35.40625 61.078125 33.078125 61.828125 \nQ 30.765625 62.59375 27.9375 62.59375 \nQ 25.296875 62.59375 22.96875 61.859375 \nQ 20.65625 61.140625 18.84375 59.671875 \nQ 17.046875 58.203125 15.890625 56.03125 \nQ 14.75 53.859375 14.40625 50.984375 \nL 5.421875 51.8125 \nQ 5.859375 55.515625 7.46875 58.78125 \nQ 9.078125 62.0625 11.90625 64.53125 \nQ 14.75 67 18.71875 68.40625 \nQ 22.703125 69.828125 27.9375 69.828125 \nQ 33.0625 69.828125 37.0625 68.609375 \nQ 41.0625 67.390625 43.8125 64.984375 \nQ 46.578125 62.59375 48.046875 59.078125 \nQ 49.515625 55.5625 49.515625 50.984375 \nQ 49.515625 47.515625 48.265625 44.390625 \nQ 47.015625 41.265625 44.9375 38.421875 \nQ 42.875 35.59375 40.140625 32.953125 \nQ 37.40625 30.328125 34.421875 27.8125 \nQ 31.453125 25.296875 28.421875 22.828125 \nQ 25.390625 20.359375 22.71875 17.859375 \nQ 20.0625 15.375 17.96875 12.8125 \nQ 15.875 10.25 14.703125 7.46875 \nL 50.59375 7.46875 \nL 50.59375 0 \nz\n\" id=\"LiberationSans-50\"/>\n      </defs>\n      <g style=\"fill:#262626;\" transform=\"translate(114.686092 250.886875)scale(0.1 -0.1)\">\n       <use xlink:href=\"#LiberationSans-48\"/>\n       <use x=\"55.615234\" xlink:href=\"#LiberationSans-46\"/>\n       <use x=\"83.398438\" xlink:href=\"#LiberationSans-50\"/>\n      </g>\n     </g>\n    </g>\n    <g id=\"xtick_3\">\n     <g id=\"line2d_3\">\n      <g>\n       <use style=\"fill:#262626;stroke:#262626;\" x=\"183.123696\" xlink:href=\"#mf296a65d66\" y=\"230.64\"/>\n      </g>\n     </g>\n     <g id=\"text_3\">\n      <!-- 0.4 -->\n      <defs>\n       <path d=\"M 43.015625 15.578125 \nL 43.015625 0 \nL 34.71875 0 \nL 34.71875 15.578125 \nL 2.296875 15.578125 \nL 2.296875 22.40625 \nL 33.796875 68.796875 \nL 43.015625 68.796875 \nL 43.015625 22.515625 \nL 52.6875 22.515625 \nL 52.6875 15.578125 \nz\nM 34.71875 58.890625 \nQ 34.625 58.640625 34.234375 57.9375 \nQ 33.84375 57.234375 33.34375 56.34375 \nQ 32.859375 55.46875 32.34375 54.5625 \nQ 31.84375 53.65625 31.453125 53.078125 \nL 13.8125 27.09375 \nQ 13.578125 26.703125 13.109375 26.0625 \nQ 12.640625 25.4375 12.15625 24.78125 \nQ 11.671875 24.125 11.171875 23.484375 \nQ 10.6875 22.859375 10.40625 22.515625 \nL 34.71875 22.515625 \nz\n\" id=\"LiberationSans-52\"/>\n      </defs>\n      <g style=\"fill:#262626;\" transform=\"translate(176.173696 250.886875)scale(0.1 -0.1)\">\n       <use xlink:href=\"#LiberationSans-48\"/>\n       <use x=\"55.615234\" xlink:href=\"#LiberationSans-46\"/>\n       <use x=\"83.398438\" xlink:href=\"#LiberationSans-52\"/>\n      </g>\n     </g>\n    </g>\n    <g id=\"xtick_4\">\n     <g id=\"line2d_4\">\n      <g>\n       <use style=\"fill:#262626;stroke:#262626;\" x=\"244.611299\" xlink:href=\"#mf296a65d66\" y=\"230.64\"/>\n      </g>\n     </g>\n     <g id=\"text_4\">\n      <!-- 0.6 -->\n      <defs>\n       <path d=\"M 51.21875 22.515625 \nQ 51.21875 17.328125 49.78125 13 \nQ 48.34375 8.6875 45.53125 5.578125 \nQ 42.71875 2.484375 38.5625 0.75 \nQ 34.421875 -0.984375 29 -0.984375 \nQ 23 -0.984375 18.5 1.3125 \nQ 14.015625 3.609375 11.03125 7.921875 \nQ 8.0625 12.25 6.5625 18.53125 \nQ 5.078125 24.8125 5.078125 32.8125 \nQ 5.078125 42 6.765625 48.921875 \nQ 8.453125 55.859375 11.625 60.5 \nQ 14.796875 65.140625 19.359375 67.484375 \nQ 23.921875 69.828125 29.6875 69.828125 \nQ 33.203125 69.828125 36.28125 69.09375 \nQ 39.359375 68.359375 41.875 66.71875 \nQ 44.390625 65.09375 46.28125 62.40625 \nQ 48.1875 59.71875 49.3125 55.8125 \nL 40.921875 54.296875 \nQ 39.546875 58.734375 36.546875 60.71875 \nQ 33.546875 62.703125 29.59375 62.703125 \nQ 25.984375 62.703125 23.046875 60.984375 \nQ 20.125 59.28125 18.0625 55.875 \nQ 16.015625 52.484375 14.90625 47.359375 \nQ 13.8125 42.234375 13.8125 35.40625 \nQ 16.21875 39.84375 20.5625 42.15625 \nQ 24.90625 44.484375 30.515625 44.484375 \nQ 35.203125 44.484375 39.015625 42.96875 \nQ 42.828125 41.453125 45.53125 38.59375 \nQ 48.25 35.75 49.734375 31.671875 \nQ 51.21875 27.59375 51.21875 22.515625 \nz\nM 42.28125 22.125 \nQ 42.28125 25.6875 41.40625 28.5625 \nQ 40.53125 31.453125 38.765625 33.46875 \nQ 37.015625 35.5 34.421875 36.59375 \nQ 31.84375 37.703125 28.421875 37.703125 \nQ 26.03125 37.703125 23.578125 36.984375 \nQ 21.140625 36.28125 19.15625 34.6875 \nQ 17.1875 33.109375 15.9375 30.515625 \nQ 14.703125 27.9375 14.703125 24.21875 \nQ 14.703125 20.40625 15.671875 17.109375 \nQ 16.65625 13.8125 18.484375 11.375 \nQ 20.3125 8.9375 22.890625 7.515625 \nQ 25.484375 6.109375 28.71875 6.109375 \nQ 31.890625 6.109375 34.40625 7.203125 \nQ 36.921875 8.296875 38.671875 10.375 \nQ 40.4375 12.453125 41.359375 15.421875 \nQ 42.28125 18.40625 42.28125 22.125 \nz\n\" id=\"LiberationSans-54\"/>\n      </defs>\n      <g style=\"fill:#262626;\" transform=\"translate(237.661299 250.886875)scale(0.1 -0.1)\">\n       <use xlink:href=\"#LiberationSans-48\"/>\n       <use x=\"55.615234\" xlink:href=\"#LiberationSans-46\"/>\n       <use x=\"83.398438\" xlink:href=\"#LiberationSans-54\"/>\n      </g>\n     </g>\n    </g>\n    <g id=\"xtick_5\">\n     <g id=\"line2d_5\">\n      <g>\n       <use style=\"fill:#262626;stroke:#262626;\" x=\"306.098902\" xlink:href=\"#mf296a65d66\" y=\"230.64\"/>\n      </g>\n     </g>\n     <g id=\"text_5\">\n      <!-- 0.8 -->\n      <defs>\n       <path d=\"M 51.265625 19.1875 \nQ 51.265625 14.796875 49.875 11.109375 \nQ 48.484375 7.421875 45.625 4.734375 \nQ 42.78125 2.046875 38.328125 0.53125 \nQ 33.890625 -0.984375 27.828125 -0.984375 \nQ 21.78125 -0.984375 17.359375 0.53125 \nQ 12.9375 2.046875 10.03125 4.703125 \nQ 7.125 7.375 5.734375 11.0625 \nQ 4.34375 14.75 4.34375 19.09375 \nQ 4.34375 22.859375 5.484375 25.78125 \nQ 6.640625 28.71875 8.5625 30.828125 \nQ 10.5 32.953125 12.96875 34.25 \nQ 15.4375 35.546875 18.0625 35.984375 \nL 18.0625 36.1875 \nQ 15.1875 36.859375 12.90625 38.375 \nQ 10.640625 39.890625 9.09375 42.015625 \nQ 7.5625 44.140625 6.75 46.71875 \nQ 5.953125 49.3125 5.953125 52.203125 \nQ 5.953125 55.8125 7.34375 59 \nQ 8.734375 62.203125 11.46875 64.625 \nQ 14.203125 67.046875 18.25 68.4375 \nQ 22.3125 69.828125 27.640625 69.828125 \nQ 33.25 69.828125 37.375 68.40625 \nQ 41.5 67 44.203125 64.578125 \nQ 46.921875 62.15625 48.234375 58.9375 \nQ 49.5625 55.71875 49.5625 52.09375 \nQ 49.5625 49.265625 48.75 46.671875 \nQ 47.953125 44.09375 46.40625 41.96875 \nQ 44.875 39.84375 42.59375 38.34375 \nQ 40.328125 36.859375 37.359375 36.28125 \nL 37.359375 36.078125 \nQ 40.328125 35.59375 42.859375 34.296875 \nQ 45.40625 33.015625 47.265625 30.890625 \nQ 49.125 28.765625 50.1875 25.828125 \nQ 51.265625 22.90625 51.265625 19.1875 \nz\nM 40.4375 51.609375 \nQ 40.4375 54.203125 39.765625 56.34375 \nQ 39.109375 58.5 37.59375 60.03125 \nQ 36.078125 61.578125 33.640625 62.421875 \nQ 31.203125 63.28125 27.640625 63.28125 \nQ 24.171875 63.28125 21.78125 62.421875 \nQ 19.390625 61.578125 17.84375 60.03125 \nQ 16.3125 58.5 15.625 56.34375 \nQ 14.9375 54.203125 14.9375 51.609375 \nQ 14.9375 49.5625 15.46875 47.40625 \nQ 16.015625 45.265625 17.421875 43.5 \nQ 18.84375 41.75 21.328125 40.625 \nQ 23.828125 39.5 27.734375 39.5 \nQ 31.890625 39.5 34.40625 40.625 \nQ 36.921875 41.75 38.25 43.5 \nQ 39.59375 45.265625 40.015625 47.40625 \nQ 40.4375 49.5625 40.4375 51.609375 \nz\nM 42.140625 20.015625 \nQ 42.140625 22.515625 41.453125 24.828125 \nQ 40.765625 27.15625 39.109375 28.9375 \nQ 37.453125 30.71875 34.640625 31.8125 \nQ 31.84375 32.90625 27.640625 32.90625 \nQ 23.78125 32.90625 21.0625 31.8125 \nQ 18.359375 30.71875 16.671875 28.90625 \nQ 14.984375 27.09375 14.203125 24.71875 \nQ 13.421875 22.359375 13.421875 19.828125 \nQ 13.421875 16.65625 14.203125 14.03125 \nQ 14.984375 11.421875 16.6875 9.546875 \nQ 18.40625 7.671875 21.1875 6.640625 \nQ 23.96875 5.609375 27.9375 5.609375 \nQ 31.9375 5.609375 34.671875 6.640625 \nQ 37.40625 7.671875 39.0625 9.546875 \nQ 40.71875 11.421875 41.421875 14.078125 \nQ 42.140625 16.75 42.140625 20.015625 \nz\n\" id=\"LiberationSans-56\"/>\n      </defs>\n      <g style=\"fill:#262626;\" transform=\"translate(299.148902 250.886875)scale(0.1 -0.1)\">\n       <use xlink:href=\"#LiberationSans-48\"/>\n       <use x=\"55.615234\" xlink:href=\"#LiberationSans-46\"/>\n       <use x=\"83.398438\" xlink:href=\"#LiberationSans-56\"/>\n      </g>\n     </g>\n    </g>\n    <g id=\"xtick_6\">\n     <g id=\"line2d_6\">\n      <g>\n       <use style=\"fill:#262626;stroke:#262626;\" x=\"367.586506\" xlink:href=\"#mf296a65d66\" y=\"230.64\"/>\n      </g>\n     </g>\n     <g id=\"text_6\">\n      <!-- 1.0 -->\n      <defs>\n       <path d=\"M 7.625 0 \nL 7.625 7.46875 \nL 25.140625 7.46875 \nL 25.140625 60.40625 \nL 9.625 49.3125 \nL 9.625 57.625 \nL 25.875 68.796875 \nL 33.984375 68.796875 \nL 33.984375 7.46875 \nL 50.734375 7.46875 \nL 50.734375 0 \nz\n\" id=\"LiberationSans-49\"/>\n      </defs>\n      <g style=\"fill:#262626;\" transform=\"translate(360.636506 250.886875)scale(0.1 -0.1)\">\n       <use xlink:href=\"#LiberationSans-49\"/>\n       <use x=\"55.615234\" xlink:href=\"#LiberationSans-46\"/>\n       <use x=\"83.398438\" xlink:href=\"#LiberationSans-48\"/>\n      </g>\n     </g>\n    </g>\n   </g>\n   <g id=\"matplotlib.axis_2\">\n    <g id=\"ytick_1\">\n     <g id=\"line2d_7\">\n      <defs>\n       <path d=\"M 0 0 \nL -6 0 \n\" id=\"m39d17f8085\" style=\"stroke:#262626;\"/>\n      </defs>\n      <g>\n       <use style=\"fill:#262626;stroke:#262626;\" x=\"48.004688\" xlink:href=\"#m39d17f8085\" y=\"222.753058\"/>\n      </g>\n     </g>\n     <g id=\"text_7\">\n      <!-- 0 -->\n      <g style=\"fill:#262626;\" transform=\"translate(29.44375 226.376495)scale(0.1 -0.1)\">\n       <use xlink:href=\"#LiberationSans-48\"/>\n      </g>\n     </g>\n    </g>\n    <g id=\"ytick_2\">\n     <g id=\"line2d_8\">\n      <g>\n       <use style=\"fill:#262626;stroke:#262626;\" x=\"48.004688\" xlink:href=\"#m39d17f8085\" y=\"196.130468\"/>\n      </g>\n     </g>\n     <g id=\"text_8\">\n      <!-- 2000 -->\n      <g style=\"fill:#262626;\" transform=\"translate(12.760938 199.753906)scale(0.1 -0.1)\">\n       <use xlink:href=\"#LiberationSans-50\"/>\n       <use x=\"55.615234\" xlink:href=\"#LiberationSans-48\"/>\n       <use x=\"111.230469\" xlink:href=\"#LiberationSans-48\"/>\n       <use x=\"166.845703\" xlink:href=\"#LiberationSans-48\"/>\n      </g>\n     </g>\n    </g>\n    <g id=\"ytick_3\">\n     <g id=\"line2d_9\">\n      <g>\n       <use style=\"fill:#262626;stroke:#262626;\" x=\"48.004688\" xlink:href=\"#m39d17f8085\" y=\"169.507879\"/>\n      </g>\n     </g>\n     <g id=\"text_9\">\n      <!-- 4000 -->\n      <g style=\"fill:#262626;\" transform=\"translate(12.760938 173.131316)scale(0.1 -0.1)\">\n       <use xlink:href=\"#LiberationSans-52\"/>\n       <use x=\"55.615234\" xlink:href=\"#LiberationSans-48\"/>\n       <use x=\"111.230469\" xlink:href=\"#LiberationSans-48\"/>\n       <use x=\"166.845703\" xlink:href=\"#LiberationSans-48\"/>\n      </g>\n     </g>\n    </g>\n    <g id=\"ytick_4\">\n     <g id=\"line2d_10\">\n      <g>\n       <use style=\"fill:#262626;stroke:#262626;\" x=\"48.004688\" xlink:href=\"#m39d17f8085\" y=\"142.885289\"/>\n      </g>\n     </g>\n     <g id=\"text_10\">\n      <!-- 6000 -->\n      <g style=\"fill:#262626;\" transform=\"translate(12.760938 146.508727)scale(0.1 -0.1)\">\n       <use xlink:href=\"#LiberationSans-54\"/>\n       <use x=\"55.615234\" xlink:href=\"#LiberationSans-48\"/>\n       <use x=\"111.230469\" xlink:href=\"#LiberationSans-48\"/>\n       <use x=\"166.845703\" xlink:href=\"#LiberationSans-48\"/>\n      </g>\n     </g>\n    </g>\n    <g id=\"ytick_5\">\n     <g id=\"line2d_11\">\n      <g>\n       <use style=\"fill:#262626;stroke:#262626;\" x=\"48.004688\" xlink:href=\"#m39d17f8085\" y=\"116.2627\"/>\n      </g>\n     </g>\n     <g id=\"text_11\">\n      <!-- 8000 -->\n      <g style=\"fill:#262626;\" transform=\"translate(12.760938 119.886137)scale(0.1 -0.1)\">\n       <use xlink:href=\"#LiberationSans-56\"/>\n       <use x=\"55.615234\" xlink:href=\"#LiberationSans-48\"/>\n       <use x=\"111.230469\" xlink:href=\"#LiberationSans-48\"/>\n       <use x=\"166.845703\" xlink:href=\"#LiberationSans-48\"/>\n      </g>\n     </g>\n    </g>\n    <g id=\"ytick_6\">\n     <g id=\"line2d_12\">\n      <g>\n       <use style=\"fill:#262626;stroke:#262626;\" x=\"48.004688\" xlink:href=\"#m39d17f8085\" y=\"89.64011\"/>\n      </g>\n     </g>\n     <g id=\"text_12\">\n      <!-- 10000 -->\n      <g style=\"fill:#262626;\" transform=\"translate(7.2 93.263548)scale(0.1 -0.1)\">\n       <use xlink:href=\"#LiberationSans-49\"/>\n       <use x=\"55.615234\" xlink:href=\"#LiberationSans-48\"/>\n       <use x=\"111.230469\" xlink:href=\"#LiberationSans-48\"/>\n       <use x=\"166.845703\" xlink:href=\"#LiberationSans-48\"/>\n       <use x=\"222.460938\" xlink:href=\"#LiberationSans-48\"/>\n      </g>\n     </g>\n    </g>\n    <g id=\"ytick_7\">\n     <g id=\"line2d_13\">\n      <g>\n       <use style=\"fill:#262626;stroke:#262626;\" x=\"48.004688\" xlink:href=\"#m39d17f8085\" y=\"63.017521\"/>\n      </g>\n     </g>\n     <g id=\"text_13\">\n      <!-- 12000 -->\n      <g style=\"fill:#262626;\" transform=\"translate(7.2 66.640958)scale(0.1 -0.1)\">\n       <use xlink:href=\"#LiberationSans-49\"/>\n       <use x=\"55.615234\" xlink:href=\"#LiberationSans-50\"/>\n       <use x=\"111.230469\" xlink:href=\"#LiberationSans-48\"/>\n       <use x=\"166.845703\" xlink:href=\"#LiberationSans-48\"/>\n       <use x=\"222.460938\" xlink:href=\"#LiberationSans-48\"/>\n      </g>\n     </g>\n    </g>\n    <g id=\"ytick_8\">\n     <g id=\"line2d_14\">\n      <g>\n       <use style=\"fill:#262626;stroke:#262626;\" x=\"48.004688\" xlink:href=\"#m39d17f8085\" y=\"36.394931\"/>\n      </g>\n     </g>\n     <g id=\"text_14\">\n      <!-- 14000 -->\n      <g style=\"fill:#262626;\" transform=\"translate(7.2 40.018369)scale(0.1 -0.1)\">\n       <use xlink:href=\"#LiberationSans-49\"/>\n       <use x=\"55.615234\" xlink:href=\"#LiberationSans-52\"/>\n       <use x=\"111.230469\" xlink:href=\"#LiberationSans-48\"/>\n       <use x=\"166.845703\" xlink:href=\"#LiberationSans-48\"/>\n       <use x=\"222.460938\" xlink:href=\"#LiberationSans-48\"/>\n      </g>\n     </g>\n    </g>\n   </g>\n   <g id=\"line2d_15\">\n    <path clip-path=\"url(#p0c824be537)\" d=\"M 63.222869 220.756364 \nL 69.434372 216.722226 \nL 75.645875 212.688089 \nL 81.857378 208.653952 \nL 88.06888 204.619814 \nL 94.280383 200.585677 \nL 100.491886 196.55154 \nL 106.703389 192.517403 \nL 112.914892 188.483265 \nL 119.126394 184.449128 \nL 125.337897 180.414991 \nL 131.5494 176.380853 \nL 137.760903 172.346716 \nL 143.972405 168.312579 \nL 150.183908 164.278442 \nL 156.395411 160.244304 \nL 162.606914 156.210167 \nL 168.818417 152.17603 \nL 175.029919 148.141892 \nL 181.241422 144.107755 \nL 187.452925 140.073618 \nL 193.664428 136.039481 \nL 199.875931 132.005343 \nL 206.087433 127.971206 \nL 212.298936 123.937069 \nL 218.510439 119.902931 \nL 224.721942 115.868794 \nL 230.933444 111.834657 \nL 237.144947 107.800519 \nL 243.35645 103.766382 \nL 249.567953 99.732245 \nL 255.779456 95.698108 \nL 261.990958 91.66397 \nL 268.202461 87.629833 \nL 274.413964 83.595696 \nL 280.625467 79.561558 \nL 286.83697 75.527421 \nL 293.048472 71.493284 \nL 299.259975 67.459147 \nL 305.471478 63.425009 \nL 311.682981 59.390872 \nL 317.894483 55.356735 \nL 324.105986 51.322597 \nL 330.317489 47.28846 \nL 336.528992 43.254323 \nL 342.740495 39.220186 \nL 348.951997 35.186048 \nL 355.1635 31.151911 \nL 361.375003 27.117774 \nL 367.586506 23.083636 \n\" style=\"fill:none;stroke:#4c72b0;stroke-linecap:round;stroke-width:1.75;\"/>\n   </g>\n   <g id=\"patch_3\">\n    <path d=\"M 48.004688 230.64 \nL 48.004688 13.2 \n\" style=\"fill:none;stroke:#262626;stroke-linecap:square;stroke-linejoin:miter;stroke-width:1.25;\"/>\n   </g>\n   <g id=\"patch_4\">\n    <path d=\"M 48.004688 230.64 \nL 382.804688 230.64 \n\" style=\"fill:none;stroke:#262626;stroke-linecap:square;stroke-linejoin:miter;stroke-width:1.25;\"/>\n   </g>\n  </g>\n </g>\n <defs>\n  <clipPath id=\"p0c824be537\">\n   <rect height=\"217.44\" width=\"334.8\" x=\"48.004688\" y=\"13.2\"/>\n  </clipPath>\n </defs>\n</svg>\n"
          },
          "metadata": {
            "tags": []
          }
        }
      ]
    },
    {
      "metadata": {
        "id": "rIO8PBAPKP4U",
        "colab_type": "code",
        "outputId": "bc36c17a-43c3-40f7-8df4-0cec290ecdfe",
        "colab": {
          "base_uri": "https://localhost:8080/",
          "height": 71
        }
      },
      "cell_type": "code",
      "source": [
        "budget_remaining = 6250*1000\n",
        "    \n",
        "statistics = {\n",
        "    'impressions':0,\n",
        "    'spend': 0,\n",
        "    'clicks': 0,\n",
        "    'too_expensive': 0,\n",
        "    'lost': 0\n",
        "}\n",
        "\n",
        "# list of bids for all ad requests\n",
        "bids = multi_agen_bid_function(pCTR)\n",
        "\n",
        "# loop through all bids for every ad request\n",
        "for i in range(len(bids)):    \n",
        "    second_highest_bid = payprice[i]\n",
        "\n",
        "    won = bids[i] >= second_highest_bid and second_highest_bid <= budget_remaining\n",
        "\n",
        "    if(second_highest_bid > budget_remaining):\n",
        "        statistics['too_expensive'] += 1\n",
        "\n",
        "    if(second_highest_bid> bids[i]):\n",
        "        statistics['lost'] += 1\n",
        "\n",
        "\n",
        "    if(won):\n",
        "        statistics['impressions'] += 1\n",
        "        statistics['spend'] += second_highest_bid\n",
        "        statistics['clicks'] += clicks[i]\n",
        "\n",
        "        # subtract current bid from budget \n",
        "        budget_remaining -= second_highest_bid\n",
        "\n",
        "\n",
        "statistics['CTR'] = statistics['clicks'] / statistics['impressions']\n",
        "statistics['aCPM'] = statistics['spend'] / statistics['impressions'] \n",
        "statistics['aCPC'] = (statistics['spend']/1000) / statistics['clicks']\n",
        "\n",
        "print(statistics)\n",
        "print('done')"
      ],
      "execution_count": 24,
      "outputs": [
        {
          "output_type": "stream",
          "text": [
            "{'impressions': 94398, 'spend': 5561061, 'clicks': 159, 'too_expensive': 0, 'lost': 209527, 'CTR': 0.0016843577194432086, 'aCPM': 58.91079260153817, 'aCPC': 34.97522641509434}\n",
            "done\n"
          ],
          "name": "stdout"
        }
      ]
    },
    {
      "metadata": {
        "id": "ObkwHOm4dMht",
        "colab_type": "code",
        "colab": {}
      },
      "cell_type": "code",
      "source": [
        "batches = np.array_split(test, 200)\n",
        "\n",
        "pCTR_test = []\n",
        "for batch in batches:\n",
        "    data = batch.drop(columns=['click', 'payprice']).values\n",
        "    target = batch['click'].values\n",
        "    \n",
        "    data = torch.from_numpy(data).float()\n",
        "    target = torch.from_numpy(target).float()\n",
        "    \n",
        "    output = model(data)\n",
        "    \n",
        "    prediction = (output.data).float()\n",
        "    y_hat_prob = prediction.cpu().numpy().squeeze()\n",
        "    \n",
        "    pCTR_test.extend(y_hat_prob)\n",
        "    \n",
        "pCTR_test = np.array(pCTR_test)"
      ],
      "execution_count": 0,
      "outputs": []
    },
    {
      "metadata": {
        "id": "ZxYyY-JfdpEX",
        "colab_type": "code",
        "colab": {}
      },
      "cell_type": "code",
      "source": [
        "X_test = test.drop(columns=['click', 'payprice'])\n",
        "\n",
        "bids = multi_agen_bid_function(pCTR_test)\n",
        "\n",
        "# get bid id's\n",
        "test_raw = pd.read_csv(\n",
        "    '/content/gdrive/My Drive/Colab Notebooks/we_data/test.csv')\n",
        "\n",
        "# export to file\n",
        "df_bids = pd.DataFrame(\n",
        "    np.round(bids, 1), index=test_raw['bidid'].values, columns=['bidprice'])\n",
        "df_bids.index.name = 'bidid'\n",
        "df_bids = df_bids.reset_index()\n",
        "\n",
        "file = '/content/gdrive/My Drive/Colab Notebooks/bid_attemnt_multi_agent_strategy_{}.csv'.format(\n",
        "    time.strftime('%Y-%m-%d_%H:%M:%S'))\n",
        "df_bids.to_csv(file, index=False)"
      ],
      "execution_count": 0,
      "outputs": []
    }
  ]
}