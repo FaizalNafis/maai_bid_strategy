{
 "cells": [
  {
   "cell_type": "code",
   "execution_count": 8,
   "metadata": {
    "ExecuteTime": {
     "end_time": "2019-03-03T10:13:03.262772Z",
     "start_time": "2019-03-03T10:12:54.268201Z"
    }
   },
   "outputs": [],
   "source": [
    "from __future__ import print_function, division\n",
    "import numpy as np\n",
    "import pandas as pd\n",
    "import math\n",
    "import pickle\n",
    "\n",
    "import torch\n",
    "from torch.utils.data import Dataset, DataLoader, TensorDataset\n",
    "from torch.autograd import Variable\n",
    "from torch import nn as nn\n",
    "from torch.optim import lr_scheduler\n",
    "import copy\n",
    "import time\n",
    "\n",
    "from tqdm import tqdm_notebook\n",
    "\n",
    "from sklearn.metrics import roc_auc_score, log_loss, roc_auc_score, roc_curve, auc, classification_report, balanced_accuracy_score\n",
    "\n",
    "import matplotlib as mpl\n",
    "\n",
    "import matplotlib.pyplot as plt\n",
    "import seaborn as sns\n",
    "\n",
    "sns.set(style=\"ticks\")\n",
    "pd.set_option('display.max_columns', 100)\n",
    "\n",
    "%matplotlib inline\n",
    "%config InlineBackend.figure_format = 'svg'"
   ]
  },
  {
   "cell_type": "markdown",
   "metadata": {},
   "source": [
    "# Load and transform data to tensor"
   ]
  },
  {
   "cell_type": "code",
   "execution_count": 9,
   "metadata": {
    "ExecuteTime": {
     "end_time": "2019-03-03T10:13:03.316206Z",
     "start_time": "2019-03-03T10:13:03.294850Z"
    }
   },
   "outputs": [
    {
     "data": {
      "text/plain": [
       "<torch._C.Generator at 0x11a7fd550>"
      ]
     },
     "execution_count": 9,
     "metadata": {},
     "output_type": "execute_result"
    }
   ],
   "source": [
    "seed=622\n",
    "np.random.seed(seed)\n",
    "torch.manual_seed(seed)"
   ]
  },
  {
   "cell_type": "code",
   "execution_count": 12,
   "metadata": {
    "ExecuteTime": {
     "end_time": "2019-03-03T10:13:23.835874Z",
     "start_time": "2019-03-03T10:13:14.584747Z"
    }
   },
   "outputs": [],
   "source": [
    "colab_env = False\n",
    "\n",
    "if not(colab_env):\n",
    "#     train = pd.read_hdf('preprocessed.h5', 'train')\n",
    "    validation = pd.read_hdf('preprocessed.h5', 'validation')\n",
    "    X_resampled, y_resampled = pickle.load(open( \"resampled\", \"rb\" ))\n",
    "    \n",
    "else:\n",
    "    from google.colab import drive\n",
    "    drive.mount('/content/gdrive')\n",
    "    \n",
    "    validation = pd.read_hdf('/content/gdrive/My Drive/Colab Notebooks/we_data/preprocessed.h5', 'validation')\n",
    "    X_resampled, y_resampled = pickle.load(open( \"/content/gdrive/My Drive/Colab Notebooks/we_data/resampled\", \"rb\" ))"
   ]
  },
  {
   "cell_type": "code",
   "execution_count": 13,
   "metadata": {
    "ExecuteTime": {
     "end_time": "2019-03-03T10:23:15.654583Z",
     "start_time": "2019-03-03T10:22:54.028564Z"
    }
   },
   "outputs": [
    {
     "name": "stdout",
     "output_type": "stream",
     "text": [
      "True\n"
     ]
    }
   ],
   "source": [
    "X_validation = validation.drop(columns=['click', 'payprice']).values\n",
    "y_validation = validation['click'].values\n",
    "\n",
    "print(X_resampled.shape[1] == X_validation.shape[1])\n",
    "\n",
    "train_loader = TensorDataset(torch.from_numpy(X_resampled).float(), torch.from_numpy(y_resampled).float())\n",
    "train_loader = DataLoader(train_loader, batch_size=400, shuffle=True, num_workers=4)\n",
    "\n",
    "validation_loader = TensorDataset(torch.from_numpy(X_validation).float(), torch.from_numpy(y_validation).float())\n",
    "validation_loader = DataLoader(validation_loader, batch_size=40000, shuffle=True, num_workers=4)"
   ]
  },
  {
   "cell_type": "markdown",
   "metadata": {},
   "source": [
    "# Define model"
   ]
  },
  {
   "cell_type": "code",
   "execution_count": 14,
   "metadata": {
    "ExecuteTime": {
     "end_time": "2019-03-03T10:23:17.506277Z",
     "start_time": "2019-03-03T10:23:17.362145Z"
    }
   },
   "outputs": [
    {
     "name": "stdout",
     "output_type": "stream",
     "text": [
      "Running on cpu\n",
      "DataParallel(\n",
      "  (module): Sequential(\n",
      "    (0): Linear(in_features=963, out_features=1024, bias=True)\n",
      "    (1): Dropout(p=0.5)\n",
      "    (2): ReLU()\n",
      "    (3): Linear(in_features=1024, out_features=1024, bias=True)\n",
      "    (4): Dropout(p=0.5)\n",
      "    (5): ReLU()\n",
      "    (6): Linear(in_features=1024, out_features=1, bias=True)\n",
      "    (7): Sigmoid()\n",
      "  )\n",
      ")\n"
     ]
    }
   ],
   "source": [
    "seed=622\n",
    "np.random.seed(seed)\n",
    "torch.manual_seed(seed)\n",
    "\n",
    "\n",
    "input_layer = X_validation.shape[1]\n",
    "hidden_layer_1 = 2**10\n",
    "hidden_layer_2 = 2**10\n",
    "hidden_layer_3 = 2**10\n",
    "hidden_layer_4 = 2**10\n",
    "output_layer = 1 \n",
    "\n",
    "linear1 = nn.Linear(input_layer, hidden_layer_1)\n",
    "nn.init.xavier_uniform_(linear1.weight)\n",
    "\n",
    "linear2 = nn.Linear(hidden_layer_1, hidden_layer_2)\n",
    "nn.init.xavier_uniform_(linear2.weight)\n",
    "\n",
    "linear3 = nn.Linear(hidden_layer_2, output_layer)\n",
    "nn.init.xavier_uniform_(linear3.weight)\n",
    "\n",
    "linear4 = nn.Linear(hidden_layer_3, output_layer)\n",
    "nn.init.xavier_uniform_(linear4.weight)\n",
    "\n",
    "\n",
    "drop_prob = 0.50\n",
    "dropout = nn.Dropout(p=(1 - drop_prob))\n",
    "\n",
    "\n",
    "# todo replace linear hidden layers to convolution layers \n",
    "model = torch.nn.Sequential(\n",
    "    linear1,\n",
    "    dropout,\n",
    "    nn.ReLU(),\n",
    "    linear2,\n",
    "    dropout,\n",
    "    nn.ReLU(),\n",
    "    linear3,\n",
    "#     dropout,\n",
    "#     nn.ReLU(),\n",
    "#     linear4,\n",
    "    nn.Sigmoid())\n",
    "\n",
    "device = torch.device(\"cuda:0\" if torch.cuda.is_available() else \"cpu\")\n",
    "print('Running on {}'.format(device))\n",
    "model.to(device)\n",
    "\n",
    "\n",
    "# enable parallel \n",
    "model = nn.DataParallel(model)\n",
    "\n",
    "criterion = nn.BCELoss()\n",
    "optimizer = torch.optim.Adam(model.parameters(), lr=0.01)\n",
    "\n",
    "# Decay LR by a factor of 0.1 every 7 epochs\n",
    "exp_lr_scheduler = lr_scheduler.StepLR(optimizer, step_size=20, gamma=0.1)\n",
    "\n",
    "if torch.cuda.is_available():\n",
    "    model = model.cuda()\n",
    "    criterion = criterion.cuda()\n",
    "\n",
    "print(model)"
   ]
  },
  {
   "cell_type": "markdown",
   "metadata": {
    "ExecuteTime": {
     "end_time": "2019-03-02T21:31:19.368905Z",
     "start_time": "2019-03-02T21:31:19.342747Z"
    }
   },
   "source": [
    "# Train function"
   ]
  },
  {
   "cell_type": "code",
   "execution_count": 173,
   "metadata": {
    "ExecuteTime": {
     "end_time": "2019-03-02T16:49:08.509394Z",
     "start_time": "2019-03-02T16:49:08.486538Z"
    }
   },
   "outputs": [],
   "source": [
    "def train_model(model, criterion, optimizer, scheduler, num_epochs=25):\n",
    "    print('Running on {}\\n'.format(device))\n",
    "\n",
    "    since = time.time()\n",
    "\n",
    "    best_model_wts = copy.deepcopy(model.state_dict())\n",
    "    best_roc = 0.0\n",
    "    best_acc = 0.0\n",
    "    model_loss = None\n",
    "    num_updates = 0\n",
    "\n",
    "    for epoch in range(num_epochs):\n",
    "        print('\\nEpoch {}/{}'.format(epoch, num_epochs - 1))\n",
    "        print('-' * 10)\n",
    "\n",
    "        for phase in ['train', 'val']:\n",
    "\n",
    "            # Set NN to training\n",
    "            if phase == 'train':\n",
    "                scheduler.step()\n",
    "                model.train()  # Set model to training mode\n",
    "                loader = train_loader\n",
    "                loader_len = len(loader.dataset)\n",
    "\n",
    "            # Set NN to evaluate\n",
    "            else:\n",
    "                model.eval()\n",
    "                loader = validation_loader\n",
    "                loader_len = len(loader.dataset)\n",
    "\n",
    "            running_loss = 0.0\n",
    "            running_roc = 0.0\n",
    "            running_acc = 0.0\n",
    "\n",
    "            for batch, (data, target) in enumerate(loader):\n",
    "                data, target = Variable(data), Variable(target)\n",
    "\n",
    "                data = data.to(device)\n",
    "                target = target.to(device)\n",
    "\n",
    "                # Reset gradients\n",
    "                optimizer.zero_grad()\n",
    "\n",
    "                with torch.set_grad_enabled(phase == 'train'):\n",
    "\n",
    "                    # Forward Propagation\n",
    "                    output = model(data)\n",
    "\n",
    "                    # loss function\n",
    "                    loss = criterion(output.squeeze(), target)\n",
    "\n",
    "                    prediction = (output.data).float()\n",
    "                    y_hat_prob = prediction.cpu().numpy().squeeze()\n",
    "                    y_hat_class =  (prediction.cpu() > 0.5).float()\n",
    "                    \n",
    "                    target_y = target.cpu().data.numpy()\n",
    "                    \n",
    "\n",
    "                    # get predicted labels\n",
    "                    _, preds = torch.max(output, 1)\n",
    "\n",
    "                    # optimise in training\n",
    "                    if phase == 'train':\n",
    "\n",
    "                        # Backwards propagation error\n",
    "                        loss.backward()\n",
    "\n",
    "                        # apply\n",
    "                        optimizer.step()\n",
    "\n",
    "                # statistics\n",
    "                running_loss += loss.item() * data.size(0)\n",
    "                running_roc += roc_auc_score(target_y, y_hat_prob) * data.size(0)\n",
    "                running_acc += balanced_accuracy_score(target_y, y_hat_class) * data.size(0)\n",
    "                \n",
    "                if (batch + 1) % 50 == 0:\n",
    "                    print('{} Epoch: {} [{}/{} ({:.0f}%)]'.format(\n",
    "                        phase, epoch, (batch + 1) * len(data),\n",
    "                        len(loader.dataset), 100. * (batch + 1) / len(loader)))\n",
    "\n",
    "            epoch_loss = running_loss / loader_len\n",
    "            epoch_roc = running_roc / loader_len\n",
    "            epoch_acc = running_acc / loader_len\n",
    "\n",
    "            print('\\n\\t{}:\\tLoss {:.5f},\\t ROC AUC {:.5f}\\t, Balanced Acc {:.5f}'.format(\n",
    "                phase, epoch_loss, epoch_roc, epoch_acc))\n",
    "\n",
    "            if(model_loss == None and phase == 'val'):\n",
    "                model_loss = epoch_loss\n",
    "            \n",
    "                \n",
    "            # deep copy the model\n",
    "            if phase == 'val' and epoch_roc >= best_roc and epoch_acc >= best_acc:\n",
    "                print('\\t\\tsave updated model')\n",
    "                best_acc = epoch_acc\n",
    "                best_roc = epoch_roc\n",
    "                model_loss = epoch_loss\n",
    "                best_model_wts = copy.deepcopy(model.state_dict())\n",
    "                num_updates += 1\n",
    "  \n",
    "    print('\\n')\n",
    "    print('=' * 30)\n",
    "    print('=' * 30)\n",
    "    time_elapsed = time.time() - since\n",
    "    print('Training complete in {:.0f}m {:.0f}s\\n'.format(\n",
    "        time_elapsed // 60, time_elapsed % 60))\n",
    "    print('Min Loss: {:4f}\\nROC AUC: {:4f}\\nModel updates: {}'.format(min_loss, best_roc, num_updates))\n",
    "    \n",
    "    \n",
    "    filename = 'model_roc_{:.3f}_balanced_acc_{:.3f}_model_loss_{:.3f}.pt'.format(best_roc, best_acc, model_loss)\n",
    "\n",
    "    # load best model weights and return this model\n",
    "    model.load_state_dict(best_model_wts)\n",
    "    return model, filename"
   ]
  },
  {
   "cell_type": "code",
   "execution_count": 22,
   "metadata": {
    "ExecuteTime": {
     "end_time": "2019-03-03T10:28:21.424976Z",
     "start_time": "2019-03-03T10:28:21.410135Z"
    },
    "scrolled": false
   },
   "outputs": [
    {
     "ename": "NameError",
     "evalue": "name 'train_model' is not defined",
     "output_type": "error",
     "traceback": [
      "\u001b[0;31m---------------------------------------------------------------------------\u001b[0m",
      "\u001b[0;31mNameError\u001b[0m                                 Traceback (most recent call last)",
      "\u001b[0;32m<ipython-input-22-5c3c7656ab82>\u001b[0m in \u001b[0;36m<module>\u001b[0;34m\u001b[0m\n\u001b[0;32m----> 1\u001b[0;31m \u001b[0mbest_model\u001b[0m\u001b[0;34m,\u001b[0m \u001b[0mfilename\u001b[0m \u001b[0;34m=\u001b[0m \u001b[0mtrain_model\u001b[0m\u001b[0;34m(\u001b[0m\u001b[0mmodel\u001b[0m\u001b[0;34m,\u001b[0m \u001b[0mcriterion\u001b[0m\u001b[0;34m,\u001b[0m \u001b[0moptimizer\u001b[0m\u001b[0;34m,\u001b[0m \u001b[0mexp_lr_scheduler\u001b[0m\u001b[0;34m,\u001b[0m \u001b[0mnum_epochs\u001b[0m\u001b[0;34m=\u001b[0m\u001b[0;36m2\u001b[0m\u001b[0;34m)\u001b[0m\u001b[0;34m\u001b[0m\u001b[0;34m\u001b[0m\u001b[0m\n\u001b[0m\u001b[1;32m      2\u001b[0m \u001b[0mfile_poiter\u001b[0m \u001b[0;34m=\u001b[0m \u001b[0;34m'/content/gdrive/My Drive/Colab Notebooks/'\u001b[0m \u001b[0;34m+\u001b[0m \u001b[0mfilename\u001b[0m\u001b[0;34m\u001b[0m\u001b[0;34m\u001b[0m\u001b[0m\n\u001b[1;32m      3\u001b[0m \u001b[0;34m\u001b[0m\u001b[0m\n\u001b[1;32m      4\u001b[0m \u001b[0mtorch\u001b[0m\u001b[0;34m.\u001b[0m\u001b[0msave\u001b[0m\u001b[0;34m(\u001b[0m\u001b[0mbest_model\u001b[0m\u001b[0;34m,\u001b[0m \u001b[0mfile_poiter\u001b[0m\u001b[0;34m)\u001b[0m\u001b[0;34m\u001b[0m\u001b[0;34m\u001b[0m\u001b[0m\n",
      "\u001b[0;31mNameError\u001b[0m: name 'train_model' is not defined"
     ]
    }
   ],
   "source": [
    "best_model, filename = train_model(model, criterion, optimizer, exp_lr_scheduler, num_epochs=2)\n",
    "file_poiter = '/content/gdrive/My Drive/Colab Notebooks/' + filename\n",
    "\n",
    "torch.save(best_model, file_poiter)"
   ]
  },
  {
   "cell_type": "code",
   "execution_count": null,
   "metadata": {},
   "outputs": [],
   "source": [
    "# show some plots\n",
    "# plt.plot(np.array(losses)[:, 0], label='BCELoss')\n",
    "# plt.plot(np.array(losses)[:, 1], label='Log Loss')\n",
    "# plt.title('Loss evaluation over time')\n",
    "# plt.xlabel('per 10 epochs')\n",
    "# plt.ylabel('Loss')\n",
    "# plt.legend()\n",
    "# sns.despine()\n",
    "# plt.show()\n",
    "\n",
    "# plt.plot(np.array(losses)[:, 2], 'g--', label='ROC AUC')\n",
    "# plt.title('ROC AUC evaluation over time')\n",
    "# plt.xlabel('per 10 epochs')\n",
    "# plt.ylabel('ROC AUC')\n",
    "# plt.legend()\n",
    "# sns.despine()\n",
    "# plt.show()\n",
    "\n",
    "# fpr, tpr, _ = roc_curve(y_true, y_hat)\n",
    "# plt.plot(fpr, tpr)\n",
    "# plt.plot([0, 1], [0, 1], 'r--')\n",
    "# plt.xlabel('False positive rate')\n",
    "# plt.ylabel('True positive rate')\n",
    "# plt.title('ROC curve')\n",
    "# sns.despine()\n",
    "# plt.show()"
   ]
  },
  {
   "cell_type": "markdown",
   "metadata": {},
   "source": [
    "## Validation"
   ]
  },
  {
   "cell_type": "code",
   "execution_count": 21,
   "metadata": {
    "ExecuteTime": {
     "end_time": "2019-03-03T10:28:01.287299Z",
     "start_time": "2019-03-03T10:28:01.185028Z"
    }
   },
   "outputs": [
    {
     "ename": "AttributeError",
     "evalue": "'collections.OrderedDict' object has no attribute 'eval'",
     "output_type": "error",
     "traceback": [
      "\u001b[0;31m---------------------------------------------------------------------------\u001b[0m",
      "\u001b[0;31mAttributeError\u001b[0m                            Traceback (most recent call last)",
      "\u001b[0;32m<ipython-input-21-32481aa67ec5>\u001b[0m in \u001b[0;36m<module>\u001b[0;34m\u001b[0m\n\u001b[1;32m      2\u001b[0m \u001b[0;31m# model.load_state_dict(torch.load(PATH),  map_location=lambda storage, loc: storage)\u001b[0m\u001b[0;34m\u001b[0m\u001b[0;34m\u001b[0m\u001b[0;34m\u001b[0m\u001b[0m\n\u001b[1;32m      3\u001b[0m \u001b[0mmodel\u001b[0m \u001b[0;34m=\u001b[0m \u001b[0mtorch\u001b[0m\u001b[0;34m.\u001b[0m\u001b[0mload\u001b[0m\u001b[0;34m(\u001b[0m\u001b[0mPATH\u001b[0m\u001b[0;34m,\u001b[0m \u001b[0mmap_location\u001b[0m\u001b[0;34m=\u001b[0m\u001b[0;34m'cpu'\u001b[0m\u001b[0;34m)\u001b[0m\u001b[0;34m\u001b[0m\u001b[0;34m\u001b[0m\u001b[0m\n\u001b[0;32m----> 4\u001b[0;31m \u001b[0mmodel\u001b[0m\u001b[0;34m.\u001b[0m\u001b[0meval\u001b[0m\u001b[0;34m(\u001b[0m\u001b[0;34m)\u001b[0m\u001b[0;34m\u001b[0m\u001b[0;34m\u001b[0m\u001b[0m\n\u001b[0m\u001b[1;32m      5\u001b[0m \u001b[0;34m\u001b[0m\u001b[0m\n\u001b[1;32m      6\u001b[0m \u001b[0;31m# outputs = net(X_validation)\u001b[0m\u001b[0;34m\u001b[0m\u001b[0;34m\u001b[0m\u001b[0;34m\u001b[0m\u001b[0m\n",
      "\u001b[0;31mAttributeError\u001b[0m: 'collections.OrderedDict' object has no attribute 'eval'"
     ]
    }
   ],
   "source": [
    "PATH = '/Users/davidvanrooij/Google Drive/Colab Notebooks/0.86178_model.pt'\n",
    "# model.load_state_dict(torch.load(PATH),  map_location=lambda storage, loc: storage)\n",
    "model = torch.load(PATH, map_location='cpu')\n",
    "model.eval()\n",
    "\n",
    "# outputs = net(X_validation)\n",
    "# y_validation_prob_hat = (outputs.data).float().numpy().squeeze()\n",
    "# y_validation_true = y_validation.data.numpy() \n",
    "\n",
    "# print(y_validation_prob_hat.shape == y_validation_true.squeeze().shape)\n",
    "\n",
    "# logloss = log_loss(target_y, pred_y)\n",
    "# rocauc = roc_auc_score(target_y,pred_y)\n",
    "\n",
    "# print('Log loss={:.5f}, ROC AUC={:.5f} \\n'.format(logloss, rocauc))\n",
    "\n",
    "# _, y_validation_class_hat = torch.max(outputs, 1)\n",
    "# y_validation_class_hat = y_validation_class_hat.numpy()\n",
    "# y_validation_true = y_validation_true.squeeze()\n",
    "# max(y_validation_hat)\n"
   ]
  },
  {
   "cell_type": "code",
   "execution_count": null,
   "metadata": {
    "ExecuteTime": {
     "end_time": "2019-03-01T14:04:19.161779Z",
     "start_time": "2019-03-01T14:03:15.066Z"
    }
   },
   "outputs": [],
   "source": [
    "print(classification_report(y_validation_true, y_validation_hat, target_names=['no click', 'click']))"
   ]
  }
 ],
 "metadata": {
  "kernelspec": {
   "display_name": "Python 3",
   "language": "python",
   "name": "python3"
  },
  "varInspector": {
   "cols": {
    "lenName": 16,
    "lenType": 16,
    "lenVar": 40
   },
   "kernels_config": {
    "python": {
     "delete_cmd_postfix": "",
     "delete_cmd_prefix": "del ",
     "library": "var_list.py",
     "varRefreshCmd": "print(var_dic_list())"
    },
    "r": {
     "delete_cmd_postfix": ") ",
     "delete_cmd_prefix": "rm(",
     "library": "var_list.r",
     "varRefreshCmd": "cat(var_dic_list()) "
    }
   },
   "position": {
    "height": "464px",
    "left": "1345px",
    "right": "14px",
    "top": "118px",
    "width": "321px"
   },
   "types_to_exclude": [
    "module",
    "function",
    "builtin_function_or_method",
    "instance",
    "_Feature"
   ],
   "window_display": false
  }
 },
 "nbformat": 4,
 "nbformat_minor": 2
}
