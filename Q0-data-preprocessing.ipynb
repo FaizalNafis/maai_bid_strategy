{
 "cells": [
  {
   "cell_type": "code",
   "execution_count": 2,
   "metadata": {
    "ExecuteTime": {
     "end_time": "2019-03-06T15:01:20.925933Z",
     "start_time": "2019-03-06T15:01:16.132197Z"
    }
   },
   "outputs": [],
   "source": [
    "from __future__ import print_function, division\n",
    "import numpy as np\n",
    "import pandas as pd\n",
    "import math\n",
    "import pickle\n",
    "from tqdm import tqdm, tqdm_notebook\n",
    "\n",
    "from sklearn.preprocessing import MultiLabelBinarizer\n",
    "\n",
    "from sklearn.model_selection import cross_val_score, KFold, train_test_split\n",
    "\n",
    "from sklearn.metrics import balanced_accuracy_score, roc_auc_score, classification_report, log_loss\n",
    "\n",
    "from imblearn.combine import SMOTETomek\n",
    "from imblearn.over_sampling import SMOTE\n",
    "from imblearn.under_sampling import TomekLinks\n",
    "\n",
    "from imblearn.metrics import classification_report_imbalanced\n",
    "\n",
    "\n",
    "import matplotlib as mpl\n",
    "\n",
    "import matplotlib.pyplot as plt\n",
    "import seaborn as sns\n",
    "\n",
    "sns.set(style=\"ticks\")\n",
    "pd.set_option('display.max_columns', 100)\n",
    "\n",
    "%matplotlib inline\n",
    "%config InlineBackend.figure_format = 'svg'"
   ]
  },
  {
   "cell_type": "code",
   "execution_count": 2,
   "metadata": {
    "ExecuteTime": {
     "end_time": "2019-03-02T10:46:13.995596Z",
     "start_time": "2019-03-02T10:46:13.988764Z"
    }
   },
   "outputs": [],
   "source": [
    "def memory(df):\n",
    "    print(\"Memory usage of the dataframe is {:.2f} MB\".format(\n",
    "        df.memory_usage().sum() / 1024**2))\n",
    "    \n",
    "    \n",
    "def entropy(df, base = 2):\n",
    "    \"\"\" Calculate the entropy for every column in a df\"\"\"\n",
    "    \n",
    "    entropy = {}\n",
    "    \n",
    "    for column in df.columns:\n",
    "        prob = df[column].value_counts(normalize=True, sort=False)\n",
    "        \n",
    "        entropy[column] = -(prob * np.log(prob)/np.log(base)).sum()\n",
    "        \n",
    "    return pd.Series(entropy).sort_values(ascending=False)"
   ]
  },
  {
   "cell_type": "code",
   "execution_count": 3,
   "metadata": {
    "ExecuteTime": {
     "end_time": "2019-03-02T08:35:12.956635Z",
     "start_time": "2019-03-02T08:34:48.855183Z"
    }
   },
   "outputs": [],
   "source": [
    "train = pd.read_csv('../we_data/train.csv')\n",
    "validation = pd.read_csv('../we_data/validation.csv')\n",
    "test = pd.read_csv('../we_data/test.csv')"
   ]
  },
  {
   "cell_type": "code",
   "execution_count": 4,
   "metadata": {
    "ExecuteTime": {
     "end_time": "2019-03-02T08:35:15.723906Z",
     "start_time": "2019-03-02T08:35:13.580501Z"
    }
   },
   "outputs": [
    {
     "data": {
      "text/plain": [
       "click                   0\n",
       "weekday                 0\n",
       "hour                    0\n",
       "bidid                   0\n",
       "userid                  0\n",
       "useragent               0\n",
       "IP                      0\n",
       "region                  0\n",
       "city                    0\n",
       "adexchange          49829\n",
       "domain             137135\n",
       "url                 86812\n",
       "urlid             2430981\n",
       "slotid                  0\n",
       "slotwidth               0\n",
       "slotheight              0\n",
       "slotvisibility          0\n",
       "slotformat              0\n",
       "slotprice               0\n",
       "creative                0\n",
       "bidprice                0\n",
       "payprice                0\n",
       "keypage            504990\n",
       "advertiser              0\n",
       "usertag            497479\n",
       "dtype: int64"
      ]
     },
     "execution_count": 4,
     "metadata": {},
     "output_type": "execute_result"
    }
   ],
   "source": [
    "train.isnull().sum()"
   ]
  },
  {
   "cell_type": "code",
   "execution_count": 5,
   "metadata": {
    "ExecuteTime": {
     "end_time": "2019-03-02T08:35:16.567627Z",
     "start_time": "2019-03-02T08:35:16.495524Z"
    }
   },
   "outputs": [
    {
     "data": {
      "text/plain": [
       "3.0    819458\n",
       "2.0    763428\n",
       "1.0    718271\n",
       "4.0     79995\n",
       "Name: adexchange, dtype: int64"
      ]
     },
     "execution_count": 5,
     "metadata": {},
     "output_type": "execute_result"
    }
   ],
   "source": [
    "train['adexchange'].value_counts()"
   ]
  },
  {
   "cell_type": "code",
   "execution_count": 6,
   "metadata": {
    "ExecuteTime": {
     "end_time": "2019-03-02T08:35:30.184338Z",
     "start_time": "2019-03-02T08:35:17.303297Z"
    }
   },
   "outputs": [
    {
     "data": {
      "text/plain": [
       "bidid             21.213107\n",
       "userid            21.136952\n",
       "IP                18.103315\n",
       "url               16.149660\n",
       "usertag           14.872094\n",
       "slotid             9.422239\n",
       "domain             8.498091\n",
       "city               7.422192\n",
       "payprice           7.076786\n",
       "creative           5.873560\n",
       "region             4.533946\n",
       "hour               4.382678\n",
       "slotprice          3.269283\n",
       "keypage            3.195136\n",
       "slotwidth          3.064538\n",
       "advertiser         2.930429\n",
       "weekday            2.799784\n",
       "bidprice           2.614787\n",
       "slotvisibility     2.351020\n",
       "slotheight         2.024556\n",
       "adexchange         1.741802\n",
       "slotformat         1.478337\n",
       "useragent          1.447568\n",
       "click              0.008738\n",
       "urlid             -0.000000\n",
       "dtype: float64"
      ]
     },
     "execution_count": 6,
     "metadata": {},
     "output_type": "execute_result"
    }
   ],
   "source": [
    "entropy(train)"
   ]
  },
  {
   "cell_type": "code",
   "execution_count": 8,
   "metadata": {
    "ExecuteTime": {
     "end_time": "2019-02-26T17:41:57.356425Z",
     "start_time": "2019-02-26T17:41:57.298965Z"
    }
   },
   "outputs": [
    {
     "data": {
      "text/html": [
       "<div>\n",
       "<style scoped>\n",
       "    .dataframe tbody tr th:only-of-type {\n",
       "        vertical-align: middle;\n",
       "    }\n",
       "\n",
       "    .dataframe tbody tr th {\n",
       "        vertical-align: top;\n",
       "    }\n",
       "\n",
       "    .dataframe thead th {\n",
       "        text-align: right;\n",
       "    }\n",
       "</style>\n",
       "<table border=\"1\" class=\"dataframe\">\n",
       "  <thead>\n",
       "    <tr style=\"text-align: right;\">\n",
       "      <th></th>\n",
       "      <th>click</th>\n",
       "      <th>weekday</th>\n",
       "      <th>hour</th>\n",
       "      <th>bidid</th>\n",
       "      <th>userid</th>\n",
       "      <th>useragent</th>\n",
       "      <th>IP</th>\n",
       "      <th>region</th>\n",
       "      <th>city</th>\n",
       "      <th>adexchange</th>\n",
       "      <th>domain</th>\n",
       "      <th>url</th>\n",
       "      <th>urlid</th>\n",
       "      <th>slotid</th>\n",
       "      <th>slotwidth</th>\n",
       "      <th>slotheight</th>\n",
       "      <th>slotvisibility</th>\n",
       "      <th>slotformat</th>\n",
       "      <th>slotprice</th>\n",
       "      <th>creative</th>\n",
       "      <th>bidprice</th>\n",
       "      <th>payprice</th>\n",
       "      <th>keypage</th>\n",
       "      <th>advertiser</th>\n",
       "      <th>usertag</th>\n",
       "    </tr>\n",
       "  </thead>\n",
       "  <tbody>\n",
       "    <tr>\n",
       "      <th>0</th>\n",
       "      <td>0</td>\n",
       "      <td>5</td>\n",
       "      <td>22</td>\n",
       "      <td>b7bea80521fdecd95d2d761a38c91c3f09618066</td>\n",
       "      <td>2e880fb7d690cf7377b2e42e701728e3f3c0e4c1</td>\n",
       "      <td>windows_ie</td>\n",
       "      <td>125.37.175.*</td>\n",
       "      <td>2</td>\n",
       "      <td>2</td>\n",
       "      <td>2.0</td>\n",
       "      <td>trqRTvKaXTKfgg24JKTI</td>\n",
       "      <td>6447a7dfa30fe6eb410c91860e7c9b45</td>\n",
       "      <td>NaN</td>\n",
       "      <td>2015392487</td>\n",
       "      <td>200</td>\n",
       "      <td>200</td>\n",
       "      <td>2</td>\n",
       "      <td>0</td>\n",
       "      <td>5</td>\n",
       "      <td>a4f763f78ef3eedfe614263b94a8924e</td>\n",
       "      <td>238</td>\n",
       "      <td>5</td>\n",
       "      <td>0f951a030abdaedd733ee8d114ce2944</td>\n",
       "      <td>3427</td>\n",
       "      <td>NaN</td>\n",
       "    </tr>\n",
       "    <tr>\n",
       "      <th>1</th>\n",
       "      <td>0</td>\n",
       "      <td>1</td>\n",
       "      <td>20</td>\n",
       "      <td>4f51205475678f5a124bc76b2c54163bf8eaa7eb</td>\n",
       "      <td>3a1fe01360ff8100e7d006b83b77a3e4c01d928c</td>\n",
       "      <td>windows_chrome</td>\n",
       "      <td>171.36.92.*</td>\n",
       "      <td>238</td>\n",
       "      <td>239</td>\n",
       "      <td>1.0</td>\n",
       "      <td>20fc675468712705dbf5d3eda94126da</td>\n",
       "      <td>3ddf173a94bd23c326683b6373c75dd4</td>\n",
       "      <td>NaN</td>\n",
       "      <td>mm_10982364_973726_8930541</td>\n",
       "      <td>300</td>\n",
       "      <td>250</td>\n",
       "      <td>FourthView</td>\n",
       "      <td>Na</td>\n",
       "      <td>0</td>\n",
       "      <td>10722</td>\n",
       "      <td>294</td>\n",
       "      <td>23</td>\n",
       "      <td>NaN</td>\n",
       "      <td>2821</td>\n",
       "      <td>NaN</td>\n",
       "    </tr>\n",
       "    <tr>\n",
       "      <th>2</th>\n",
       "      <td>0</td>\n",
       "      <td>3</td>\n",
       "      <td>13</td>\n",
       "      <td>b604e3fd054a658ab7ced4285ebf2ef54d2bd890</td>\n",
       "      <td>801d18a056b6fe6b06a794aef17fb0d6daff2414</td>\n",
       "      <td>windows_ie</td>\n",
       "      <td>59.46.106.*</td>\n",
       "      <td>40</td>\n",
       "      <td>41</td>\n",
       "      <td>2.0</td>\n",
       "      <td>trqRTJn7O95I1mKYUV</td>\n",
       "      <td>625d1b5916ea925332c7b326c0574cfa</td>\n",
       "      <td>NaN</td>\n",
       "      <td>1720123646</td>\n",
       "      <td>250</td>\n",
       "      <td>250</td>\n",
       "      <td>2</td>\n",
       "      <td>0</td>\n",
       "      <td>5</td>\n",
       "      <td>798b2d49952d77f1eace9f23c210d0b5</td>\n",
       "      <td>238</td>\n",
       "      <td>24</td>\n",
       "      <td>0f951a030abdaedd733ee8d114ce2944</td>\n",
       "      <td>3427</td>\n",
       "      <td>10052,10006,13866,10110</td>\n",
       "    </tr>\n",
       "    <tr>\n",
       "      <th>3</th>\n",
       "      <td>0</td>\n",
       "      <td>6</td>\n",
       "      <td>23</td>\n",
       "      <td>0348beeae93e561584c3b50fc9e7746a33048ad7</td>\n",
       "      <td>0d6eaf2259699990e38a1fc5116f112070b9ecdc</td>\n",
       "      <td>windows_ie</td>\n",
       "      <td>114.250.226.*</td>\n",
       "      <td>1</td>\n",
       "      <td>1</td>\n",
       "      <td>1.0</td>\n",
       "      <td>5F97t5E0BTK7XhNrUMpENpn</td>\n",
       "      <td>dedc488b98ca20707bc9a723957e7d1f</td>\n",
       "      <td>NaN</td>\n",
       "      <td>mm_10027070_118039_10308280</td>\n",
       "      <td>160</td>\n",
       "      <td>600</td>\n",
       "      <td>2</td>\n",
       "      <td>1</td>\n",
       "      <td>0</td>\n",
       "      <td>cb7c76e7784031272e37af8e7e9b062c</td>\n",
       "      <td>300</td>\n",
       "      <td>25</td>\n",
       "      <td>bebefa5efe83beee17a3d245e7c5085b</td>\n",
       "      <td>1458</td>\n",
       "      <td>13866,10063,10111</td>\n",
       "    </tr>\n",
       "    <tr>\n",
       "      <th>4</th>\n",
       "      <td>0</td>\n",
       "      <td>5</td>\n",
       "      <td>6</td>\n",
       "      <td>268149c1789bce2bc9798ffd97ec431219bafeb3</td>\n",
       "      <td>a239d9bb642460d974ba67f85e63b8d3e214da0e</td>\n",
       "      <td>windows_ie</td>\n",
       "      <td>183.63.192.*</td>\n",
       "      <td>216</td>\n",
       "      <td>233</td>\n",
       "      <td>2.0</td>\n",
       "      <td>13625cb070ffb306b425cd803c4b7ab4</td>\n",
       "      <td>4199d1227c511fc776b76594dabff9f8</td>\n",
       "      <td>NaN</td>\n",
       "      <td>1120200150</td>\n",
       "      <td>728</td>\n",
       "      <td>90</td>\n",
       "      <td>OtherView</td>\n",
       "      <td>Na</td>\n",
       "      <td>133</td>\n",
       "      <td>7330</td>\n",
       "      <td>277</td>\n",
       "      <td>133</td>\n",
       "      <td>NaN</td>\n",
       "      <td>2259</td>\n",
       "      <td>NaN</td>\n",
       "    </tr>\n",
       "  </tbody>\n",
       "</table>\n",
       "</div>"
      ],
      "text/plain": [
       "   click  weekday  hour                                     bidid  \\\n",
       "0      0        5    22  b7bea80521fdecd95d2d761a38c91c3f09618066   \n",
       "1      0        1    20  4f51205475678f5a124bc76b2c54163bf8eaa7eb   \n",
       "2      0        3    13  b604e3fd054a658ab7ced4285ebf2ef54d2bd890   \n",
       "3      0        6    23  0348beeae93e561584c3b50fc9e7746a33048ad7   \n",
       "4      0        5     6  268149c1789bce2bc9798ffd97ec431219bafeb3   \n",
       "\n",
       "                                     userid       useragent             IP  \\\n",
       "0  2e880fb7d690cf7377b2e42e701728e3f3c0e4c1      windows_ie   125.37.175.*   \n",
       "1  3a1fe01360ff8100e7d006b83b77a3e4c01d928c  windows_chrome    171.36.92.*   \n",
       "2  801d18a056b6fe6b06a794aef17fb0d6daff2414      windows_ie    59.46.106.*   \n",
       "3  0d6eaf2259699990e38a1fc5116f112070b9ecdc      windows_ie  114.250.226.*   \n",
       "4  a239d9bb642460d974ba67f85e63b8d3e214da0e      windows_ie   183.63.192.*   \n",
       "\n",
       "   region  city  adexchange                            domain  \\\n",
       "0       2     2         2.0              trqRTvKaXTKfgg24JKTI   \n",
       "1     238   239         1.0  20fc675468712705dbf5d3eda94126da   \n",
       "2      40    41         2.0                trqRTJn7O95I1mKYUV   \n",
       "3       1     1         1.0           5F97t5E0BTK7XhNrUMpENpn   \n",
       "4     216   233         2.0  13625cb070ffb306b425cd803c4b7ab4   \n",
       "\n",
       "                                url  urlid                       slotid  \\\n",
       "0  6447a7dfa30fe6eb410c91860e7c9b45    NaN                   2015392487   \n",
       "1  3ddf173a94bd23c326683b6373c75dd4    NaN   mm_10982364_973726_8930541   \n",
       "2  625d1b5916ea925332c7b326c0574cfa    NaN                   1720123646   \n",
       "3  dedc488b98ca20707bc9a723957e7d1f    NaN  mm_10027070_118039_10308280   \n",
       "4  4199d1227c511fc776b76594dabff9f8    NaN                   1120200150   \n",
       "\n",
       "   slotwidth  slotheight slotvisibility slotformat  slotprice  \\\n",
       "0        200         200              2          0          5   \n",
       "1        300         250     FourthView         Na          0   \n",
       "2        250         250              2          0          5   \n",
       "3        160         600              2          1          0   \n",
       "4        728          90      OtherView         Na        133   \n",
       "\n",
       "                           creative  bidprice  payprice  \\\n",
       "0  a4f763f78ef3eedfe614263b94a8924e       238         5   \n",
       "1                             10722       294        23   \n",
       "2  798b2d49952d77f1eace9f23c210d0b5       238        24   \n",
       "3  cb7c76e7784031272e37af8e7e9b062c       300        25   \n",
       "4                              7330       277       133   \n",
       "\n",
       "                            keypage  advertiser                  usertag  \n",
       "0  0f951a030abdaedd733ee8d114ce2944        3427                      NaN  \n",
       "1                               NaN        2821                      NaN  \n",
       "2  0f951a030abdaedd733ee8d114ce2944        3427  10052,10006,13866,10110  \n",
       "3  bebefa5efe83beee17a3d245e7c5085b        1458        13866,10063,10111  \n",
       "4                               NaN        2259                      NaN  "
      ]
     },
     "execution_count": 8,
     "metadata": {},
     "output_type": "execute_result"
    }
   ],
   "source": [
    "train.head()"
   ]
  },
  {
   "cell_type": "code",
   "execution_count": 7,
   "metadata": {
    "ExecuteTime": {
     "end_time": "2019-03-02T08:35:30.857382Z",
     "start_time": "2019-03-02T08:35:30.821491Z"
    }
   },
   "outputs": [
    {
     "name": "stdout",
     "output_type": "stream",
     "text": [
      "Baseline average CTR 0.03691%\n"
     ]
    }
   ],
   "source": [
    "no_click,click = train['click'].value_counts().values\n",
    "print('Baseline average CTR {:.5%}'.format(click/(no_click+no_click)))"
   ]
  },
  {
   "cell_type": "markdown",
   "metadata": {},
   "source": [
    "## Feature engineering"
   ]
  },
  {
   "cell_type": "code",
   "execution_count": 8,
   "metadata": {
    "ExecuteTime": {
     "end_time": "2019-03-02T08:35:31.493344Z",
     "start_time": "2019-03-02T08:35:31.467164Z"
    }
   },
   "outputs": [],
   "source": [
    "def count_featuresize_one_hot_encoding(df):\n",
    "    \"\"\"Calcualte the number of featuers nessecary for one hot encoding\"\"\"\n",
    "\n",
    "    total_features = 0\n",
    "    for column in df.columns:\n",
    "        total_features += len(df[column].unique())\n",
    "\n",
    "    print('Rougly {:,} features in the feature space'.format(total_features))\n",
    "\n",
    "    return total_features\n",
    "\n",
    "\n",
    "def feature_engineering(df):\n",
    "    \"\"\" Enrich dataframe with additional features\n",
    "    \n",
    "        Note that all fields that are joined are slightly redundent when\n",
    "        implementing more sophisticated models like NN that could pick up\n",
    "        on these feature combinations, however, it can improve the perforamce\n",
    "        of simpler models such as logisitc regression\"\"\"\n",
    "\n",
    "    # split user agent into os and browser\n",
    "    df['os'], df['browser'] = df['useragent'].str.split('_').str\n",
    "\n",
    "    # apple users\n",
    "    df['apple'] = df['useragent'].str.match(r'(ios)|(mac)').astype(np.uint8)\n",
    "\n",
    "    # deterime mobile devivce or not\n",
    "    df['mobieldevice'] = df['useragent'].str.match(r'(ios)|(android)').astype(\n",
    "        np.uint8)\n",
    "\n",
    "    # hour per day\n",
    "    df['weekdayhour'] = df['weekday'].astype(str) + '_' + df['hour'].astype(\n",
    "        str)\n",
    "\n",
    "    # bin hours into time of day\n",
    "    df['timeofday'] = pd.cut(\n",
    "        df['hour'].astype(int),\n",
    "        4,\n",
    "        labels=[\"night\", \"morning\", \"afternoon\", \"evening\"])\n",
    "\n",
    "    # bin ad surface size categories\n",
    "    min_ad = min(df['slotwidth'] * df['slotheight']) - 1\n",
    "    max_ad = max(df['slotwidth'] * df['slotheight'])\n",
    "\n",
    "    ad_bins = pd.IntervalIndex.from_breaks(\n",
    "        [min_ad, 65520, 75000, 90000, max_ad])\n",
    "\n",
    "    replace, with_ = [\n",
    "        pd.Interval(min_ad, 65520),\n",
    "        pd.Interval(65520, 75000),\n",
    "        pd.Interval(75000, 90000),\n",
    "        pd.Interval(90000, max_ad)\n",
    "    ], ['small', 'medium', 'large', 'x-large']\n",
    "\n",
    "    df['adsize'] = pd.cut(\n",
    "        df['slotwidth'] * df['slotheight'], bins=ad_bins).replace(\n",
    "            replace, with_)\n",
    "\n",
    "    # bin slot price into categories\n",
    "    price_bins = pd.IntervalIndex.from_breaks(\n",
    "        [min(df['slotprice']), 10, 50, 100,\n",
    "         max(df['slotprice'])],\n",
    "        closed='left')\n",
    "    replace, with_ = [\n",
    "        pd.Interval(min(df['slotprice']), 10, closed='left'),\n",
    "        pd.Interval(10, 50, closed='left'),\n",
    "        pd.Interval(50, 100, closed='left'),\n",
    "        pd.Interval(100, max(df['slotprice']), closed='left')\n",
    "    ], ['1', '2', '3', '4']\n",
    "\n",
    "    df['slotprice'] = pd.cut(\n",
    "        df['slotprice'], bins=price_bins).replace(replace, with_)\n",
    "\n",
    "    # ad size category and visability\n",
    "    df['advisabilitysize'] = df['slotvisibility'].astype(\n",
    "        str) + '_' + df['adsize'].astype(str)\n",
    "\n",
    "    return df.drop(columns=['slotwidth', 'slotheight'])\n",
    "\n",
    "\n",
    "def pre_process_one_hot_encoding(df):\n",
    "    \"\"\" Preprocess the dataframe for one hot encoding\n",
    "    \n",
    "        - Split the filed user tags and binary encode\n",
    "        - Convert numerical categories into strings \n",
    "        \"\"\"\n",
    "\n",
    "    # convert numerical categories into strings as a quick hack\n",
    "    # for one hot encoding to work properly on numerical categories\n",
    "    df['weekday'] = df['weekday'].astype(str)\n",
    "    df['hour'] = df['hour'].astype(str)\n",
    "    df['region'] = df['region'].astype(str)\n",
    "    df['city'] = df['city'].astype(str)\n",
    "    df['adexchange'] = df['adexchange'].astype(str)\n",
    "    df['advertiser'] = df['advertiser'].astype(str)\n",
    "\n",
    "    # already processed and not found in columns\n",
    "    if ('usertag' not in df.columns):\n",
    "        return df\n",
    "\n",
    "    df['usertag'] = df['usertag'].astype(str)\n",
    "    mlb = MultiLabelBinarizer()\n",
    "\n",
    "    df = df.join(\n",
    "        pd.DataFrame(\n",
    "            mlb.fit_transform(df['usertag'].str.split(',')),\n",
    "            columns='usertag_' + mlb.classes_,\n",
    "            index=df.index))\n",
    "\n",
    "    # drop the usertag column\n",
    "    df = df.drop(columns='usertag')\n",
    "\n",
    "    return df\n",
    "\n",
    "\n",
    "def drop_colums(df):\n",
    "\n",
    "    # Remove uniuqe and meaningless featuers that are not know a pirori\n",
    "    columns = ['bidprice', 'urlid', 'bidid']\n",
    "\n",
    "    # remove some very sparse fields to reduce featuers (highest entropy)\n",
    "    columns.extend(['userid', 'url', 'domain', 'slotid', 'IP'])\n",
    "\n",
    "    # only remove columns that are in the df\n",
    "    columns = [column for column in columns if column in df.columns]\n",
    "\n",
    "    return df.drop(columns=columns)\n",
    "\n",
    "\n",
    "def add_missing_colums(df, columns, sort_columns=True):\n",
    "    \"\"\" Due to the feature engineering there is a chance a discrapency occurs\n",
    "        between \n",
    "        \"\"\"\n",
    "\n",
    "    missing = [x for x in columns if x not in df.columns]\n",
    "\n",
    "    for x in missing:\n",
    "        print('Adding {}'.format(x))\n",
    "        df[x] = 0\n",
    "\n",
    "    if (sort_columns):\n",
    "        return df[sorted(df.columns)]\n",
    "\n",
    "    return df"
   ]
  },
  {
   "cell_type": "code",
   "execution_count": 12,
   "metadata": {
    "ExecuteTime": {
     "end_time": "2019-02-26T17:41:59.629369Z",
     "start_time": "2019-02-26T17:41:59.615152Z"
    }
   },
   "outputs": [
    {
     "data": {
      "text/plain": [
       "((2430981, 25), (303925, 25), (303375, 22))"
      ]
     },
     "execution_count": 12,
     "metadata": {},
     "output_type": "execute_result"
    }
   ],
   "source": [
    "train.shape, validation.shape, test.shape"
   ]
  },
  {
   "cell_type": "markdown",
   "metadata": {},
   "source": [
    "## Build feature matrix"
   ]
  },
  {
   "cell_type": "code",
   "execution_count": 9,
   "metadata": {
    "ExecuteTime": {
     "end_time": "2019-03-02T08:38:11.153631Z",
     "start_time": "2019-03-02T08:35:32.110625Z"
    },
    "scrolled": false
   },
   "outputs": [
    {
     "name": "stdout",
     "output_type": "stream",
     "text": [
      "CPU times: user 326 ms, sys: 211 ms, total: 537 ms\n",
      "Wall time: 541 ms\n",
      "CPU times: user 926 ms, sys: 328 ms, total: 1.25 s\n",
      "Wall time: 1.26 s\n",
      "CPU times: user 1min 9s, sys: 2 s, total: 1min 11s\n",
      "Wall time: 1min 12s\n",
      "CPU times: user 26.3 s, sys: 13.2 s, total: 39.5 s\n",
      "Wall time: 42.3 s\n",
      "CPU times: user 25.9 s, sys: 13.1 s, total: 39 s\n",
      "Wall time: 42.6 s\n",
      "Memory usage of the dataframe is 3389.45 MB\n",
      "done\n"
     ]
    }
   ],
   "source": [
    "\"\"\"\n",
    "other fillna strategies for adexchange should be considered at some point!\n",
    "\n",
    "the only columns that contain a lot of missing values that are used in the final \n",
    "analysis are adexchange and usertag. Different strategies have been considered but \n",
    "it was deemed to be the most informative to assign a 'unknown' class which is easely\n",
    "achieved trhough filling 0's since they do not occur in the dataset\n",
    "\n",
    "\"\"\"\n",
    "\n",
    "%time train = drop_colums(train)\n",
    "%time train = train.fillna(0)\n",
    "%time train = feature_engineering(train)\n",
    "%time train = pre_process_one_hot_encoding(train)\n",
    "%time train = pd.get_dummies(train)\n",
    "\n",
    "memory(train)\n",
    "print('done')"
   ]
  },
  {
   "cell_type": "code",
   "execution_count": 10,
   "metadata": {
    "ExecuteTime": {
     "end_time": "2019-03-02T08:38:57.084041Z",
     "start_time": "2019-03-02T08:38:38.113674Z"
    }
   },
   "outputs": [
    {
     "name": "stdout",
     "output_type": "stream",
     "text": [
      "CPU times: user 103 ms, sys: 298 ms, total: 401 ms\n",
      "Wall time: 538 ms\n",
      "CPU times: user 121 ms, sys: 71.1 ms, total: 192 ms\n",
      "Wall time: 198 ms\n",
      "CPU times: user 3.41 s, sys: 2.28 s, total: 5.69 s\n",
      "Wall time: 6.32 s\n",
      "CPU times: user 8.47 s, sys: 215 ms, total: 8.68 s\n",
      "Wall time: 8.73 s\n",
      "CPU times: user 2.71 s, sys: 443 ms, total: 3.15 s\n",
      "Wall time: 3.17 s\n",
      "done\n"
     ]
    }
   ],
   "source": [
    "%time test = drop_colums(test)\n",
    "%time test = test.fillna(0)\n",
    "%time test = pre_process_one_hot_encoding(test)\n",
    "%time test = feature_engineering(test)\n",
    "%time test = pd.get_dummies(test)\n",
    "print('done')"
   ]
  },
  {
   "cell_type": "code",
   "execution_count": 11,
   "metadata": {
    "ExecuteTime": {
     "end_time": "2019-03-02T08:39:47.749666Z",
     "start_time": "2019-03-02T08:39:25.384895Z"
    },
    "scrolled": false
   },
   "outputs": [
    {
     "name": "stdout",
     "output_type": "stream",
     "text": [
      "CPU times: user 89.9 ms, sys: 284 ms, total: 374 ms\n",
      "Wall time: 501 ms\n",
      "CPU times: user 121 ms, sys: 72.9 ms, total: 194 ms\n",
      "Wall time: 196 ms\n",
      "CPU times: user 12.1 s, sys: 523 ms, total: 12.6 s\n",
      "Wall time: 14.3 s\n",
      "CPU times: user 3.39 s, sys: 580 ms, total: 3.97 s\n",
      "Wall time: 4.06 s\n",
      "CPU times: user 2.53 s, sys: 458 ms, total: 2.99 s\n",
      "Wall time: 3.31 s\n",
      "done\n"
     ]
    }
   ],
   "source": [
    "%time validation = drop_colums(validation)\n",
    "%time validation = validation.fillna(0)\n",
    "%time validation = feature_engineering(validation)\n",
    "%time validation = pre_process_one_hot_encoding(validation)\n",
    "%time validation = pd.get_dummies(validation)\n",
    "print('done')"
   ]
  },
  {
   "cell_type": "code",
   "execution_count": 12,
   "metadata": {
    "ExecuteTime": {
     "end_time": "2019-03-02T08:40:53.255384Z",
     "start_time": "2019-03-02T08:40:17.679666Z"
    }
   },
   "outputs": [
    {
     "name": "stdout",
     "output_type": "stream",
     "text": [
      "CPU times: user 8.41 s, sys: 16.9 s, total: 25.3 s\n",
      "Wall time: 29.9 s\n",
      "Adding useragent_android_ie\n",
      "Adding useragent_android_maxthon\n",
      "Adding useragent_other_firefox\n",
      "Adding creative_7324\n",
      "Adding creative_7332\n",
      "Adding useragent_android_maxthon\n",
      "Adding creative_7332\n",
      "CPU times: user 977 ms, sys: 1.57 s, total: 2.55 s\n",
      "Wall time: 2.78 s\n",
      "Adding click\n",
      "Adding payprice\n",
      "Adding useragent_linux_ie\n",
      "Adding useragent_mac_maxthon\n",
      "Adding useragent_mac_sogou\n",
      "Adding creative_7327\n",
      "Adding click\n",
      "Adding payprice\n",
      "Adding useragent_android_ie\n",
      "Adding useragent_linux_ie\n",
      "Adding useragent_mac_maxthon\n",
      "Adding useragent_mac_sogou\n",
      "Adding useragent_other_firefox\n",
      "Adding creative_7324\n",
      "Adding creative_7327\n",
      "CPU times: user 1.03 s, sys: 1.47 s, total: 2.49 s\n",
      "Wall time: 2.83 s\n",
      "done\n"
     ]
    }
   ],
   "source": [
    "# the featuere engineering can construct columns that do not occur in other sets \n",
    "# this adds the columns of the joined colomuns\n",
    "joined_colums = [item for slist in [validation.columns, train.columns, test.columns] for item in slist]\n",
    "\n",
    "%time train = add_missing_colums(train,joined_colums)\n",
    "%time validation = add_missing_colums(validation,joined_colums)\n",
    "%time test = add_missing_colums(test,joined_colums)\n",
    "print('done')"
   ]
  },
  {
   "cell_type": "code",
   "execution_count": null,
   "metadata": {
    "ExecuteTime": {
     "start_time": "2019-03-02T08:31:02.591Z"
    }
   },
   "outputs": [],
   "source": [
    "# this list should be empty!!\n",
    "[x for x in validation.columns if x not in train.columns]"
   ]
  },
  {
   "cell_type": "code",
   "execution_count": 13,
   "metadata": {
    "ExecuteTime": {
     "end_time": "2019-03-02T08:41:55.245328Z",
     "start_time": "2019-03-02T08:40:57.908946Z"
    }
   },
   "outputs": [
    {
     "name": "stdout",
     "output_type": "stream",
     "text": [
      "done\n"
     ]
    }
   ],
   "source": [
    "train.to_hdf('preprocessed.h5', 'train')\n",
    "validation.to_hdf('preprocessed.h5', 'validation')\n",
    "test.to_hdf('preprocessed.h5', 'test')\n",
    "print('done')"
   ]
  },
  {
   "cell_type": "markdown",
   "metadata": {},
   "source": [
    "## Balance dataset\n",
    "\n",
    "There is a significant unbalance between the click and the non-click class. In an attempt to increase numerical stability of the training models the majority class will be under sampled (observations will be removed) and the minority class will be oversampled generating new samples. Considering a sample x_i, a new sample x_{new} will be generated considering its k neareast-neighbors. \n",
    "\n",
    "SMOTEENN Combines over and under sampling"
   ]
  },
  {
   "cell_type": "code",
   "execution_count": 3,
   "metadata": {
    "ExecuteTime": {
     "end_time": "2019-03-06T11:47:43.709570Z",
     "start_time": "2019-03-06T11:47:34.862616Z"
    }
   },
   "outputs": [
    {
     "name": "stdout",
     "output_type": "stream",
     "text": [
      "done\n",
      "CPU times: user 237 ms, sys: 5.13 s, total: 5.36 s\n",
      "Wall time: 8.84 s\n"
     ]
    }
   ],
   "source": [
    "%%time\n",
    "train = pd.read_hdf('preprocessed.h5', 'train')\n",
    "validation = pd.read_hdf('preprocessed.h5', 'validation')\n",
    "# test = pd.read_hdf('preprocessed.h5', 'test')\n",
    "print('done')"
   ]
  },
  {
   "cell_type": "code",
   "execution_count": 5,
   "metadata": {
    "ExecuteTime": {
     "end_time": "2019-03-02T14:02:03.429778Z",
     "start_time": "2019-03-02T10:48:12.859038Z"
    },
    "scrolled": false
   },
   "outputs": [
    {
     "name": "stdout",
     "output_type": "stream",
     "text": [
      "Original:\n",
      "0    2429188\n",
      "1       1793\n",
      "Name: click, dtype: int64\n",
      "\n",
      "CPU times: user 133 ms, sys: 39.7 ms, total: 173 ms\n",
      "Wall time: 192 ms\n",
      "Random subsample class0:\n",
      "0    100000\n",
      "1      1793\n",
      "Name: click, dtype: int64\n",
      "\n",
      "CPU times: user 7h 45min 54s, sys: 4min 5s, total: 7h 49min 59s\n",
      "Wall time: 3h 13min 7s\n",
      "Final balance:\n",
      "0    100000\n",
      "1     99793\n",
      "dtype: int64\n",
      "\n",
      "Baseline accuracy: 50.052%\n",
      "\n",
      "done\n",
      "\n",
      "CPU times: user 7h 46min 3s, sys: 4min 27s, total: 7h 50min 31s\n",
      "Wall time: 3h 13min 50s\n"
     ]
    }
   ],
   "source": [
    "%%time\n",
    "pre_subsample_size = int(1e5)\n",
    "final_resample_ratio = 1/10\n",
    "\n",
    "np.random.seed(9345)\n",
    "\n",
    "print('Original:')\n",
    "print(train['click'].value_counts())\n",
    "print('')\n",
    "\n",
    "# random sample from the non click class, pre subsameling will improve speed\n",
    "# since SMOTETomek does not take an output number samples as parameter\n",
    "class0_index = train[train['click'] == 0].index\n",
    "\n",
    "# take random sample\n",
    "%time random_subsample = np.random.choice(class0_index, pre_subsample_size, replace=False)\n",
    "class0_downsampled = train.loc[random_subsample]\n",
    "class1 = train[train['click'] == 1]\n",
    "\n",
    "# combine dataframes\n",
    "training_data = pd.concat([class0_downsampled,class1])\n",
    "\n",
    "# free memory\n",
    "del(class0_index, class0_downsampled, class1)\n",
    "\n",
    "print('Random subsample class0:')\n",
    "print(training_data['click'].value_counts())\n",
    "print('')\n",
    "\n",
    "# use all but one avalible processors\n",
    "smote = SMOTE(k_neighbors=3, n_jobs=-1)\n",
    "tomek = TomekLinks(n_jobs=-1)\n",
    "\n",
    "smote_omek = SMOTETomek(ratio=final_resample_ratio, smote=smote, tomek=tomek)\n",
    "\n",
    "y = training_data['click'].values\n",
    "X = training_data.drop(columns=['click', 'payprice'])\n",
    "\n",
    "%time X_resampled, y_resampled = smote_omek.fit_resample(X, y,)\n",
    "\n",
    "# free memory\n",
    "# del(y, X)\n",
    "\n",
    "print('Final balance:')\n",
    "sample, count = np.unique(y_resampled, return_counts=True)\n",
    "print(pd.Series(dict(np.array((sample,count)).T)))\n",
    "\n",
    "print('\\nBaseline accuracy: {:.3%}'.format(count[0]/len(y_resampled)))\n",
    "\n",
    "# export resample\n",
    "pickle.dump((X_resampled, y_resampled), open(\"resampled\", \"wb\" ))\n",
    "\n",
    "print('\\ndone\\n')"
   ]
  }
 ],
 "metadata": {
  "kernelspec": {
   "display_name": "Python 3",
   "language": "python",
   "name": "python3"
  },
  "language_info": {
   "codemirror_mode": {
    "name": "ipython",
    "version": 3
   },
   "file_extension": ".py",
   "mimetype": "text/x-python",
   "name": "python",
   "nbconvert_exporter": "python",
   "pygments_lexer": "ipython3",
   "version": "3.6.7"
  },
  "varInspector": {
   "cols": {
    "lenName": 16,
    "lenType": 16,
    "lenVar": 40
   },
   "kernels_config": {
    "python": {
     "delete_cmd_postfix": "",
     "delete_cmd_prefix": "del ",
     "library": "var_list.py",
     "varRefreshCmd": "print(var_dic_list())"
    },
    "r": {
     "delete_cmd_postfix": ") ",
     "delete_cmd_prefix": "rm(",
     "library": "var_list.r",
     "varRefreshCmd": "cat(var_dic_list()) "
    }
   },
   "position": {
    "height": "435px",
    "left": "1185px",
    "right": "18px",
    "top": "112px",
    "width": "477px"
   },
   "types_to_exclude": [
    "module",
    "function",
    "builtin_function_or_method",
    "instance",
    "_Feature"
   ],
   "window_display": false
  }
 },
 "nbformat": 4,
 "nbformat_minor": 2
}
