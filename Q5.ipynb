{
 "cells": [
  {
   "cell_type": "code",
   "execution_count": 1,
   "metadata": {
    "ExecuteTime": {
     "end_time": "2019-03-07T11:55:13.765517Z",
     "start_time": "2019-03-07T11:55:10.833125Z"
    }
   },
   "outputs": [],
   "source": [
    "from __future__ import print_function, division\n",
    "\n",
    "import numpy as np\n",
    "import pandas as pd\n",
    "import math\n",
    "import pickle\n",
    "from tqdm import tqdm, tqdm_notebook\n",
    "\n",
    "from sklearn.metrics import balanced_accuracy_score, roc_auc_score, \\\n",
    "                            classification_report, log_loss\n",
    "\n",
    "from sklearn.linear_model import LogisticRegression\n",
    "\n",
    "from multi_agent_simulator import BiddingAgent, BiddingEnvironment, BidStrategy\n",
    "\n",
    "import matplotlib as mpl\n",
    "\n",
    "import matplotlib.pyplot as plt\n",
    "import seaborn as sns\n",
    "\n",
    "sns.set(style=\"ticks\")\n",
    "pd.set_option('display.max_columns', 100)\n",
    "\n",
    "%matplotlib inline\n",
    "%config InlineBackend.figure_format = 'svg'"
   ]
  },
  {
   "cell_type": "code",
   "execution_count": 2,
   "metadata": {
    "ExecuteTime": {
     "end_time": "2019-03-07T11:55:20.037559Z",
     "start_time": "2019-03-07T11:55:18.428737Z"
    }
   },
   "outputs": [],
   "source": [
    "validation = pd.read_hdf('preprocessed.h5', 'validation')"
   ]
  },
  {
   "cell_type": "code",
   "execution_count": 3,
   "metadata": {
    "ExecuteTime": {
     "end_time": "2019-03-07T11:55:27.455339Z",
     "start_time": "2019-03-07T11:55:23.089820Z"
    }
   },
   "outputs": [],
   "source": [
    "# constant bidding\n",
    "environment = BiddingEnvironment(validation.copy())"
   ]
  },
  {
   "cell_type": "code",
   "execution_count": 5,
   "metadata": {
    "ExecuteTime": {
     "end_time": "2019-03-07T11:34:18.597378Z",
     "start_time": "2019-03-07T11:32:46.933011Z"
    }
   },
   "outputs": [
    {
     "name": "stderr",
     "output_type": "stream",
     "text": [
      "100%|██████████| 20/20 [01:31<00:00,  4.00s/it]\n"
     ]
    },
    {
     "data": {
      "text/html": [
       "<div>\n",
       "<style scoped>\n",
       "    .dataframe tbody tr th:only-of-type {\n",
       "        vertical-align: middle;\n",
       "    }\n",
       "\n",
       "    .dataframe tbody tr th {\n",
       "        vertical-align: top;\n",
       "    }\n",
       "\n",
       "    .dataframe thead th {\n",
       "        text-align: right;\n",
       "    }\n",
       "</style>\n",
       "<table border=\"1\" class=\"dataframe\">\n",
       "  <thead>\n",
       "    <tr style=\"text-align: right;\">\n",
       "      <th></th>\n",
       "      <th>CTR</th>\n",
       "      <th>aCPC</th>\n",
       "      <th>aCPM</th>\n",
       "      <th>budget_left</th>\n",
       "      <th>clicks</th>\n",
       "      <th>impressions</th>\n",
       "      <th>lost</th>\n",
       "      <th>spend</th>\n",
       "    </tr>\n",
       "  </thead>\n",
       "  <tbody>\n",
       "    <tr>\n",
       "      <th>11</th>\n",
       "      <td>0.000651</td>\n",
       "      <td>115.740741</td>\n",
       "      <td>0</td>\n",
       "      <td>0</td>\n",
       "      <td>54</td>\n",
       "      <td>82956</td>\n",
       "      <td>4397</td>\n",
       "      <td>6250000</td>\n",
       "    </tr>\n",
       "    <tr>\n",
       "      <th>2</th>\n",
       "      <td>0.000649</td>\n",
       "      <td>107.758621</td>\n",
       "      <td>0</td>\n",
       "      <td>0</td>\n",
       "      <td>58</td>\n",
       "      <td>89317</td>\n",
       "      <td>14386</td>\n",
       "      <td>6250000</td>\n",
       "    </tr>\n",
       "    <tr>\n",
       "      <th>10</th>\n",
       "      <td>0.000647</td>\n",
       "      <td>115.740741</td>\n",
       "      <td>0</td>\n",
       "      <td>0</td>\n",
       "      <td>54</td>\n",
       "      <td>83412</td>\n",
       "      <td>5102</td>\n",
       "      <td>6250000</td>\n",
       "    </tr>\n",
       "    <tr>\n",
       "      <th>12</th>\n",
       "      <td>0.000643</td>\n",
       "      <td>117.924528</td>\n",
       "      <td>0</td>\n",
       "      <td>0</td>\n",
       "      <td>53</td>\n",
       "      <td>82483</td>\n",
       "      <td>3702</td>\n",
       "      <td>6250000</td>\n",
       "    </tr>\n",
       "    <tr>\n",
       "      <th>4</th>\n",
       "      <td>0.000641</td>\n",
       "      <td>111.607143</td>\n",
       "      <td>0</td>\n",
       "      <td>0</td>\n",
       "      <td>56</td>\n",
       "      <td>87320</td>\n",
       "      <td>11174</td>\n",
       "      <td>6250000</td>\n",
       "    </tr>\n",
       "  </tbody>\n",
       "</table>\n",
       "</div>"
      ],
      "text/plain": [
       "         CTR        aCPC  aCPM  budget_left  clicks  impressions   lost  \\\n",
       "11  0.000651  115.740741     0            0      54        82956   4397   \n",
       "2   0.000649  107.758621     0            0      58        89317  14386   \n",
       "10  0.000647  115.740741     0            0      54        83412   5102   \n",
       "12  0.000643  117.924528     0            0      53        82483   3702   \n",
       "4   0.000641  111.607143     0            0      56        87320  11174   \n",
       "\n",
       "      spend  \n",
       "11  6250000  \n",
       "2   6250000  \n",
       "10  6250000  \n",
       "12  6250000  \n",
       "4   6250000  "
      ]
     },
     "execution_count": 5,
     "metadata": {},
     "output_type": "execute_result"
    }
   ],
   "source": [
    "# example grid search const biddidng strategy\n",
    "results = []\n",
    "for const_bid in tqdm(np.arange(200,300,5)):\n",
    "\n",
    "    agent = BiddingAgent(6250*1000, environment)\n",
    "    bids = BidStrategy.const_bidding(const_bid, environment.lenght)\n",
    "\n",
    "    agent.simulate(bids)\n",
    "    results.append(agent.statistics())\n",
    "    \n",
    "results = pd.DataFrame(results)\n",
    "results.sort_values('CTR', ascending=False).head(5)"
   ]
  },
  {
   "cell_type": "code",
   "execution_count": 6,
   "metadata": {
    "ExecuteTime": {
     "end_time": "2019-03-07T11:34:38.340292Z",
     "start_time": "2019-03-07T11:34:18.600797Z"
    }
   },
   "outputs": [
    {
     "data": {
      "text/plain": [
       "{'CTR': 0.0012896971375648094,\n",
       " 'aCPM': 0,\n",
       " 'aCPC': 41.52029530201342,\n",
       " 'spend': 6186524,\n",
       " 'impressions': 115531,\n",
       " 'clicks': 149,\n",
       " 'lost': 188394,\n",
       " 'budget_left': 63476}"
      ]
     },
     "execution_count": 6,
     "metadata": {},
     "output_type": "execute_result"
    }
   ],
   "source": [
    "# linear bidding based on LR pCTR\n",
    "\n",
    "# load the trained LR\n",
    "lr = pickle.load(open( \"lr_model\", \"rb\" ))\n",
    "\n",
    "# user LR to predict pCTR\n",
    "pCTR_lr = lr.predict_proba(validation.drop(columns=['payprice', 'click']))[:, 1]\n",
    "\n",
    "# get baseline avgCTR\n",
    "no_click, click = np.bincount(validation['click'].values)\n",
    "avgCTR = click / (no_click + click)\n",
    "\n",
    "# init agent\n",
    "agent = BiddingAgent(6250*1000, environment)\n",
    "\n",
    "# get bids provided given strategy\n",
    "bids = BidStrategy.linear_bidding(pCTR_lr, avgCTR, 3.52)\n",
    "\n",
    "# simulate the of the agent in the environment\n",
    "agent.simulate(bids)\n",
    "\n",
    "# get the perforamnce\n",
    "agent.statistics()"
   ]
  },
  {
   "cell_type": "code",
   "execution_count": 7,
   "metadata": {
    "ExecuteTime": {
     "end_time": "2019-03-07T11:34:38.389739Z",
     "start_time": "2019-03-07T11:34:38.362814Z"
    }
   },
   "outputs": [],
   "source": [
    "# add agent to evironment without simulating it\n",
    "\n",
    "bids_random1 = BidStrategy.random_bidding(300, 400, environment.lenght)\n",
    "bids_random2 = BidStrategy.random_bidding(1000, 1500, environment.lenght)\n",
    "\n",
    "# register bids to the environment\n",
    "environment.register_bid(bids_random1)\n",
    "environment.register_bid(bids_random2)"
   ]
  },
  {
   "cell_type": "code",
   "execution_count": 4,
   "metadata": {
    "ExecuteTime": {
     "end_time": "2019-03-07T11:55:39.814485Z",
     "start_time": "2019-03-07T11:55:39.801767Z"
    }
   },
   "outputs": [
    {
     "data": {
      "text/plain": [
       "array([ 23,  75,  65, ..., 108,  50,  40])"
      ]
     },
     "execution_count": 4,
     "metadata": {},
     "output_type": "execute_result"
    }
   ],
   "source": [
    "environment.get_bids()"
   ]
  },
  {
   "cell_type": "code",
   "execution_count": 13,
   "metadata": {
    "ExecuteTime": {
     "end_time": "2019-03-07T11:37:20.649298Z",
     "start_time": "2019-03-07T11:37:17.391509Z"
    }
   },
   "outputs": [
    {
     "data": {
      "text/plain": [
       "{'CTR': 0.020309184601394362,\n",
       " 'aCPM': 0,\n",
       " 'aCPC': 60.105402985074626,\n",
       " 'spend': 4027062,\n",
       " 'impressions': 3299,\n",
       " 'clicks': 67,\n",
       " 'lost': 300626,\n",
       " 'budget_left': 2222938}"
      ]
     },
     "execution_count": 13,
     "metadata": {},
     "output_type": "execute_result"
    }
   ],
   "source": [
    "# linear bidding based on LR pCTR in the new envrionment\n",
    "\n",
    "# init agent\n",
    "agent = BiddingAgent(6250*1000, environment)\n",
    "\n",
    "# get bids provided given strategy\n",
    "bids = BidStrategy.linear_bidding(pCTR_lr, avgCTR, 3.52)\n",
    "\n",
    "# simulate the of the agent in the environment\n",
    "agent.simulate(bids)\n",
    "\n",
    "# get the perforamnce\n",
    "agent.statistics()"
   ]
  }
 ],
 "metadata": {
  "kernelspec": {
   "display_name": "Python 3",
   "language": "python",
   "name": "python3"
  },
  "language_info": {
   "codemirror_mode": {
    "name": "ipython",
    "version": 3
   },
   "file_extension": ".py",
   "mimetype": "text/x-python",
   "name": "python",
   "nbconvert_exporter": "python",
   "pygments_lexer": "ipython3",
   "version": "3.6.7"
  },
  "varInspector": {
   "cols": {
    "lenName": 16,
    "lenType": 16,
    "lenVar": 40
   },
   "kernels_config": {
    "python": {
     "delete_cmd_postfix": "",
     "delete_cmd_prefix": "del ",
     "library": "var_list.py",
     "varRefreshCmd": "print(var_dic_list())"
    },
    "r": {
     "delete_cmd_postfix": ") ",
     "delete_cmd_prefix": "rm(",
     "library": "var_list.r",
     "varRefreshCmd": "cat(var_dic_list()) "
    }
   },
   "position": {
    "height": "328px",
    "left": "1298px",
    "right": "20px",
    "top": "120px",
    "width": "362px"
   },
   "types_to_exclude": [
    "module",
    "function",
    "builtin_function_or_method",
    "instance",
    "_Feature"
   ],
   "window_display": false
  }
 },
 "nbformat": 4,
 "nbformat_minor": 2
}
