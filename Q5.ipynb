{
 "cells": [
  {
   "cell_type": "code",
   "execution_count": 251,
   "metadata": {
    "ExecuteTime": {
     "end_time": "2019-03-07T23:28:20.357732Z",
     "start_time": "2019-03-07T23:28:16.637521Z"
    }
   },
   "outputs": [
    {
     "name": "stdout",
     "output_type": "stream",
     "text": [
      "The autoreload extension is already loaded. To reload it, use:\n",
      "  %reload_ext autoreload\n"
     ]
    }
   ],
   "source": [
    "from __future__ import print_function, division\n",
    "\n",
    "import numpy as np\n",
    "import pandas as pd\n",
    "import math\n",
    "import pickle\n",
    "import torch\n",
    "from tqdm import tqdm, tqdm_notebook\n",
    "from sklearn.externals import joblib\n",
    "\n",
    "from sklearn.metrics import balanced_accuracy_score, roc_auc_score, \\\n",
    "                            classification_report, log_loss\n",
    "\n",
    "from sklearn.linear_model import LogisticRegression\n",
    "\n",
    "from multi_agent_simulator import BiddingAgent, BiddingEnvironment, BidStrategy\n",
    "\n",
    "import matplotlib as mpl\n",
    "\n",
    "import matplotlib.pyplot as plt\n",
    "import seaborn as sns\n",
    "\n",
    "sns.set(style=\"ticks\")\n",
    "pd.set_option('display.max_columns', 100)\n",
    "\n",
    "%matplotlib inline\n",
    "%config InlineBackend.figure_format = 'svg'\n",
    "%load_ext autoreload\n",
    "%autoreload 2"
   ]
  },
  {
   "cell_type": "code",
   "execution_count": 2,
   "metadata": {
    "ExecuteTime": {
     "end_time": "2019-03-07T11:55:20.037559Z",
     "start_time": "2019-03-07T11:55:18.428737Z"
    }
   },
   "outputs": [],
   "source": [
    "validation = pd.read_hdf('preprocessed.h5', 'validation')"
   ]
  },
  {
   "cell_type": "markdown",
   "metadata": {},
   "source": [
    "# pCTR using different models"
   ]
  },
  {
   "cell_type": "code",
   "execution_count": 212,
   "metadata": {
    "ExecuteTime": {
     "end_time": "2019-03-07T23:04:24.481623Z",
     "start_time": "2019-03-07T23:04:04.696155Z"
    }
   },
   "outputs": [],
   "source": [
    "# load the trained LR\n",
    "lr = pickle.load(open( \"lr_model\", \"rb\" ))\n",
    "\n",
    "# user LR to predict pCTR\n",
    "pCTR_lr = lr.predict_proba(validation.drop(columns=['payprice', 'click']))[:, 1]"
   ]
  },
  {
   "cell_type": "code",
   "execution_count": 253,
   "metadata": {
    "ExecuteTime": {
     "end_time": "2019-03-07T23:28:32.498659Z",
     "start_time": "2019-03-07T23:28:32.447532Z"
    }
   },
   "outputs": [
    {
     "ename": "FileNotFoundError",
     "evalue": "[Errno 2] No such file or directory: 'nmodel_roc_0.856_balanced_acc_0.000_model_loss_0.017.pt'",
     "output_type": "error",
     "traceback": [
      "\u001b[0;31m---------------------------------------------------------------------------\u001b[0m",
      "\u001b[0;31mFileNotFoundError\u001b[0m                         Traceback (most recent call last)",
      "\u001b[0;32m<ipython-input-253-2bb17e8d26f8>\u001b[0m in \u001b[0;36m<module>\u001b[0;34m\u001b[0m\n\u001b[1;32m      3\u001b[0m \u001b[0mPATH\u001b[0m \u001b[0;34m=\u001b[0m \u001b[0;34m'/content/gdrive/My Drive/Colab Notebooks/'\u001b[0m \u001b[0;34m+\u001b[0m \u001b[0mfile\u001b[0m\u001b[0;34m\u001b[0m\u001b[0;34m\u001b[0m\u001b[0m\n\u001b[1;32m      4\u001b[0m \u001b[0;34m\u001b[0m\u001b[0m\n\u001b[0;32m----> 5\u001b[0;31m \u001b[0mmodel\u001b[0m \u001b[0;34m=\u001b[0m \u001b[0mtorch\u001b[0m\u001b[0;34m.\u001b[0m\u001b[0mload\u001b[0m\u001b[0;34m(\u001b[0m\u001b[0mfile\u001b[0m\u001b[0;34m)\u001b[0m\u001b[0;34m\u001b[0m\u001b[0;34m\u001b[0m\u001b[0m\n\u001b[0m\u001b[1;32m      6\u001b[0m \u001b[0mmodel\u001b[0m\u001b[0;34m.\u001b[0m\u001b[0meval\u001b[0m\u001b[0;34m(\u001b[0m\u001b[0;34m)\u001b[0m\u001b[0;34m\u001b[0m\u001b[0;34m\u001b[0m\u001b[0m\n\u001b[1;32m      7\u001b[0m \u001b[0;34m\u001b[0m\u001b[0m\n",
      "\u001b[0;32m~/.pyenv/versions/3.6.7/lib/python3.6/site-packages/torch/serialization.py\u001b[0m in \u001b[0;36mload\u001b[0;34m(f, map_location, pickle_module)\u001b[0m\n\u001b[1;32m    364\u001b[0m             \u001b[0;34m(\u001b[0m\u001b[0msys\u001b[0m\u001b[0;34m.\u001b[0m\u001b[0mversion_info\u001b[0m\u001b[0;34m[\u001b[0m\u001b[0;36m0\u001b[0m\u001b[0;34m]\u001b[0m \u001b[0;34m==\u001b[0m \u001b[0;36m3\u001b[0m \u001b[0;32mand\u001b[0m \u001b[0misinstance\u001b[0m\u001b[0;34m(\u001b[0m\u001b[0mf\u001b[0m\u001b[0;34m,\u001b[0m \u001b[0mpathlib\u001b[0m\u001b[0;34m.\u001b[0m\u001b[0mPath\u001b[0m\u001b[0;34m)\u001b[0m\u001b[0;34m)\u001b[0m\u001b[0;34m:\u001b[0m\u001b[0;34m\u001b[0m\u001b[0;34m\u001b[0m\u001b[0m\n\u001b[1;32m    365\u001b[0m         \u001b[0mnew_fd\u001b[0m \u001b[0;34m=\u001b[0m \u001b[0;32mTrue\u001b[0m\u001b[0;34m\u001b[0m\u001b[0;34m\u001b[0m\u001b[0m\n\u001b[0;32m--> 366\u001b[0;31m         \u001b[0mf\u001b[0m \u001b[0;34m=\u001b[0m \u001b[0mopen\u001b[0m\u001b[0;34m(\u001b[0m\u001b[0mf\u001b[0m\u001b[0;34m,\u001b[0m \u001b[0;34m'rb'\u001b[0m\u001b[0;34m)\u001b[0m\u001b[0;34m\u001b[0m\u001b[0;34m\u001b[0m\u001b[0m\n\u001b[0m\u001b[1;32m    367\u001b[0m     \u001b[0;32mtry\u001b[0m\u001b[0;34m:\u001b[0m\u001b[0;34m\u001b[0m\u001b[0;34m\u001b[0m\u001b[0m\n\u001b[1;32m    368\u001b[0m         \u001b[0;32mreturn\u001b[0m \u001b[0m_load\u001b[0m\u001b[0;34m(\u001b[0m\u001b[0mf\u001b[0m\u001b[0;34m,\u001b[0m \u001b[0mmap_location\u001b[0m\u001b[0;34m,\u001b[0m \u001b[0mpickle_module\u001b[0m\u001b[0;34m)\u001b[0m\u001b[0;34m\u001b[0m\u001b[0;34m\u001b[0m\u001b[0m\n",
      "\u001b[0;31mFileNotFoundError\u001b[0m: [Errno 2] No such file or directory: 'nmodel_roc_0.856_balanced_acc_0.000_model_loss_0.017.pt'"
     ]
    }
   ],
   "source": [
    "# load the best NN\n",
    "file = 'nmodel_roc_0.856_balanced_acc_0.000_model_loss_0.017.pt'\n",
    "PATH = '/content/gdrive/My Drive/Colab Notebooks/' + file\n",
    "\n",
    "model = torch.load(PATH)\n",
    "model.eval()\n",
    "\n",
    "# use NN to predict pCTR\n",
    "batches = np.array_split(validation, 200)\n",
    "\n",
    "pCTR_NN = []\n",
    "for batch in batches:\n",
    "    data = batch.drop(columns=['click', 'payprice']).values\n",
    "    target = batch['click'].values\n",
    "    \n",
    "    data = torch.from_numpy(data).float()\n",
    "    target = torch.from_numpy(target).float()\n",
    "    \n",
    "    output = model(data)\n",
    "    \n",
    "    prediction = (output.data).float()\n",
    "    y_hat_prob = prediction.cpu().numpy().squeeze()\n",
    "    \n",
    "    pCTR_NN.extend(y_hat_prob)\n",
    "    \n",
    "pCTR_NN = np.array(pCTR_NN)"
   ]
  },
  {
   "cell_type": "code",
   "execution_count": 210,
   "metadata": {
    "ExecuteTime": {
     "end_time": "2019-03-07T23:03:09.339106Z",
     "start_time": "2019-03-07T23:02:36.521871Z"
    }
   },
   "outputs": [
    {
     "name": "stderr",
     "output_type": "stream",
     "text": [
      "/Users/davidvanrooij/.pyenv/versions/3.6.7/lib/python3.6/site-packages/sklearn/base.py:251: UserWarning: Trying to unpickle estimator LabelEncoder from version 0.20.1 when using version 0.20.0. This might lead to breaking code or invalid results. Use at your own risk.\n",
      "  UserWarning)\n"
     ]
    }
   ],
   "source": [
    "# Load different models\n",
    "xgb = joblib.load('xgb_model')\n",
    "pCTR_XGB = xgb.predict(validation.drop(columns=['payprice', 'click']).values)"
   ]
  },
  {
   "cell_type": "code",
   "execution_count": 211,
   "metadata": {
    "ExecuteTime": {
     "end_time": "2019-03-07T23:04:02.527202Z",
     "start_time": "2019-03-07T23:04:02.201660Z"
    }
   },
   "outputs": [],
   "source": [
    "# get baseline avgCTR\n",
    "no_click, click = np.bincount(validation['click'].values)\n",
    "avgCTR = click / (no_click + click)"
   ]
  },
  {
   "cell_type": "markdown",
   "metadata": {},
   "source": [
    "# Set environment & agents"
   ]
  },
  {
   "cell_type": "code",
   "execution_count": null,
   "metadata": {},
   "outputs": [],
   "source": [
    "# constant bidding\n",
    "environment = BiddingEnvironment(validation.copy())"
   ]
  },
  {
   "cell_type": "code",
   "execution_count": 7,
   "metadata": {
    "ExecuteTime": {
     "end_time": "2019-03-07T11:34:38.389739Z",
     "start_time": "2019-03-07T11:34:38.362814Z"
    }
   },
   "outputs": [],
   "source": [
    "# From previous analysis the best performing models are included\n",
    "\n",
    "bids_const1 = BidStrategy.const_bidding(300, environment.length)\n",
    "bids_const2 = BidStrategy.const_bidding(1000, environment.length)\n",
    "\n",
    "bids_random1 = BidStrategy.random_bidding(300, 400, environment.length)\n",
    "bids_random2 = BidStrategy.random_bidding(1000, 1500, environment.length)\n",
    "bids_random3 = BidStrategy.random_bidding(10000, 15000, environment.length)\n",
    "bids_random4 = BidStrategy.random_bidding(100000, 150000, environment.length)\n",
    "\n",
    "\n",
    "bids_opportunistic_lr_1 = BidStrategy.opportunistic(pCTR_lr, 150000, 0.8)\n",
    "bids_opportunistic_lr_2 = BidStrategy.opportunistic(pCTR_lr, 200000, 0.9)\n",
    "\n",
    "bids_opportunistic_NN_1 = BidStrategy.opportunistic(pCTR_NN, 150000, 0.8)\n",
    "bids_opportunistic_NN_2 = BidStrategy.opportunistic(pCTR_NN, 200000, 0.9)\n",
    "\n",
    "bids_opportunistic_XGB_1 = BidStrategy.opportunistic(pCTR_XGB, 150000, 0.8)\n",
    "bids_opportunistic_XGB_2 = BidStrategy.opportunistic(pCTR_XGB, 200000, 0.9)\n",
    "\n",
    "\n",
    "bids_linear_lr_1 = BidStrategy.linear_bidding(pCTR_lr, avgCTR, 3.52)\n",
    "bids_linear_lr_2 = BidStrategy.linear_bidding(pCTR_lr, avgCTR, 3.54)\n",
    "\n",
    "bids_linear_NN_1 = BidStrategy.linear_bidding(pCTR_NN, avgCTR, 70)\n",
    "bids_linear_NN_2 = BidStrategy.linear_bidding(pCTR_NN, avgCTR, 60)\n",
    "\n",
    "bids_linear_XGB_1 = BidStrategy.linear_bidding(pCTR_XGB, )\n",
    "bids_linear_XGB_2 = BidStrategy.linear_bidding(pCTR_XGB, )\n",
    "\n",
    "\n",
    "bids_ortb1_lr_1 = BidStrategy.ortb1(pCTR_lr, 15, 0.000025)\n",
    "bids_ortb1_lr_2 = BidStrategy.ortb1(pCTR_lr, 45, 0.000047)\n",
    "\n",
    "bids_ortb1_NN_1 = BidStrategy.ortb1(pCTR_NN, 30 ,0.000002)\n",
    "bids_ortb1_NN_2 = BidStrategy.ortb1(pCTR_NN, 50 ,0.000002)\n",
    "\n",
    "bids_ortb1_XGB_1 = BidStrategy.ortb1(pCTR_XGB, 10, 0.000089)\n",
    "bids_ortb1_XGB_2 = BidStrategy.ortb1(pCTR_XGB, 10, 0.000084)\n",
    "\n",
    "\n",
    "bids_ortb2_lr_1 = BidStrategy.ortb2(pCTR_lr, 90, 0.000090)\n",
    "bids_ortb2_lr_2 = BidStrategy.ortb2(pCTR_lr, 80, 0.000086)\n",
    "\n",
    "bids_ortb2_NN_1 = BidStrategy.ortb2(pCTR_NN, 20, 6.210526e-7)\n",
    "bids_ortb2_NN_2 = BidStrategy.ortb2(pCTR_NN, 50, 2.184211e-6)\n",
    "\n",
    "bids_ortb2_XGB_1 = BidStrategy.ortb2(pCTR_XGB, 20, 0.000047)\n",
    "bids_ortb2_XGB_2 = BidStrategy.ortb2(pCTR_XGB, 20, 0.000100)\n",
    "\n",
    "\n",
    "bids_optimal_second_price_lr_1 = BidStrategy.second_price(pCTR_lr, )\n",
    "bids_optimal_second_price_lr_2 = BidStrategy.second_price(pCTR_lr, )\n",
    "\n",
    "bids_optimal_second_price_NN_1 = BidStrategy.second_price(pCTR_NN, 6250*1000, 303925,)\n",
    "bids_optimal_second_price_NN_2 = BidStrategy.second_price(pCTR_NN, 6250*1000, 303925,)\n",
    "\n",
    "bids_optimal_second_price_XGB_1 = BidStrategy.second_price(pCTR_XGB, 6250*1000, 303925, 240)\n",
    "bids_optimal_second_price_XGB_2 = BidStrategy.second_price(pCTR_XGB, 6250*1000, 303925, 230)\n",
    "\n",
    "\n",
    "# register bids to the environment\n",
    "environment.register_bid(bids_const1)\n",
    "environment.register_bid(bids_const2)\n",
    "environment.register_bid(bids_random1)\n",
    "environment.register_bid(bids_random2)\n",
    "environment.register_bid(bids_random3)\n",
    "environment.register_bid(bids_random4)\n",
    "environment.register_bid(bids_opportunistic1)\n",
    "environment.register_bid(bids_opportunistic2)\n",
    "environment.register_bid(bids_opportunistic1)\n",
    "environment.register_bid(bids_opportunistic2)\n",
    "environment.register_bid(bids_opportunistic1)\n",
    "environment.register_bid(bids_opportunistic2)\n",
    "environment.register_bid(bids_linear_lr_1)\n",
    "environment.register_bid(bids_linear_lr_2)\n",
    "environment.register_bid(bids_linear_NN_1)\n",
    "environment.register_bid(bids_linear_NN_2)\n",
    "environment.register_bid(bids_linear_XGB_1)\n",
    "environment.register_bid(bids_linear_XGB_2)\n",
    "environment.register_bid(bids_ortb1_lr_1)\n",
    "environment.register_bid(bids_ortb1_lr_2)\n",
    "environment.register_bid(bids_ortb1_NN_1)\n",
    "environment.register_bid(bids_ortb1_NN_2)\n",
    "environment.register_bid(bids_ortb1_XGB_1)\n",
    "environment.register_bid(bids_ortb1_XGB_2)\n",
    "environment.register_bid(bids_ortb2_lr_1)\n",
    "environment.register_bid(bids_ortb2_lr_2)\n",
    "environment.register_bid(bids_ortb2_NN_1)\n",
    "environment.register_bid(bids_ortb2_NN_2)\n",
    "environment.register_bid(bids_ortb2_XGB_1)\n",
    "environment.register_bid(bids_ortb2_XGB_2)\n",
    "environment.register_bid(bids_optimal_second_price_lr_1)\n",
    "environment.register_bid(bids_optimal_second_price_lr_2)\n",
    "environment.register_bid(bids_optimal_second_price_NN_1)\n",
    "environment.register_bid(bids_optimal_second_price_NN_2)\n",
    "environment.register_bid(bids_optimal_second_price_XGB_1)\n",
    "environment.register_bid(bids_optimal_second_price_XGB_2)\n",
    "\n",
    "print('Registerd {} agent\\' bids to the environment'.format(environment.number_bids))"
   ]
  }
 ],
 "metadata": {
  "kernelspec": {
   "display_name": "Python 3",
   "language": "python",
   "name": "python3"
  },
  "language_info": {
   "codemirror_mode": {
    "name": "ipython",
    "version": 3
   },
   "file_extension": ".py",
   "mimetype": "text/x-python",
   "name": "python",
   "nbconvert_exporter": "python",
   "pygments_lexer": "ipython3",
   "version": "3.6.7"
  },
  "varInspector": {
   "cols": {
    "lenName": 16,
    "lenType": 16,
    "lenVar": 40
   },
   "kernels_config": {
    "python": {
     "delete_cmd_postfix": "",
     "delete_cmd_prefix": "del ",
     "library": "var_list.py",
     "varRefreshCmd": "print(var_dic_list())"
    },
    "r": {
     "delete_cmd_postfix": ") ",
     "delete_cmd_prefix": "rm(",
     "library": "var_list.r",
     "varRefreshCmd": "cat(var_dic_list()) "
    }
   },
   "position": {
    "height": "328px",
    "left": "1298px",
    "right": "20px",
    "top": "120px",
    "width": "362px"
   },
   "types_to_exclude": [
    "module",
    "function",
    "builtin_function_or_method",
    "instance",
    "_Feature"
   ],
   "window_display": false
  }
 },
 "nbformat": 4,
 "nbformat_minor": 2
}
