{
 "cells": [
  {
   "cell_type": "code",
   "execution_count": 1,
   "metadata": {
    "ExecuteTime": {
     "end_time": "2019-03-02T10:46:13.889739Z",
     "start_time": "2019-03-02T10:46:09.576956Z"
    }
   },
   "outputs": [],
   "source": [
    "from __future__ import print_function, division\n",
    "import numpy as np\n",
    "import pandas as pd\n",
    "import math\n",
    "import pickle\n",
    "from tqdm import tqdm, tqdm_notebook\n",
    "\n",
    "from sklearn.preprocessing import MultiLabelBinarizer\n",
    "\n",
    "from sklearn.model_selection import cross_val_score, KFold, train_test_split\n",
    "\n",
    "from sklearn.metrics import balanced_accuracy_score, roc_auc_score, classification_report, log_loss\n",
    "\n",
    "from imblearn.combine import SMOTETomek\n",
    "from imblearn.combine import SMOTETomek\n",
    "from imblearn.over_sampling import SMOTE\n",
    "from imblearn.under_sampling import TomekLinks\n",
    "\n",
    "from imblearn.metrics import classification_report_imbalanced\n",
    "\n",
    "from sklearn.linear_model import LogisticRegression\n",
    "\n",
    "from xgboost import XGBClassifier\n",
    "\n",
    "import matplotlib as mpl\n",
    "\n",
    "import matplotlib.pyplot as plt\n",
    "import seaborn as sns\n",
    "\n",
    "sns.set(style=\"ticks\")\n",
    "pd.set_option('display.max_columns', 100)\n",
    "\n",
    "%matplotlib inline\n",
    "%config InlineBackend.figure_format = 'svg'"
   ]
  },
  {
   "cell_type": "code",
   "execution_count": 2,
   "metadata": {
    "ExecuteTime": {
     "end_time": "2019-02-24T12:44:55.595650Z",
     "start_time": "2019-02-24T12:44:55.592418Z"
    }
   },
   "outputs": [],
   "source": [
    "# !pip install imbalanced-learn\n",
    "# !pip install xgboost"
   ]
  },
  {
   "cell_type": "code",
   "execution_count": 2,
   "metadata": {
    "ExecuteTime": {
     "end_time": "2019-03-02T10:46:13.995596Z",
     "start_time": "2019-03-02T10:46:13.988764Z"
    }
   },
   "outputs": [],
   "source": [
    "def memory(df):\n",
    "    print(\"Memory usage of the dataframe is {:.2f} MB\".format(\n",
    "        df.memory_usage().sum() / 1024**2))\n",
    "    \n",
    "    \n",
    "def entropy(df, base = 2):\n",
    "    \"\"\" Calculate the entropy for every column in a df\"\"\"\n",
    "    \n",
    "    entropy = {}\n",
    "    \n",
    "    for column in df.columns:\n",
    "        prob = df[column].value_counts(normalize=True, sort=False)\n",
    "        \n",
    "        entropy[column] = -(prob * np.log(prob)/np.log(base)).sum()\n",
    "        \n",
    "    return pd.Series(entropy).sort_values(ascending=False)"
   ]
  },
  {
   "cell_type": "code",
   "execution_count": 3,
   "metadata": {
    "ExecuteTime": {
     "end_time": "2019-03-02T08:35:12.956635Z",
     "start_time": "2019-03-02T08:34:48.855183Z"
    }
   },
   "outputs": [],
   "source": [
    "google_drive = False\n",
    "convert = False\n",
    "\n",
    "if(google_drive):\n",
    "    from google.colab import drive\n",
    "    drive.mount('/content/gdrive')\n",
    "    \n",
    "    train = pd.read_csv('/content/gdrive/My Drive/Colab Notebooks/we_data/train.csv')\n",
    "    \n",
    "elif(convert):\n",
    "    train = pd.read_csv('../we_data/train.csv')\n",
    "    train.to_hdf('train.h5', 'train')\n",
    "    \n",
    "else:\n",
    "#     train = pd.read_hdf('../train.h5', 'train')\n",
    "    train = pd.read_csv('../we_data/train.csv')\n",
    "    validation = pd.read_csv('../we_data/validation.csv')\n",
    "    test = pd.read_csv('../we_data/test.csv')"
   ]
  },
  {
   "cell_type": "code",
   "execution_count": 4,
   "metadata": {
    "ExecuteTime": {
     "end_time": "2019-03-02T08:35:15.723906Z",
     "start_time": "2019-03-02T08:35:13.580501Z"
    }
   },
   "outputs": [
    {
     "data": {
      "text/plain": [
       "click                   0\n",
       "weekday                 0\n",
       "hour                    0\n",
       "bidid                   0\n",
       "userid                  0\n",
       "useragent               0\n",
       "IP                      0\n",
       "region                  0\n",
       "city                    0\n",
       "adexchange          49829\n",
       "domain             137135\n",
       "url                 86812\n",
       "urlid             2430981\n",
       "slotid                  0\n",
       "slotwidth               0\n",
       "slotheight              0\n",
       "slotvisibility          0\n",
       "slotformat              0\n",
       "slotprice               0\n",
       "creative                0\n",
       "bidprice                0\n",
       "payprice                0\n",
       "keypage            504990\n",
       "advertiser              0\n",
       "usertag            497479\n",
       "dtype: int64"
      ]
     },
     "execution_count": 4,
     "metadata": {},
     "output_type": "execute_result"
    }
   ],
   "source": [
    "train.isnull().sum()"
   ]
  },
  {
   "cell_type": "code",
   "execution_count": 5,
   "metadata": {
    "ExecuteTime": {
     "end_time": "2019-03-02T08:35:16.567627Z",
     "start_time": "2019-03-02T08:35:16.495524Z"
    }
   },
   "outputs": [
    {
     "data": {
      "text/plain": [
       "3.0    819458\n",
       "2.0    763428\n",
       "1.0    718271\n",
       "4.0     79995\n",
       "Name: adexchange, dtype: int64"
      ]
     },
     "execution_count": 5,
     "metadata": {},
     "output_type": "execute_result"
    }
   ],
   "source": [
    "train['adexchange'].value_counts()"
   ]
  },
  {
   "cell_type": "code",
   "execution_count": 6,
   "metadata": {
    "ExecuteTime": {
     "end_time": "2019-03-02T08:35:30.184338Z",
     "start_time": "2019-03-02T08:35:17.303297Z"
    }
   },
   "outputs": [
    {
     "data": {
      "text/plain": [
       "bidid             21.213107\n",
       "userid            21.136952\n",
       "IP                18.103315\n",
       "url               16.149660\n",
       "usertag           14.872094\n",
       "slotid             9.422239\n",
       "domain             8.498091\n",
       "city               7.422192\n",
       "payprice           7.076786\n",
       "creative           5.873560\n",
       "region             4.533946\n",
       "hour               4.382678\n",
       "slotprice          3.269283\n",
       "keypage            3.195136\n",
       "slotwidth          3.064538\n",
       "advertiser         2.930429\n",
       "weekday            2.799784\n",
       "bidprice           2.614787\n",
       "slotvisibility     2.351020\n",
       "slotheight         2.024556\n",
       "adexchange         1.741802\n",
       "slotformat         1.478337\n",
       "useragent          1.447568\n",
       "click              0.008738\n",
       "urlid             -0.000000\n",
       "dtype: float64"
      ]
     },
     "execution_count": 6,
     "metadata": {},
     "output_type": "execute_result"
    }
   ],
   "source": [
    "entropy(train)"
   ]
  },
  {
   "cell_type": "code",
   "execution_count": 8,
   "metadata": {
    "ExecuteTime": {
     "end_time": "2019-02-26T17:41:57.356425Z",
     "start_time": "2019-02-26T17:41:57.298965Z"
    }
   },
   "outputs": [
    {
     "data": {
      "text/html": [
       "<div>\n",
       "<style scoped>\n",
       "    .dataframe tbody tr th:only-of-type {\n",
       "        vertical-align: middle;\n",
       "    }\n",
       "\n",
       "    .dataframe tbody tr th {\n",
       "        vertical-align: top;\n",
       "    }\n",
       "\n",
       "    .dataframe thead th {\n",
       "        text-align: right;\n",
       "    }\n",
       "</style>\n",
       "<table border=\"1\" class=\"dataframe\">\n",
       "  <thead>\n",
       "    <tr style=\"text-align: right;\">\n",
       "      <th></th>\n",
       "      <th>click</th>\n",
       "      <th>weekday</th>\n",
       "      <th>hour</th>\n",
       "      <th>bidid</th>\n",
       "      <th>userid</th>\n",
       "      <th>useragent</th>\n",
       "      <th>IP</th>\n",
       "      <th>region</th>\n",
       "      <th>city</th>\n",
       "      <th>adexchange</th>\n",
       "      <th>domain</th>\n",
       "      <th>url</th>\n",
       "      <th>urlid</th>\n",
       "      <th>slotid</th>\n",
       "      <th>slotwidth</th>\n",
       "      <th>slotheight</th>\n",
       "      <th>slotvisibility</th>\n",
       "      <th>slotformat</th>\n",
       "      <th>slotprice</th>\n",
       "      <th>creative</th>\n",
       "      <th>bidprice</th>\n",
       "      <th>payprice</th>\n",
       "      <th>keypage</th>\n",
       "      <th>advertiser</th>\n",
       "      <th>usertag</th>\n",
       "    </tr>\n",
       "  </thead>\n",
       "  <tbody>\n",
       "    <tr>\n",
       "      <th>0</th>\n",
       "      <td>0</td>\n",
       "      <td>5</td>\n",
       "      <td>22</td>\n",
       "      <td>b7bea80521fdecd95d2d761a38c91c3f09618066</td>\n",
       "      <td>2e880fb7d690cf7377b2e42e701728e3f3c0e4c1</td>\n",
       "      <td>windows_ie</td>\n",
       "      <td>125.37.175.*</td>\n",
       "      <td>2</td>\n",
       "      <td>2</td>\n",
       "      <td>2.0</td>\n",
       "      <td>trqRTvKaXTKfgg24JKTI</td>\n",
       "      <td>6447a7dfa30fe6eb410c91860e7c9b45</td>\n",
       "      <td>NaN</td>\n",
       "      <td>2015392487</td>\n",
       "      <td>200</td>\n",
       "      <td>200</td>\n",
       "      <td>2</td>\n",
       "      <td>0</td>\n",
       "      <td>5</td>\n",
       "      <td>a4f763f78ef3eedfe614263b94a8924e</td>\n",
       "      <td>238</td>\n",
       "      <td>5</td>\n",
       "      <td>0f951a030abdaedd733ee8d114ce2944</td>\n",
       "      <td>3427</td>\n",
       "      <td>NaN</td>\n",
       "    </tr>\n",
       "    <tr>\n",
       "      <th>1</th>\n",
       "      <td>0</td>\n",
       "      <td>1</td>\n",
       "      <td>20</td>\n",
       "      <td>4f51205475678f5a124bc76b2c54163bf8eaa7eb</td>\n",
       "      <td>3a1fe01360ff8100e7d006b83b77a3e4c01d928c</td>\n",
       "      <td>windows_chrome</td>\n",
       "      <td>171.36.92.*</td>\n",
       "      <td>238</td>\n",
       "      <td>239</td>\n",
       "      <td>1.0</td>\n",
       "      <td>20fc675468712705dbf5d3eda94126da</td>\n",
       "      <td>3ddf173a94bd23c326683b6373c75dd4</td>\n",
       "      <td>NaN</td>\n",
       "      <td>mm_10982364_973726_8930541</td>\n",
       "      <td>300</td>\n",
       "      <td>250</td>\n",
       "      <td>FourthView</td>\n",
       "      <td>Na</td>\n",
       "      <td>0</td>\n",
       "      <td>10722</td>\n",
       "      <td>294</td>\n",
       "      <td>23</td>\n",
       "      <td>NaN</td>\n",
       "      <td>2821</td>\n",
       "      <td>NaN</td>\n",
       "    </tr>\n",
       "    <tr>\n",
       "      <th>2</th>\n",
       "      <td>0</td>\n",
       "      <td>3</td>\n",
       "      <td>13</td>\n",
       "      <td>b604e3fd054a658ab7ced4285ebf2ef54d2bd890</td>\n",
       "      <td>801d18a056b6fe6b06a794aef17fb0d6daff2414</td>\n",
       "      <td>windows_ie</td>\n",
       "      <td>59.46.106.*</td>\n",
       "      <td>40</td>\n",
       "      <td>41</td>\n",
       "      <td>2.0</td>\n",
       "      <td>trqRTJn7O95I1mKYUV</td>\n",
       "      <td>625d1b5916ea925332c7b326c0574cfa</td>\n",
       "      <td>NaN</td>\n",
       "      <td>1720123646</td>\n",
       "      <td>250</td>\n",
       "      <td>250</td>\n",
       "      <td>2</td>\n",
       "      <td>0</td>\n",
       "      <td>5</td>\n",
       "      <td>798b2d49952d77f1eace9f23c210d0b5</td>\n",
       "      <td>238</td>\n",
       "      <td>24</td>\n",
       "      <td>0f951a030abdaedd733ee8d114ce2944</td>\n",
       "      <td>3427</td>\n",
       "      <td>10052,10006,13866,10110</td>\n",
       "    </tr>\n",
       "    <tr>\n",
       "      <th>3</th>\n",
       "      <td>0</td>\n",
       "      <td>6</td>\n",
       "      <td>23</td>\n",
       "      <td>0348beeae93e561584c3b50fc9e7746a33048ad7</td>\n",
       "      <td>0d6eaf2259699990e38a1fc5116f112070b9ecdc</td>\n",
       "      <td>windows_ie</td>\n",
       "      <td>114.250.226.*</td>\n",
       "      <td>1</td>\n",
       "      <td>1</td>\n",
       "      <td>1.0</td>\n",
       "      <td>5F97t5E0BTK7XhNrUMpENpn</td>\n",
       "      <td>dedc488b98ca20707bc9a723957e7d1f</td>\n",
       "      <td>NaN</td>\n",
       "      <td>mm_10027070_118039_10308280</td>\n",
       "      <td>160</td>\n",
       "      <td>600</td>\n",
       "      <td>2</td>\n",
       "      <td>1</td>\n",
       "      <td>0</td>\n",
       "      <td>cb7c76e7784031272e37af8e7e9b062c</td>\n",
       "      <td>300</td>\n",
       "      <td>25</td>\n",
       "      <td>bebefa5efe83beee17a3d245e7c5085b</td>\n",
       "      <td>1458</td>\n",
       "      <td>13866,10063,10111</td>\n",
       "    </tr>\n",
       "    <tr>\n",
       "      <th>4</th>\n",
       "      <td>0</td>\n",
       "      <td>5</td>\n",
       "      <td>6</td>\n",
       "      <td>268149c1789bce2bc9798ffd97ec431219bafeb3</td>\n",
       "      <td>a239d9bb642460d974ba67f85e63b8d3e214da0e</td>\n",
       "      <td>windows_ie</td>\n",
       "      <td>183.63.192.*</td>\n",
       "      <td>216</td>\n",
       "      <td>233</td>\n",
       "      <td>2.0</td>\n",
       "      <td>13625cb070ffb306b425cd803c4b7ab4</td>\n",
       "      <td>4199d1227c511fc776b76594dabff9f8</td>\n",
       "      <td>NaN</td>\n",
       "      <td>1120200150</td>\n",
       "      <td>728</td>\n",
       "      <td>90</td>\n",
       "      <td>OtherView</td>\n",
       "      <td>Na</td>\n",
       "      <td>133</td>\n",
       "      <td>7330</td>\n",
       "      <td>277</td>\n",
       "      <td>133</td>\n",
       "      <td>NaN</td>\n",
       "      <td>2259</td>\n",
       "      <td>NaN</td>\n",
       "    </tr>\n",
       "  </tbody>\n",
       "</table>\n",
       "</div>"
      ],
      "text/plain": [
       "   click  weekday  hour                                     bidid  \\\n",
       "0      0        5    22  b7bea80521fdecd95d2d761a38c91c3f09618066   \n",
       "1      0        1    20  4f51205475678f5a124bc76b2c54163bf8eaa7eb   \n",
       "2      0        3    13  b604e3fd054a658ab7ced4285ebf2ef54d2bd890   \n",
       "3      0        6    23  0348beeae93e561584c3b50fc9e7746a33048ad7   \n",
       "4      0        5     6  268149c1789bce2bc9798ffd97ec431219bafeb3   \n",
       "\n",
       "                                     userid       useragent             IP  \\\n",
       "0  2e880fb7d690cf7377b2e42e701728e3f3c0e4c1      windows_ie   125.37.175.*   \n",
       "1  3a1fe01360ff8100e7d006b83b77a3e4c01d928c  windows_chrome    171.36.92.*   \n",
       "2  801d18a056b6fe6b06a794aef17fb0d6daff2414      windows_ie    59.46.106.*   \n",
       "3  0d6eaf2259699990e38a1fc5116f112070b9ecdc      windows_ie  114.250.226.*   \n",
       "4  a239d9bb642460d974ba67f85e63b8d3e214da0e      windows_ie   183.63.192.*   \n",
       "\n",
       "   region  city  adexchange                            domain  \\\n",
       "0       2     2         2.0              trqRTvKaXTKfgg24JKTI   \n",
       "1     238   239         1.0  20fc675468712705dbf5d3eda94126da   \n",
       "2      40    41         2.0                trqRTJn7O95I1mKYUV   \n",
       "3       1     1         1.0           5F97t5E0BTK7XhNrUMpENpn   \n",
       "4     216   233         2.0  13625cb070ffb306b425cd803c4b7ab4   \n",
       "\n",
       "                                url  urlid                       slotid  \\\n",
       "0  6447a7dfa30fe6eb410c91860e7c9b45    NaN                   2015392487   \n",
       "1  3ddf173a94bd23c326683b6373c75dd4    NaN   mm_10982364_973726_8930541   \n",
       "2  625d1b5916ea925332c7b326c0574cfa    NaN                   1720123646   \n",
       "3  dedc488b98ca20707bc9a723957e7d1f    NaN  mm_10027070_118039_10308280   \n",
       "4  4199d1227c511fc776b76594dabff9f8    NaN                   1120200150   \n",
       "\n",
       "   slotwidth  slotheight slotvisibility slotformat  slotprice  \\\n",
       "0        200         200              2          0          5   \n",
       "1        300         250     FourthView         Na          0   \n",
       "2        250         250              2          0          5   \n",
       "3        160         600              2          1          0   \n",
       "4        728          90      OtherView         Na        133   \n",
       "\n",
       "                           creative  bidprice  payprice  \\\n",
       "0  a4f763f78ef3eedfe614263b94a8924e       238         5   \n",
       "1                             10722       294        23   \n",
       "2  798b2d49952d77f1eace9f23c210d0b5       238        24   \n",
       "3  cb7c76e7784031272e37af8e7e9b062c       300        25   \n",
       "4                              7330       277       133   \n",
       "\n",
       "                            keypage  advertiser                  usertag  \n",
       "0  0f951a030abdaedd733ee8d114ce2944        3427                      NaN  \n",
       "1                               NaN        2821                      NaN  \n",
       "2  0f951a030abdaedd733ee8d114ce2944        3427  10052,10006,13866,10110  \n",
       "3  bebefa5efe83beee17a3d245e7c5085b        1458        13866,10063,10111  \n",
       "4                               NaN        2259                      NaN  "
      ]
     },
     "execution_count": 8,
     "metadata": {},
     "output_type": "execute_result"
    }
   ],
   "source": [
    "train.head()"
   ]
  },
  {
   "cell_type": "code",
   "execution_count": 7,
   "metadata": {
    "ExecuteTime": {
     "end_time": "2019-03-02T08:35:30.857382Z",
     "start_time": "2019-03-02T08:35:30.821491Z"
    }
   },
   "outputs": [
    {
     "name": "stdout",
     "output_type": "stream",
     "text": [
      "Baseline average CTR 0.03691%\n"
     ]
    }
   ],
   "source": [
    "no_click,click = train['click'].value_counts().values\n",
    "print('Baseline average CTR {:.5%}'.format(click/(no_click+no_click)))"
   ]
  },
  {
   "cell_type": "markdown",
   "metadata": {},
   "source": [
    "## Feature engineering"
   ]
  },
  {
   "cell_type": "code",
   "execution_count": 8,
   "metadata": {
    "ExecuteTime": {
     "end_time": "2019-03-02T08:35:31.493344Z",
     "start_time": "2019-03-02T08:35:31.467164Z"
    }
   },
   "outputs": [],
   "source": [
    "def count_featuresize_one_hot_encoding(df):\n",
    "    \"\"\"Calcualte the number of featuers nessecary for one hot encoding\"\"\"\n",
    "\n",
    "    total_features = 0\n",
    "    for column in df.columns:\n",
    "        total_features += len(df[column].unique())\n",
    "\n",
    "    print('Rougly {:,} features in the feature space'.format(total_features))\n",
    "\n",
    "    return total_features\n",
    "\n",
    "\n",
    "def feature_engineering(df):\n",
    "    \"\"\" Enrich dataframe with additional features\n",
    "    \n",
    "        Note that all fields that are joined are slightly redundent when\n",
    "        implementing more sophisticated models like NN that could pick up\n",
    "        on these feature combinations, however, it can improve the perforamce\n",
    "        of simpler models such as logisitc regression\"\"\"\n",
    "\n",
    "    # split user agent into os and browser\n",
    "    df['os'], df['browser'] = df['useragent'].str.split('_').str\n",
    "\n",
    "    # apple users\n",
    "    df['apple'] = df['useragent'].str.match(r'(ios)|(mac)').astype(np.uint8)\n",
    "\n",
    "    # deterime mobile devivce or not\n",
    "    df['mobieldevice'] = df['useragent'].str.match(r'(ios)|(android)').astype(\n",
    "        np.uint8)\n",
    "\n",
    "    # hour per day\n",
    "    df['weekdayhour'] = df['weekday'].astype(str) + '_' + df['hour'].astype(\n",
    "        str)\n",
    "\n",
    "    # bin hours into time of day\n",
    "    df['timeofday'] = pd.cut(\n",
    "        df['hour'].astype(int),\n",
    "        4,\n",
    "        labels=[\"night\", \"morning\", \"afternoon\", \"evening\"])\n",
    "\n",
    "    # bin ad surface size categories\n",
    "    min_ad = min(df['slotwidth'] * df['slotheight']) - 1\n",
    "    max_ad = max(df['slotwidth'] * df['slotheight'])\n",
    "\n",
    "    ad_bins = pd.IntervalIndex.from_breaks(\n",
    "        [min_ad, 65520, 75000, 90000, max_ad])\n",
    "\n",
    "    replace, with_ = [\n",
    "        pd.Interval(min_ad, 65520),\n",
    "        pd.Interval(65520, 75000),\n",
    "        pd.Interval(75000, 90000),\n",
    "        pd.Interval(90000, max_ad)\n",
    "    ], ['small', 'medium', 'large', 'x-large']\n",
    "\n",
    "    df['adsize'] = pd.cut(\n",
    "        df['slotwidth'] * df['slotheight'], bins=ad_bins).replace(\n",
    "            replace, with_)\n",
    "\n",
    "    # bin slot price into categories\n",
    "    price_bins = pd.IntervalIndex.from_breaks(\n",
    "        [min(df['slotprice']), 10, 50, 100,\n",
    "         max(df['slotprice'])],\n",
    "        closed='left')\n",
    "    replace, with_ = [\n",
    "        pd.Interval(min(df['slotprice']), 10, closed='left'),\n",
    "        pd.Interval(10, 50, closed='left'),\n",
    "        pd.Interval(50, 100, closed='left'),\n",
    "        pd.Interval(100, max(df['slotprice']), closed='left')\n",
    "    ], ['1', '2', '3', '4']\n",
    "\n",
    "    df['slotprice'] = pd.cut(\n",
    "        df['slotprice'], bins=price_bins).replace(replace, with_)\n",
    "\n",
    "    # ad size category and visability\n",
    "    df['advisabilitysize'] = df['slotvisibility'].astype(\n",
    "        str) + '_' + df['adsize'].astype(str)\n",
    "\n",
    "    return df.drop(columns=['slotwidth', 'slotheight'])\n",
    "\n",
    "\n",
    "def pre_process_one_hot_encoding(df):\n",
    "    \"\"\" Preprocess the dataframe for one hot encoding\n",
    "    \n",
    "        - Split the filed user tags and binary encode\n",
    "        - Convert numerical categories into strings \n",
    "        \"\"\"\n",
    "\n",
    "    # convert numerical categories into strings as a quick hack\n",
    "    # for one hot encoding to work properly on numerical categories\n",
    "    df['weekday'] = df['weekday'].astype(str)\n",
    "    df['hour'] = df['hour'].astype(str)\n",
    "    df['region'] = df['region'].astype(str)\n",
    "    df['city'] = df['city'].astype(str)\n",
    "    df['adexchange'] = df['adexchange'].astype(str)\n",
    "    df['advertiser'] = df['advertiser'].astype(str)\n",
    "\n",
    "    # already processed and not found in columns\n",
    "    if ('usertag' not in df.columns):\n",
    "        return df\n",
    "\n",
    "    df['usertag'] = df['usertag'].astype(str)\n",
    "    mlb = MultiLabelBinarizer()\n",
    "\n",
    "    df = df.join(\n",
    "        pd.DataFrame(\n",
    "            mlb.fit_transform(df['usertag'].str.split(',')),\n",
    "            columns='usertag_' + mlb.classes_,\n",
    "            index=df.index))\n",
    "\n",
    "    # drop the usertag column\n",
    "    df = df.drop(columns='usertag')\n",
    "\n",
    "    return df\n",
    "\n",
    "\n",
    "def drop_colums(df):\n",
    "\n",
    "    # Remove uniuqe and meaningless featuers that are not know a pirori\n",
    "    columns = ['bidprice', 'urlid', 'bidid']\n",
    "\n",
    "    # remove some very sparse fields to reduce featuers (highest entropy)\n",
    "    columns.extend(['userid', 'url', 'domain', 'slotid', 'IP'])\n",
    "\n",
    "    # only remove columns that are in the df\n",
    "    columns = [column for column in columns if column in df.columns]\n",
    "\n",
    "    return df.drop(columns=columns)\n",
    "\n",
    "\n",
    "def add_missing_colums(df, columns, sort_columns=True):\n",
    "    \"\"\" Due to the feature engineering there is a chance a discrapency occurs\n",
    "        between \n",
    "        \"\"\"\n",
    "\n",
    "    missing = [x for x in columns if x not in df.columns]\n",
    "\n",
    "    for x in missing:\n",
    "        print('Adding {}'.format(x))\n",
    "        df[x] = 0\n",
    "\n",
    "    if (sort_columns):\n",
    "        return df[sorted(df.columns)]\n",
    "\n",
    "    return df"
   ]
  },
  {
   "cell_type": "markdown",
   "metadata": {
    "heading_collapsed": true
   },
   "source": [
    "## Performance metrics"
   ]
  },
  {
   "cell_type": "code",
   "execution_count": 5,
   "metadata": {
    "ExecuteTime": {
     "end_time": "2019-02-26T18:13:02.954746Z",
     "start_time": "2019-02-26T18:13:02.938751Z"
    },
    "hidden": true
   },
   "outputs": [],
   "source": [
    "def calcluate_num_impressions(df, grouping = False):\n",
    "    imp = {}\n",
    "    \n",
    "    if(grouping):\n",
    "        imp = df.groupby(grouping).size().to_dict()\n",
    "            \n",
    "    else:\n",
    "        imp = len(df)\n",
    "    \n",
    "    print(imp)\n",
    "    return imp\n",
    "    \n",
    "\n",
    "\n",
    "def calcluate_num_clicks(df, grouping = False):\n",
    "    clicks = {}\n",
    "    \n",
    "    if(grouping):\n",
    "        for index, group in df.groupby(grouping):\n",
    "            clicks[index] = np.sum(group['click'])\n",
    "            \n",
    "    else:\n",
    "        clicks = np.sum(df['click'])\n",
    "    \n",
    "    print(clicks)\n",
    "    return clicks\n",
    "    \n",
    "\n",
    "def calcluate_ctr(df, grouping = False):\n",
    "    ctr = {}\n",
    "    \n",
    "    if(grouping):\n",
    "        for index, group in df.groupby(grouping):\n",
    "            ctr[index] = np.average(group['click']) * 100\n",
    "            \n",
    "    else:\n",
    "        ctr = np.average(df['click']) * 100\n",
    "    \n",
    "    print(ctr)\n",
    "    return ctr\n",
    "    \n",
    "    \n",
    "def average_cost_per_mille(df, grouping = False):\n",
    "    cpm = {}\n",
    "    \n",
    "    if(grouping):\n",
    "        cpm = df.groupby('weekday').agg({'payprice': np.mean}).to_dict()['payprice']\n",
    "        \n",
    "    else:\n",
    "        cpm = np.mean(df['payprice'])\n",
    "        \n",
    "    print(cpm)\n",
    "    return cpm"
   ]
  },
  {
   "cell_type": "code",
   "execution_count": 12,
   "metadata": {
    "ExecuteTime": {
     "end_time": "2019-02-26T17:41:59.629369Z",
     "start_time": "2019-02-26T17:41:59.615152Z"
    },
    "hidden": true
   },
   "outputs": [
    {
     "data": {
      "text/plain": [
       "((2430981, 25), (303925, 25), (303375, 22))"
      ]
     },
     "execution_count": 12,
     "metadata": {},
     "output_type": "execute_result"
    }
   ],
   "source": [
    "train.shape, validation.shape, test.shape"
   ]
  },
  {
   "cell_type": "markdown",
   "metadata": {
    "heading_collapsed": true
   },
   "source": [
    "## Build feature matrix"
   ]
  },
  {
   "cell_type": "code",
   "execution_count": 9,
   "metadata": {
    "ExecuteTime": {
     "end_time": "2019-03-02T08:38:11.153631Z",
     "start_time": "2019-03-02T08:35:32.110625Z"
    },
    "hidden": true,
    "scrolled": false
   },
   "outputs": [
    {
     "name": "stdout",
     "output_type": "stream",
     "text": [
      "CPU times: user 326 ms, sys: 211 ms, total: 537 ms\n",
      "Wall time: 541 ms\n",
      "CPU times: user 926 ms, sys: 328 ms, total: 1.25 s\n",
      "Wall time: 1.26 s\n",
      "CPU times: user 1min 9s, sys: 2 s, total: 1min 11s\n",
      "Wall time: 1min 12s\n",
      "CPU times: user 26.3 s, sys: 13.2 s, total: 39.5 s\n",
      "Wall time: 42.3 s\n",
      "CPU times: user 25.9 s, sys: 13.1 s, total: 39 s\n",
      "Wall time: 42.6 s\n",
      "Memory usage of the dataframe is 3389.45 MB\n",
      "done\n"
     ]
    }
   ],
   "source": [
    "\"\"\"\n",
    "other fillna strategies for adexchange should be considered at some point!\n",
    "\n",
    "the only columns that contain a lot of missing values that are used in the final \n",
    "analysis are adexchange and usertag. Different strategies have been considered but \n",
    "it was deemed to be the most informative to assign a 'unknown' class which is easely\n",
    "achieved trhough filling 0's since they do not occur in the dataset\n",
    "\n",
    "\"\"\"\n",
    "\n",
    "%time train = drop_colums(train)\n",
    "%time train = train.fillna(0)\n",
    "%time train = feature_engineering(train)\n",
    "%time train = pre_process_one_hot_encoding(train)\n",
    "%time train = pd.get_dummies(train)\n",
    "\n",
    "memory(train)\n",
    "print('done')"
   ]
  },
  {
   "cell_type": "code",
   "execution_count": 10,
   "metadata": {
    "ExecuteTime": {
     "end_time": "2019-03-02T08:38:57.084041Z",
     "start_time": "2019-03-02T08:38:38.113674Z"
    },
    "hidden": true
   },
   "outputs": [
    {
     "name": "stdout",
     "output_type": "stream",
     "text": [
      "CPU times: user 103 ms, sys: 298 ms, total: 401 ms\n",
      "Wall time: 538 ms\n",
      "CPU times: user 121 ms, sys: 71.1 ms, total: 192 ms\n",
      "Wall time: 198 ms\n",
      "CPU times: user 3.41 s, sys: 2.28 s, total: 5.69 s\n",
      "Wall time: 6.32 s\n",
      "CPU times: user 8.47 s, sys: 215 ms, total: 8.68 s\n",
      "Wall time: 8.73 s\n",
      "CPU times: user 2.71 s, sys: 443 ms, total: 3.15 s\n",
      "Wall time: 3.17 s\n",
      "done\n"
     ]
    }
   ],
   "source": [
    "%time test = drop_colums(test)\n",
    "%time test = test.fillna(0)\n",
    "%time test = pre_process_one_hot_encoding(test)\n",
    "%time test = feature_engineering(test)\n",
    "%time test = pd.get_dummies(test)\n",
    "print('done')"
   ]
  },
  {
   "cell_type": "code",
   "execution_count": 11,
   "metadata": {
    "ExecuteTime": {
     "end_time": "2019-03-02T08:39:47.749666Z",
     "start_time": "2019-03-02T08:39:25.384895Z"
    },
    "hidden": true,
    "scrolled": false
   },
   "outputs": [
    {
     "name": "stdout",
     "output_type": "stream",
     "text": [
      "CPU times: user 89.9 ms, sys: 284 ms, total: 374 ms\n",
      "Wall time: 501 ms\n",
      "CPU times: user 121 ms, sys: 72.9 ms, total: 194 ms\n",
      "Wall time: 196 ms\n",
      "CPU times: user 12.1 s, sys: 523 ms, total: 12.6 s\n",
      "Wall time: 14.3 s\n",
      "CPU times: user 3.39 s, sys: 580 ms, total: 3.97 s\n",
      "Wall time: 4.06 s\n",
      "CPU times: user 2.53 s, sys: 458 ms, total: 2.99 s\n",
      "Wall time: 3.31 s\n",
      "done\n"
     ]
    }
   ],
   "source": [
    "%time validation = drop_colums(validation)\n",
    "%time validation = validation.fillna(0)\n",
    "%time validation = feature_engineering(validation)\n",
    "%time validation = pre_process_one_hot_encoding(validation)\n",
    "%time validation = pd.get_dummies(validation)\n",
    "print('done')"
   ]
  },
  {
   "cell_type": "code",
   "execution_count": 12,
   "metadata": {
    "ExecuteTime": {
     "end_time": "2019-03-02T08:40:53.255384Z",
     "start_time": "2019-03-02T08:40:17.679666Z"
    },
    "hidden": true
   },
   "outputs": [
    {
     "name": "stdout",
     "output_type": "stream",
     "text": [
      "CPU times: user 8.41 s, sys: 16.9 s, total: 25.3 s\n",
      "Wall time: 29.9 s\n",
      "Adding useragent_android_ie\n",
      "Adding useragent_android_maxthon\n",
      "Adding useragent_other_firefox\n",
      "Adding creative_7324\n",
      "Adding creative_7332\n",
      "Adding useragent_android_maxthon\n",
      "Adding creative_7332\n",
      "CPU times: user 977 ms, sys: 1.57 s, total: 2.55 s\n",
      "Wall time: 2.78 s\n",
      "Adding click\n",
      "Adding payprice\n",
      "Adding useragent_linux_ie\n",
      "Adding useragent_mac_maxthon\n",
      "Adding useragent_mac_sogou\n",
      "Adding creative_7327\n",
      "Adding click\n",
      "Adding payprice\n",
      "Adding useragent_android_ie\n",
      "Adding useragent_linux_ie\n",
      "Adding useragent_mac_maxthon\n",
      "Adding useragent_mac_sogou\n",
      "Adding useragent_other_firefox\n",
      "Adding creative_7324\n",
      "Adding creative_7327\n",
      "CPU times: user 1.03 s, sys: 1.47 s, total: 2.49 s\n",
      "Wall time: 2.83 s\n",
      "done\n"
     ]
    }
   ],
   "source": [
    "# the featuere engineering can construct columns that do not occur in other sets \n",
    "# this adds the columns of the joined colomuns\n",
    "joined_colums = [item for slist in [validation.columns, train.columns, test.columns] for item in slist]\n",
    "\n",
    "%time train = add_missing_colums(train,joined_colums)\n",
    "%time validation = add_missing_colums(validation,joined_colums)\n",
    "%time test = add_missing_colums(test,joined_colums)\n",
    "print('done')"
   ]
  },
  {
   "cell_type": "code",
   "execution_count": null,
   "metadata": {
    "ExecuteTime": {
     "start_time": "2019-03-02T08:31:02.591Z"
    },
    "hidden": true
   },
   "outputs": [],
   "source": [
    "# this list should be empty!!\n",
    "[x for x in validation.columns if x not in train.columns]"
   ]
  },
  {
   "cell_type": "code",
   "execution_count": 13,
   "metadata": {
    "ExecuteTime": {
     "end_time": "2019-03-02T08:41:55.245328Z",
     "start_time": "2019-03-02T08:40:57.908946Z"
    },
    "hidden": true
   },
   "outputs": [
    {
     "name": "stdout",
     "output_type": "stream",
     "text": [
      "done\n"
     ]
    }
   ],
   "source": [
    "train.to_hdf('preprocessed.h5', 'train')\n",
    "validation.to_hdf('preprocessed.h5', 'validation')\n",
    "test.to_hdf('preprocessed.h5', 'test')\n",
    "print('done')"
   ]
  },
  {
   "cell_type": "markdown",
   "metadata": {
    "hidden": true
   },
   "source": [
    "### OPTION 1: Apply bloom filter on all filters"
   ]
  },
  {
   "cell_type": "code",
   "execution_count": null,
   "metadata": {
    "ExecuteTime": {
     "start_time": "2019-02-20T16:45:05.190Z"
    },
    "hidden": true
   },
   "outputs": [],
   "source": [
    "# test_dict = df_copy.drop(columns='click').T.to_dict().values()\n",
    "# h = FeatureHasher(n_features=20000)\n",
    "# maxtix = h.transform(test_dict)"
   ]
  },
  {
   "cell_type": "code",
   "execution_count": 529,
   "metadata": {
    "ExecuteTime": {
     "end_time": "2019-02-20T16:44:59.857009Z",
     "start_time": "2019-02-20T16:44:59.673023Z"
    },
    "hidden": true
   },
   "outputs": [
    {
     "data": {
      "text/plain": [
       "array([0., 0., 0., ..., 0., 0., 0.])"
      ]
     },
     "execution_count": 529,
     "metadata": {},
     "output_type": "execute_result"
    }
   ],
   "source": [
    "# maxtix.toarray()[0]"
   ]
  },
  {
   "cell_type": "markdown",
   "metadata": {
    "hidden": true
   },
   "source": [
    "### OPTION 2: Get feature matrix of select number of features"
   ]
  },
  {
   "cell_type": "markdown",
   "metadata": {},
   "source": [
    "# Balance dataset\n",
    "\n",
    "There is a significant unbalance between the click and the non-click class. In an attempt to increase numerical stability of the training models the majority class will be under sampled (observations will be removed) and the minority class will be oversampled generating new samples. Considering a sample x_i, a new sample x_{new} will be generated considering its k neareast-neighbors. \n",
    "\n",
    "SMOTEENN Combines over and under sampling"
   ]
  },
  {
   "cell_type": "code",
   "execution_count": 26,
   "metadata": {
    "ExecuteTime": {
     "end_time": "2019-03-02T14:46:30.822042Z",
     "start_time": "2019-03-02T14:46:29.527527Z"
    }
   },
   "outputs": [
    {
     "name": "stdout",
     "output_type": "stream",
     "text": [
      "done\n",
      "CPU times: user 25.4 ms, sys: 642 ms, total: 668 ms\n",
      "Wall time: 1.27 s\n"
     ]
    }
   ],
   "source": [
    "%%time\n",
    "# train = pd.read_hdf('preprocessed.h5', 'train')\n",
    "# validation = pd.read_hdf('preprocessed.h5', 'validation')\n",
    "test = pd.read_hdf('preprocessed.h5', 'test')\n",
    "print('done')"
   ]
  },
  {
   "cell_type": "code",
   "execution_count": 5,
   "metadata": {
    "ExecuteTime": {
     "end_time": "2019-03-02T14:02:03.429778Z",
     "start_time": "2019-03-02T10:48:12.859038Z"
    },
    "scrolled": false
   },
   "outputs": [
    {
     "name": "stdout",
     "output_type": "stream",
     "text": [
      "Original:\n",
      "0    2429188\n",
      "1       1793\n",
      "Name: click, dtype: int64\n",
      "\n",
      "CPU times: user 133 ms, sys: 39.7 ms, total: 173 ms\n",
      "Wall time: 192 ms\n",
      "Random subsample class0:\n",
      "0    100000\n",
      "1      1793\n",
      "Name: click, dtype: int64\n",
      "\n",
      "CPU times: user 7h 45min 54s, sys: 4min 5s, total: 7h 49min 59s\n",
      "Wall time: 3h 13min 7s\n",
      "Final balance:\n",
      "0    100000\n",
      "1     99793\n",
      "dtype: int64\n",
      "\n",
      "Baseline accuracy: 50.052%\n",
      "\n",
      "done\n",
      "\n",
      "CPU times: user 7h 46min 3s, sys: 4min 27s, total: 7h 50min 31s\n",
      "Wall time: 3h 13min 50s\n"
     ]
    }
   ],
   "source": [
    "%%time\n",
    "pre_subsample_size = int(1e5)\n",
    "final_resample_ratio = 1/10\n",
    "\n",
    "np.random.seed(9345)\n",
    "\n",
    "print('Original:')\n",
    "print(train['click'].value_counts())\n",
    "print('')\n",
    "\n",
    "# random sample from the non click class, pre subsameling will improve speed\n",
    "# since SMOTETomek does not take an output number samples as parameter\n",
    "class0_index = train[train['click'] == 0].index\n",
    "\n",
    "# take random sample\n",
    "%time random_subsample = np.random.choice(class0_index, pre_subsample_size, replace=False)\n",
    "class0_downsampled = train.loc[random_subsample]\n",
    "class1 = train[train['click'] == 1]\n",
    "\n",
    "# combine dataframes\n",
    "training_data = pd.concat([class0_downsampled,class1])\n",
    "\n",
    "# free memory\n",
    "del(class0_index, class0_downsampled, class1)\n",
    "\n",
    "print('Random subsample class0:')\n",
    "print(training_data['click'].value_counts())\n",
    "print('')\n",
    "\n",
    "# use all but one avalible processors\n",
    "smote = SMOTE(k_neighbors=3, n_jobs=-1)\n",
    "tomek = TomekLinks(n_jobs=-1)\n",
    "\n",
    "smote_omek = SMOTETomek(ratio=final_resample_ratio, smote=smote, tomek=tomek)\n",
    "\n",
    "y = training_data['click'].values\n",
    "X = training_data.drop(columns=['click', 'payprice'])\n",
    "\n",
    "%time X_resampled, y_resampled = smote_omek.fit_resample(X, y,)\n",
    "\n",
    "# free memory\n",
    "# del(y, X)\n",
    "\n",
    "print('Final balance:')\n",
    "sample, count = np.unique(y_resampled, return_counts=True)\n",
    "print(pd.Series(dict(np.array((sample,count)).T)))\n",
    "\n",
    "print('\\nBaseline accuracy: {:.3%}'.format(count[0]/len(y_resampled)))\n",
    "\n",
    "# export resample\n",
    "pickle.dump((X_resampled, y_resampled), open(\"resampled\", \"wb\" ))\n",
    "\n",
    "print('\\ndone\\n')"
   ]
  },
  {
   "cell_type": "markdown",
   "metadata": {},
   "source": [
    "## Train LR model"
   ]
  },
  {
   "cell_type": "markdown",
   "metadata": {},
   "source": [
    "Download pickle resampled data from:\n",
    "https://liveuclac-my.sharepoint.com/:u:/r/personal/ucabjcv_ucl_ac_uk/Documents/resampled?csf=1&e=swcNPL\n",
    "*It contains a exsension less file, you might need to remove it if you find troubles using it*\n",
    "\n",
    "contains tuple(X_resampled, y_resampled)\n",
    "\n",
    "\n",
    "*alternatively download the trained LR model here:*\n",
    "https://liveuclac-my.sharepoint.com/:u:/r/personal/ucabjcv_ucl_ac_uk/Documents/lr_model?csf=1&e=5j4WJX"
   ]
  },
  {
   "cell_type": "code",
   "execution_count": 230,
   "metadata": {
    "ExecuteTime": {
     "end_time": "2019-03-02T08:05:28.650168Z",
     "start_time": "2019-03-02T08:05:27.960302Z"
    }
   },
   "outputs": [],
   "source": [
    "max_payprice = max(validation[validation['click'] == 1]['payprice'])\n",
    "\n",
    "def sampele_weight(x, max_payprice):\n",
    "    return np.round(1.5 + np.log(max_payprice/x)/2, 1)\n",
    "\n",
    "sample_weights = validation['click'].where(validation['click'] == 1, 1).where(\n",
    "    validation['click'] == 0,\n",
    "    sampele_weight(validation['payprice'], max_payprice)).replace(np.inf,1).values"
   ]
  },
  {
   "cell_type": "code",
   "execution_count": 53,
   "metadata": {
    "ExecuteTime": {
     "end_time": "2019-03-02T18:31:54.426890Z",
     "start_time": "2019-03-02T18:29:24.054505Z"
    }
   },
   "outputs": [
    {
     "name": "stdout",
     "output_type": "stream",
     "text": [
      "done\n",
      "CPU times: user 1.97 s, sys: 4.68 s, total: 6.65 s\n",
      "Wall time: 2min 30s\n"
     ]
    }
   ],
   "source": [
    "%%time\n",
    "random_seed = 4448\n",
    "# load resampled date\n",
    "# X_resampled, y_resampled = pickle.load(open( \"resampled\", \"rb\" ))\n",
    "\n",
    "lr = LogisticRegression(solver='lbfgs', max_iter=500, C=1, n_jobs=-1, random_state=1, class_weight='balanced') \n",
    "\n",
    "# X_train, X_test, y_train, y_test = train_test_split(X_resampled, y_resampled, random_state=20)\n",
    "# %time lr.fit(X_train, y_train)\n",
    "\n",
    "lr.fit(X_resampled, y_resampled)\n",
    "\n",
    "# export model\n",
    "pickle.dump(lr, open( \"lr_model\", \"wb\" ))\n",
    "\n",
    "print('done')"
   ]
  },
  {
   "cell_type": "markdown",
   "metadata": {},
   "source": [
    "## Evaluate LR model testset from train"
   ]
  },
  {
   "cell_type": "code",
   "execution_count": 206,
   "metadata": {
    "ExecuteTime": {
     "end_time": "2019-03-02T07:17:12.451217Z",
     "start_time": "2019-03-02T07:17:10.829937Z"
    }
   },
   "outputs": [
    {
     "name": "stdout",
     "output_type": "stream",
     "text": [
      "                   pre       rec       spe        f1       geo       iba       sup\n",
      "\n",
      "   no click       0.95      0.96      0.95      0.96      0.96      0.91     25071\n",
      "      click       0.96      0.95      0.96      0.96      0.96      0.91     24891\n",
      "\n",
      "avg / total       0.96      0.96      0.96      0.96      0.96      0.91     49962\n",
      "\n",
      "Balanced accuracy score: 95.566%\n",
      "ROC AUC score 0.9556594981954275\n",
      "done\n"
     ]
    }
   ],
   "source": [
    "lr = pickle.load(open( \"lr_model\", \"rb\" ))\n",
    "\n",
    "# performance\n",
    "y_hat = lr.predict(X_test)\n",
    "\n",
    "print(classification_report_imbalanced(y_test, y_hat, target_names=['no click', 'click']))\n",
    "print(\"Balanced accuracy score: {:.3%}\".format(balanced_accuracy_score(y_test, y_hat) ))\n",
    "print('ROC AUC score {}'.format(roc_auc_score(y_test, y_hat)))\n",
    "print('done')"
   ]
  },
  {
   "cell_type": "markdown",
   "metadata": {},
   "source": [
    "## Evaluate LR model on validation"
   ]
  },
  {
   "cell_type": "code",
   "execution_count": 9,
   "metadata": {
    "ExecuteTime": {
     "end_time": "2019-03-02T14:13:08.978260Z",
     "start_time": "2019-03-02T14:13:07.424875Z"
    }
   },
   "outputs": [],
   "source": [
    "y_validate_true = validation['click'].values\n",
    "X_validate = validation.drop(columns=['click', 'payprice'])"
   ]
  },
  {
   "cell_type": "code",
   "execution_count": 10,
   "metadata": {
    "ExecuteTime": {
     "end_time": "2019-03-02T14:14:03.673844Z",
     "start_time": "2019-03-02T14:13:45.944359Z"
    }
   },
   "outputs": [
    {
     "name": "stdout",
     "output_type": "stream",
     "text": [
      "                   pre       rec       spe        f1       geo       iba       sup\n",
      "\n",
      "   no click       1.00      1.00      0.17      1.00      0.42      0.19    303723\n",
      "      click       0.04      0.17      1.00      0.06      0.42      0.16       202\n",
      "\n",
      "avg / total       1.00      1.00      0.17      1.00      0.42      0.19    303925\n",
      "\n",
      "ROC AUC score 0.5850829082374857\n",
      "done\n"
     ]
    }
   ],
   "source": [
    "y_validate_prob = lr.predict(X_validate)\n",
    "print(classification_report_imbalanced(y_validate_true, y_validate_prob, target_names=['no click', 'click']))\n",
    "print('ROC AUC score {}'.format(roc_auc_score(y_validate_true, y_validate_prob)))\n",
    "print('done')"
   ]
  },
  {
   "cell_type": "markdown",
   "metadata": {},
   "source": [
    "### Optimize log loss"
   ]
  },
  {
   "cell_type": "code",
   "execution_count": 21,
   "metadata": {
    "ExecuteTime": {
     "end_time": "2019-02-28T07:42:57.351207Z",
     "start_time": "2019-02-28T07:31:46.685734Z"
    }
   },
   "outputs": [
    {
     "name": "stdout",
     "output_type": "stream",
     "text": [
      "For C 1e-05 Log loss 0.6283247722343959\n",
      "For C 1e-05 ROC AUC 0.677960593196843\n",
      "For C 0.0001 Log loss 0.47451734312946786\n",
      "For C 0.0001 ROC AUC 0.7382511171673067\n",
      "For C 0.001 Log loss 0.2593739151498666\n",
      "For C 0.001 ROC AUC 0.7823443817994269\n",
      "For C 0.01 Log loss 0.13113844024481888\n",
      "For C 0.01 ROC AUC 0.7858815254506754\n",
      "For C 0.1 Log loss 0.0740039391460614\n",
      "For C 0.1 ROC AUC 0.7747698992793166\n",
      "For C 1 Log loss 0.08815361277923775\n",
      "For C 1 ROC AUC 0.7718528164488597\n"
     ]
    }
   ],
   "source": [
    "for c in [1e-5, 1e-4, 1e-3, 1e-2, 0.1, 1]:\n",
    " \n",
    "    lr = LogisticRegression(solver='lbfgs', max_iter=500, C=c, n_jobs=-1) \n",
    "    lr.fit(X_train, y_train)\n",
    "    \n",
    "    y_validate_prob = lr.predict_proba(X_validate)\n",
    "    print('For C {} Log loss {}'.format(c, log_loss(y_validate_true, y_validate_prob)))\n",
    "    print('For C {} ROC AUC {}'.format(c, roc_auc_score(y_validate_true, y_validate_prob[:,1])))"
   ]
  },
  {
   "cell_type": "markdown",
   "metadata": {},
   "source": [
    "## Find optimal base bid based on pCTR"
   ]
  },
  {
   "cell_type": "code",
   "execution_count": 54,
   "metadata": {
    "ExecuteTime": {
     "end_time": "2019-03-02T18:41:55.631805Z",
     "start_time": "2019-03-02T18:39:19.499490Z"
    }
   },
   "outputs": [
    {
     "name": "stderr",
     "output_type": "stream",
     "text": [
      "\n",
      "  0%|          | 0/28 [00:00<?, ?it/s]\u001b[A\n",
      "  4%|▎         | 1/28 [00:04<02:09,  4.81s/it]\u001b[A\n",
      "  7%|▋         | 2/28 [00:09<02:04,  4.77s/it]\u001b[A\n",
      " 11%|█         | 3/28 [00:14<01:58,  4.73s/it]\u001b[A\n",
      " 14%|█▍        | 4/28 [00:19<01:59,  4.98s/it]\u001b[A\n",
      " 18%|█▊        | 5/28 [00:26<02:03,  5.39s/it]\u001b[A\n",
      " 21%|██▏       | 6/28 [00:31<01:56,  5.30s/it]\u001b[A\n",
      " 25%|██▌       | 7/28 [00:36<01:51,  5.30s/it]\u001b[A\n",
      " 29%|██▊       | 8/28 [00:41<01:44,  5.25s/it]\u001b[A\n",
      " 32%|███▏      | 9/28 [00:46<01:38,  5.17s/it]\u001b[A\n",
      " 36%|███▌      | 10/28 [00:51<01:34,  5.25s/it]\u001b[A\n",
      " 39%|███▉      | 11/28 [00:57<01:30,  5.33s/it]\u001b[A\n",
      " 43%|████▎     | 12/28 [01:02<01:25,  5.34s/it]\u001b[A\n",
      " 46%|████▋     | 13/28 [01:07<01:17,  5.18s/it]\u001b[A\n",
      " 50%|█████     | 14/28 [01:12<01:10,  5.05s/it]\u001b[A\n",
      " 54%|█████▎    | 15/28 [01:17<01:04,  5.00s/it]\u001b[A\n",
      " 57%|█████▋    | 16/28 [01:22<01:02,  5.21s/it]\u001b[A\n",
      " 61%|██████    | 17/28 [01:28<00:58,  5.32s/it]\u001b[A\n",
      " 64%|██████▍   | 18/28 [01:33<00:53,  5.32s/it]\u001b[A\n",
      " 68%|██████▊   | 19/28 [01:38<00:46,  5.12s/it]\u001b[A\n",
      " 71%|███████▏  | 20/28 [01:43<00:39,  4.99s/it]\u001b[A\n",
      " 75%|███████▌  | 21/28 [01:46<00:32,  4.62s/it]\u001b[A\n",
      " 79%|███████▊  | 22/28 [01:50<00:26,  4.44s/it]\u001b[A\n",
      " 82%|████████▏ | 23/28 [01:55<00:21,  4.38s/it]\u001b[A\n",
      " 86%|████████▌ | 24/28 [01:59<00:17,  4.37s/it]\u001b[A\n",
      " 89%|████████▉ | 25/28 [02:04<00:13,  4.47s/it]\u001b[A\n",
      " 93%|█████████▎| 26/28 [02:09<00:09,  4.63s/it]\u001b[A\n",
      " 96%|█████████▋| 27/28 [02:14<00:04,  4.71s/it]\u001b[A\n",
      "100%|██████████| 28/28 [02:18<00:00,  4.68s/it]\u001b[A\n",
      "\u001b[A"
     ]
    },
    {
     "name": "stdout",
     "output_type": "stream",
     "text": [
      "done\n",
      "CPU times: user 2min 23s, sys: 8.34 s, total: 2min 31s\n",
      "Wall time: 2min 36s\n"
     ]
    }
   ],
   "source": [
    "%%time\n",
    "y_validate_prob = lr.predict_proba(X_validate)\n",
    "\n",
    "payprice = validation['payprice']\n",
    "clicks = validation['click']\n",
    "\n",
    "# VERIFY THAT THE pCTR INDEED IS EQUAL TO THE PROB OF CLICK == 1\n",
    "pCTR = y_validate_prob[:, 1]\n",
    "\n",
    "no_click, click = np.bincount(y_validate_true)\n",
    "avgCTR = click / (no_click + click)\n",
    "\n",
    "bid_strategy = lambda base_bid: base_bid * (pCTR / avgCTR)\n",
    "\n",
    "bid_range = np.arange(3.4, 3.8, 0.02)\n",
    "bid_range_wide = np.arange(1, 5, .5)\n",
    "bid_range = np.concatenate((bid_range, bid_range_wide), axis=0)\n",
    "\n",
    "# bid_range = np.arange(1.7, 1.9, 0.01)\n",
    "statistics = {}\n",
    "\n",
    "# find optimal base_bid\n",
    "for base_bid in tqdm(bid_range):\n",
    "    \n",
    "    budget_remaining = 6250*1000\n",
    "    \n",
    "    statistics[base_bid] = {\n",
    "        'impressions':0,\n",
    "        'spend': 0,\n",
    "        'clicks': 0\n",
    "    }\n",
    "    \n",
    "    # list of bids for all ad requests\n",
    "    bids = bid_strategy(base_bid)\n",
    "    \n",
    "    # loop through all bids for every ad request\n",
    "    for i in range(len(bids)):    \n",
    "        second_highest_bid = payprice[i]\n",
    "        \n",
    "        won = bids[i] >= second_highest_bid and second_highest_bid <= budget_remaining\n",
    "        \n",
    "        if(won):\n",
    "            statistics[base_bid]['impressions'] += 1\n",
    "            statistics[base_bid]['spend'] += second_highest_bid\n",
    "            statistics[base_bid]['clicks'] += clicks[i]\n",
    "            \n",
    "            # subtract current bid from budget \n",
    "            budget_remaining -= second_highest_bid\n",
    "            \n",
    "statistics = pd.DataFrame(statistics).T\n",
    "statistics['CTR'] = statistics['clicks'] / statistics['impressions']\n",
    "statistics['aCPM'] = statistics['spend'] / statistics['impressions'] \n",
    "statistics['aCPC'] = (statistics['spend']/1000) / statistics['clicks']\n",
    "print('done')"
   ]
  },
  {
   "cell_type": "code",
   "execution_count": 55,
   "metadata": {
    "ExecuteTime": {
     "end_time": "2019-03-02T18:42:42.151056Z",
     "start_time": "2019-03-02T18:42:42.051440Z"
    }
   },
   "outputs": [
    {
     "data": {
      "text/html": [
       "<div>\n",
       "<style scoped>\n",
       "    .dataframe tbody tr th:only-of-type {\n",
       "        vertical-align: middle;\n",
       "    }\n",
       "\n",
       "    .dataframe tbody tr th {\n",
       "        vertical-align: top;\n",
       "    }\n",
       "\n",
       "    .dataframe thead th {\n",
       "        text-align: right;\n",
       "    }\n",
       "</style>\n",
       "<table border=\"1\" class=\"dataframe\">\n",
       "  <thead>\n",
       "    <tr style=\"text-align: right;\">\n",
       "      <th></th>\n",
       "      <th>clicks</th>\n",
       "      <th>impressions</th>\n",
       "      <th>spend</th>\n",
       "      <th>CTR</th>\n",
       "      <th>aCPM</th>\n",
       "      <th>aCPC</th>\n",
       "    </tr>\n",
       "  </thead>\n",
       "  <tbody>\n",
       "    <tr>\n",
       "      <th>3.52</th>\n",
       "      <td>149</td>\n",
       "      <td>115531</td>\n",
       "      <td>6186524</td>\n",
       "      <td>0.001290</td>\n",
       "      <td>53.548606</td>\n",
       "      <td>41.520295</td>\n",
       "    </tr>\n",
       "    <tr>\n",
       "      <th>3.54</th>\n",
       "      <td>149</td>\n",
       "      <td>115967</td>\n",
       "      <td>6216512</td>\n",
       "      <td>0.001285</td>\n",
       "      <td>53.605871</td>\n",
       "      <td>41.721557</td>\n",
       "    </tr>\n",
       "    <tr>\n",
       "      <th>3.56</th>\n",
       "      <td>149</td>\n",
       "      <td>116375</td>\n",
       "      <td>6242966</td>\n",
       "      <td>0.001280</td>\n",
       "      <td>53.645250</td>\n",
       "      <td>41.899101</td>\n",
       "    </tr>\n",
       "    <tr>\n",
       "      <th>3.60</th>\n",
       "      <td>149</td>\n",
       "      <td>116315</td>\n",
       "      <td>6250000</td>\n",
       "      <td>0.001281</td>\n",
       "      <td>53.733396</td>\n",
       "      <td>41.946309</td>\n",
       "    </tr>\n",
       "    <tr>\n",
       "      <th>3.46</th>\n",
       "      <td>148</td>\n",
       "      <td>114269</td>\n",
       "      <td>6101602</td>\n",
       "      <td>0.001295</td>\n",
       "      <td>53.396827</td>\n",
       "      <td>41.227041</td>\n",
       "    </tr>\n",
       "  </tbody>\n",
       "</table>\n",
       "</div>"
      ],
      "text/plain": [
       "      clicks  impressions    spend       CTR       aCPM       aCPC\n",
       "3.52     149       115531  6186524  0.001290  53.548606  41.520295\n",
       "3.54     149       115967  6216512  0.001285  53.605871  41.721557\n",
       "3.56     149       116375  6242966  0.001280  53.645250  41.899101\n",
       "3.60     149       116315  6250000  0.001281  53.733396  41.946309\n",
       "3.46     148       114269  6101602  0.001295  53.396827  41.227041"
      ]
     },
     "execution_count": 55,
     "metadata": {},
     "output_type": "execute_result"
    }
   ],
   "source": [
    "statistics.sort_values('clicks', ascending=False).head(5)"
   ]
  },
  {
   "cell_type": "code",
   "execution_count": 56,
   "metadata": {
    "ExecuteTime": {
     "end_time": "2019-03-02T18:43:20.739599Z",
     "start_time": "2019-03-02T18:43:20.725760Z"
    }
   },
   "outputs": [
    {
     "data": {
      "text/plain": [
       "LogisticRegression(C=1, class_weight='balanced', dual=False,\n",
       "          fit_intercept=True, intercept_scaling=1, max_iter=500,\n",
       "          multi_class='warn', n_jobs=-1, penalty='l2', random_state=1,\n",
       "          solver='lbfgs', tol=0.0001, verbose=0, warm_start=False)"
      ]
     },
     "execution_count": 56,
     "metadata": {},
     "output_type": "execute_result"
    }
   ],
   "source": [
    "lr"
   ]
  },
  {
   "cell_type": "markdown",
   "metadata": {},
   "source": [
    "# Apply pCTR to test set"
   ]
  },
  {
   "cell_type": "code",
   "execution_count": 28,
   "metadata": {
    "ExecuteTime": {
     "end_time": "2019-03-02T14:50:37.655990Z",
     "start_time": "2019-03-02T14:50:18.504456Z"
    }
   },
   "outputs": [
    {
     "name": "stdout",
     "output_type": "stream",
     "text": [
      "CPU times: user 8.48 s, sys: 8.23 s, total: 16.7 s\n",
      "Wall time: 19.1 s\n"
     ]
    }
   ],
   "source": [
    "%%time\n",
    "\n",
    "X_test = test.drop(columns=['click', 'payprice'])\n",
    "y_test_prob = lr.predict_proba(X_test)\n",
    "avgCTR = click / (no_click + click)\n",
    "\n",
    "base_bid = 3.62\n",
    "pCTR = y_test_prob[:, 1]\n",
    "\n",
    "\n",
    "bid_strategy = lambda base_bid: (base_bid * (pCTR / avgCTR))"
   ]
  },
  {
   "cell_type": "code",
   "execution_count": 29,
   "metadata": {
    "ExecuteTime": {
     "end_time": "2019-03-02T14:52:19.173510Z",
     "start_time": "2019-03-02T14:52:16.806184Z"
    }
   },
   "outputs": [],
   "source": [
    "# get bid id's\n",
    "test_raw = pd.read_csv('../we_data/test.csv')"
   ]
  },
  {
   "cell_type": "code",
   "execution_count": 37,
   "metadata": {
    "ExecuteTime": {
     "end_time": "2019-03-02T14:59:14.373207Z",
     "start_time": "2019-03-02T14:59:12.765714Z"
    }
   },
   "outputs": [],
   "source": [
    "# export to file\n",
    "df_bids = pd.DataFrame(np.round(bid_strategy(base_bid),1), index=test_raw['bidid'].values, columns=['bidprice'])\n",
    "df_bids.index.name = 'bidid'\n",
    "df_bids = df_bids.reset_index()"
   ]
  },
  {
   "cell_type": "code",
   "execution_count": 38,
   "metadata": {
    "ExecuteTime": {
     "end_time": "2019-03-02T15:00:43.960201Z",
     "start_time": "2019-03-02T15:00:42.410579Z"
    }
   },
   "outputs": [],
   "source": [
    "df_bids.to_csv('bid_attemnt.csv', index=False)"
   ]
  }
 ],
 "metadata": {
  "kernelspec": {
   "display_name": "Python 3",
   "language": "python",
   "name": "python3"
  },
  "language_info": {
   "codemirror_mode": {
    "name": "ipython",
    "version": 3
   },
   "file_extension": ".py",
   "mimetype": "text/x-python",
   "name": "python",
   "nbconvert_exporter": "python",
   "pygments_lexer": "ipython3",
   "version": "3.6.7"
  },
  "varInspector": {
   "cols": {
    "lenName": 16,
    "lenType": 16,
    "lenVar": 40
   },
   "kernels_config": {
    "python": {
     "delete_cmd_postfix": "",
     "delete_cmd_prefix": "del ",
     "library": "var_list.py",
     "varRefreshCmd": "print(var_dic_list())"
    },
    "r": {
     "delete_cmd_postfix": ") ",
     "delete_cmd_prefix": "rm(",
     "library": "var_list.r",
     "varRefreshCmd": "cat(var_dic_list()) "
    }
   },
   "position": {
    "height": "435px",
    "left": "1185px",
    "right": "18px",
    "top": "112px",
    "width": "477px"
   },
   "types_to_exclude": [
    "module",
    "function",
    "builtin_function_or_method",
    "instance",
    "_Feature"
   ],
   "window_display": false
  }
 },
 "nbformat": 4,
 "nbformat_minor": 2
}
