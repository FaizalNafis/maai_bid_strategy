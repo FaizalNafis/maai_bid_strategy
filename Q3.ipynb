{
 "cells": [
  {
   "cell_type": "code",
   "execution_count": 2,
   "metadata": {
    "ExecuteTime": {
     "end_time": "2019-02-27T11:33:56.923858Z",
     "start_time": "2019-02-27T11:33:56.875351Z"
    }
   },
   "outputs": [],
   "source": [
    "from __future__ import print_function, division\n",
    "import numpy as np\n",
    "import pandas as pd\n",
    "import math\n",
    "import pickle\n",
    "\n",
    "from sklearn.preprocessing import MultiLabelBinarizer\n",
    "\n",
    "from sklearn.model_selection import cross_val_score\n",
    "from sklearn.model_selection import KFold\n",
    "from sklearn.model_selection import train_test_split\n",
    "\n",
    "from sklearn.metrics import balanced_accuracy_score\n",
    "from sklearn.metrics import roc_auc_score\n",
    "from sklearn.metrics import classification_report\n",
    "\n",
    "from imblearn.combine import SMOTETomek\n",
    "from imblearn.combine import SMOTETomek\n",
    "from imblearn.over_sampling import SMOTE\n",
    "from imblearn.under_sampling import TomekLinks\n",
    "\n",
    "from imblearn.metrics import classification_report_imbalanced\n",
    "\n",
    "from sklearn.linear_model import LogisticRegression\n",
    "\n",
    "from xgboost import XGBClassifier\n",
    "\n",
    "import matplotlib as mpl\n",
    "\n",
    "import matplotlib.pyplot as plt\n",
    "import seaborn as sns\n",
    "\n",
    "sns.set(style=\"ticks\")\n",
    "pd.set_option('display.max_columns', 100)\n",
    "\n",
    "%matplotlib inline\n",
    "%config InlineBackend.figure_format = 'svg'"
   ]
  },
  {
   "cell_type": "code",
   "execution_count": 2,
   "metadata": {
    "ExecuteTime": {
     "end_time": "2019-02-24T12:44:55.595650Z",
     "start_time": "2019-02-24T12:44:55.592418Z"
    }
   },
   "outputs": [],
   "source": [
    "# !pip install imbalanced-learn\n",
    "# !pip install xgboost"
   ]
  },
  {
   "cell_type": "code",
   "execution_count": 3,
   "metadata": {
    "ExecuteTime": {
     "end_time": "2019-02-26T18:13:02.810880Z",
     "start_time": "2019-02-26T18:13:02.797155Z"
    }
   },
   "outputs": [],
   "source": [
    "def memory(df):\n",
    "    print(\"Memory usage of the dataframe is {:.2f} MB\".format(\n",
    "        df.memory_usage().sum() / 1024**2))\n",
    "    \n",
    "    \n",
    "def entropy(df, base = 2):\n",
    "    \"\"\" Calculate the entropy for every column in a df\"\"\"\n",
    "    \n",
    "    entropy = {}\n",
    "    \n",
    "    for column in df.columns:\n",
    "        prob = df[column].value_counts(normalize=True, sort=False)\n",
    "        \n",
    "        entropy[column] = -(prob * np.log(prob)/np.log(base)).sum()\n",
    "        \n",
    "    return pd.Series(entropy).sort_values(ascending=False)"
   ]
  },
  {
   "cell_type": "code",
   "execution_count": 3,
   "metadata": {
    "ExecuteTime": {
     "end_time": "2019-02-26T17:40:56.688892Z",
     "start_time": "2019-02-26T17:40:31.055970Z"
    }
   },
   "outputs": [],
   "source": [
    "google_drive = False\n",
    "convert = False\n",
    "\n",
    "if(google_drive):\n",
    "    from google.colab import drive\n",
    "    drive.mount('/content/gdrive')\n",
    "    \n",
    "    train = pd.read_csv('/content/gdrive/My Drive/Colab Notebooks/we_data/train.csv')\n",
    "    \n",
    "elif(convert):\n",
    "    train = pd.read_csv('../we_data/train.csv')\n",
    "    train.to_hdf('train.h5', 'train')\n",
    "    \n",
    "else:\n",
    "    train = pd.read_hdf('../train.h5', 'train')\n",
    "    validation = pd.read_csv('../we_data/validation.csv')\n",
    "    test = pd.read_csv('../we_data/test.csv')"
   ]
  },
  {
   "cell_type": "code",
   "execution_count": 4,
   "metadata": {
    "ExecuteTime": {
     "end_time": "2019-02-26T17:41:01.486987Z",
     "start_time": "2019-02-26T17:40:56.952921Z"
    }
   },
   "outputs": [
    {
     "data": {
      "text/plain": [
       "click                   0\n",
       "weekday                 0\n",
       "hour                    0\n",
       "bidid                   0\n",
       "userid                  0\n",
       "useragent               0\n",
       "IP                      0\n",
       "region                  0\n",
       "city                    0\n",
       "adexchange          49829\n",
       "domain             137135\n",
       "url                 86812\n",
       "urlid             2430981\n",
       "slotid                  0\n",
       "slotwidth               0\n",
       "slotheight              0\n",
       "slotvisibility          0\n",
       "slotformat              0\n",
       "slotprice               0\n",
       "creative                0\n",
       "bidprice                0\n",
       "payprice                0\n",
       "keypage            504990\n",
       "advertiser              0\n",
       "usertag            497479\n",
       "dtype: int64"
      ]
     },
     "execution_count": 4,
     "metadata": {},
     "output_type": "execute_result"
    }
   ],
   "source": [
    "train.isnull().sum()"
   ]
  },
  {
   "cell_type": "code",
   "execution_count": 5,
   "metadata": {
    "ExecuteTime": {
     "end_time": "2019-02-26T17:41:01.759077Z",
     "start_time": "2019-02-26T17:41:01.668495Z"
    }
   },
   "outputs": [
    {
     "data": {
      "text/plain": [
       "3.0    819458\n",
       "2.0    763428\n",
       "1.0    718271\n",
       "4.0     79995\n",
       "Name: adexchange, dtype: int64"
      ]
     },
     "execution_count": 5,
     "metadata": {},
     "output_type": "execute_result"
    }
   ],
   "source": [
    "train['adexchange'].value_counts()"
   ]
  },
  {
   "cell_type": "code",
   "execution_count": 7,
   "metadata": {
    "ExecuteTime": {
     "end_time": "2019-02-26T17:41:56.924487Z",
     "start_time": "2019-02-26T17:41:35.623008Z"
    }
   },
   "outputs": [
    {
     "data": {
      "text/plain": [
       "bidid             21.213107\n",
       "userid            21.136952\n",
       "IP                18.103315\n",
       "url               16.149660\n",
       "usertag           14.872094\n",
       "slotid             9.422239\n",
       "domain             8.498091\n",
       "city               7.422192\n",
       "payprice           7.076786\n",
       "creative           5.873560\n",
       "region             4.533946\n",
       "hour               4.382678\n",
       "slotprice          3.269283\n",
       "keypage            3.195136\n",
       "slotwidth          3.064538\n",
       "advertiser         2.930429\n",
       "weekday            2.799784\n",
       "bidprice           2.614787\n",
       "slotvisibility     2.351020\n",
       "slotheight         2.024556\n",
       "adexchange         1.741802\n",
       "slotformat         1.478337\n",
       "useragent          1.447568\n",
       "click              0.008738\n",
       "urlid             -0.000000\n",
       "dtype: float64"
      ]
     },
     "execution_count": 7,
     "metadata": {},
     "output_type": "execute_result"
    }
   ],
   "source": [
    "entropy(train)"
   ]
  },
  {
   "cell_type": "code",
   "execution_count": 8,
   "metadata": {
    "ExecuteTime": {
     "end_time": "2019-02-26T17:41:57.356425Z",
     "start_time": "2019-02-26T17:41:57.298965Z"
    }
   },
   "outputs": [
    {
     "data": {
      "text/html": [
       "<div>\n",
       "<style scoped>\n",
       "    .dataframe tbody tr th:only-of-type {\n",
       "        vertical-align: middle;\n",
       "    }\n",
       "\n",
       "    .dataframe tbody tr th {\n",
       "        vertical-align: top;\n",
       "    }\n",
       "\n",
       "    .dataframe thead th {\n",
       "        text-align: right;\n",
       "    }\n",
       "</style>\n",
       "<table border=\"1\" class=\"dataframe\">\n",
       "  <thead>\n",
       "    <tr style=\"text-align: right;\">\n",
       "      <th></th>\n",
       "      <th>click</th>\n",
       "      <th>weekday</th>\n",
       "      <th>hour</th>\n",
       "      <th>bidid</th>\n",
       "      <th>userid</th>\n",
       "      <th>useragent</th>\n",
       "      <th>IP</th>\n",
       "      <th>region</th>\n",
       "      <th>city</th>\n",
       "      <th>adexchange</th>\n",
       "      <th>domain</th>\n",
       "      <th>url</th>\n",
       "      <th>urlid</th>\n",
       "      <th>slotid</th>\n",
       "      <th>slotwidth</th>\n",
       "      <th>slotheight</th>\n",
       "      <th>slotvisibility</th>\n",
       "      <th>slotformat</th>\n",
       "      <th>slotprice</th>\n",
       "      <th>creative</th>\n",
       "      <th>bidprice</th>\n",
       "      <th>payprice</th>\n",
       "      <th>keypage</th>\n",
       "      <th>advertiser</th>\n",
       "      <th>usertag</th>\n",
       "    </tr>\n",
       "  </thead>\n",
       "  <tbody>\n",
       "    <tr>\n",
       "      <th>0</th>\n",
       "      <td>0</td>\n",
       "      <td>5</td>\n",
       "      <td>22</td>\n",
       "      <td>b7bea80521fdecd95d2d761a38c91c3f09618066</td>\n",
       "      <td>2e880fb7d690cf7377b2e42e701728e3f3c0e4c1</td>\n",
       "      <td>windows_ie</td>\n",
       "      <td>125.37.175.*</td>\n",
       "      <td>2</td>\n",
       "      <td>2</td>\n",
       "      <td>2.0</td>\n",
       "      <td>trqRTvKaXTKfgg24JKTI</td>\n",
       "      <td>6447a7dfa30fe6eb410c91860e7c9b45</td>\n",
       "      <td>NaN</td>\n",
       "      <td>2015392487</td>\n",
       "      <td>200</td>\n",
       "      <td>200</td>\n",
       "      <td>2</td>\n",
       "      <td>0</td>\n",
       "      <td>5</td>\n",
       "      <td>a4f763f78ef3eedfe614263b94a8924e</td>\n",
       "      <td>238</td>\n",
       "      <td>5</td>\n",
       "      <td>0f951a030abdaedd733ee8d114ce2944</td>\n",
       "      <td>3427</td>\n",
       "      <td>NaN</td>\n",
       "    </tr>\n",
       "    <tr>\n",
       "      <th>1</th>\n",
       "      <td>0</td>\n",
       "      <td>1</td>\n",
       "      <td>20</td>\n",
       "      <td>4f51205475678f5a124bc76b2c54163bf8eaa7eb</td>\n",
       "      <td>3a1fe01360ff8100e7d006b83b77a3e4c01d928c</td>\n",
       "      <td>windows_chrome</td>\n",
       "      <td>171.36.92.*</td>\n",
       "      <td>238</td>\n",
       "      <td>239</td>\n",
       "      <td>1.0</td>\n",
       "      <td>20fc675468712705dbf5d3eda94126da</td>\n",
       "      <td>3ddf173a94bd23c326683b6373c75dd4</td>\n",
       "      <td>NaN</td>\n",
       "      <td>mm_10982364_973726_8930541</td>\n",
       "      <td>300</td>\n",
       "      <td>250</td>\n",
       "      <td>FourthView</td>\n",
       "      <td>Na</td>\n",
       "      <td>0</td>\n",
       "      <td>10722</td>\n",
       "      <td>294</td>\n",
       "      <td>23</td>\n",
       "      <td>NaN</td>\n",
       "      <td>2821</td>\n",
       "      <td>NaN</td>\n",
       "    </tr>\n",
       "    <tr>\n",
       "      <th>2</th>\n",
       "      <td>0</td>\n",
       "      <td>3</td>\n",
       "      <td>13</td>\n",
       "      <td>b604e3fd054a658ab7ced4285ebf2ef54d2bd890</td>\n",
       "      <td>801d18a056b6fe6b06a794aef17fb0d6daff2414</td>\n",
       "      <td>windows_ie</td>\n",
       "      <td>59.46.106.*</td>\n",
       "      <td>40</td>\n",
       "      <td>41</td>\n",
       "      <td>2.0</td>\n",
       "      <td>trqRTJn7O95I1mKYUV</td>\n",
       "      <td>625d1b5916ea925332c7b326c0574cfa</td>\n",
       "      <td>NaN</td>\n",
       "      <td>1720123646</td>\n",
       "      <td>250</td>\n",
       "      <td>250</td>\n",
       "      <td>2</td>\n",
       "      <td>0</td>\n",
       "      <td>5</td>\n",
       "      <td>798b2d49952d77f1eace9f23c210d0b5</td>\n",
       "      <td>238</td>\n",
       "      <td>24</td>\n",
       "      <td>0f951a030abdaedd733ee8d114ce2944</td>\n",
       "      <td>3427</td>\n",
       "      <td>10052,10006,13866,10110</td>\n",
       "    </tr>\n",
       "    <tr>\n",
       "      <th>3</th>\n",
       "      <td>0</td>\n",
       "      <td>6</td>\n",
       "      <td>23</td>\n",
       "      <td>0348beeae93e561584c3b50fc9e7746a33048ad7</td>\n",
       "      <td>0d6eaf2259699990e38a1fc5116f112070b9ecdc</td>\n",
       "      <td>windows_ie</td>\n",
       "      <td>114.250.226.*</td>\n",
       "      <td>1</td>\n",
       "      <td>1</td>\n",
       "      <td>1.0</td>\n",
       "      <td>5F97t5E0BTK7XhNrUMpENpn</td>\n",
       "      <td>dedc488b98ca20707bc9a723957e7d1f</td>\n",
       "      <td>NaN</td>\n",
       "      <td>mm_10027070_118039_10308280</td>\n",
       "      <td>160</td>\n",
       "      <td>600</td>\n",
       "      <td>2</td>\n",
       "      <td>1</td>\n",
       "      <td>0</td>\n",
       "      <td>cb7c76e7784031272e37af8e7e9b062c</td>\n",
       "      <td>300</td>\n",
       "      <td>25</td>\n",
       "      <td>bebefa5efe83beee17a3d245e7c5085b</td>\n",
       "      <td>1458</td>\n",
       "      <td>13866,10063,10111</td>\n",
       "    </tr>\n",
       "    <tr>\n",
       "      <th>4</th>\n",
       "      <td>0</td>\n",
       "      <td>5</td>\n",
       "      <td>6</td>\n",
       "      <td>268149c1789bce2bc9798ffd97ec431219bafeb3</td>\n",
       "      <td>a239d9bb642460d974ba67f85e63b8d3e214da0e</td>\n",
       "      <td>windows_ie</td>\n",
       "      <td>183.63.192.*</td>\n",
       "      <td>216</td>\n",
       "      <td>233</td>\n",
       "      <td>2.0</td>\n",
       "      <td>13625cb070ffb306b425cd803c4b7ab4</td>\n",
       "      <td>4199d1227c511fc776b76594dabff9f8</td>\n",
       "      <td>NaN</td>\n",
       "      <td>1120200150</td>\n",
       "      <td>728</td>\n",
       "      <td>90</td>\n",
       "      <td>OtherView</td>\n",
       "      <td>Na</td>\n",
       "      <td>133</td>\n",
       "      <td>7330</td>\n",
       "      <td>277</td>\n",
       "      <td>133</td>\n",
       "      <td>NaN</td>\n",
       "      <td>2259</td>\n",
       "      <td>NaN</td>\n",
       "    </tr>\n",
       "  </tbody>\n",
       "</table>\n",
       "</div>"
      ],
      "text/plain": [
       "   click  weekday  hour                                     bidid  \\\n",
       "0      0        5    22  b7bea80521fdecd95d2d761a38c91c3f09618066   \n",
       "1      0        1    20  4f51205475678f5a124bc76b2c54163bf8eaa7eb   \n",
       "2      0        3    13  b604e3fd054a658ab7ced4285ebf2ef54d2bd890   \n",
       "3      0        6    23  0348beeae93e561584c3b50fc9e7746a33048ad7   \n",
       "4      0        5     6  268149c1789bce2bc9798ffd97ec431219bafeb3   \n",
       "\n",
       "                                     userid       useragent             IP  \\\n",
       "0  2e880fb7d690cf7377b2e42e701728e3f3c0e4c1      windows_ie   125.37.175.*   \n",
       "1  3a1fe01360ff8100e7d006b83b77a3e4c01d928c  windows_chrome    171.36.92.*   \n",
       "2  801d18a056b6fe6b06a794aef17fb0d6daff2414      windows_ie    59.46.106.*   \n",
       "3  0d6eaf2259699990e38a1fc5116f112070b9ecdc      windows_ie  114.250.226.*   \n",
       "4  a239d9bb642460d974ba67f85e63b8d3e214da0e      windows_ie   183.63.192.*   \n",
       "\n",
       "   region  city  adexchange                            domain  \\\n",
       "0       2     2         2.0              trqRTvKaXTKfgg24JKTI   \n",
       "1     238   239         1.0  20fc675468712705dbf5d3eda94126da   \n",
       "2      40    41         2.0                trqRTJn7O95I1mKYUV   \n",
       "3       1     1         1.0           5F97t5E0BTK7XhNrUMpENpn   \n",
       "4     216   233         2.0  13625cb070ffb306b425cd803c4b7ab4   \n",
       "\n",
       "                                url  urlid                       slotid  \\\n",
       "0  6447a7dfa30fe6eb410c91860e7c9b45    NaN                   2015392487   \n",
       "1  3ddf173a94bd23c326683b6373c75dd4    NaN   mm_10982364_973726_8930541   \n",
       "2  625d1b5916ea925332c7b326c0574cfa    NaN                   1720123646   \n",
       "3  dedc488b98ca20707bc9a723957e7d1f    NaN  mm_10027070_118039_10308280   \n",
       "4  4199d1227c511fc776b76594dabff9f8    NaN                   1120200150   \n",
       "\n",
       "   slotwidth  slotheight slotvisibility slotformat  slotprice  \\\n",
       "0        200         200              2          0          5   \n",
       "1        300         250     FourthView         Na          0   \n",
       "2        250         250              2          0          5   \n",
       "3        160         600              2          1          0   \n",
       "4        728          90      OtherView         Na        133   \n",
       "\n",
       "                           creative  bidprice  payprice  \\\n",
       "0  a4f763f78ef3eedfe614263b94a8924e       238         5   \n",
       "1                             10722       294        23   \n",
       "2  798b2d49952d77f1eace9f23c210d0b5       238        24   \n",
       "3  cb7c76e7784031272e37af8e7e9b062c       300        25   \n",
       "4                              7330       277       133   \n",
       "\n",
       "                            keypage  advertiser                  usertag  \n",
       "0  0f951a030abdaedd733ee8d114ce2944        3427                      NaN  \n",
       "1                               NaN        2821                      NaN  \n",
       "2  0f951a030abdaedd733ee8d114ce2944        3427  10052,10006,13866,10110  \n",
       "3  bebefa5efe83beee17a3d245e7c5085b        1458        13866,10063,10111  \n",
       "4                               NaN        2259                      NaN  "
      ]
     },
     "execution_count": 8,
     "metadata": {},
     "output_type": "execute_result"
    }
   ],
   "source": [
    "train.head()"
   ]
  },
  {
   "cell_type": "code",
   "execution_count": 9,
   "metadata": {
    "ExecuteTime": {
     "end_time": "2019-02-26T17:41:57.762852Z",
     "start_time": "2019-02-26T17:41:57.698807Z"
    }
   },
   "outputs": [
    {
     "name": "stdout",
     "output_type": "stream",
     "text": [
      "Baseline average CTR 0.00074\n"
     ]
    }
   ],
   "source": [
    "no_click,click = train['click'].value_counts().values\n",
    "print('Baseline average CTR {:.5f}'.format(click/no_click))"
   ]
  },
  {
   "cell_type": "markdown",
   "metadata": {
    "heading_collapsed": true
   },
   "source": [
    "## Feature engineering"
   ]
  },
  {
   "cell_type": "code",
   "execution_count": 4,
   "metadata": {
    "ExecuteTime": {
     "end_time": "2019-02-26T18:13:02.895555Z",
     "start_time": "2019-02-26T18:13:02.850054Z"
    },
    "hidden": true
   },
   "outputs": [],
   "source": [
    "def count_featuresize_one_hot_encoding(df):\n",
    "    \"\"\"Calcualte the number of featuers nessecary for one hot encoding\"\"\"\n",
    "\n",
    "    total_features = 0\n",
    "    for column in df.columns:\n",
    "        total_features += len(df[column].unique())\n",
    "\n",
    "    print('Rougly {:,} features in the feature space'.format(total_features))\n",
    "\n",
    "    return total_features\n",
    "\n",
    "\n",
    "def feature_engineering(df):\n",
    "    \"\"\" Enrich dataframe with additional features\n",
    "    \n",
    "        Note that all fields that are joined are slightly redundent when\n",
    "        implementing more sophisticated models like NN that could pick up\n",
    "        on these feature combinations, however, it can improve the perforamce\n",
    "        of simpler models such as logisitc regression\"\"\"\n",
    "\n",
    "    # split user agent into os and browser\n",
    "    df['os'], df['browser'] = df['useragent'].str.split('_').str\n",
    "\n",
    "    # apple users\n",
    "    df['apple'] = df['useragent'].str.match(r'(ios)|(mac)').astype(np.uint8)\n",
    "\n",
    "    # deterime mobile devivce or not\n",
    "    df['mobieldevice'] = df['useragent'].str.match(r'(ios)|(android)').astype(\n",
    "        np.uint8)\n",
    "\n",
    "    # hour per day\n",
    "    df['weekdayhour'] = df['weekday'].astype(str) + '_' + df['hour'].astype(\n",
    "        str)\n",
    "\n",
    "    # mobile per day of the week\n",
    "    df['mobileweekday'] = df['mobieldevice'].astype(\n",
    "        str) + '_' + df['weekday'].astype(str)\n",
    "\n",
    "    # mobile per day of the week\n",
    "    df['mobilehour'] = df['mobieldevice'].astype(\n",
    "        str) + '_' + df['hour'].astype(str)\n",
    "\n",
    "    # brouwser per day of the week\n",
    "    df['browserweekday'] = df['browser'] + '_' + df['weekday'].astype(str)\n",
    "\n",
    "    # brouwser per day of the week\n",
    "    df['browserhour'] = df['browser'] + '_' + df['hour'].astype(str)\n",
    "\n",
    "    # os per day of the week\n",
    "    df['osweekday'] = df['os'] + '_' + df['weekday'].astype(str)\n",
    "\n",
    "    # os per hour\n",
    "    df['oshour'] = df['os'] + '_' + df['hour'].astype(str)\n",
    "\n",
    "    # os per day per hour\n",
    "    df['osdayhour'] = df['os'] + '_' + df['weekday'].astype(\n",
    "        str) + '_' + df['hour'].astype(str)\n",
    "\n",
    "    # bin hours into time of day\n",
    "    df['timeofday'] = pd.cut(\n",
    "        df['hour'].astype(int),\n",
    "        4,\n",
    "        labels=[\"night\", \"morning\", \"afternoon\", \"evening\"])\n",
    "\n",
    "    # bin ad surface size categories\n",
    "    min_ad = min(df['slotwidth'] * df['slotheight']) - 1\n",
    "    max_ad = max(df['slotwidth'] * df['slotheight'])\n",
    "\n",
    "    ad_bins = pd.IntervalIndex.from_breaks(\n",
    "        [min_ad, 65520, 75000, 90000, max_ad])\n",
    "\n",
    "    replace, with_ = [\n",
    "        pd.Interval(min_ad, 65520),\n",
    "        pd.Interval(65520, 75000),\n",
    "        pd.Interval(75000, 90000),\n",
    "        pd.Interval(90000, max_ad)\n",
    "    ], ['small', 'medium', 'large', 'x-large']\n",
    "\n",
    "    df['adsize'] = pd.cut(\n",
    "        df['slotwidth'] * df['slotheight'], bins=ad_bins).replace(\n",
    "            replace, with_)\n",
    "\n",
    "    # bin slot price into categories\n",
    "    price_bins = pd.IntervalIndex.from_breaks(\n",
    "        [min(df['slotprice']), 10, 50, 100,\n",
    "         max(df['slotprice'])],\n",
    "        closed='left')\n",
    "    replace, with_ = [\n",
    "        pd.Interval(min(df['slotprice']), 10, closed='left'),\n",
    "        pd.Interval(10, 50, closed='left'),\n",
    "        pd.Interval(50, 100, closed='left'),\n",
    "        pd.Interval(100, max(df['slotprice']), closed='left')\n",
    "    ], ['1', '2', '3', '4']\n",
    "\n",
    "    df['slotprice'] = pd.cut(\n",
    "        df['slotprice'], bins=price_bins).replace(replace, with_)\n",
    "\n",
    "    # ad size category and visability\n",
    "    df['advisabilitysize'] = df['slotvisibility'].astype(\n",
    "        str) + '_' + df['adsize'].astype(str)\n",
    "\n",
    "    return df.drop(columns=['slotwidth', 'slotheight'])\n",
    "\n",
    "\n",
    "def pre_process_one_hot_encoding(df):\n",
    "    \"\"\" Preprocess the dataframe for one hot encoding\n",
    "    \n",
    "        - Split the filed user tags and binary encode\n",
    "        - Convert numerical categories into strings \n",
    "        \"\"\"\n",
    "\n",
    "    # convert numerical categories into strings as a quick hack\n",
    "    # for one hot encoding to work properly on numerical categories\n",
    "    df['weekday'] = df['weekday'].astype(str)\n",
    "    df['hour'] = df['hour'].astype(int)\n",
    "    df['region'] = df['region'].astype(str)\n",
    "    df['city'] = df['city'].astype(str)\n",
    "    df['adexchange'] = df['adexchange'].astype(str)\n",
    "\n",
    "    # already processed and not found in columns\n",
    "    if ('usertag' not in df.columns):\n",
    "        return df\n",
    "\n",
    "    df['usertag'] = df['usertag'].astype(str)\n",
    "    mlb = MultiLabelBinarizer()\n",
    "\n",
    "    df = df.join(\n",
    "        pd.DataFrame(\n",
    "            mlb.fit_transform(df['usertag'].str.split(',')),\n",
    "            columns='usertag_' + mlb.classes_,\n",
    "            index=df.index))\n",
    "\n",
    "    # drop the usertag column\n",
    "    df = df.drop(columns='usertag')\n",
    "\n",
    "    return df\n",
    "\n",
    "\n",
    "def add_missing_colums(df, columns, sort_columns=True):\n",
    "    \"\"\" Due to the feature engineering there is a chance a discrapency occurs\n",
    "        between \n",
    "        \"\"\"\n",
    "\n",
    "    missing = [x for x in columns if x not in df.columns]\n",
    "\n",
    "    for x in missing:\n",
    "        df[x] = 0\n",
    "\n",
    "    if (sort_columns):\n",
    "        return df[sorted(df.columns)]\n",
    "\n",
    "    return df\n",
    "\n",
    "\n",
    "def drop_colums(df):\n",
    "\n",
    "    # Remove uniuqe and meaningless featuers that are not know a pirori\n",
    "    columns = ['bidprice', 'urlid', 'bidid']\n",
    "\n",
    "    # remove some very sparse fields to reduce featuers (highest entropy)\n",
    "    columns.extend(['userid', 'url', 'domain', 'slotid', 'IP'])\n",
    "\n",
    "    # only remove columns that are in the df\n",
    "    columns = [column for column in columns if column in df.columns]\n",
    "\n",
    "    return df.drop(columns=columns)"
   ]
  },
  {
   "cell_type": "markdown",
   "metadata": {
    "heading_collapsed": true
   },
   "source": [
    "## Performance metrics"
   ]
  },
  {
   "cell_type": "code",
   "execution_count": 5,
   "metadata": {
    "ExecuteTime": {
     "end_time": "2019-02-26T18:13:02.954746Z",
     "start_time": "2019-02-26T18:13:02.938751Z"
    },
    "hidden": true
   },
   "outputs": [],
   "source": [
    "def calcluate_num_impressions(df, grouping = False):\n",
    "    imp = {}\n",
    "    \n",
    "    if(grouping):\n",
    "        imp = df.groupby(grouping).size().to_dict()\n",
    "            \n",
    "    else:\n",
    "        imp = len(df)\n",
    "    \n",
    "    print(imp)\n",
    "    return imp\n",
    "    \n",
    "\n",
    "\n",
    "def calcluate_num_clicks(df, grouping = False):\n",
    "    clicks = {}\n",
    "    \n",
    "    if(grouping):\n",
    "        for index, group in df.groupby(grouping):\n",
    "            clicks[index] = np.sum(group['click'])\n",
    "            \n",
    "    else:\n",
    "        clicks = np.sum(df['click'])\n",
    "    \n",
    "    print(clicks)\n",
    "    return clicks\n",
    "    \n",
    "\n",
    "def calcluate_ctr(df, grouping = False):\n",
    "    ctr = {}\n",
    "    \n",
    "    if(grouping):\n",
    "        for index, group in df.groupby(grouping):\n",
    "            ctr[index] = np.average(group['click']) * 100\n",
    "            \n",
    "    else:\n",
    "        ctr = np.average(df['click']) * 100\n",
    "    \n",
    "    print(ctr)\n",
    "    return ctr\n",
    "    \n",
    "    \n",
    "def average_cost_per_mille(df, grouping = False):\n",
    "    cpm = {}\n",
    "    \n",
    "    if(grouping):\n",
    "        cpm = df.groupby('weekday').agg({'payprice': np.mean}).to_dict()['payprice']\n",
    "        \n",
    "    else:\n",
    "        cpm = np.mean(df['payprice'])\n",
    "        \n",
    "    print(cpm)\n",
    "    return cpm"
   ]
  },
  {
   "cell_type": "code",
   "execution_count": 12,
   "metadata": {
    "ExecuteTime": {
     "end_time": "2019-02-26T17:41:59.629369Z",
     "start_time": "2019-02-26T17:41:59.615152Z"
    },
    "hidden": true
   },
   "outputs": [
    {
     "data": {
      "text/plain": [
       "((2430981, 25), (303925, 25), (303375, 22))"
      ]
     },
     "execution_count": 12,
     "metadata": {},
     "output_type": "execute_result"
    }
   ],
   "source": [
    "train.shape, validation.shape, test.shape"
   ]
  },
  {
   "cell_type": "markdown",
   "metadata": {},
   "source": [
    "## Build feature matrix"
   ]
  },
  {
   "cell_type": "code",
   "execution_count": 13,
   "metadata": {
    "ExecuteTime": {
     "end_time": "2019-02-26T17:49:07.876501Z",
     "start_time": "2019-02-26T17:42:00.258988Z"
    },
    "scrolled": false
   },
   "outputs": [
    {
     "name": "stdout",
     "output_type": "stream",
     "text": [
      "CPU times: user 269 ms, sys: 212 ms, total: 481 ms\n",
      "Wall time: 973 ms\n",
      "CPU times: user 1.89 s, sys: 678 ms, total: 2.56 s\n",
      "Wall time: 4.19 s\n",
      "CPU times: user 2min 5s, sys: 25 s, total: 2min 30s\n",
      "Wall time: 2min 52s\n",
      "CPU times: user 35.4 s, sys: 51.9 s, total: 1min 27s\n",
      "Wall time: 1min 51s\n",
      "CPU times: user 1min 11s, sys: 38.6 s, total: 1min 49s\n",
      "Wall time: 2min 18s\n",
      "Memory usage of the dataframe is 6898.31 MB\n",
      "done\n"
     ]
    }
   ],
   "source": [
    "\"\"\"\n",
    "other fillna strategies for adexchange should be considered at some point!\n",
    "\n",
    "the only columns that contain a lot of missing values that are used in the final \n",
    "analysis are adexchange and usertag. Different strategies have been considered but \n",
    "it was deemed to be the most informative to assign a 'unknown' class which is easely\n",
    "achieved trhough filling 0's since they do not occur in the dataset\n",
    "\n",
    "\"\"\"\n",
    "\n",
    "%time train = drop_colums(train)\n",
    "%time train = train.fillna(0)\n",
    "%time train = feature_engineering(train)\n",
    "%time train = pre_process_one_hot_encoding(train)\n",
    "%time train = pd.get_dummies(train)\n",
    "\n",
    "memory(train)\n",
    "print('done')"
   ]
  },
  {
   "cell_type": "code",
   "execution_count": 14,
   "metadata": {
    "ExecuteTime": {
     "end_time": "2019-02-26T17:50:17.200687Z",
     "start_time": "2019-02-26T17:49:33.762880Z"
    }
   },
   "outputs": [
    {
     "name": "stdout",
     "output_type": "stream",
     "text": [
      "CPU times: user 98.5 ms, sys: 348 ms, total: 447 ms\n",
      "Wall time: 627 ms\n",
      "CPU times: user 162 ms, sys: 83.6 ms, total: 245 ms\n",
      "Wall time: 257 ms\n",
      "CPU times: user 3.15 s, sys: 859 ms, total: 4.01 s\n",
      "Wall time: 4.45 s\n",
      "CPU times: user 17.1 s, sys: 5.84 s, total: 22.9 s\n",
      "Wall time: 27.3 s\n",
      "CPU times: user 6.91 s, sys: 2.03 s, total: 8.94 s\n",
      "Wall time: 10.7 s\n",
      "done\n"
     ]
    }
   ],
   "source": [
    "%time test = drop_colums(test)\n",
    "%time test = test.fillna(0)\n",
    "%time test = pre_process_one_hot_encoding(test)\n",
    "%time test = feature_engineering(test)\n",
    "%time test = pd.get_dummies(test)\n",
    "print('done')"
   ]
  },
  {
   "cell_type": "code",
   "execution_count": 15,
   "metadata": {
    "ExecuteTime": {
     "end_time": "2019-02-26T17:51:12.745208Z",
     "start_time": "2019-02-26T17:50:41.051780Z"
    },
    "scrolled": false
   },
   "outputs": [
    {
     "name": "stdout",
     "output_type": "stream",
     "text": [
      "CPU times: user 105 ms, sys: 368 ms, total: 474 ms\n",
      "Wall time: 641 ms\n",
      "CPU times: user 160 ms, sys: 81.7 ms, total: 241 ms\n",
      "Wall time: 248 ms\n",
      "CPU times: user 15.8 s, sys: 823 ms, total: 16.6 s\n",
      "Wall time: 17.4 s\n",
      "CPU times: user 3.56 s, sys: 692 ms, total: 4.25 s\n",
      "Wall time: 4.53 s\n",
      "CPU times: user 6.54 s, sys: 1.54 s, total: 8.08 s\n",
      "Wall time: 8.89 s\n",
      "done\n"
     ]
    }
   ],
   "source": [
    "%time validation = drop_colums(validation)\n",
    "%time validation = validation.fillna(0)\n",
    "%time validation = feature_engineering(validation)\n",
    "%time validation = pre_process_one_hot_encoding(validation)\n",
    "%time validation = pd.get_dummies(validation)\n",
    "print('done')"
   ]
  },
  {
   "cell_type": "code",
   "execution_count": 16,
   "metadata": {
    "ExecuteTime": {
     "end_time": "2019-02-26T17:54:00.756170Z",
     "start_time": "2019-02-26T17:51:36.899847Z"
    }
   },
   "outputs": [
    {
     "name": "stdout",
     "output_type": "stream",
     "text": [
      "CPU times: user 22.6 s, sys: 52.2 s, total: 1min 14s\n",
      "Wall time: 1min 43s\n",
      "CPU times: user 4.53 s, sys: 7.09 s, total: 11.6 s\n",
      "Wall time: 16.1 s\n",
      "CPU times: user 5.9 s, sys: 10.1 s, total: 16 s\n",
      "Wall time: 23.9 s\n",
      "done\n"
     ]
    }
   ],
   "source": [
    "# the featuere engineering can construct columns that do not occur in other sets \n",
    "# this adds the columns of the joined colomuns\n",
    "joined_colums = [item for slist in [validation.columns, train.columns, test.columns] for item in slist]\n",
    "\n",
    "%time train = add_missing_colums(train,joined_colums)\n",
    "%time validation = add_missing_colums(validation,joined_colums)\n",
    "%time test = add_missing_colums(test,joined_colums)\n",
    "print('done')"
   ]
  },
  {
   "cell_type": "code",
   "execution_count": 17,
   "metadata": {
    "ExecuteTime": {
     "end_time": "2019-02-26T17:54:04.257786Z",
     "start_time": "2019-02-26T17:54:04.232198Z"
    }
   },
   "outputs": [
    {
     "data": {
      "text/plain": [
       "[]"
      ]
     },
     "execution_count": 17,
     "metadata": {},
     "output_type": "execute_result"
    }
   ],
   "source": [
    "# this list should be empty!!\n",
    "[x for x in validation.columns if x not in train.columns]"
   ]
  },
  {
   "cell_type": "code",
   "execution_count": 20,
   "metadata": {
    "ExecuteTime": {
     "end_time": "2019-02-26T18:05:26.862069Z",
     "start_time": "2019-02-26T18:04:05.415137Z"
    }
   },
   "outputs": [
    {
     "name": "stdout",
     "output_type": "stream",
     "text": [
      "done\n"
     ]
    }
   ],
   "source": [
    "train.to_hdf('preprocessed.h5', 'train')\n",
    "validation.to_hdf('preprocessed.h5', 'validation')\n",
    "test.to_hdf('preprocessed.h5', 'test')\n",
    "print('done')"
   ]
  },
  {
   "cell_type": "markdown",
   "metadata": {},
   "source": [
    "### OPTION 1: Apply bloom filter on all filters"
   ]
  },
  {
   "cell_type": "code",
   "execution_count": null,
   "metadata": {
    "ExecuteTime": {
     "start_time": "2019-02-20T16:45:05.190Z"
    }
   },
   "outputs": [],
   "source": [
    "# test_dict = df_copy.drop(columns='click').T.to_dict().values()\n",
    "# h = FeatureHasher(n_features=20000)\n",
    "# maxtix = h.transform(test_dict)"
   ]
  },
  {
   "cell_type": "code",
   "execution_count": 529,
   "metadata": {
    "ExecuteTime": {
     "end_time": "2019-02-20T16:44:59.857009Z",
     "start_time": "2019-02-20T16:44:59.673023Z"
    }
   },
   "outputs": [
    {
     "data": {
      "text/plain": [
       "array([0., 0., 0., ..., 0., 0., 0.])"
      ]
     },
     "execution_count": 529,
     "metadata": {},
     "output_type": "execute_result"
    }
   ],
   "source": [
    "# maxtix.toarray()[0]"
   ]
  },
  {
   "cell_type": "markdown",
   "metadata": {},
   "source": [
    "### OPTION 2: Get feature matrix of select number of features"
   ]
  },
  {
   "cell_type": "markdown",
   "metadata": {},
   "source": [
    "# Balance dataset\n",
    "\n",
    "There is a significant unbalance between the click and the non-click class. In an attempt to increase numerical stability of the training models the majority class will be under sampled (observations will be removed) and the minority class will be oversampled generating new samples. Considering a sample x_i, a new sample x_{new} will be generated considering its k neareast-neighbors. \n",
    "\n",
    "SMOTEENN Combines over and under sampling"
   ]
  },
  {
   "cell_type": "code",
   "execution_count": 3,
   "metadata": {
    "ExecuteTime": {
     "end_time": "2019-02-27T11:34:29.170196Z",
     "start_time": "2019-02-27T11:34:04.671261Z"
    }
   },
   "outputs": [
    {
     "name": "stdout",
     "output_type": "stream",
     "text": [
      "done\n",
      "CPU times: user 346 ms, sys: 9.93 s, total: 10.3 s\n",
      "Wall time: 24.5 s\n"
     ]
    }
   ],
   "source": [
    "%%time\n",
    "train = pd.read_hdf('preprocessed.h5', 'train')\n",
    "validation = pd.read_hdf('preprocessed.h5', 'validation')\n",
    "# test = pd.read_hdf('preprocessed.h5', 'test')\n",
    "print('done')"
   ]
  },
  {
   "cell_type": "code",
   "execution_count": 24,
   "metadata": {
    "ExecuteTime": {
     "end_time": "2019-02-27T11:56:03.130765Z",
     "start_time": "2019-02-27T11:54:56.160940Z"
    }
   },
   "outputs": [
    {
     "name": "stdout",
     "output_type": "stream",
     "text": [
      "Original:\n",
      "0    99930\n",
      "1       71\n",
      "Name: click, dtype: int64\n",
      "\n",
      "CPU times: user 2.54 ms, sys: 234 µs, total: 2.77 ms\n",
      "Wall time: 2.78 ms\n",
      "Random subsample class0:\n",
      "0    10000\n",
      "1       71\n",
      "Name: click, dtype: int64\n",
      "\n",
      "CPU times: user 1min 46s, sys: 2.13 s, total: 1min 48s\n",
      "Wall time: 1min 4s\n",
      "Final balance:\n",
      "0    10000\n",
      "1     9979\n",
      "dtype: int64\n",
      "\n",
      "Baseline accuracy: 50.053%\n",
      "\n",
      "done\n",
      "\n",
      "CPU times: user 1min 47s, sys: 3.18 s, total: 1min 50s\n",
      "Wall time: 1min 6s\n"
     ]
    }
   ],
   "source": [
    "%%time\n",
    "training_data = train.loc[:100000]\n",
    "\n",
    "pre_subsample_size = 10000#int(1e5)\n",
    "final_resample_ratio = 1/8\n",
    "\n",
    "print('Original:')\n",
    "print(training_data['click'].value_counts())\n",
    "print('')\n",
    "\n",
    "# random sample from the non click class, pre subsameling will improve speed\n",
    "# since SMOTETomek does not take an output number samples as parameter\n",
    "class0_index = training_data[training_data['click'] == 0].index\n",
    "\n",
    "# take random sample\n",
    "%time random_subsample = np.random.choice(class0_index, pre_subsample_size, replace=False)\n",
    "class0_downsampled = training_data.loc[random_subsample]\n",
    "class1 = training_data[training_data['click'] == 1]\n",
    "\n",
    "# combine dataframes\n",
    "training_data = pd.concat([class0_downsampled,class1])\n",
    "\n",
    "# free memory\n",
    "del(class0_index, class0_downsampled, class1)\n",
    "\n",
    "print('Random subsample class0:')\n",
    "print(training_data['click'].value_counts())\n",
    "print('')\n",
    "\n",
    "# use all but one avalible processors\n",
    "smote = SMOTE(k_neighbors=3, n_jobs=-1)\n",
    "tomek = TomekLinks(n_jobs=-1)\n",
    "\n",
    "smote_omek = SMOTETomek(ratio=final_resample_ratio, smote=smote, tomek=tomek)\n",
    "\n",
    "y = training_data['click'].values\n",
    "X = training_data.drop(columns=['click', 'payprice'])\n",
    "\n",
    "\n",
    "%time X_resampled, y_resampled = smote_omek.fit_resample(X, y,)\n",
    "\n",
    "print('Final balance:')\n",
    "sample, count = np.unique(y_resampled, return_counts=True)\n",
    "print(pd.Series(dict(np.array((sample,count)).T)))\n",
    "\n",
    "print('\\nBaseline accuracy: {:.3%}'.format(count[0]/len(y_resampled)))\n",
    "\n",
    "# export resample\n",
    "resample = pickle.dumps((X_resampled, y_resampled))\n",
    "\n",
    "print('\\ndone\\n')"
   ]
  },
  {
   "cell_type": "markdown",
   "metadata": {},
   "source": [
    "## Train LR model"
   ]
  },
  {
   "cell_type": "code",
   "execution_count": null,
   "metadata": {
    "ExecuteTime": {
     "start_time": "2019-02-27T11:56:33.971Z"
    }
   },
   "outputs": [],
   "source": [
    "%%time\n",
    "# load resampled date\n",
    "# X_resampled, y_resampled = pickle.loads(resample)\n",
    "\n",
    "lr = LogisticRegression(solver='lbfgs', max_iter=500, class_weight='balanced', n_jobs=-1) \n",
    "\n",
    "X_train, X_test, y_train, y_test = train_test_split(X_resampled, y_resampled)\n",
    "%time lr.fit(X_train, y_train)\n",
    "\n",
    "# export model\n",
    "\n",
    "# lr_model = pickle.dumps(lr)\n",
    "print('done')"
   ]
  },
  {
   "cell_type": "markdown",
   "metadata": {},
   "source": [
    "## Evaluate LR model testset from train"
   ]
  },
  {
   "cell_type": "code",
   "execution_count": null,
   "metadata": {
    "ExecuteTime": {
     "start_time": "2019-02-27T11:56:36.390Z"
    }
   },
   "outputs": [],
   "source": [
    "# lr = pickle.loads(lr_model)\n",
    "\n",
    "# performance\n",
    "y_hat = lr.predict(X_test)\n",
    "\n",
    "print(classification_report_imbalanced(y_test, y_hat, target_names=['no click', 'click']))\n",
    "print(\"Balanced accuracy score: {:.3%}\".format(balanced_accuracy_score(y_test, y_hat) ))\n",
    "print('ROC AUC score {}'.format(roc_auc_score(y_validate, y_hat_validate)))\n",
    "print('done')"
   ]
  },
  {
   "cell_type": "markdown",
   "metadata": {},
   "source": [
    "## Evaluate LR model on validation"
   ]
  },
  {
   "cell_type": "code",
   "execution_count": 18,
   "metadata": {
    "ExecuteTime": {
     "end_time": "2019-02-27T11:46:45.530789Z",
     "start_time": "2019-02-27T11:46:42.686577Z"
    }
   },
   "outputs": [],
   "source": [
    "y_validate = validation['click'].values\n",
    "X_validate = validation.drop(columns=['click', 'payprice'])"
   ]
  },
  {
   "cell_type": "code",
   "execution_count": null,
   "metadata": {
    "ExecuteTime": {
     "start_time": "2019-02-27T11:56:41.214Z"
    }
   },
   "outputs": [],
   "source": [
    "y_hat_validate = lr.predict(X_validate)\n",
    "print(classification_report_imbalanced(y_validate, y_hat_validate, target_names=['no click', 'click']))\n",
    "print('ROC AUC score {}'.format(roc_auc_score(y_validate, y_hat_validate)))\n",
    "print('done')"
   ]
  },
  {
   "cell_type": "markdown",
   "metadata": {
    "ExecuteTime": {
     "start_time": "2019-02-27T10:28:15.243Z"
    }
   },
   "source": [
    "## Use LR for pCTR"
   ]
  },
  {
   "cell_type": "code",
   "execution_count": 18,
   "metadata": {
    "ExecuteTime": {
     "end_time": "2019-02-27T10:18:40.580299Z",
     "start_time": "2019-02-27T10:18:40.262162Z"
    }
   },
   "outputs": [
    {
     "data": {
      "text/plain": [
       "0.5757432849101723"
      ]
     },
     "execution_count": 18,
     "metadata": {},
     "output_type": "execute_result"
    }
   ],
   "source": [
    "y_validate_prob = lr.predict_proba(X_validate)"
   ]
  },
  {
   "cell_type": "code",
   "execution_count": 9,
   "metadata": {
    "ExecuteTime": {
     "end_time": "2019-02-27T11:39:59.103472Z",
     "start_time": "2019-02-27T11:39:59.037709Z"
    }
   },
   "outputs": [
    {
     "name": "stdout",
     "output_type": "stream",
     "text": [
      "idle\n"
     ]
    }
   ],
   "source": [
    "print('idle')"
   ]
  }
 ],
 "metadata": {
  "kernelspec": {
   "display_name": "Python 3",
   "language": "python",
   "name": "python3"
  },
  "language_info": {
   "codemirror_mode": {
    "name": "ipython",
    "version": 3
   },
   "file_extension": ".py",
   "mimetype": "text/x-python",
   "name": "python",
   "nbconvert_exporter": "python",
   "pygments_lexer": "ipython3",
   "version": "3.6.7"
  },
  "varInspector": {
   "cols": {
    "lenName": 16,
    "lenType": 16,
    "lenVar": 40
   },
   "kernels_config": {
    "python": {
     "delete_cmd_postfix": "",
     "delete_cmd_prefix": "del ",
     "library": "var_list.py",
     "varRefreshCmd": "print(var_dic_list())"
    },
    "r": {
     "delete_cmd_postfix": ") ",
     "delete_cmd_prefix": "rm(",
     "library": "var_list.r",
     "varRefreshCmd": "cat(var_dic_list()) "
    }
   },
   "position": {
    "height": "435px",
    "left": "1135px",
    "right": "73px",
    "top": "126px",
    "width": "477px"
   },
   "types_to_exclude": [
    "module",
    "function",
    "builtin_function_or_method",
    "instance",
    "_Feature"
   ],
   "window_display": false
  }
 },
 "nbformat": 4,
 "nbformat_minor": 2
}
